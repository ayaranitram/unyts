{
 "cells": [
  {
   "cell_type": "markdown",
   "id": "be25ff5a",
   "metadata": {},
   "source": [
    "# `unyts`\n",
    "A package that consider quantities (values with units) instead of purely numerical values:\n",
    "- **units**: instances capable of making arithmetic and logical operations of values with different units\n",
    "- **convert**: a units converter able to convert practically between any pair units"
   ]
  },
  {
   "cell_type": "markdown",
   "id": "fd9c4250",
   "metadata": {},
   "source": [
    "# Installing `unyts`\n",
    "\n",
    "This package is published in <a href=\"https://pypi.org/search/?q=unyts\">pypi.org</a> and can be installed using **pip**:  \n",
    "  \n",
    "`pip install unyts`\n",
    "  \n",
    "or upgrade to the latest version:\n",
    "\n",
    "`pip install --upgrade unyts`"
   ]
  },
  {
   "cell_type": "raw",
   "id": "20b1e6ac",
   "metadata": {},
   "source": [
    "pip install --upgrade unyts"
   ]
  },
  {
   "cell_type": "markdown",
   "id": "3ccb77ac",
   "metadata": {},
   "source": [
    "# Graphical User Interface\n",
    "\n",
    "To launch the GUI:\n",
    "\n",
    "- from python console:  \n",
    "    `from unyts import start_gui`  \n",
    "    `start_gui()`  \n",
    "  \n",
    "- from command prompt or terminal:  \n",
    "    `python -m unyts`  \n",
    "<img src=\"unyts_gui.jpg\" alt=\"drawing\" width=\"300\"/>  "
   ]
  },
  {
   "cell_type": "markdown",
   "id": "534f7d98",
   "metadata": {},
   "source": [
    "# `import unyts`\n",
    "Import the package to be able to change settings..."
   ]
  },
  {
   "cell_type": "code",
   "execution_count": 1,
   "id": "9e266c7f",
   "metadata": {
    "ExecuteTime": {
     "end_time": "2025-05-04T15:44:44.132507Z",
     "start_time": "2025-05-04T15:43:11.653042Z"
    }
   },
   "outputs": [
    {
     "name": "stdout",
     "output_type": "stream",
     "text": [
      "\u001b[92m[INFO]: Log level changed to INFO\u001b[0m\n",
      "\u001b[92m[INFO]: Restoring configuration from previous installation...\u001b[0m\n",
      "\u001b[92m[INFO]: preparing units dictionary...\u001b[0m\n",
      "\u001b[92m[INFO]: preparing units network...\u001b[0m\n",
      "\u001b[92m[INFO]: saving units network and dictionary to cache...\u001b[0m\n",
      "loaded unyts version 0.9.13\n"
     ]
    }
   ],
   "source": [
    "import unyts"
   ]
  },
  {
   "cell_type": "markdown",
   "id": "dec1103c",
   "metadata": {},
   "source": [
    "...like the algorithm used to search for conversions:"
   ]
  },
  {
   "cell_type": "code",
   "execution_count": 2,
   "id": "b0c3ccd2",
   "metadata": {
    "ExecuteTime": {
     "end_time": "2025-05-04T15:44:44.147545Z",
     "start_time": "2025-05-04T15:44:44.134516Z"
    }
   },
   "outputs": [
    {
     "name": "stdout",
     "output_type": "stream",
     "text": [
      "\u001b[93m[WARNING]: The search memory must be cleansed if intended to repeat searches with a different algorithm.\u001b[0m\n"
     ]
    }
   ],
   "source": [
    "unyts.set_algorithm('lean_BFS')"
   ]
  },
  {
   "cell_type": "code",
   "execution_count": 3,
   "id": "db2574f6",
   "metadata": {
    "ExecuteTime": {
     "end_time": "2025-05-04T15:44:44.163094Z",
     "start_time": "2025-05-04T15:44:44.148551Z"
    }
   },
   "outputs": [
    {
     "data": {
      "text/plain": [
       "'0.9.13'"
      ]
     },
     "execution_count": 3,
     "metadata": {},
     "output_type": "execute_result"
    }
   ],
   "source": [
    "unyts.__version__"
   ]
  },
  {
   "cell_type": "markdown",
   "id": "924b48cd",
   "metadata": {},
   "source": [
    "## Importing the utilities `convert` and `units`\n",
    "\n",
    "Importing just the utilities will be enought to be able to convert values and to instantiate the appropriate Unit subclass and operate with them."
   ]
  },
  {
   "cell_type": "code",
   "execution_count": 4,
   "id": "4d202c80",
   "metadata": {
    "ExecuteTime": {
     "end_time": "2025-05-04T15:44:44.178812Z",
     "start_time": "2025-05-04T15:44:44.165064Z"
    }
   },
   "outputs": [],
   "source": [
    "from unyts import convert, units"
   ]
  },
  {
   "cell_type": "markdown",
   "id": "5d02f940",
   "metadata": {},
   "source": [
    "## Importing the `Unit` class\n",
    "\n",
    "In case you need it, you can import the main **`Unit` class**, to check if something `isinstance()` of `Unit`.  \n",
    "\n",
    "It is recommended to instantiate using the function `units`  or the appropiate subclass, as using the class `Unit`to instantiate _values with units_ will return instances of the main class."
   ]
  },
  {
   "cell_type": "code",
   "execution_count": 5,
   "id": "cba8cbb8",
   "metadata": {
    "ExecuteTime": {
     "end_time": "2025-05-04T15:44:44.194355Z",
     "start_time": "2025-05-04T15:44:44.180783Z"
    }
   },
   "outputs": [],
   "source": [
    "from unyts import Unit"
   ]
  },
  {
   "cell_type": "code",
   "execution_count": 6,
   "id": "315abde5",
   "metadata": {
    "ExecuteTime": {
     "end_time": "2025-05-04T15:44:44.209871Z",
     "start_time": "2025-05-04T15:44:44.196827Z"
    }
   },
   "outputs": [
    {
     "name": "stdout",
     "output_type": "stream",
     "text": [
      "Unit 1_ounce\n"
     ]
    }
   ],
   "source": [
    "ounce = Unit(1, 'ounce')\n",
    "print(type(ounce), ounce)"
   ]
  },
  {
   "cell_type": "markdown",
   "id": "dd49bdb8",
   "metadata": {},
   "source": [
    "# The `units` function\n",
    "To make instances of **`Unit`** use the function **`units`** providing it with the _value_ and a _string representing the units_ as arguments of the function call:"
   ]
  },
  {
   "cell_type": "code",
   "execution_count": 7,
   "id": "98bd69d2",
   "metadata": {
    "ExecuteTime": {
     "end_time": "2025-05-04T15:44:47.208785Z",
     "start_time": "2025-05-04T15:44:44.211873Z"
    }
   },
   "outputs": [],
   "source": [
    "from unyts import units"
   ]
  },
  {
   "cell_type": "code",
   "execution_count": 8,
   "id": "ac0885e5",
   "metadata": {
    "ExecuteTime": {
     "end_time": "2025-05-04T15:44:47.224263Z",
     "start_time": "2025-05-04T15:44:47.210754Z"
    }
   },
   "outputs": [],
   "source": [
    "length_1 = units(3, 'm')\n",
    "length_2 = units(250, 'cm')\n",
    "length_3 = units(0.003, 'km')\n",
    "length_4 = units(6.5, 'ft')\n",
    "length_5 = units(18, 'in')"
   ]
  },
  {
   "cell_type": "markdown",
   "id": "5e996285",
   "metadata": {},
   "source": [
    "The **units** function returns the apropriate **unit _subclass_**: "
   ]
  },
  {
   "cell_type": "code",
   "execution_count": 9,
   "id": "531a2ee1",
   "metadata": {
    "ExecuteTime": {
     "end_time": "2025-05-04T15:44:47.239400Z",
     "start_time": "2025-05-04T15:44:47.226796Z"
    }
   },
   "outputs": [
    {
     "name": "stdout",
     "output_type": "stream",
     "text": [
      "Length\n"
     ]
    },
    {
     "data": {
      "text/plain": [
       "Volume"
      ]
     },
     "execution_count": 9,
     "metadata": {},
     "output_type": "execute_result"
    }
   ],
   "source": [
    "print(type(length_1))\n",
    "type(units(333, 'ml'))"
   ]
  },
  {
   "cell_type": "markdown",
   "id": "a034d3f5",
   "metadata": {},
   "source": [
    "Any subclass of __unyts__ will be an instance of it, thus, the appropriate way to check if a variable points to an instance of __untys__ is using `isinstance()` function instead of using `type` as type will return the subclass.  \n",
    "\n",
    "# Check instance of `Unit`\n",
    "\n",
    "Checking any Unit subcalls using `isinstance()` will always work:"
   ]
  },
  {
   "cell_type": "code",
   "execution_count": 10,
   "id": "a79a9dbf",
   "metadata": {
    "ExecuteTime": {
     "end_time": "2025-05-04T15:44:47.254973Z",
     "start_time": "2025-05-04T15:44:47.242370Z"
    }
   },
   "outputs": [
    {
     "data": {
      "text/plain": [
       "True"
      ]
     },
     "execution_count": 10,
     "metadata": {},
     "output_type": "execute_result"
    }
   ],
   "source": [
    "isinstance(length_1, Unit)"
   ]
  },
  {
   "cell_type": "markdown",
   "id": "776ff8f7",
   "metadata": {},
   "source": [
    "But comparing the type of the subcalls to Unit class will fail"
   ]
  },
  {
   "cell_type": "code",
   "execution_count": 11,
   "id": "bf1552aa",
   "metadata": {
    "ExecuteTime": {
     "end_time": "2025-05-04T15:44:47.270674Z",
     "start_time": "2025-05-04T15:44:47.256942Z"
    }
   },
   "outputs": [
    {
     "data": {
      "text/plain": [
       "False"
      ]
     },
     "execution_count": 11,
     "metadata": {},
     "output_type": "execute_result"
    }
   ],
   "source": [
    "type(length_1) is Unit"
   ]
  },
  {
   "cell_type": "markdown",
   "id": "ee2a5e67",
   "metadata": {},
   "source": [
    "In case you need to check the subclass, you can import it following the path indicated by `type`:"
   ]
  },
  {
   "cell_type": "code",
   "execution_count": 12,
   "id": "c0873dfa",
   "metadata": {
    "ExecuteTime": {
     "end_time": "2025-05-04T15:44:47.286748Z",
     "start_time": "2025-05-04T15:44:47.271704Z"
    }
   },
   "outputs": [
    {
     "data": {
      "text/plain": [
       "Length"
      ]
     },
     "execution_count": 12,
     "metadata": {},
     "output_type": "execute_result"
    }
   ],
   "source": [
    "type(length_1)"
   ]
  },
  {
   "cell_type": "code",
   "execution_count": 13,
   "id": "a652879f",
   "metadata": {
    "ExecuteTime": {
     "end_time": "2025-05-04T15:44:47.302360Z",
     "start_time": "2025-05-04T15:44:47.288753Z"
    }
   },
   "outputs": [],
   "source": [
    "from unyts.units.geometry import Length"
   ]
  },
  {
   "cell_type": "code",
   "execution_count": 14,
   "id": "6eae1ba5",
   "metadata": {
    "ExecuteTime": {
     "end_time": "2025-05-04T15:44:47.317330Z",
     "start_time": "2025-05-04T15:44:47.304330Z"
    }
   },
   "outputs": [
    {
     "data": {
      "text/plain": [
       "True"
      ]
     },
     "execution_count": 14,
     "metadata": {},
     "output_type": "execute_result"
    }
   ],
   "source": [
    "type(length_1) is Length"
   ]
  },
  {
   "cell_type": "markdown",
   "id": "84967104",
   "metadata": {},
   "source": [
    "# Quantities representation \n",
    "The representation of the units instances consists in the value followed by the units string"
   ]
  },
  {
   "cell_type": "code",
   "execution_count": 15,
   "id": "e391f927",
   "metadata": {
    "ExecuteTime": {
     "end_time": "2025-05-04T15:44:47.332842Z",
     "start_time": "2025-05-04T15:44:47.319331Z"
    }
   },
   "outputs": [
    {
     "name": "stdout",
     "output_type": "stream",
     "text": [
      "3_m\n",
      "250_cm\n",
      "0.003_km\n"
     ]
    },
    {
     "data": {
      "text/plain": [
       "6.5_ft"
      ]
     },
     "execution_count": 15,
     "metadata": {},
     "output_type": "execute_result"
    }
   ],
   "source": [
    "print(length_1)\n",
    "print(length_2)\n",
    "print(length_3)\n",
    "length_4"
   ]
  },
  {
   "cell_type": "markdown",
   "id": "c07d322f",
   "metadata": {},
   "source": [
    "# The conversion path\n",
    "\n",
    "By default, the path followed to convert from one unit to other will be printed out.\n",
    "This behaviour can be changed using the function `print_path`.  \n",
    "\n",
    "## Printhing the conversion path"
   ]
  },
  {
   "cell_type": "code",
   "execution_count": 16,
   "id": "09fbe47f",
   "metadata": {
    "ExecuteTime": {
     "end_time": "2025-05-04T15:44:47.348881Z",
     "start_time": "2025-05-04T15:44:47.334845Z"
    }
   },
   "outputs": [
    {
     "data": {
      "text/plain": [
       "5.5_m"
      ]
     },
     "execution_count": 16,
     "metadata": {},
     "output_type": "execute_result"
    }
   ],
   "source": [
    "length_1 + length_2"
   ]
  },
  {
   "cell_type": "code",
   "execution_count": 17,
   "id": "53b24ec0",
   "metadata": {
    "ExecuteTime": {
     "end_time": "2025-05-04T15:44:47.364397Z",
     "start_time": "2025-05-04T15:44:47.350883Z"
    }
   },
   "outputs": [
    {
     "data": {
      "text/plain": [
       "6289.813999999999"
      ]
     },
     "execution_count": 17,
     "metadata": {},
     "output_type": "execute_result"
    }
   ],
   "source": [
    "convert(1, 'Ksm3', 'stb')"
   ]
  },
  {
   "cell_type": "markdown",
   "id": "ad977f2e",
   "metadata": {},
   "source": [
    "## Not printing the conversion path\n",
    "\n",
    "Set the `print_path` to `False`:"
   ]
  },
  {
   "cell_type": "code",
   "execution_count": 18,
   "id": "b6b7acc8",
   "metadata": {
    "ExecuteTime": {
     "end_time": "2025-05-04T15:44:47.380431Z",
     "start_time": "2025-05-04T15:44:47.365396Z"
    }
   },
   "outputs": [],
   "source": [
    "unyts.print_path(False)"
   ]
  },
  {
   "cell_type": "markdown",
   "id": "3ce3c1ce",
   "metadata": {},
   "source": [
    "From now, the conversion path will not be printed:"
   ]
  },
  {
   "cell_type": "code",
   "execution_count": 19,
   "id": "8560fce1",
   "metadata": {
    "ExecuteTime": {
     "end_time": "2025-05-04T15:44:47.395953Z",
     "start_time": "2025-05-04T15:44:47.382433Z"
    }
   },
   "outputs": [
    {
     "data": {
      "text/plain": [
       "5.5_m"
      ]
     },
     "execution_count": 19,
     "metadata": {},
     "output_type": "execute_result"
    }
   ],
   "source": [
    "length_1 + length_2"
   ]
  },
  {
   "cell_type": "markdown",
   "id": "4951cfda",
   "metadata": {},
   "source": [
    "This behaviour is saved into the init file, then it il be rememberd the next time `unyts` is used.  \n",
    "\n",
    "To print the conversion path again, simply set the parameter to True:"
   ]
  },
  {
   "cell_type": "code",
   "execution_count": 20,
   "id": "06c1b0cc",
   "metadata": {
    "ExecuteTime": {
     "end_time": "2025-05-04T15:44:47.411258Z",
     "start_time": "2025-05-04T15:44:47.397495Z"
    }
   },
   "outputs": [
    {
     "name": "stdout",
     "output_type": "stream",
     "text": [
      "\u001b[92m[INFO]: print path ON\u001b[0m\n"
     ]
    }
   ],
   "source": [
    "unyts.print_path(True)"
   ]
  },
  {
   "cell_type": "code",
   "execution_count": 21,
   "id": "d9650574",
   "metadata": {
    "ExecuteTime": {
     "end_time": "2025-05-04T15:44:47.426742Z",
     "start_time": "2025-05-04T15:44:47.412229Z"
    }
   },
   "outputs": [
    {
     "name": "stdout",
     "output_type": "stream",
     "text": [
      "\u001b[92m[INFO]: converting from 'cm' to 'm':\n",
      " cm > m\u001b[0m\n"
     ]
    },
    {
     "data": {
      "text/plain": [
       "5.5_m"
      ]
     },
     "execution_count": 21,
     "metadata": {},
     "output_type": "execute_result"
    }
   ],
   "source": [
    "length_1 + length_2"
   ]
  },
  {
   "cell_type": "code",
   "execution_count": 22,
   "id": "d82a7042",
   "metadata": {
    "ExecuteTime": {
     "end_time": "2025-05-04T15:44:47.442438Z",
     "start_time": "2025-05-04T15:44:47.427902Z"
    }
   },
   "outputs": [
    {
     "name": "stdout",
     "output_type": "stream",
     "text": [
      "\u001b[92m[INFO]: converting from 'in' to 'cm':\n",
      " in > inch > foot > yard > meter > m > cm\u001b[0m\n"
     ]
    },
    {
     "data": {
      "text/plain": [
       "295.72_cm"
      ]
     },
     "execution_count": 22,
     "metadata": {},
     "output_type": "execute_result"
    }
   ],
   "source": [
    "length_2 + length_5"
   ]
  },
  {
   "cell_type": "markdown",
   "id": "c93933a1",
   "metadata": {},
   "source": [
    "Calling print_path without argument will change it from the current behaviour:"
   ]
  },
  {
   "cell_type": "code",
   "execution_count": 23,
   "id": "1c9d016e",
   "metadata": {
    "ExecuteTime": {
     "end_time": "2025-05-04T15:44:47.458137Z",
     "start_time": "2025-05-04T15:44:47.444439Z"
    }
   },
   "outputs": [
    {
     "name": "stdout",
     "output_type": "stream",
     "text": [
      "\u001b[92m[INFO]: print path OFF\u001b[0m\n"
     ]
    }
   ],
   "source": [
    "unyts.print_path()"
   ]
  },
  {
   "cell_type": "code",
   "execution_count": 24,
   "id": "0eae16f0",
   "metadata": {
    "ExecuteTime": {
     "end_time": "2025-05-04T15:44:47.473687Z",
     "start_time": "2025-05-04T15:44:47.460106Z"
    }
   },
   "outputs": [
    {
     "name": "stdout",
     "output_type": "stream",
     "text": [
      "\u001b[92m[INFO]: print path ON\u001b[0m\n"
     ]
    }
   ],
   "source": [
    "unyts.print_path()"
   ]
  },
  {
   "cell_type": "markdown",
   "id": "ed462a96",
   "metadata": {},
   "source": [
    "# Attributes of the `Unit` instances\n",
    "\n",
    "Two attributes can be handy for the user in certain applications:\n",
    "- `.value` contains the numeric value\n",
    "- `.unit` contains a string representing the units\n",
    "- `.name` contains a string representing the type of the units"
   ]
  },
  {
   "cell_type": "code",
   "execution_count": 25,
   "id": "4d05f021",
   "metadata": {
    "ExecuteTime": {
     "end_time": "2025-05-04T15:44:47.489758Z",
     "start_time": "2025-05-04T15:44:47.474687Z"
    }
   },
   "outputs": [
    {
     "data": {
      "text/plain": [
       "3"
      ]
     },
     "execution_count": 25,
     "metadata": {},
     "output_type": "execute_result"
    }
   ],
   "source": [
    "length_1.value"
   ]
  },
  {
   "cell_type": "code",
   "execution_count": 26,
   "id": "ce87ba8d",
   "metadata": {
    "ExecuteTime": {
     "end_time": "2025-05-04T15:44:47.504831Z",
     "start_time": "2025-05-04T15:44:47.490742Z"
    }
   },
   "outputs": [
    {
     "data": {
      "text/plain": [
       "'m'"
      ]
     },
     "execution_count": 26,
     "metadata": {},
     "output_type": "execute_result"
    }
   ],
   "source": [
    "length_1.unit"
   ]
  },
  {
   "cell_type": "code",
   "execution_count": 27,
   "id": "02d56d5e",
   "metadata": {
    "ExecuteTime": {
     "end_time": "2025-05-04T15:44:47.520487Z",
     "start_time": "2025-05-04T15:44:47.506838Z"
    }
   },
   "outputs": [
    {
     "data": {
      "text/plain": [
       "'length'"
      ]
     },
     "execution_count": 27,
     "metadata": {},
     "output_type": "execute_result"
    }
   ],
   "source": [
    "length_1.name"
   ]
  },
  {
   "cell_type": "markdown",
   "id": "664588a6",
   "metadata": {},
   "source": [
    "To get the `.value` or `.unit` attributes while coding, it could be safer to use ther respective getters:\n",
    "- `.get_value()`\n",
    "- `.get_unit()`"
   ]
  },
  {
   "cell_type": "code",
   "execution_count": 28,
   "id": "abf24b8f",
   "metadata": {
    "ExecuteTime": {
     "end_time": "2025-05-04T15:44:47.536064Z",
     "start_time": "2025-05-04T15:44:47.525493Z"
    }
   },
   "outputs": [
    {
     "data": {
      "text/plain": [
       "3"
      ]
     },
     "execution_count": 28,
     "metadata": {},
     "output_type": "execute_result"
    }
   ],
   "source": [
    "length_1.get_value()"
   ]
  },
  {
   "cell_type": "code",
   "execution_count": 29,
   "id": "e5cc368b",
   "metadata": {
    "ExecuteTime": {
     "end_time": "2025-05-04T15:44:47.551201Z",
     "start_time": "2025-05-04T15:44:47.537600Z"
    }
   },
   "outputs": [
    {
     "data": {
      "text/plain": [
       "'m'"
      ]
     },
     "execution_count": 29,
     "metadata": {},
     "output_type": "execute_result"
    }
   ],
   "source": [
    "length_1.get_unit()"
   ]
  },
  {
   "cell_type": "markdown",
   "id": "7fc852ba",
   "metadata": {},
   "source": [
    "# Arithmetic operations\n",
    "Simply operate with the instances of `Unit` as with regular Python variables:\n",
    "\n",
    "## Addition and substraction"
   ]
  },
  {
   "cell_type": "code",
   "execution_count": 30,
   "id": "d468e91f",
   "metadata": {
    "ExecuteTime": {
     "end_time": "2025-05-04T15:44:47.566779Z",
     "start_time": "2025-05-04T15:44:47.553169Z"
    }
   },
   "outputs": [
    {
     "name": "stdout",
     "output_type": "stream",
     "text": [
      "\u001b[92m[INFO]: converting from 'cm' to 'm':\n",
      " cm > m\u001b[0m\n",
      "3_m + 250_cm = 5.5_m\n"
     ]
    }
   ],
   "source": [
    "print(length_1, '+', length_2, '=', length_1 + length_2)"
   ]
  },
  {
   "cell_type": "markdown",
   "id": "65d1346a",
   "metadata": {
    "ExecuteTime": {
     "end_time": "2022-12-31T12:32:32.312560Z",
     "start_time": "2022-12-31T12:32:32.295638Z"
    }
   },
   "source": [
    "I will turn the `print_path` to have clean output in the following operations."
   ]
  },
  {
   "cell_type": "code",
   "execution_count": 31,
   "id": "55ae2586",
   "metadata": {
    "ExecuteTime": {
     "end_time": "2025-05-04T15:44:47.582599Z",
     "start_time": "2025-05-04T15:44:47.568042Z"
    }
   },
   "outputs": [
    {
     "name": "stdout",
     "output_type": "stream",
     "text": [
      "\u001b[92m[INFO]: print path OFF\u001b[0m\n"
     ]
    }
   ],
   "source": [
    "unyts.print_path(False)"
   ]
  },
  {
   "cell_type": "markdown",
   "id": "238ec305",
   "metadata": {},
   "source": [
    "All the units are **converted to the _first_ units** when making operations:"
   ]
  },
  {
   "cell_type": "code",
   "execution_count": 32,
   "id": "aa0b6d30",
   "metadata": {
    "ExecuteTime": {
     "end_time": "2025-05-04T15:44:47.630893Z",
     "start_time": "2025-05-04T15:44:47.584600Z"
    }
   },
   "outputs": [
    {
     "name": "stdout",
     "output_type": "stream",
     "text": [
      "3_m ** 2 + 6.5_ft * 250_cm\n",
      "9_m2 + 53.313648293963254_ft2\n",
      "= 13.953_m2\n"
     ]
    }
   ],
   "source": [
    "print(length_1, '** 2', '+', length_4, '*', length_2)\n",
    "print(length_1 ** 2, '+', length_4 * length_2)\n",
    "print('=', length_1 ** 2 + length_4 * length_2)"
   ]
  },
  {
   "cell_type": "markdown",
   "id": "821ed3b8",
   "metadata": {},
   "source": [
    "defining area units"
   ]
  },
  {
   "cell_type": "code",
   "execution_count": 33,
   "id": "6dc69eac",
   "metadata": {
    "ExecuteTime": {
     "end_time": "2025-05-04T15:44:47.647003Z",
     "start_time": "2025-05-04T15:44:47.632864Z"
    }
   },
   "outputs": [
    {
     "data": {
      "text/plain": [
       "12_m2"
      ]
     },
     "execution_count": 33,
     "metadata": {},
     "output_type": "execute_result"
    }
   ],
   "source": [
    "area_1 = units(12, 'm2')\n",
    "area_1"
   ]
  },
  {
   "cell_type": "markdown",
   "id": "f17d1552",
   "metadata": {},
   "source": [
    "and have their own subclass"
   ]
  },
  {
   "cell_type": "code",
   "execution_count": 34,
   "id": "c4dc0c62",
   "metadata": {
    "ExecuteTime": {
     "end_time": "2025-05-04T15:44:47.662599Z",
     "start_time": "2025-05-04T15:44:47.648008Z"
    }
   },
   "outputs": [
    {
     "data": {
      "text/plain": [
       "Area"
      ]
     },
     "execution_count": 34,
     "metadata": {},
     "output_type": "execute_result"
    }
   ],
   "source": [
    "type(area_1)"
   ]
  },
  {
   "cell_type": "markdown",
   "id": "35839aea",
   "metadata": {},
   "source": [
    "<font color='red'>Keep in mind that the **addition of different subclasses of Unit is not possible** and will return a `tuple` of both units:</font>"
   ]
  },
  {
   "cell_type": "code",
   "execution_count": 35,
   "id": "43fc242a",
   "metadata": {
    "ExecuteTime": {
     "end_time": "2025-05-04T15:44:47.677726Z",
     "start_time": "2025-05-04T15:44:47.663599Z"
    }
   },
   "outputs": [
    {
     "data": {
      "text/plain": [
       "(12_m2, 3_m)"
      ]
     },
     "execution_count": 35,
     "metadata": {},
     "output_type": "execute_result"
    }
   ],
   "source": [
    "(area_1 + length_1)"
   ]
  },
  {
   "cell_type": "markdown",
   "id": "e8ecfd12",
   "metadata": {},
   "source": [
    "Then, addition of tuples of Unit will simply return the contenation of the tuples:"
   ]
  },
  {
   "cell_type": "code",
   "execution_count": 36,
   "id": "49a47184",
   "metadata": {
    "ExecuteTime": {
     "end_time": "2025-05-04T15:44:47.693265Z",
     "start_time": "2025-05-04T15:44:47.678730Z"
    }
   },
   "outputs": [
    {
     "data": {
      "text/plain": [
       "(12_m2, 3_m, 12_m2, 250_cm)"
      ]
     },
     "execution_count": 36,
     "metadata": {},
     "output_type": "execute_result"
    }
   ],
   "source": [
    "(area_1 + length_1) + (area_1 + length_2)"
   ]
  },
  {
   "cell_type": "markdown",
   "id": "a9f02f6d",
   "metadata": {},
   "source": [
    "Further operations with these tuples of units is not yet implemented and will rise error or might return not the desired operation."
   ]
  },
  {
   "cell_type": "markdown",
   "id": "cb507b34",
   "metadata": {},
   "source": [
    "## Product and division\n",
    "Product of units return new units:"
   ]
  },
  {
   "cell_type": "code",
   "execution_count": 37,
   "id": "0b7a2182",
   "metadata": {
    "ExecuteTime": {
     "end_time": "2025-05-04T15:44:47.708950Z",
     "start_time": "2025-05-04T15:44:47.694296Z"
    }
   },
   "outputs": [
    {
     "data": {
      "text/plain": [
       "53.313648293963254_ft2"
      ]
     },
     "execution_count": 37,
     "metadata": {},
     "output_type": "execute_result"
    }
   ],
   "source": [
    "area_2 = length_4 * length_2\n",
    "area_2"
   ]
  },
  {
   "cell_type": "code",
   "execution_count": 38,
   "id": "c4876560",
   "metadata": {
    "ExecuteTime": {
     "end_time": "2025-05-04T15:44:48.219050Z",
     "start_time": "2025-05-04T15:44:47.710923Z"
    }
   },
   "outputs": [
    {
     "data": {
      "text/plain": [
       "524.740632814599_ft3"
      ]
     },
     "execution_count": 38,
     "metadata": {},
     "output_type": "execute_result"
    }
   ],
   "source": [
    "area_2 * length_1"
   ]
  },
  {
   "cell_type": "markdown",
   "id": "82178d4f",
   "metadata": {},
   "source": [
    "Division of units return new units as well:"
   ]
  },
  {
   "cell_type": "code",
   "execution_count": 39,
   "id": "b787e5b1",
   "metadata": {
    "ExecuteTime": {
     "end_time": "2025-05-04T15:44:48.234625Z",
     "start_time": "2025-05-04T15:44:48.220023Z"
    }
   },
   "outputs": [
    {
     "data": {
      "text/plain": [
       "5.416666666666666_ft"
      ]
     },
     "execution_count": 39,
     "metadata": {},
     "output_type": "execute_result"
    }
   ],
   "source": [
    "area_2 / length_1"
   ]
  },
  {
   "cell_type": "markdown",
   "id": "99723d5a",
   "metadata": {},
   "source": [
    "## Operations with _not_-`Unit` instances\n",
    "\n",
    "It is possible to make algebraic operations of `Unit` with adimensional numbers (`int`, `float`).  \n",
    "The behaviour will depend on the operation:\n",
    "- addition: will _assume_ the adimensional number as the same units of the instance\n",
    "- product: will simple multiply the value of the unyt number\n",
    "  \n",
    "Recall that the variable `length_1` contains *3_m*:"
   ]
  },
  {
   "cell_type": "code",
   "execution_count": 40,
   "id": "cae1a535",
   "metadata": {
    "ExecuteTime": {
     "end_time": "2025-05-04T15:44:48.250680Z",
     "start_time": "2025-05-04T15:44:48.235596Z"
    }
   },
   "outputs": [
    {
     "data": {
      "text/plain": [
       "3_m"
      ]
     },
     "execution_count": 40,
     "metadata": {},
     "output_type": "execute_result"
    }
   ],
   "source": [
    "length_1"
   ]
  },
  {
   "cell_type": "markdown",
   "id": "95fb54a6",
   "metadata": {},
   "source": [
    "now let's try some operations:"
   ]
  },
  {
   "cell_type": "code",
   "execution_count": 41,
   "id": "371a5220",
   "metadata": {
    "ExecuteTime": {
     "end_time": "2025-05-04T15:44:48.266703Z",
     "start_time": "2025-05-04T15:44:48.252682Z"
    }
   },
   "outputs": [
    {
     "data": {
      "text/plain": [
       "9_m"
      ]
     },
     "execution_count": 41,
     "metadata": {},
     "output_type": "execute_result"
    }
   ],
   "source": [
    "length_1 * 3"
   ]
  },
  {
   "cell_type": "code",
   "execution_count": 42,
   "id": "5b05e160",
   "metadata": {
    "ExecuteTime": {
     "end_time": "2025-05-04T15:44:48.282226Z",
     "start_time": "2025-05-04T15:44:48.267711Z"
    }
   },
   "outputs": [
    {
     "data": {
      "text/plain": [
       "1.5_m"
      ]
     },
     "execution_count": 42,
     "metadata": {},
     "output_type": "execute_result"
    }
   ],
   "source": [
    "length_1 / 2"
   ]
  },
  {
   "cell_type": "code",
   "execution_count": 43,
   "id": "0e77a1c8",
   "metadata": {
    "ExecuteTime": {
     "end_time": "2025-05-04T15:44:48.298261Z",
     "start_time": "2025-05-04T15:44:48.283228Z"
    }
   },
   "outputs": [
    {
     "data": {
      "text/plain": [
       "5_m"
      ]
     },
     "execution_count": 43,
     "metadata": {},
     "output_type": "execute_result"
    }
   ],
   "source": [
    "length_1 + 2"
   ]
  },
  {
   "cell_type": "markdown",
   "id": "da2525a5",
   "metadata": {},
   "source": [
    "# Logical operations\n",
    "\n",
    "Logical operators transform second value to the units of first value before comparing"
   ]
  },
  {
   "cell_type": "code",
   "execution_count": 44,
   "id": "6804307f",
   "metadata": {
    "ExecuteTime": {
     "end_time": "2025-05-04T15:44:48.314294Z",
     "start_time": "2025-05-04T15:44:48.299261Z"
    }
   },
   "outputs": [
    {
     "name": "stdout",
     "output_type": "stream",
     "text": [
      "length_4: 6.5_ft equivalent to 198.12_cm\n",
      "length_2: 250_cm equivalent to 8.202099737532809_ft\n",
      "6.5_ft > 250_cm\n"
     ]
    },
    {
     "data": {
      "text/plain": [
       "False"
      ]
     },
     "execution_count": 44,
     "metadata": {},
     "output_type": "execute_result"
    }
   ],
   "source": [
    "print('length_4:', length_4 , 'equivalent to', length_4.to('cm'))\n",
    "print('length_2:', length_2 , 'equivalent to', length_2.to(length_4))\n",
    "\n",
    "print(length_4, '>', length_2)\n",
    "length_4 > length_2"
   ]
  },
  {
   "cell_type": "code",
   "execution_count": 45,
   "id": "3d8c92aa",
   "metadata": {
    "ExecuteTime": {
     "end_time": "2025-05-04T15:44:48.330325Z",
     "start_time": "2025-05-04T15:44:48.315293Z"
    }
   },
   "outputs": [
    {
     "name": "stdout",
     "output_type": "stream",
     "text": [
      "area_1: 12_m2\n",
      "area_2: 53.313648293963254_ft2\n",
      "12_m2 < 53.313648293963254_ft2\n"
     ]
    },
    {
     "data": {
      "text/plain": [
       "False"
      ]
     },
     "execution_count": 45,
     "metadata": {},
     "output_type": "execute_result"
    }
   ],
   "source": [
    "print('area_1:', area_1)\n",
    "print('area_2:', area_2)\n",
    "\n",
    "print(area_1, '<', area_2)\n",
    "area_1 < area_2"
   ]
  },
  {
   "cell_type": "code",
   "execution_count": 46,
   "id": "ea7104d4",
   "metadata": {
    "ExecuteTime": {
     "end_time": "2025-05-04T15:44:48.345844Z",
     "start_time": "2025-05-04T15:44:48.331327Z"
    }
   },
   "outputs": [
    {
     "data": {
      "text/plain": [
       "True"
      ]
     },
     "execution_count": 46,
     "metadata": {},
     "output_type": "execute_result"
    }
   ],
   "source": [
    "area_1 / 10 < area_2"
   ]
  },
  {
   "cell_type": "markdown",
   "id": "43f24485",
   "metadata": {},
   "source": [
    "# The `.to()` method\n",
    "Use the method **`.to`** to convert the instance value to other units of the same kind:"
   ]
  },
  {
   "cell_type": "code",
   "execution_count": 47,
   "id": "3127970f",
   "metadata": {
    "ExecuteTime": {
     "end_time": "2025-05-04T15:44:48.361875Z",
     "start_time": "2025-05-04T15:44:48.347354Z"
    }
   },
   "outputs": [
    {
     "data": {
      "text/plain": [
       "4.953_m2"
      ]
     },
     "execution_count": 47,
     "metadata": {},
     "output_type": "execute_result"
    }
   ],
   "source": [
    "area_2.to('m2')"
   ]
  },
  {
   "cell_type": "code",
   "execution_count": 48,
   "id": "b1a4b901",
   "metadata": {
    "ExecuteTime": {
     "end_time": "2025-05-04T15:44:48.377906Z",
     "start_time": "2025-05-04T15:44:48.363875Z"
    }
   },
   "outputs": [
    {
     "data": {
      "text/plain": [
       "2.9652645776059843_acre"
      ]
     },
     "execution_count": 48,
     "metadata": {},
     "output_type": "execute_result"
    }
   ],
   "source": [
    "1000*area_1.to('acre')"
   ]
  },
  {
   "cell_type": "code",
   "execution_count": 49,
   "id": "f8a2198c",
   "metadata": {
    "ExecuteTime": {
     "end_time": "2025-05-04T15:44:48.393420Z",
     "start_time": "2025-05-04T15:44:48.379908Z"
    }
   },
   "outputs": [
    {
     "data": {
      "text/plain": [
       "0.333_l"
      ]
     },
     "execution_count": 49,
     "metadata": {},
     "output_type": "execute_result"
    }
   ],
   "source": [
    "units(333, 'cc').to('l')"
   ]
  },
  {
   "cell_type": "code",
   "execution_count": 50,
   "id": "5be5afd2",
   "metadata": {
    "ExecuteTime": {
     "end_time": "2025-05-04T15:44:48.408960Z",
     "start_time": "2025-05-04T15:44:48.395420Z"
    }
   },
   "outputs": [
    {
     "name": "stdout",
     "output_type": "stream",
     "text": [
      "\u001b[92m[INFO]: print path ON\u001b[0m\n"
     ]
    }
   ],
   "source": [
    "# let's print the following conversion\n",
    "unyts.print_path(True)"
   ]
  },
  {
   "cell_type": "code",
   "execution_count": 51,
   "id": "cff4f6d6",
   "metadata": {
    "ExecuteTime": {
     "end_time": "2025-05-04T15:44:49.427402Z",
     "start_time": "2025-05-04T15:44:48.410962Z"
    }
   },
   "outputs": [
    {
     "name": "stdout",
     "output_type": "stream",
     "text": [
      "\u001b[92m[INFO]: converting from 'ml' to 'oz':\n",
      " ml > millilitre > cubic centimeter > cm3 > m3 > cubic meter > cubic foot > cubic inch > gallonUS > fluid ounce > oz\u001b[0m\n"
     ]
    },
    {
     "data": {
      "text/plain": [
       "11.260069559713717_oz"
      ]
     },
     "execution_count": 51,
     "metadata": {},
     "output_type": "execute_result"
    }
   ],
   "source": [
    "units(333, 'ml').to('oz')"
   ]
  },
  {
   "cell_type": "code",
   "execution_count": 52,
   "id": "b2c3b5e3",
   "metadata": {
    "ExecuteTime": {
     "end_time": "2025-05-04T15:44:49.442946Z",
     "start_time": "2025-05-04T15:44:49.428402Z"
    }
   },
   "outputs": [
    {
     "name": "stdout",
     "output_type": "stream",
     "text": [
      "\u001b[92m[INFO]: print path OFF\u001b[0m\n"
     ]
    }
   ],
   "source": [
    "unyts.print_path(False)"
   ]
  },
  {
   "cell_type": "markdown",
   "id": "407c6f39",
   "metadata": {},
   "source": [
    "# Examples of use\n",
    "\n",
    "_area_ times _length_ returns _volume_"
   ]
  },
  {
   "cell_type": "code",
   "execution_count": 53,
   "id": "46b16960",
   "metadata": {
    "ExecuteTime": {
     "end_time": "2025-05-04T15:44:49.945718Z",
     "start_time": "2025-05-04T15:44:49.444972Z"
    }
   },
   "outputs": [
    {
     "name": "stdout",
     "output_type": "stream",
     "text": [
      "type: Volume\n"
     ]
    },
    {
     "data": {
      "text/plain": [
       "36_m3"
      ]
     },
     "execution_count": 53,
     "metadata": {},
     "output_type": "execute_result"
    }
   ],
   "source": [
    "volume_1 = area_1 * length_1\n",
    "print('type:', type(volume_1))\n",
    "volume_1"
   ]
  },
  {
   "cell_type": "markdown",
   "id": "8e265fd6",
   "metadata": {},
   "source": [
    "This _volume_ divided by _time_ returns _rate_:"
   ]
  },
  {
   "cell_type": "code",
   "execution_count": 54,
   "id": "d3104d67",
   "metadata": {
    "ExecuteTime": {
     "end_time": "2025-05-04T15:44:51.001850Z",
     "start_time": "2025-05-04T15:44:49.946735Z"
    }
   },
   "outputs": [
    {
     "name": "stdout",
     "output_type": "stream",
     "text": [
      "type: Rate\n",
      "36.0_m3/day\n",
      "36.0_m3/day to field units: 226.433304_stb/day\n",
      "36.0_m3/day to litres per hour: 1500.0_l/hr\n",
      "or in thousand cubic feer accumulated over one year: 464.3525527208535_Mscf/year\n"
     ]
    }
   ],
   "source": [
    "rate_1 = volume_1 / units(1, 'day')\n",
    "print('type:', type(rate_1))\n",
    "print(rate_1)\n",
    "print(rate_1, 'to field units:', rate_1.to('stb/day'))\n",
    "print(rate_1, 'to litres per hour:', rate_1.to('l/hr'))\n",
    "print('or in thousand cubic feer accumulated over one year:', rate_1.to('Mscf/year'))"
   ]
  },
  {
   "cell_type": "markdown",
   "id": "c2208527",
   "metadata": {},
   "source": [
    "Multiple products and conversions:"
   ]
  },
  {
   "cell_type": "code",
   "execution_count": 55,
   "id": "f27c2dcc",
   "metadata": {
    "ExecuteTime": {
     "end_time": "2025-05-04T15:44:51.519229Z",
     "start_time": "2025-05-04T15:44:51.003856Z"
    }
   },
   "outputs": [
    {
     "data": {
      "text/plain": [
       "524.740632814599_ft3"
      ]
     },
     "execution_count": 55,
     "metadata": {},
     "output_type": "execute_result"
    }
   ],
   "source": [
    "volume_2 = length_4 * length_3 * length_2\n",
    "volume_2"
   ]
  },
  {
   "cell_type": "code",
   "execution_count": 56,
   "id": "11126ad7",
   "metadata": {
    "ExecuteTime": {
     "end_time": "2025-05-04T15:44:51.535234Z",
     "start_time": "2025-05-04T15:44:51.521234Z"
    }
   },
   "outputs": [
    {
     "data": {
      "text/plain": [
       "14.859000000000002_m3"
      ]
     },
     "execution_count": 56,
     "metadata": {},
     "output_type": "execute_result"
    }
   ],
   "source": [
    "volume_2.to('m3')"
   ]
  },
  {
   "cell_type": "code",
   "execution_count": 57,
   "id": "cc1de45c",
   "metadata": {
    "ExecuteTime": {
     "end_time": "2025-05-04T15:44:51.550236Z",
     "start_time": "2025-05-04T15:44:51.537234Z"
    }
   },
   "outputs": [
    {
     "data": {
      "text/plain": [
       "524.740632814599_scf"
      ]
     },
     "execution_count": 57,
     "metadata": {},
     "output_type": "execute_result"
    }
   ],
   "source": [
    "volume_2.to('scf')"
   ]
  },
  {
   "cell_type": "code",
   "execution_count": 58,
   "id": "8d315f07",
   "metadata": {
    "ExecuteTime": {
     "end_time": "2025-05-04T15:44:51.582314Z",
     "start_time": "2025-05-04T15:44:51.552234Z"
    }
   },
   "outputs": [
    {
     "data": {
      "text/plain": [
       "93.4602871405253_stb"
      ]
     },
     "execution_count": 58,
     "metadata": {},
     "output_type": "execute_result"
    }
   ],
   "source": [
    "volume_2.to('stb')"
   ]
  },
  {
   "cell_type": "code",
   "execution_count": 59,
   "id": "a793e510",
   "metadata": {
    "ExecuteTime": {
     "end_time": "2025-05-04T15:44:51.597309Z",
     "start_time": "2025-05-04T15:44:51.583286Z"
    }
   },
   "outputs": [
    {
     "data": {
      "text/plain": [
       "True"
      ]
     },
     "execution_count": 59,
     "metadata": {},
     "output_type": "execute_result"
    }
   ],
   "source": [
    "volume_2.to('stb') == volume_2"
   ]
  },
  {
   "cell_type": "code",
   "execution_count": 60,
   "id": "e51253ac",
   "metadata": {
    "ExecuteTime": {
     "end_time": "2025-05-04T15:44:52.111069Z",
     "start_time": "2025-05-04T15:44:51.598284Z"
    }
   },
   "outputs": [
    {
     "name": "stdout",
     "output_type": "stream",
     "text": [
      "524.740632814599_ft3 / 53.313648293963254_ft2 = 9.842519685039372_ft\n"
     ]
    }
   ],
   "source": [
    "print(volume_2, '/', area_2, '=', volume_2/area_2)"
   ]
  },
  {
   "cell_type": "code",
   "execution_count": 61,
   "id": "14775624",
   "metadata": {
    "ExecuteTime": {
     "end_time": "2025-05-04T15:44:52.641605Z",
     "start_time": "2025-05-04T15:44:52.113073Z"
    }
   },
   "outputs": [
    {
     "name": "stdout",
     "output_type": "stream",
     "text": [
      "36_m3 / 53.313648293963254_ft2 = 7.26832222895215_m\n"
     ]
    }
   ],
   "source": [
    "print(volume_1, '/', area_2, '=', volume_1/area_2)"
   ]
  },
  {
   "cell_type": "code",
   "execution_count": 62,
   "id": "29635a83",
   "metadata": {
    "ExecuteTime": {
     "end_time": "2025-05-04T15:44:52.657575Z",
     "start_time": "2025-05-04T15:44:52.643577Z"
    }
   },
   "outputs": [
    {
     "name": "stdout",
     "output_type": "stream",
     "text": [
      "type: Time\n"
     ]
    },
    {
     "data": {
      "text/plain": [
       "1.5_hr"
      ]
     },
     "execution_count": 62,
     "metadata": {},
     "output_type": "execute_result"
    }
   ],
   "source": [
    "time_1 = units(1.5, 'hr')\n",
    "print('type:', type(time_1))\n",
    "time_1"
   ]
  },
  {
   "cell_type": "code",
   "execution_count": 63,
   "id": "1872a59d",
   "metadata": {
    "ExecuteTime": {
     "end_time": "2025-05-04T15:44:52.672606Z",
     "start_time": "2025-05-04T15:44:52.659578Z"
    }
   },
   "outputs": [
    {
     "data": {
      "text/plain": [
       "90.0_min"
      ]
     },
     "execution_count": 63,
     "metadata": {},
     "output_type": "execute_result"
    }
   ],
   "source": [
    "time_1.to('min')"
   ]
  },
  {
   "cell_type": "code",
   "execution_count": 64,
   "id": "cd0d1f6f",
   "metadata": {
    "ExecuteTime": {
     "end_time": "2025-05-04T15:44:52.688129Z",
     "start_time": "2025-05-04T15:44:52.674581Z"
    }
   },
   "outputs": [
    {
     "data": {
      "text/plain": [
       "5_sec"
      ]
     },
     "execution_count": 64,
     "metadata": {},
     "output_type": "execute_result"
    }
   ],
   "source": [
    "time_2 = units(5, 'sec')\n",
    "time_2"
   ]
  },
  {
   "cell_type": "code",
   "execution_count": 65,
   "id": "36f7eb88",
   "metadata": {
    "ExecuteTime": {
     "end_time": "2025-05-04T15:44:53.157543Z",
     "start_time": "2025-05-04T15:44:52.689531Z"
    }
   },
   "outputs": [
    {
     "name": "stdout",
     "output_type": "stream",
     "text": [
      "type: Velocity\n"
     ]
    },
    {
     "data": {
      "text/plain": [
       "1.3_ft/sec"
      ]
     },
     "execution_count": 65,
     "metadata": {},
     "output_type": "execute_result"
    }
   ],
   "source": [
    "speed_1 = length_4 / time_2\n",
    "print('type:', type(speed_1))\n",
    "speed_1"
   ]
  },
  {
   "cell_type": "code",
   "execution_count": 66,
   "id": "7cebaacf",
   "metadata": {
    "ExecuteTime": {
     "end_time": "2025-05-04T15:44:53.173154Z",
     "start_time": "2025-05-04T15:44:53.159548Z"
    }
   },
   "outputs": [
    {
     "data": {
      "text/plain": [
       "1.4264640000000002_km/hr"
      ]
     },
     "execution_count": 66,
     "metadata": {},
     "output_type": "execute_result"
    }
   ],
   "source": [
    "speed_1.to('km/hr')"
   ]
  },
  {
   "cell_type": "code",
   "execution_count": 67,
   "id": "4d95e86f",
   "metadata": {
    "ExecuteTime": {
     "end_time": "2025-05-04T15:44:53.189188Z",
     "start_time": "2025-05-04T15:44:53.175125Z"
    }
   },
   "outputs": [
    {
     "data": {
      "text/plain": [
       "100_km/hr"
      ]
     },
     "execution_count": 67,
     "metadata": {},
     "output_type": "execute_result"
    }
   ],
   "source": [
    "speed_2 = units(100, 'km/hr')\n",
    "speed_2"
   ]
  },
  {
   "cell_type": "code",
   "execution_count": 68,
   "id": "1d5bdece",
   "metadata": {
    "ExecuteTime": {
     "end_time": "2025-05-04T15:44:53.219896Z",
     "start_time": "2025-05-04T15:44:53.191150Z"
    }
   },
   "outputs": [
    {
     "data": {
      "text/plain": [
       "62.13711922373339_mi/hr"
      ]
     },
     "execution_count": 68,
     "metadata": {},
     "output_type": "execute_result"
    }
   ],
   "source": [
    "speed_2.to('mi/hr')"
   ]
  },
  {
   "cell_type": "code",
   "execution_count": 69,
   "id": "d69d3574",
   "metadata": {
    "ExecuteTime": {
     "end_time": "2025-05-04T15:44:53.408265Z",
     "start_time": "2025-05-04T15:44:53.221870Z"
    }
   },
   "outputs": [
    {
     "name": "stdout",
     "output_type": "stream",
     "text": [
      "type: ProductivityIndex\n"
     ]
    },
    {
     "data": {
      "text/plain": [
       "2.7_stb/day/psia"
      ]
     },
     "execution_count": 69,
     "metadata": {},
     "output_type": "execute_result"
    }
   ],
   "source": [
    "productivity_index_1 = units(2.7, 'stb/day/psia')\n",
    "print('type:', type(productivity_index_1))\n",
    "productivity_index_1"
   ]
  },
  {
   "cell_type": "code",
   "execution_count": 70,
   "id": "c5c7a2ff",
   "metadata": {
    "ExecuteTime": {
     "end_time": "2025-05-04T15:44:55.038016Z",
     "start_time": "2025-05-04T15:44:53.410274Z"
    }
   },
   "outputs": [
    {
     "data": {
      "text/plain": [
       "6.225969351032321_sm3/day/barsa"
      ]
     },
     "execution_count": 70,
     "metadata": {},
     "output_type": "execute_result"
    }
   ],
   "source": [
    "productivity_index_1.to('sm3/day/barsa')"
   ]
  },
  {
   "cell_type": "code",
   "execution_count": 71,
   "id": "789ca0cf",
   "metadata": {
    "ExecuteTime": {
     "end_time": "2025-05-04T15:44:55.490335Z",
     "start_time": "2025-05-04T15:44:55.039989Z"
    }
   },
   "outputs": [
    {
     "data": {
      "text/plain": [
       "43.2358982710578_cc/min/kPa"
      ]
     },
     "execution_count": 71,
     "metadata": {},
     "output_type": "execute_result"
    }
   ],
   "source": [
    "productivity_index_1.to('cc/min/kPa')"
   ]
  },
  {
   "cell_type": "markdown",
   "id": "a2601c05",
   "metadata": {},
   "source": [
    "# Working with NumPy arrays\n",
    "simply provide the array as the first argument of **`units()`** function:"
   ]
  },
  {
   "cell_type": "code",
   "execution_count": 72,
   "id": "e4119421",
   "metadata": {
    "ExecuteTime": {
     "end_time": "2025-05-04T15:44:55.505998Z",
     "start_time": "2025-05-04T15:44:55.492320Z"
    }
   },
   "outputs": [],
   "source": [
    "import numpy as np"
   ]
  },
  {
   "cell_type": "code",
   "execution_count": 73,
   "id": "c4f0c7af",
   "metadata": {
    "ExecuteTime": {
     "end_time": "2025-05-04T15:44:55.521167Z",
     "start_time": "2025-05-04T15:44:55.508000Z"
    }
   },
   "outputs": [
    {
     "data": {
      "text/plain": [
       "array([0.12564754, 0.81509324, 0.49535732, 0.34695706, 0.26243776,\n",
       "       0.78685733, 0.64984688, 0.42073974, 0.65560394, 0.03185873])"
      ]
     },
     "execution_count": 73,
     "metadata": {},
     "output_type": "execute_result"
    }
   ],
   "source": [
    "array_1 = np.random.rand(10)\n",
    "array_1"
   ]
  },
  {
   "cell_type": "code",
   "execution_count": 74,
   "id": "ccd6be22",
   "metadata": {
    "ExecuteTime": {
     "end_time": "2025-05-04T15:44:55.537116Z",
     "start_time": "2025-05-04T15:44:55.523066Z"
    }
   },
   "outputs": [],
   "source": [
    "mass_1 = units(array_1, 'kg')"
   ]
  },
  {
   "cell_type": "code",
   "execution_count": 75,
   "id": "3de66b00",
   "metadata": {
    "ExecuteTime": {
     "end_time": "2025-05-04T15:44:55.552728Z",
     "start_time": "2025-05-04T15:44:55.539153Z"
    }
   },
   "outputs": [
    {
     "data": {
      "text/plain": [
       "[0.12564754 0.81509324 0.49535732 0.34695706 0.26243776 0.78685733\n",
       " 0.64984688 0.42073974 0.65560394 0.03185873]_kg"
      ]
     },
     "execution_count": 75,
     "metadata": {},
     "output_type": "execute_result"
    }
   ],
   "source": [
    "mass_1"
   ]
  },
  {
   "cell_type": "code",
   "execution_count": 76,
   "id": "4c965bb1",
   "metadata": {
    "ExecuteTime": {
     "end_time": "2025-05-04T15:44:55.568803Z",
     "start_time": "2025-05-04T15:44:55.554702Z"
    }
   },
   "outputs": [
    {
     "data": {
      "text/plain": [
       "[125.64754238 815.09323992 495.35732315 346.95705584 262.43775922\n",
       " 786.85733477 649.84687568 420.73974064 655.60394116  31.85872618]_g"
      ]
     },
     "execution_count": 76,
     "metadata": {},
     "output_type": "execute_result"
    }
   ],
   "source": [
    "mass_1.to('g')"
   ]
  },
  {
   "cell_type": "code",
   "execution_count": 77,
   "id": "e02b45e8",
   "metadata": {
    "ExecuteTime": {
     "end_time": "2025-05-04T15:44:55.584872Z",
     "start_time": "2025-05-04T15:44:55.570779Z"
    }
   },
   "outputs": [
    {
     "data": {
      "text/plain": [
       "[0.94285903 0.3091558  0.61753386 0.83719978 0.30405518 0.69671117\n",
       " 0.8378307  0.37281479 0.56978221 0.54863962]_lb"
      ]
     },
     "execution_count": 77,
     "metadata": {},
     "output_type": "execute_result"
    }
   ],
   "source": [
    "mass_2 = units(np.random.rand(10), 'lb')\n",
    "mass_2"
   ]
  },
  {
   "cell_type": "code",
   "execution_count": 78,
   "id": "753725fe",
   "metadata": {
    "ExecuteTime": {
     "end_time": "2025-05-04T15:44:55.600559Z",
     "start_time": "2025-05-04T15:44:55.586850Z"
    }
   },
   "outputs": [
    {
     "data": {
      "text/plain": [
       "[1.21986444 2.1061288  1.70960982 1.60210915 0.8826314  2.43143465\n",
       " 2.27049782 1.30038714 2.01514149 0.61887609]_lb"
      ]
     },
     "execution_count": 78,
     "metadata": {},
     "output_type": "execute_result"
    }
   ],
   "source": [
    "mass_2 + mass_1"
   ]
  },
  {
   "cell_type": "markdown",
   "id": "21b99062",
   "metadata": {},
   "source": [
    "# The `convert` function\n",
    "The units converter function, **`convert()`** can be used directly, providing the following arguments:\n",
    "- `value`: _int_, _float_, _np.array_, etc, the value to be converted\n",
    "- `from_units`: _str_ the input units\n",
    "- `to_units`: _str_, the desired output units\n",
    "- `print_path`: [optional] _bool_, set to True to request printing the conversion path. Default behaviour is defined by the `print_path()` setting."
   ]
  },
  {
   "cell_type": "code",
   "execution_count": 79,
   "id": "16e04d28",
   "metadata": {
    "ExecuteTime": {
     "end_time": "2025-05-04T15:44:55.617098Z",
     "start_time": "2025-05-04T15:44:55.602533Z"
    }
   },
   "outputs": [],
   "source": [
    "from unyts import convert"
   ]
  },
  {
   "cell_type": "code",
   "execution_count": 80,
   "id": "2b937728",
   "metadata": {
    "ExecuteTime": {
     "end_time": "2025-05-04T15:44:55.632704Z",
     "start_time": "2025-05-04T15:44:55.619106Z"
    }
   },
   "outputs": [
    {
     "data": {
      "text/plain": [
       "14"
      ]
     },
     "execution_count": 80,
     "metadata": {},
     "output_type": "execute_result"
    }
   ],
   "source": [
    "convert(2, 'week', 'day')"
   ]
  },
  {
   "cell_type": "code",
   "execution_count": 81,
   "id": "4e5639bb",
   "metadata": {
    "ExecuteTime": {
     "end_time": "2025-05-04T15:44:55.648794Z",
     "start_time": "2025-05-04T15:44:55.634676Z"
    }
   },
   "outputs": [
    {
     "data": {
      "text/plain": [
       "1440"
      ]
     },
     "execution_count": 81,
     "metadata": {},
     "output_type": "execute_result"
    }
   ],
   "source": [
    "convert(1, 'day', 'minute')"
   ]
  },
  {
   "cell_type": "code",
   "execution_count": 82,
   "id": "0474f3e6",
   "metadata": {
    "ExecuteTime": {
     "end_time": "2025-05-04T15:44:55.680449Z",
     "start_time": "2025-05-04T15:44:55.661330Z"
    }
   },
   "outputs": [
    {
     "name": "stdout",
     "output_type": "stream",
     "text": [
      "\u001b[92m[INFO]: converting from 'week' to 'second':\n",
      " week > day > hour > minute > second\u001b[0m\n"
     ]
    },
    {
     "data": {
      "text/plain": [
       "604800"
      ]
     },
     "execution_count": 82,
     "metadata": {},
     "output_type": "execute_result"
    }
   ],
   "source": [
    "convert(1, 'week', 'second', True)"
   ]
  },
  {
   "cell_type": "code",
   "execution_count": 83,
   "id": "8c34ecfc",
   "metadata": {
    "ExecuteTime": {
     "end_time": "2025-05-04T15:44:55.959303Z",
     "start_time": "2025-05-04T15:44:55.682423Z"
    }
   },
   "outputs": [
    {
     "name": "stdout",
     "output_type": "stream",
     "text": [
      "\u001b[92m[INFO]: converting from 'psia' to 'g/cm2':\n",
      " psia > absolute psi > lb/in2 > lb > pound > kilogram > kg > g / 1 in2 > square inch > square foot > square meter > m2 > cm2\u001b[0m\n"
     ]
    },
    {
     "data": {
      "text/plain": [
       "70.30695796391595"
      ]
     },
     "execution_count": 83,
     "metadata": {},
     "output_type": "execute_result"
    }
   ],
   "source": [
    "convert(1, 'psia', 'g/cm2', True)"
   ]
  },
  {
   "cell_type": "markdown",
   "id": "8f558f37",
   "metadata": {},
   "source": [
    "- optional, fourth argument set to **True** will return the conversion path.   \n",
    "To avoid anoying print outs, the conversion path is printed only the first time it is used:"
   ]
  },
  {
   "cell_type": "code",
   "execution_count": 84,
   "id": "de94dfee",
   "metadata": {
    "ExecuteTime": {
     "end_time": "2025-05-04T15:44:55.974817Z",
     "start_time": "2025-05-04T15:44:55.961274Z"
    }
   },
   "outputs": [
    {
     "name": "stdout",
     "output_type": "stream",
     "text": [
      "\u001b[92m[INFO]: converting from 'mile' to 'km':\n",
      " mile > furlong > chain > yard > meter > m > km\u001b[0m\n"
     ]
    },
    {
     "data": {
      "text/plain": [
       "1.609344"
      ]
     },
     "execution_count": 84,
     "metadata": {},
     "output_type": "execute_result"
    }
   ],
   "source": [
    "convert(1, 'mile', 'km', True)"
   ]
  },
  {
   "cell_type": "code",
   "execution_count": 85,
   "id": "4fe90dc5",
   "metadata": {
    "ExecuteTime": {
     "end_time": "2025-05-04T15:44:55.990873Z",
     "start_time": "2025-05-04T15:44:55.976791Z"
    }
   },
   "outputs": [
    {
     "name": "stdout",
     "output_type": "stream",
     "text": [
      "\u001b[92m[INFO]: converting from 'nautical mile' to 'km':\n",
      " nautical mile > meter > m > km\u001b[0m\n"
     ]
    },
    {
     "data": {
      "text/plain": [
       "1.852"
      ]
     },
     "execution_count": 85,
     "metadata": {},
     "output_type": "execute_result"
    }
   ],
   "source": [
    "convert(1, 'nautical mile', 'km', True)"
   ]
  },
  {
   "cell_type": "code",
   "execution_count": 86,
   "id": "a26de81d",
   "metadata": {
    "ExecuteTime": {
     "end_time": "2025-05-04T15:44:56.006926Z",
     "start_time": "2025-05-04T15:44:55.992843Z"
    }
   },
   "outputs": [
    {
     "name": "stdout",
     "output_type": "stream",
     "text": [
      "\u001b[92m[INFO]: converting from 'scandinavian mile' to 'km':\n",
      " scandinavian mile > kilometer > kilometre > km\u001b[0m\n"
     ]
    },
    {
     "data": {
      "text/plain": [
       "10"
      ]
     },
     "execution_count": 86,
     "metadata": {},
     "output_type": "execute_result"
    }
   ],
   "source": [
    "convert(1, 'scandinavian mile', 'km', True)"
   ]
  },
  {
   "cell_type": "code",
   "execution_count": 87,
   "id": "12189df7",
   "metadata": {
    "ExecuteTime": {
     "end_time": "2025-05-04T15:44:56.023026Z",
     "start_time": "2025-05-04T15:44:56.008932Z"
    }
   },
   "outputs": [
    {
     "name": "stdout",
     "output_type": "stream",
     "text": [
      "\u001b[92m[INFO]: converting from 'm3/month' to 'l/day':\n",
      " m3 > cm3 > cubic centimeter > litre > l / 1 month > day\u001b[0m\n"
     ]
    },
    {
     "data": {
      "text/plain": [
       "985.6262833675565"
      ]
     },
     "execution_count": 87,
     "metadata": {},
     "output_type": "execute_result"
    }
   ],
   "source": [
    "convert(30, 'm3/month', 'l/day', True)"
   ]
  },
  {
   "cell_type": "code",
   "execution_count": 88,
   "id": "05ce65f0",
   "metadata": {
    "ExecuteTime": {
     "end_time": "2025-05-04T15:44:56.054608Z",
     "start_time": "2025-05-04T15:44:56.024994Z"
    }
   },
   "outputs": [
    {
     "name": "stdout",
     "output_type": "stream",
     "text": [
      "\u001b[92m[INFO]: converting from 'psi/ft' to 'bar/m':\n",
      " psi > bar / 1 ft > foot > yard > meter > m\u001b[0m\n"
     ]
    },
    {
     "data": {
      "text/plain": [
       "0.07917208177742135"
      ]
     },
     "execution_count": 88,
     "metadata": {},
     "output_type": "execute_result"
    }
   ],
   "source": [
    "convert(0.35, 'psi/ft', 'bar/m', True)"
   ]
  },
  {
   "cell_type": "code",
   "execution_count": 89,
   "id": "c61b97c1",
   "metadata": {
    "ExecuteTime": {
     "end_time": "2025-05-04T15:44:56.085234Z",
     "start_time": "2025-05-04T15:44:56.055579Z"
    }
   },
   "outputs": [
    {
     "name": "stdout",
     "output_type": "stream",
     "text": [
      "\u001b[92m[INFO]: converting from 'psi/ft' to 'g/cc':\n",
      " psi/ft > lb/ft3 > g/cm3 > g/cc\u001b[0m\n"
     ]
    },
    {
     "data": {
      "text/plain": [
       "0.8073305540475911"
      ]
     },
     "execution_count": 89,
     "metadata": {},
     "output_type": "execute_result"
    }
   ],
   "source": [
    "convert(0.35, 'psi/ft', 'g/cc', True)"
   ]
  },
  {
   "cell_type": "code",
   "execution_count": 90,
   "id": "5d9b6e3c",
   "metadata": {
    "ExecuteTime": {
     "end_time": "2025-05-04T15:44:56.116003Z",
     "start_time": "2025-05-04T15:44:56.087206Z"
    }
   },
   "outputs": [
    {
     "name": "stdout",
     "output_type": "stream",
     "text": [
      "\u001b[92m[INFO]: converting from 'bar/m' to 'psi/ft':\n",
      " bar > psi / 1 m > meter > yard > foot > ft\u001b[0m\n"
     ]
    },
    {
     "data": {
      "text/plain": [
       "0.3499999999999999"
      ]
     },
     "execution_count": 90,
     "metadata": {},
     "output_type": "execute_result"
    }
   ],
   "source": [
    "convert(0.07917208177742135, 'bar/m', 'psi/ft', True)"
   ]
  },
  {
   "cell_type": "code",
   "execution_count": 91,
   "id": "7d7ee781",
   "metadata": {
    "ExecuteTime": {
     "end_time": "2025-05-04T15:44:56.146851Z",
     "start_time": "2025-05-04T15:44:56.117002Z"
    }
   },
   "outputs": [
    {
     "name": "stdout",
     "output_type": "stream",
     "text": [
      "\u001b[92m[INFO]: converting from 'barsa/m' to 'psia/ft':\n",
      " barsa > absolute bar > absolute psi > psia / 1 m > meter > yard > foot > ft\u001b[0m\n"
     ]
    },
    {
     "data": {
      "text/plain": [
       "1.9141848565515385"
      ]
     },
     "execution_count": 91,
     "metadata": {},
     "output_type": "execute_result"
    }
   ],
   "source": [
    "convert(0.433, 'barsa/m', 'psia/ft', True)"
   ]
  },
  {
   "cell_type": "code",
   "execution_count": 92,
   "id": "6567efa8",
   "metadata": {
    "ExecuteTime": {
     "end_time": "2025-05-04T15:44:56.162390Z",
     "start_time": "2025-05-04T15:44:56.148857Z"
    }
   },
   "outputs": [
    {
     "name": "stdout",
     "output_type": "stream",
     "text": [
      "\u001b[92m[INFO]: converting from 'psia' to 'lb/in2':\n",
      " psia > absolute psi > lb/in2\u001b[0m\n"
     ]
    },
    {
     "data": {
      "text/plain": [
       "14.7"
      ]
     },
     "execution_count": 92,
     "metadata": {},
     "output_type": "execute_result"
    }
   ],
   "source": [
    "convert(14.7, 'psia', 'lb/in2', True)"
   ]
  },
  {
   "cell_type": "code",
   "execution_count": 93,
   "id": "ea74ca0a",
   "metadata": {
    "ExecuteTime": {
     "end_time": "2025-05-04T15:44:56.193912Z",
     "start_time": "2025-05-04T15:44:56.164391Z"
    }
   },
   "outputs": [
    {
     "name": "stdout",
     "output_type": "stream",
     "text": [
      "\u001b[92m[INFO]: converting from 'kg/cm2' to 'lb/in2':\n",
      " kg/cm2 > kilogram/square centimeter > absolute bar > absolute psi > lb/in2\u001b[0m\n"
     ]
    },
    {
     "data": {
      "text/plain": [
       "14.223343307314792"
      ]
     },
     "execution_count": 93,
     "metadata": {},
     "output_type": "execute_result"
    }
   ],
   "source": [
    "convert(1, 'kg/cm2', 'lb/in2', True)"
   ]
  },
  {
   "cell_type": "markdown",
   "id": "628594dc",
   "metadata": {
    "ExecuteTime": {
     "end_time": "2023-01-28T21:26:47.070369Z",
     "start_time": "2023-01-28T21:26:44.189997Z"
    }
   },
   "source": [
    "convert(1, 'kg/cm2', 'psia', True)"
   ]
  },
  {
   "cell_type": "code",
   "execution_count": 94,
   "id": "7526d5b7",
   "metadata": {
    "ExecuteTime": {
     "end_time": "2025-05-04T15:44:56.226049Z",
     "start_time": "2025-05-04T15:44:56.194882Z"
    }
   },
   "outputs": [
    {
     "name": "stdout",
     "output_type": "stream",
     "text": [
      "\u001b[92m[INFO]: converting from 'g/cm2' to 'lb/in2':\n",
      " g > gram > kilogram > pound > lb / 1 cm2 > m2 > square meter > square foot > square inch > in2\u001b[0m\n"
     ]
    },
    {
     "data": {
      "text/plain": [
       "0.014223343307119564"
      ]
     },
     "execution_count": 94,
     "metadata": {},
     "output_type": "execute_result"
    }
   ],
   "source": [
    "convert(1, 'g/cm2', 'lb/in2', True)"
   ]
  },
  {
   "cell_type": "code",
   "execution_count": 95,
   "id": "79dcf20b",
   "metadata": {
    "ExecuteTime": {
     "end_time": "2025-05-04T15:44:56.257050Z",
     "start_time": "2025-05-04T15:44:56.228339Z"
    }
   },
   "outputs": [
    {
     "name": "stdout",
     "output_type": "stream",
     "text": [
      "\u001b[92m[INFO]: converting from 'API' to 'lb/ft3':\n",
      " API > g/cc > g/cm3 > lb/ft3\u001b[0m\n"
     ]
    },
    {
     "data": {
      "text/plain": [
       "62.427960576144606"
      ]
     },
     "execution_count": 95,
     "metadata": {},
     "output_type": "execute_result"
    }
   ],
   "source": [
    "convert(10, 'API', 'lb/ft3', True)"
   ]
  },
  {
   "cell_type": "code",
   "execution_count": 96,
   "id": "c1547494",
   "metadata": {
    "ExecuteTime": {
     "end_time": "2025-05-04T15:44:56.413736Z",
     "start_time": "2025-05-04T15:44:56.259056Z"
    }
   },
   "outputs": [
    {
     "name": "stdout",
     "output_type": "stream",
     "text": [
      "\u001b[92m[INFO]: converting from 'lb/scf' to 'API':\n",
      " lb > pound > kilogram > kg > g / 1 scf > standard cubic foot > standard cubic meter > m3 > cm3 > cubic centimeter > cc > g/cc > API\u001b[0m\n"
     ]
    },
    {
     "data": {
      "text/plain": [
       "29.11011675499026"
      ]
     },
     "execution_count": 96,
     "metadata": {},
     "output_type": "execute_result"
    }
   ],
   "source": [
    "convert(55, 'lb/scf', 'API', True)"
   ]
  },
  {
   "cell_type": "code",
   "execution_count": 97,
   "id": "1af4c897",
   "metadata": {
    "ExecuteTime": {
     "end_time": "2025-05-04T15:44:56.429768Z",
     "start_time": "2025-05-04T15:44:56.415739Z"
    }
   },
   "outputs": [
    {
     "name": "stdout",
     "output_type": "stream",
     "text": [
      "\u001b[92m[INFO]: converting from 'API' to 'g/cc':\n",
      " API > g/cc\u001b[0m\n"
     ]
    },
    {
     "data": {
      "text/plain": [
       "1.0"
      ]
     },
     "execution_count": 97,
     "metadata": {},
     "output_type": "execute_result"
    }
   ],
   "source": [
    "convert(10, 'API', 'g/cc', True)"
   ]
  },
  {
   "cell_type": "code",
   "execution_count": 98,
   "id": "a16d1fde",
   "metadata": {
    "ExecuteTime": {
     "end_time": "2025-05-04T15:44:56.445283Z",
     "start_time": "2025-05-04T15:44:56.431771Z"
    }
   },
   "outputs": [
    {
     "name": "stdout",
     "output_type": "stream",
     "text": [
      "\u001b[92m[INFO]: converting from 'g/cm3' to 'API':\n",
      " g/cm3 > g/cc > API\u001b[0m\n"
     ]
    },
    {
     "data": {
      "text/plain": [
       "10.0"
      ]
     },
     "execution_count": 98,
     "metadata": {},
     "output_type": "execute_result"
    }
   ],
   "source": [
    "convert(1, 'g/cm3', 'API', True)"
   ]
  },
  {
   "cell_type": "markdown",
   "id": "954a772d",
   "metadata": {},
   "source": [
    "## if `value` argument is instance of `Unit`\n",
    "If `value` argument is an instance of the `Unit` class, the third argument (`to_unit`) might be left default (or the provided class `Empty`).  \n",
    "In this case `value` will be converted from its units to the units provided in the argument `from_unit`."
   ]
  },
  {
   "cell_type": "code",
   "execution_count": 99,
   "id": "fcfe265d",
   "metadata": {
    "ExecuteTime": {
     "end_time": "2025-05-04T15:44:56.460311Z",
     "start_time": "2025-05-04T15:44:56.446792Z"
    }
   },
   "outputs": [
    {
     "name": "stdout",
     "output_type": "stream",
     "text": [
      "`mass_1` is and instance of the `Unit` class:\n",
      "[0.12564754 0.81509324 0.49535732 0.34695706 0.26243776 0.78685733\n",
      " 0.64984688 0.42073974 0.65560394 0.03185873]_kg\n"
     ]
    },
    {
     "data": {
      "text/plain": [
       "array([0.27700541, 1.796973  , 1.09207596, 0.76490937, 0.57857622,\n",
       "       1.73472348, 1.43266712, 0.92757235, 1.44535928, 0.07023647])"
      ]
     },
     "execution_count": 99,
     "metadata": {},
     "output_type": "execute_result"
    }
   ],
   "source": [
    "print(\"`mass_1` is and instance of the `Unit` class:\", mass_1, sep='\\n')\n",
    "convert(mass_1, 'lb')"
   ]
  },
  {
   "cell_type": "markdown",
   "id": "12b23da1",
   "metadata": {},
   "source": [
    "### `Empty`, instead of `None`\n",
    "It is important to hightlight that the `None` value as argument in the `convert` function will indicate the conversion to a dimensionless value.  \n",
    "  \n",
    "To provide the default _Empty_ value for an argument, the provided value `Empty` should be used. Notice that is only accepted in the second argument (`to_unit`) and will be valid only if the `value` argument is an instance of `Unit`.  \n",
    "The `Empty` instance can be imported from `unyts`:"
   ]
  },
  {
   "cell_type": "code",
   "execution_count": 100,
   "id": "1cb4c656",
   "metadata": {
    "ExecuteTime": {
     "end_time": "2025-05-04T15:44:56.475836Z",
     "start_time": "2025-05-04T15:44:56.461311Z"
    }
   },
   "outputs": [],
   "source": [
    "from unyts import Empty"
   ]
  },
  {
   "cell_type": "code",
   "execution_count": 101,
   "id": "50ce2ed6",
   "metadata": {
    "ExecuteTime": {
     "end_time": "2025-05-04T15:44:56.491743Z",
     "start_time": "2025-05-04T15:44:56.476841Z"
    }
   },
   "outputs": [
    {
     "data": {
      "text/plain": [
       "array([0.27700541, 1.796973  , 1.09207596, 0.76490937, 0.57857622,\n",
       "       1.73472348, 1.43266712, 0.92757235, 1.44535928, 0.07023647])"
      ]
     },
     "execution_count": 101,
     "metadata": {},
     "output_type": "execute_result"
    }
   ],
   "source": [
    "convert(mass_1, 'lb', Empty)"
   ]
  },
  {
   "cell_type": "markdown",
   "id": "46ef907b",
   "metadata": {},
   "source": [
    "# Getting a conversion `function` for later use\n",
    "\n",
    "Optionally, the first argument (_value_) of the function `convert` can be set `None`. In this case, a `lambda` with the conversion will be returned. This _lambda_ can be saved into a variable for later use."
   ]
  },
  {
   "cell_type": "code",
   "execution_count": 102,
   "id": "32c07627",
   "metadata": {
    "ExecuteTime": {
     "end_time": "2025-05-04T15:44:56.507835Z",
     "start_time": "2025-05-04T15:44:56.493715Z"
    }
   },
   "outputs": [
    {
     "name": "stdout",
     "output_type": "stream",
     "text": [
      "\u001b[92m[INFO]: converting from 'F' to 'C':\n",
      " F > Fahrenheit > Celsius > C\u001b[0m\n"
     ]
    }
   ],
   "source": [
    "temperature_conversion = convert(None, 'F', 'C', True)"
   ]
  },
  {
   "cell_type": "code",
   "execution_count": 103,
   "id": "e2319e76",
   "metadata": {
    "ExecuteTime": {
     "end_time": "2025-05-04T15:44:56.522894Z",
     "start_time": "2025-05-04T15:44:56.509836Z"
    }
   },
   "outputs": [
    {
     "data": {
      "text/plain": [
       "29.444444444444443"
      ]
     },
     "execution_count": 103,
     "metadata": {},
     "output_type": "execute_result"
    }
   ],
   "source": [
    "temperature_conversion(85)"
   ]
  },
  {
   "cell_type": "markdown",
   "id": "8ab6737f",
   "metadata": {},
   "source": [
    "# Preloaded unitary units\n",
    "\n",
    "In some ocassions it could be handy use the preloaded variables of basic units in order to make new instances of any units as production of numbers with the basic units, like (not exhaustive list):\n",
    "- `meter` or `metre`\n",
    "- `foot` or `feet`\n",
    "- `inch`\n",
    "- `second`, `minute`, `hour`, `day`, `week`, `month` and `year`\n",
    "- `gram` and `kilogram`\n",
    "- `ounce`, `pound` and `ton`\n",
    "- `pascal`, `kilopascal`, `torr`, `psi`, `bar` and `atmosphere`"
   ]
  },
  {
   "cell_type": "code",
   "execution_count": 104,
   "id": "2886f92a",
   "metadata": {
    "ExecuteTime": {
     "end_time": "2025-05-04T15:44:56.538913Z",
     "start_time": "2025-05-04T15:44:56.524896Z"
    }
   },
   "outputs": [],
   "source": [
    "from unyts.unitary import *"
   ]
  },
  {
   "cell_type": "code",
   "execution_count": 105,
   "id": "70804381",
   "metadata": {
    "ExecuteTime": {
     "end_time": "2025-05-04T15:44:56.554431Z",
     "start_time": "2025-05-04T15:44:56.539885Z"
    }
   },
   "outputs": [
    {
     "data": {
      "text/plain": [
       "5_yd"
      ]
     },
     "execution_count": 105,
     "metadata": {},
     "output_type": "execute_result"
    }
   ],
   "source": [
    "5 * yard"
   ]
  },
  {
   "cell_type": "code",
   "execution_count": 106,
   "id": "71adc0fc",
   "metadata": {
    "ExecuteTime": {
     "end_time": "2025-05-04T15:44:56.570495Z",
     "start_time": "2025-05-04T15:44:56.555401Z"
    }
   },
   "outputs": [
    {
     "data": {
      "text/plain": [
       "36_m2"
      ]
     },
     "execution_count": 106,
     "metadata": {},
     "output_type": "execute_result"
    }
   ],
   "source": [
    "36 * meter * meter"
   ]
  },
  {
   "cell_type": "code",
   "execution_count": 107,
   "id": "cf096bb3",
   "metadata": {
    "ExecuteTime": {
     "end_time": "2025-05-04T15:44:56.586052Z",
     "start_time": "2025-05-04T15:44:56.572468Z"
    }
   },
   "outputs": [
    {
     "data": {
      "text/plain": [
       "3.0_ft/sec"
      ]
     },
     "execution_count": 107,
     "metadata": {},
     "output_type": "execute_result"
    }
   ],
   "source": [
    "3 * foot / second"
   ]
  },
  {
   "cell_type": "code",
   "execution_count": 108,
   "id": "aa41cb7d",
   "metadata": {
    "ExecuteTime": {
     "end_time": "2025-05-04T15:44:56.601608Z",
     "start_time": "2025-05-04T15:44:56.588086Z"
    }
   },
   "outputs": [
    {
     "data": {
      "text/plain": [
       "3_oz"
      ]
     },
     "execution_count": 108,
     "metadata": {},
     "output_type": "execute_result"
    }
   ],
   "source": [
    "3 * ounce"
   ]
  },
  {
   "cell_type": "markdown",
   "id": "9e11b95c",
   "metadata": {},
   "source": [
    "# The special case of _ounce_\n",
    "\n",
    "Considering that the unit **ounce** can be associated to volume or to weiht, calling `units()` function with unit argumento _'ounce'_ or _'oz'_ will return a generic **Unit** instance (not the specific subclass of Unit):"
   ]
  },
  {
   "cell_type": "code",
   "execution_count": 109,
   "id": "93276edd",
   "metadata": {
    "ExecuteTime": {
     "end_time": "2025-05-04T15:44:56.617237Z",
     "start_time": "2025-05-04T15:44:56.603607Z"
    }
   },
   "outputs": [
    {
     "data": {
      "text/plain": [
       "2.5_ounce"
      ]
     },
     "execution_count": 109,
     "metadata": {},
     "output_type": "execute_result"
    }
   ],
   "source": [
    "oz = units(2.5, 'ounce')\n",
    "oz"
   ]
  },
  {
   "cell_type": "code",
   "execution_count": 110,
   "id": "99e87f95",
   "metadata": {
    "ExecuteTime": {
     "end_time": "2025-05-04T15:44:56.632821Z",
     "start_time": "2025-05-04T15:44:56.619243Z"
    }
   },
   "outputs": [
    {
     "data": {
      "text/plain": [
       "Unit"
      ]
     },
     "execution_count": 110,
     "metadata": {},
     "output_type": "execute_result"
    }
   ],
   "source": [
    "type(oz)"
   ]
  },
  {
   "cell_type": "markdown",
   "id": "694015b1",
   "metadata": {},
   "source": [
    "This generic instance is able to be converted to other weight or volume quantities and only then it will be instantiated as the appropiate subclass:"
   ]
  },
  {
   "cell_type": "code",
   "execution_count": 111,
   "id": "9fe02190",
   "metadata": {
    "ExecuteTime": {
     "end_time": "2025-05-04T15:44:56.804216Z",
     "start_time": "2025-05-04T15:44:56.634798Z"
    }
   },
   "outputs": [
    {
     "name": "stdout",
     "output_type": "stream",
     "text": [
      "73.9337859441888_ml\n"
     ]
    },
    {
     "data": {
      "text/plain": [
       "Volume"
      ]
     },
     "execution_count": 111,
     "metadata": {},
     "output_type": "execute_result"
    }
   ],
   "source": [
    "v = oz.to('ml')\n",
    "print(v)\n",
    "type(v)"
   ]
  },
  {
   "cell_type": "code",
   "execution_count": 112,
   "id": "885bed71",
   "metadata": {
    "ExecuteTime": {
     "end_time": "2025-05-04T15:44:56.835287Z",
     "start_time": "2025-05-04T15:44:56.805217Z"
    }
   },
   "outputs": [
    {
     "name": "stdout",
     "output_type": "stream",
     "text": [
      "70.87380781249999_g\n"
     ]
    },
    {
     "data": {
      "text/plain": [
       "Weight"
      ]
     },
     "execution_count": 112,
     "metadata": {},
     "output_type": "execute_result"
    }
   ],
   "source": [
    "w = oz.to('g')\n",
    "print(w)\n",
    "type(w)"
   ]
  },
  {
   "cell_type": "markdown",
   "id": "be1906ba",
   "metadata": {},
   "source": [
    "# The search algorithm _[optional]_\n",
    "On version 0.9.0 alternative algorithms to search through the units network were defined. Previously only BFS algorithm could be used.  \n",
    "The available algorithms now are:\n",
    "- **BFS** _Breadth-First Search_: searches through the entire graph network, deepening one level at a time. BFS will always return the shortest path connecting two units, but migth be slow to find a path between two distant nodes (units).\n",
    "- **DFS** _Depth-First Search_: searches through the entire graph network, one branch at time. DFS will return the first path found and might be faster than BFS when looking for a path between two distant nodes.\n",
    "- **lean_BFS** _preprocessed lean network for Breadth-First Search_: cleans up the network, by filtering out the nodes (units) that are not part of any possible path between the two units being converted. The resulting slimmed graph network is then feeded to the BFS algorithm to find the shortest possible path. This implementation will return the shortest path in less time that the traditional BFS algorithm, particularly for conversions that BFS takes very long time to solve.\n",
    "\n",
    "Default algorithm is **lean_BFS**."
   ]
  },
  {
   "cell_type": "markdown",
   "id": "602f78d4",
   "metadata": {},
   "source": [
    "## View or change the search algorithm\n",
    "The active search algorithm can be viewed by calling the function `get_algorithm()` or changed by calling the function `set_algorithm()` providing a string with the desired name of the algorithm. The only valid strings are: `'BFS'`, `'DFS'`, `'lean_BFS'`, or `'hybrid_BFS'`."
   ]
  },
  {
   "cell_type": "code",
   "execution_count": 113,
   "id": "edad8b6a",
   "metadata": {
    "ExecuteTime": {
     "end_time": "2025-05-04T15:44:56.851392Z",
     "start_time": "2025-05-04T15:44:56.836792Z"
    }
   },
   "outputs": [
    {
     "data": {
      "text/plain": [
       "'lean_BFS'"
      ]
     },
     "execution_count": 113,
     "metadata": {},
     "output_type": "execute_result"
    }
   ],
   "source": [
    "unyts.get_algorithm()"
   ]
  },
  {
   "cell_type": "markdown",
   "id": "042bb6b2",
   "metadata": {},
   "source": [
    "The different algorithms should find the same path, but in some cases DFS might result in longer paths than BFS.  \n",
    "The following examples illustrate the different algorithms:"
   ]
  },
  {
   "cell_type": "code",
   "execution_count": 114,
   "id": "62c7d0c1",
   "metadata": {
    "ExecuteTime": {
     "end_time": "2025-05-04T15:45:03.362319Z",
     "start_time": "2025-05-04T15:44:56.853362Z"
    }
   },
   "outputs": [],
   "source": [
    "import time\n",
    "import pandas as pd\n",
    "import seaborn as sns\n",
    "import matplotlib.pyplot as plt"
   ]
  },
  {
   "cell_type": "code",
   "execution_count": 115,
   "id": "26b5f08f",
   "metadata": {
    "ExecuteTime": {
     "end_time": "2025-05-04T15:45:03.377976Z",
     "start_time": "2025-05-04T15:45:03.364182Z"
    }
   },
   "outputs": [],
   "source": [
    "def compare_algorithms(algorithm=['BFS', 'DFS', 'lean_BFS'], \n",
    "                       value=0.1, from_unit='bar/m', to_unit='g/cc',\n",
    "                       print_path=True, verbose=False):\n",
    "    comparison = {}\n",
    "    unyts.print_path(print_path)\n",
    "    unyts.verbose(verbose)\n",
    "    if type(algorithm) is str:\n",
    "        algorithm = [algorithm]\n",
    "    time.sleep(1)\n",
    "    \n",
    "    for each in algorithm:\n",
    "        algo, parallel = each, None\n",
    "        if each.startswith('hybrid_BFS') and ':' in each:\n",
    "            algo, parallel = each.split(':')\n",
    "        if verbose or print_path:\n",
    "            print()\n",
    "            print(f\"** {algo} algorithm **\")\n",
    "        time.sleep(1)\n",
    "        unyts.set_algorithm(algo)\n",
    "        if parallel == 'threading':\n",
    "            unyts.set_parallel('t')\n",
    "        elif parallel == 'serial':\n",
    "            unyts.set_parallel(False)\n",
    "        # unyts.clean_memory()\n",
    "        start = time.process_time_ns()\n",
    "        try:\n",
    "            c = convert(value, from_unit, to_unit, print_path, use_cache=False)\n",
    "        except:\n",
    "            c = 'failed'\n",
    "        end = time.process_time_ns()\n",
    "        comparison[each] = (end - start) / 1e9\n",
    "        if verbose or print_path:\n",
    "            print(f\"{each}: conversion {c} took {comparison[each]} seconds\")\n",
    "    \n",
    "    return comparison"
   ]
  },
  {
   "cell_type": "code",
   "execution_count": 116,
   "id": "32109d1e",
   "metadata": {
    "ExecuteTime": {
     "end_time": "2025-05-04T15:45:13.511157Z",
     "start_time": "2025-05-04T15:45:03.379975Z"
    },
    "scrolled": false
   },
   "outputs": [
    {
     "name": "stdout",
     "output_type": "stream",
     "text": [
      "\u001b[92m[INFO]: print path ON\u001b[0m\n",
      "\n",
      "** BFS algorithm **\n",
      "\u001b[92m[INFO]: converting from 'bar/m' to 'g/cc':\n",
      " bar/m > kg/m3 > kg > g / 1 m3 > cm3 > cubic centimeter > cc\u001b[0m\n",
      "BFS: conversion 1.0197162129779282 took 0.859375 seconds\n",
      "\n",
      "** DFS algorithm **\n",
      "\u001b[92m[INFO]: converting from 'bar/m' to 'g/cc':\n",
      " bar/m > kg/m3 > kg > g / 1 m3 > cm3 > cubic centimeter > cc\u001b[0m\n",
      "DFS: conversion 1.0197162129779282 took 4.078125 seconds\n",
      "\n",
      "** lean_BFS algorithm **\n",
      "\u001b[92m[INFO]: converting from 'bar/m' to 'g/cc':\n",
      " bar/m > kg/m3 > kg > g / 1 m3 > cm3 > cubic centimeter > cc\u001b[0m\n",
      "lean_BFS: conversion 1.0197162129779282 took 1.046875 seconds\n"
     ]
    }
   ],
   "source": [
    "comparison = compare_algorithms()"
   ]
  },
  {
   "cell_type": "markdown",
   "id": "a3f312bd",
   "metadata": {
    "ExecuteTime": {
     "end_time": "2024-11-23T20:02:01.386414Z",
     "start_time": "2024-11-23T20:02:01.370420Z"
    }
   },
   "source": [
    "It is noticeable that the different algorithms has different speeds and advantages.  \n",
    "Let's compare the time for the previous examples:"
   ]
  },
  {
   "cell_type": "code",
   "execution_count": 117,
   "id": "a5bece12",
   "metadata": {
    "ExecuteTime": {
     "end_time": "2025-05-04T15:45:13.620529Z",
     "start_time": "2025-05-04T15:45:13.513158Z"
    }
   },
   "outputs": [
    {
     "name": "stdout",
     "output_type": "stream",
     "text": [
      "{'BFS': 0.859375, 'DFS': 4.078125, 'lean_BFS': 1.046875}\n"
     ]
    },
    {
     "data": {
      "image/png": "[encoded data removed]",
      "text/plain": [
       "<Figure size 800x200 with 1 Axes>"
      ]
     },
     "metadata": {},
     "output_type": "display_data"
    }
   ],
   "source": [
    "print(comparison)\n",
    "\n",
    "fig, ax = plt.subplots(figsize=(8, 2))\n",
    "ax = sns.barplot(pd.Series(comparison), orient='h', ax=ax)\n",
    "ax.set_xlabel('seconds')\n",
    "ax.set_ylabel('algorithm')\n",
    "ax.set_title('Algorithm comparison')\n",
    "plt.show()"
   ]
  },
  {
   "cell_type": "markdown",
   "id": "fd7feff3",
   "metadata": {},
   "source": [
    "## Speed of each algorithm\n",
    "In some cases **BFS** or **DFS** may be very slow (taking minutes to find a conversion path), those are the cases where **lean BFS** results to be much faster without loosing the precission of the BFS:"
   ]
  },
  {
   "cell_type": "code",
   "execution_count": 118,
   "id": "9434bd89",
   "metadata": {
    "ExecuteTime": {
     "end_time": "2025-05-04T15:45:13.636132Z",
     "start_time": "2025-05-04T15:45:13.622527Z"
    }
   },
   "outputs": [],
   "source": [
    "comparison = {}\n",
    "unyts.verbose(False)"
   ]
  },
  {
   "cell_type": "code",
   "execution_count": 119,
   "id": "2137a3be",
   "metadata": {
    "ExecuteTime": {
     "end_time": "2025-05-04T15:45:13.652140Z",
     "start_time": "2025-05-04T15:45:13.637612Z"
    }
   },
   "outputs": [],
   "source": [
    "def time_search(algorithm=['BFS', 'DFS', 'lean_BFS'],\n",
    "                value=0.1, from_unit='bar/m', to_unit='g/cc', rept=10):\n",
    "    iterations = []\n",
    "    for i in range(rept):\n",
    "        this = compare_algorithms(algorithm=['BFS', 'DFS', 'lean_BFS'], \n",
    "                                  value=value, from_unit=from_unit, to_unit=to_unit,\n",
    "                                  print_path=False, verbose=False)\n",
    "        iterations.append(pd.Series(this))\n",
    "    return iterations"
   ]
  },
  {
   "cell_type": "code",
   "execution_count": 120,
   "id": "227abf77",
   "metadata": {
    "ExecuteTime": {
     "end_time": "2025-05-04T15:48:35.630996Z",
     "start_time": "2025-05-04T15:45:13.654141Z"
    }
   },
   "outputs": [
    {
     "name": "stdout",
     "output_type": "stream",
     "text": [
      "\u001b[92m[INFO]: print path OFF\u001b[0m\n"
     ]
    }
   ],
   "source": [
    "t = time_search(value=0.1, from_unit='bar/m', to_unit='g/cc', rept=20)\n",
    "comparison = pd.concat(t, axis=1).T"
   ]
  },
  {
   "cell_type": "markdown",
   "id": "af69eda6",
   "metadata": {},
   "source": [
    "none of the algorithms performes really slow in this case, eventhoug, it is noticeable that **BFS** was much faster than the other two and that the overhead of the preselection of the **lean BFS** might be significative:"
   ]
  },
  {
   "cell_type": "code",
   "execution_count": 121,
   "id": "6cf0f920",
   "metadata": {
    "ExecuteTime": {
     "end_time": "2025-05-04T15:48:35.756279Z",
     "start_time": "2025-05-04T15:48:35.632864Z"
    }
   },
   "outputs": [
    {
     "data": {
      "text/html": [
       "<div>\n",
       "<style scoped>\n",
       "    .dataframe tbody tr th:only-of-type {\n",
       "        vertical-align: middle;\n",
       "    }\n",
       "\n",
       "    .dataframe tbody tr th {\n",
       "        vertical-align: top;\n",
       "    }\n",
       "\n",
       "    .dataframe thead th {\n",
       "        text-align: right;\n",
       "    }\n",
       "</style>\n",
       "<table border=\"1\" class=\"dataframe\">\n",
       "  <thead>\n",
       "    <tr style=\"text-align: right;\">\n",
       "      <th></th>\n",
       "      <th>BFS</th>\n",
       "      <th>DFS</th>\n",
       "      <th>lean_BFS</th>\n",
       "    </tr>\n",
       "  </thead>\n",
       "  <tbody>\n",
       "    <tr>\n",
       "      <th>0</th>\n",
       "      <td>0.828125</td>\n",
       "      <td>4.062500</td>\n",
       "      <td>1.062500</td>\n",
       "    </tr>\n",
       "    <tr>\n",
       "      <th>1</th>\n",
       "      <td>0.812500</td>\n",
       "      <td>4.062500</td>\n",
       "      <td>1.078125</td>\n",
       "    </tr>\n",
       "    <tr>\n",
       "      <th>2</th>\n",
       "      <td>0.843750</td>\n",
       "      <td>4.156250</td>\n",
       "      <td>1.078125</td>\n",
       "    </tr>\n",
       "    <tr>\n",
       "      <th>3</th>\n",
       "      <td>0.828125</td>\n",
       "      <td>4.093750</td>\n",
       "      <td>1.062500</td>\n",
       "    </tr>\n",
       "    <tr>\n",
       "      <th>4</th>\n",
       "      <td>0.843750</td>\n",
       "      <td>4.125000</td>\n",
       "      <td>1.046875</td>\n",
       "    </tr>\n",
       "    <tr>\n",
       "      <th>5</th>\n",
       "      <td>0.828125</td>\n",
       "      <td>4.109375</td>\n",
       "      <td>1.078125</td>\n",
       "    </tr>\n",
       "    <tr>\n",
       "      <th>6</th>\n",
       "      <td>0.859375</td>\n",
       "      <td>4.203125</td>\n",
       "      <td>1.078125</td>\n",
       "    </tr>\n",
       "    <tr>\n",
       "      <th>7</th>\n",
       "      <td>0.859375</td>\n",
       "      <td>4.171875</td>\n",
       "      <td>1.078125</td>\n",
       "    </tr>\n",
       "    <tr>\n",
       "      <th>8</th>\n",
       "      <td>0.875000</td>\n",
       "      <td>4.156250</td>\n",
       "      <td>1.078125</td>\n",
       "    </tr>\n",
       "    <tr>\n",
       "      <th>9</th>\n",
       "      <td>0.828125</td>\n",
       "      <td>4.125000</td>\n",
       "      <td>1.031250</td>\n",
       "    </tr>\n",
       "    <tr>\n",
       "      <th>10</th>\n",
       "      <td>0.828125</td>\n",
       "      <td>4.109375</td>\n",
       "      <td>1.093750</td>\n",
       "    </tr>\n",
       "    <tr>\n",
       "      <th>11</th>\n",
       "      <td>0.828125</td>\n",
       "      <td>4.062500</td>\n",
       "      <td>1.031250</td>\n",
       "    </tr>\n",
       "    <tr>\n",
       "      <th>12</th>\n",
       "      <td>0.828125</td>\n",
       "      <td>4.093750</td>\n",
       "      <td>1.109375</td>\n",
       "    </tr>\n",
       "    <tr>\n",
       "      <th>13</th>\n",
       "      <td>0.843750</td>\n",
       "      <td>4.171875</td>\n",
       "      <td>1.078125</td>\n",
       "    </tr>\n",
       "    <tr>\n",
       "      <th>14</th>\n",
       "      <td>0.843750</td>\n",
       "      <td>4.156250</td>\n",
       "      <td>1.093750</td>\n",
       "    </tr>\n",
       "    <tr>\n",
       "      <th>15</th>\n",
       "      <td>0.937500</td>\n",
       "      <td>4.156250</td>\n",
       "      <td>1.062500</td>\n",
       "    </tr>\n",
       "    <tr>\n",
       "      <th>16</th>\n",
       "      <td>0.859375</td>\n",
       "      <td>4.078125</td>\n",
       "      <td>1.078125</td>\n",
       "    </tr>\n",
       "    <tr>\n",
       "      <th>17</th>\n",
       "      <td>0.843750</td>\n",
       "      <td>4.109375</td>\n",
       "      <td>1.062500</td>\n",
       "    </tr>\n",
       "    <tr>\n",
       "      <th>18</th>\n",
       "      <td>0.843750</td>\n",
       "      <td>4.109375</td>\n",
       "      <td>1.046875</td>\n",
       "    </tr>\n",
       "    <tr>\n",
       "      <th>19</th>\n",
       "      <td>0.843750</td>\n",
       "      <td>4.109375</td>\n",
       "      <td>1.046875</td>\n",
       "    </tr>\n",
       "  </tbody>\n",
       "</table>\n",
       "</div>"
      ],
      "text/plain": [
       "         BFS       DFS  lean_BFS\n",
       "0   0.828125  4.062500  1.062500\n",
       "1   0.812500  4.062500  1.078125\n",
       "2   0.843750  4.156250  1.078125\n",
       "3   0.828125  4.093750  1.062500\n",
       "4   0.843750  4.125000  1.046875\n",
       "5   0.828125  4.109375  1.078125\n",
       "6   0.859375  4.203125  1.078125\n",
       "7   0.859375  4.171875  1.078125\n",
       "8   0.875000  4.156250  1.078125\n",
       "9   0.828125  4.125000  1.031250\n",
       "10  0.828125  4.109375  1.093750\n",
       "11  0.828125  4.062500  1.031250\n",
       "12  0.828125  4.093750  1.109375\n",
       "13  0.843750  4.171875  1.078125\n",
       "14  0.843750  4.156250  1.093750\n",
       "15  0.937500  4.156250  1.062500\n",
       "16  0.859375  4.078125  1.078125\n",
       "17  0.843750  4.109375  1.062500\n",
       "18  0.843750  4.109375  1.046875\n",
       "19  0.843750  4.109375  1.046875"
      ]
     },
     "metadata": {},
     "output_type": "display_data"
    },
    {
     "data": {
      "image/png": "[encoded data removed]",
      "text/plain": [
       "<Figure size 800x200 with 1 Axes>"
      ]
     },
     "metadata": {},
     "output_type": "display_data"
    }
   ],
   "source": [
    "display(comparison)\n",
    "\n",
    "fig, ax = plt.subplots(figsize=(8, 2))\n",
    "ax = sns.boxplot(comparison, orient='h', ax=ax)\n",
    "ax.set_xlabel('seconds')\n",
    "ax.set_ylabel('algorithm')\n",
    "ax.set_title('Algorithm comparison')\n",
    "plt.show()"
   ]
  },
  {
   "cell_type": "markdown",
   "id": "61cb2b0a",
   "metadata": {},
   "source": [
    "But, in other cases:"
   ]
  },
  {
   "cell_type": "code",
   "execution_count": 122,
   "id": "e7f5a7cc",
   "metadata": {
    "ExecuteTime": {
     "end_time": "2025-05-04T15:49:26.800218Z",
     "start_time": "2025-05-04T15:48:35.757247Z"
    }
   },
   "outputs": [],
   "source": [
    "comparison = time_search(value=1000, from_unit='kg/m3', to_unit='psi/ft', rept=1)[0]"
   ]
  },
  {
   "cell_type": "code",
   "execution_count": 123,
   "id": "0758ad56",
   "metadata": {
    "ExecuteTime": {
     "end_time": "2025-05-04T15:49:26.893647Z",
     "start_time": "2025-05-04T15:49:26.802255Z"
    }
   },
   "outputs": [
    {
     "name": "stdout",
     "output_type": "stream",
     "text": [
      "BFS         29.56250\n",
      "DFS         15.78125\n",
      "lean_BFS     1.12500\n",
      "dtype: float64\n"
     ]
    },
    {
     "data": {
      "image/png": "[encoded data removed]",
      "text/plain": [
       "<Figure size 800x200 with 1 Axes>"
      ]
     },
     "metadata": {},
     "output_type": "display_data"
    }
   ],
   "source": [
    "print(comparison)\n",
    "\n",
    "fig, ax = plt.subplots(figsize=(8, 2))\n",
    "ax = sns.barplot(pd.Series(comparison), orient='h', ax=ax)\n",
    "ax.set_xlabel('seconds')\n",
    "ax.set_ylabel('algorithm')\n",
    "ax.set_title('Algorithm comparison')\n",
    "plt.show()"
   ]
  },
  {
   "cell_type": "code",
   "execution_count": 124,
   "id": "9b721aef",
   "metadata": {
    "ExecuteTime": {
     "end_time": "2025-05-04T15:52:39.672091Z",
     "start_time": "2025-05-04T15:49:26.895518Z"
    }
   },
   "outputs": [],
   "source": [
    "t = time_search(value=1000, from_unit='kg/m3', to_unit='psi/ft', rept=5)\n",
    "comparison = pd.concat(t, axis=1).T"
   ]
  },
  {
   "cell_type": "markdown",
   "id": "8c77057f",
   "metadata": {},
   "source": [
    "the difference becomes sigificative, and the overhead of **lean BFS** has been well paid:"
   ]
  },
  {
   "cell_type": "code",
   "execution_count": 125,
   "id": "599d88a8",
   "metadata": {
    "ExecuteTime": {
     "end_time": "2025-05-04T15:52:39.797747Z",
     "start_time": "2025-05-04T15:52:39.674469Z"
    }
   },
   "outputs": [
    {
     "data": {
      "text/html": [
       "<div>\n",
       "<style scoped>\n",
       "    .dataframe tbody tr th:only-of-type {\n",
       "        vertical-align: middle;\n",
       "    }\n",
       "\n",
       "    .dataframe tbody tr th {\n",
       "        vertical-align: top;\n",
       "    }\n",
       "\n",
       "    .dataframe thead th {\n",
       "        text-align: right;\n",
       "    }\n",
       "</style>\n",
       "<table border=\"1\" class=\"dataframe\">\n",
       "  <thead>\n",
       "    <tr style=\"text-align: right;\">\n",
       "      <th></th>\n",
       "      <th>BFS</th>\n",
       "      <th>DFS</th>\n",
       "      <th>lean_BFS</th>\n",
       "    </tr>\n",
       "  </thead>\n",
       "  <tbody>\n",
       "    <tr>\n",
       "      <th>0</th>\n",
       "      <td>29.968750</td>\n",
       "      <td>3.046875</td>\n",
       "      <td>1.09375</td>\n",
       "    </tr>\n",
       "    <tr>\n",
       "      <th>1</th>\n",
       "      <td>29.984375</td>\n",
       "      <td>2.968750</td>\n",
       "      <td>1.09375</td>\n",
       "    </tr>\n",
       "    <tr>\n",
       "      <th>2</th>\n",
       "      <td>29.921875</td>\n",
       "      <td>3.015625</td>\n",
       "      <td>1.09375</td>\n",
       "    </tr>\n",
       "    <tr>\n",
       "      <th>3</th>\n",
       "      <td>29.859375</td>\n",
       "      <td>2.953125</td>\n",
       "      <td>1.09375</td>\n",
       "    </tr>\n",
       "    <tr>\n",
       "      <th>4</th>\n",
       "      <td>31.921875</td>\n",
       "      <td>2.937500</td>\n",
       "      <td>1.09375</td>\n",
       "    </tr>\n",
       "  </tbody>\n",
       "</table>\n",
       "</div>"
      ],
      "text/plain": [
       "         BFS       DFS  lean_BFS\n",
       "0  29.968750  3.046875   1.09375\n",
       "1  29.984375  2.968750   1.09375\n",
       "2  29.921875  3.015625   1.09375\n",
       "3  29.859375  2.953125   1.09375\n",
       "4  31.921875  2.937500   1.09375"
      ]
     },
     "metadata": {},
     "output_type": "display_data"
    },
    {
     "data": {
      "image/png": "[encoded data removed]",
      "text/plain": [
       "<Figure size 800x200 with 1 Axes>"
      ]
     },
     "metadata": {},
     "output_type": "display_data"
    }
   ],
   "source": [
    "display(comparison)\n",
    "\n",
    "fig, ax = plt.subplots(figsize=(8, 2))\n",
    "ax = sns.boxplot(comparison, orient='h', ax=ax)\n",
    "ax.set_xlabel('seconds')\n",
    "ax.set_ylabel('algorithm')\n",
    "ax.set_title('Algorithm comparison')\n",
    "plt.show()"
   ]
  },
  {
   "cell_type": "markdown",
   "id": "35ae8b73",
   "metadata": {},
   "source": [
    "**lean_BFS** becomes the default option, as it takes benefit of the strengh of *BFS* algorithm while limiting the search ."
   ]
  },
  {
   "cell_type": "markdown",
   "id": "eebd77f6",
   "metadata": {},
   "source": [
    "## timeout\n",
    "In this previous example, the **BFS** algorith search exceed the _default timeout of 30 seconds_ and the search returns no result.  \n",
    "Using the default algorithm, thise timeout should not be an issue.  \n",
    " \n",
    "### `set_timeout()`\n",
    "The timeout can be changed in two ways:\n",
    "- under in the _Options_ menu of the GUI,\n",
    "- or calling the funtion `set_timeout` and provide\n",
    "    - and `ìnt` of the desired timeout as seconds. \n",
    "    - `0`, `False` or a negative value to deactivate the search time limitation\n",
    "    - `True` or no argument to reset the default value\n",
    "  \n",
    "The following cells illustrates these command options:"
   ]
  },
  {
   "cell_type": "code",
   "execution_count": 126,
   "id": "83c7d530",
   "metadata": {
    "ExecuteTime": {
     "end_time": "2025-05-04T15:52:39.814326Z",
     "start_time": "2025-05-04T15:52:39.798747Z"
    }
   },
   "outputs": [
    {
     "name": "stdout",
     "output_type": "stream",
     "text": [
      "\u001b[92m[INFO]: path searches limited to 300 seconds.\u001b[0m\n"
     ]
    }
   ],
   "source": [
    "unyts.set_timeout(300)"
   ]
  },
  {
   "cell_type": "code",
   "execution_count": 127,
   "id": "164bc89f",
   "metadata": {
    "ExecuteTime": {
     "end_time": "2025-05-04T15:52:39.829940Z",
     "start_time": "2025-05-04T15:52:39.816331Z"
    }
   },
   "outputs": [
    {
     "name": "stdout",
     "output_type": "stream",
     "text": [
      "\u001b[93m[WARNING]: path searches may run for unlimited time.\u001b[0m\n"
     ]
    }
   ],
   "source": [
    "unyts.set_timeout(False)"
   ]
  },
  {
   "cell_type": "code",
   "execution_count": 128,
   "id": "7aba5d9c",
   "metadata": {
    "ExecuteTime": {
     "end_time": "2025-05-04T15:52:39.845486Z",
     "start_time": "2025-05-04T15:52:39.831942Z"
    }
   },
   "outputs": [
    {
     "name": "stdout",
     "output_type": "stream",
     "text": [
      "\u001b[92m[INFO]: path searches limited to 30 seconds.\u001b[0m\n"
     ]
    }
   ],
   "source": [
    "unyts.set_timeout(True)"
   ]
  },
  {
   "cell_type": "markdown",
   "id": "d6b78fbc",
   "metadata": {},
   "source": [
    "## Particularities of the algorithms BFS and DFS  \n",
    "**DFS** might return wrong results, in cases where one of the converted units has an ambiguos name, like _absolute_ and _gauge_ pressures when not especified (`'psi'` and `'bar'`) that might be interpreted as absolute or gauge depending on the context...  \n",
    "\n",
    "Here below a few examples:"
   ]
  },
  {
   "cell_type": "code",
   "execution_count": 129,
   "id": "6729a4a0",
   "metadata": {
    "ExecuteTime": {
     "end_time": "2025-05-04T15:52:41.222319Z",
     "start_time": "2025-05-04T15:52:39.847487Z"
    }
   },
   "outputs": [
    {
     "name": "stdout",
     "output_type": "stream",
     "text": [
      "\u001b[92m[INFO]: converting from 'Pa' to 'psi':\n",
      " Pa > Pascal > absolute bar > bar gauge > bar > psi\u001b[0m\n"
     ]
    },
    {
     "data": {
      "text/plain": [
       "-14.694498398337844"
      ]
     },
     "execution_count": 129,
     "metadata": {},
     "output_type": "execute_result"
    }
   ],
   "source": [
    "unyts.set_algorithm('DFS')\n",
    "unyts.clean_memory()\n",
    "convert(10, 'Pa', 'psi', True)"
   ]
  },
  {
   "cell_type": "code",
   "execution_count": 130,
   "id": "7a4d6c61",
   "metadata": {
    "ExecuteTime": {
     "end_time": "2025-05-04T15:52:42.043195Z",
     "start_time": "2025-05-04T15:52:41.224290Z"
    }
   },
   "outputs": [
    {
     "name": "stdout",
     "output_type": "stream",
     "text": [
      "\u001b[92m[INFO]: converting from 'bara' to 'psi':\n",
      " bara > absolute bar > bar gauge > bar > psi\u001b[0m\n"
     ]
    },
    {
     "data": {
      "text/plain": [
       "-0.19217500249516478"
      ]
     },
     "execution_count": 130,
     "metadata": {},
     "output_type": "execute_result"
    }
   ],
   "source": [
    "unyts.set_algorithm('DFS')\n",
    "unyts.clean_memory()\n",
    "convert(1, 'bara', 'psi', True)"
   ]
  },
  {
   "cell_type": "markdown",
   "id": "efa88ebc",
   "metadata": {},
   "source": [
    "while **BFS** will not have this issue as it will always find the shortest path:"
   ]
  },
  {
   "cell_type": "code",
   "execution_count": 131,
   "id": "c4fd0afd",
   "metadata": {
    "ExecuteTime": {
     "end_time": "2025-05-04T15:52:42.058391Z",
     "start_time": "2025-05-04T15:52:42.045281Z"
    }
   },
   "outputs": [
    {
     "name": "stdout",
     "output_type": "stream",
     "text": [
      "\u001b[92m[INFO]: converting from 'Pa' to 'psi':\n",
      " Pa > Pascal > absolute bar > absolute psi > psi\u001b[0m\n"
     ]
    },
    {
     "data": {
      "text/plain": [
       "0.0014503773773220001"
      ]
     },
     "execution_count": 131,
     "metadata": {},
     "output_type": "execute_result"
    }
   ],
   "source": [
    "unyts.set_algorithm('BFS')\n",
    "unyts.clean_memory()\n",
    "convert(10, 'Pa', 'psi', True)"
   ]
  },
  {
   "cell_type": "code",
   "execution_count": 132,
   "id": "428108b6",
   "metadata": {
    "ExecuteTime": {
     "end_time": "2025-05-04T15:52:42.074494Z",
     "start_time": "2025-05-04T15:52:42.059368Z"
    }
   },
   "outputs": [
    {
     "name": "stdout",
     "output_type": "stream",
     "text": [
      "\u001b[92m[INFO]: converting from 'bara' to 'psi':\n",
      " bara > absolute bar > absolute psi > psi\u001b[0m\n"
     ]
    },
    {
     "data": {
      "text/plain": [
       "14.50377377322"
      ]
     },
     "execution_count": 132,
     "metadata": {},
     "output_type": "execute_result"
    }
   ],
   "source": [
    "unyts.set_algorithm('BFS')\n",
    "unyts.clean_memory()\n",
    "convert(1, 'bara', 'psi', True)"
   ]
  },
  {
   "cell_type": "markdown",
   "id": "2c07155c",
   "metadata": {
    "ExecuteTime": {
     "end_time": "2024-06-12T21:45:14.414250Z",
     "start_time": "2024-06-12T21:45:14.404826Z"
    }
   },
   "source": [
    "To avoid this behaviour, the specific unit name can be used:"
   ]
  },
  {
   "cell_type": "code",
   "execution_count": 133,
   "id": "0b9185ab",
   "metadata": {
    "ExecuteTime": {
     "end_time": "2025-05-04T15:52:43.678574Z",
     "start_time": "2025-05-04T15:52:42.076499Z"
    }
   },
   "outputs": [
    {
     "name": "stdout",
     "output_type": "stream",
     "text": [
      "\u001b[92m[INFO]: converting from 'bara' to 'psia':\n",
      " bara > absolute bar > bar gauge > bar > psi > psi gauge > absolute psi > psia\u001b[0m\n"
     ]
    },
    {
     "data": {
      "text/plain": [
       "14.503724997504834"
      ]
     },
     "execution_count": 133,
     "metadata": {},
     "output_type": "execute_result"
    }
   ],
   "source": [
    "unyts.set_algorithm('DFS')\n",
    "unyts.clean_memory()\n",
    "convert(1, 'bara', 'psia', True)"
   ]
  },
  {
   "cell_type": "code",
   "execution_count": 134,
   "id": "61720910",
   "metadata": {
    "ExecuteTime": {
     "end_time": "2025-05-04T15:52:45.028010Z",
     "start_time": "2025-05-04T15:52:43.680589Z"
    }
   },
   "outputs": [
    {
     "name": "stdout",
     "output_type": "stream",
     "text": [
      "\u001b[92m[INFO]: converting from 'bara' to 'psig':\n",
      " bara > absolute bar > bar gauge > bar > psi > psi gauge > psig\u001b[0m\n"
     ]
    },
    {
     "data": {
      "text/plain": [
       "-0.19217500249516478"
      ]
     },
     "execution_count": 134,
     "metadata": {},
     "output_type": "execute_result"
    }
   ],
   "source": [
    "unyts.set_algorithm('DFS')\n",
    "unyts.clean_memory()\n",
    "convert(1, 'bara', 'psig', True)"
   ]
  },
  {
   "cell_type": "markdown",
   "id": "1e1cc198",
   "metadata": {},
   "source": [
    "In these ambiguous cases, **BFS** will return the shortest path which will be relative to the units being converted:"
   ]
  },
  {
   "cell_type": "code",
   "execution_count": 135,
   "id": "4ded2535",
   "metadata": {
    "ExecuteTime": {
     "end_time": "2025-05-04T15:52:45.043519Z",
     "start_time": "2025-05-04T15:52:45.030014Z"
    }
   },
   "outputs": [
    {
     "name": "stdout",
     "output_type": "stream",
     "text": [
      "\u001b[92m[INFO]: converting from 'bar' to 'psia':\n",
      " bar > psi > absolute psi > psia\u001b[0m\n"
     ]
    },
    {
     "data": {
      "text/plain": [
       "14.50377377322"
      ]
     },
     "execution_count": 135,
     "metadata": {},
     "output_type": "execute_result"
    }
   ],
   "source": [
    "unyts.set_algorithm('BFS')\n",
    "unyts.clean_memory()\n",
    "convert(1, 'bar', 'psia', True)"
   ]
  },
  {
   "cell_type": "code",
   "execution_count": 136,
   "id": "e7c4438f",
   "metadata": {
    "ExecuteTime": {
     "end_time": "2025-05-04T15:52:45.058985Z",
     "start_time": "2025-05-04T15:52:45.045631Z"
    }
   },
   "outputs": [
    {
     "name": "stdout",
     "output_type": "stream",
     "text": [
      "\u001b[92m[INFO]: converting from 'bar' to 'psig':\n",
      " bar > bar gauge > psi gauge > psig\u001b[0m\n"
     ]
    },
    {
     "data": {
      "text/plain": [
       "14.50377377322"
      ]
     },
     "execution_count": 136,
     "metadata": {},
     "output_type": "execute_result"
    }
   ],
   "source": [
    "unyts.set_algorithm('BFS')\n",
    "unyts.clean_memory()\n",
    "convert(1, 'bar', 'psig', True)"
   ]
  },
  {
   "cell_type": "markdown",
   "id": "f51f3227",
   "metadata": {},
   "source": [
    "# know issues"
   ]
  },
  {
   "cell_type": "markdown",
   "id": "50420012",
   "metadata": {},
   "source": [
    "## convertion of `bar/m` to `g/cc` _corrected!_\n",
    "**The converter has been improved** and will not raise <font color='darkred'>**NoConversionFoundError**</font>"
   ]
  },
  {
   "cell_type": "code",
   "execution_count": 137,
   "id": "3128c076",
   "metadata": {
    "ExecuteTime": {
     "end_time": "2025-05-04T15:52:45.074871Z",
     "start_time": "2025-05-04T15:52:45.060984Z"
    }
   },
   "outputs": [],
   "source": [
    "unyts.set_algorithm('lean_BFS')"
   ]
  },
  {
   "cell_type": "code",
   "execution_count": 138,
   "id": "bc350563",
   "metadata": {
    "ExecuteTime": {
     "end_time": "2025-05-04T15:52:46.191096Z",
     "start_time": "2025-05-04T15:52:45.075884Z"
    }
   },
   "outputs": [
    {
     "name": "stdout",
     "output_type": "stream",
     "text": [
      "\u001b[92m[INFO]: converting from 'bar/m' to 'g/cc':\n",
      " bar/m > kg/m3 > kg > g / 1 m3 > cm3 > cubic centimeter > cc\u001b[0m\n"
     ]
    },
    {
     "data": {
      "text/plain": [
       "1.0197162129779282"
      ]
     },
     "execution_count": 138,
     "metadata": {},
     "output_type": "execute_result"
    }
   ],
   "source": [
    "convert(0.1, 'bar/m', 'g/cc', True)"
   ]
  },
  {
   "cell_type": "code",
   "execution_count": 139,
   "id": "5f236f3d",
   "metadata": {
    "ExecuteTime": {
     "end_time": "2025-05-04T15:52:47.349877Z",
     "start_time": "2025-05-04T15:52:46.193061Z"
    }
   },
   "outputs": [
    {
     "name": "stdout",
     "output_type": "stream",
     "text": [
      "\u001b[92m[INFO]: converting from 'kg/m3' to 'psi/ft':\n",
      " kg > g / 1 m3 > cm3 > g/cm3 > lb/ft3 > psi/ft\u001b[0m\n"
     ]
    },
    {
     "data": {
      "text/plain": [
       "0.43352750400100415"
      ]
     },
     "execution_count": 139,
     "metadata": {},
     "output_type": "execute_result"
    }
   ],
   "source": [
    "convert(1000, 'kg/m3', 'psi/ft', True)"
   ]
  },
  {
   "cell_type": "code",
   "execution_count": 140,
   "id": "df6e755b",
   "metadata": {
    "ExecuteTime": {
     "end_time": "2025-05-04T15:52:48.450730Z",
     "start_time": "2025-05-04T15:52:47.351860Z"
    }
   },
   "outputs": [
    {
     "name": "stdout",
     "output_type": "stream",
     "text": [
      "\u001b[92m[INFO]: converting from 'g/cm3' to 'Pa/cm':\n",
      " g/cm3 > lb/ft3 > psi/ft > psi > bar > absolute bar > Pascal > Pa / 1 ft > foot > yard > meter > m > cm\u001b[0m\n"
     ]
    },
    {
     "data": {
      "text/plain": [
       "1539.2419773288723"
      ]
     },
     "execution_count": 140,
     "metadata": {},
     "output_type": "execute_result"
    }
   ],
   "source": [
    "convert(1, 'g/cm3', 'Pa/cm', True)"
   ]
  },
  {
   "cell_type": "markdown",
   "id": "e3a1b155",
   "metadata": {},
   "source": [
    "## SI prefixes for _m³_\n",
    "The prefixes from the International System for the volume unit _m³_ (cubic meter) follows a cubic relationshit:\n",
    "- **Q** _quetta_:  1E+90 \n",
    "- **R** _ronna_ :  1E+81\n",
    "- **Y** _yotta_ :  1E+72\n",
    "- **Z** _zetta_ :  1E+63\n",
    "- **E** _exa_   :  1E+54\n",
    "- **P** _peta_  :  1E+45\n",
    "- **T** _tera_  :  1E+36\n",
    "- **G** _giga_  :  1E+27\n",
    "- **M** _mega_  :  1E+18\n",
    "- **k** _kilo_  :  1E+09\n",
    "- **h** _hecto_ :  1E+06\n",
    "- **d** _deci_  :  1E-03\n",
    "- **c** _centi_ :  1E-06\n",
    "- **m** _mili_  :  1E-09\n",
    "- **µ** _micro_ :  1E-18\n",
    "- **n** _nano_  :  1E-27\n",
    "- **p** _pico_  :  1E-36\n",
    "- **f** _femto_ :  1E-45\n",
    "- **a** _atto_  :  1E-54\n",
    "- **z** _zepto_ :  1E-63\n",
    "- **y** _yocto_ :  1E-72\n",
    "- **r** _ronto_ :  1E-81\n",
    "- **q** _quecto_:  1E-90\n",
    "\n",
    "but in some industrial uses it is commonly understood that **M** or **k** accompaining **m³** (*Mm³*, *km³*) stands for _millon_ (1E+06) of cubic meters and _thousands_ (1E+03) of cubic meters respectively, not _cubic megameter_ or _cubic kilometer_.  \n",
    "\n",
    "This might produce unwanted results when converting if the user understand the prefix as a quantity prefix, not a unit prefix. In other words, if *1_Mm³* should be read as *1000000_m³* converting *1_Mm³* to *m³* will not return the expected value:"
   ]
  },
  {
   "cell_type": "code",
   "execution_count": 141,
   "id": "4c62742c",
   "metadata": {
    "ExecuteTime": {
     "end_time": "2025-05-04T15:52:48.466821Z",
     "start_time": "2025-05-04T15:52:48.451730Z"
    }
   },
   "outputs": [
    {
     "data": {
      "text/plain": [
       "1e+18"
      ]
     },
     "execution_count": 141,
     "metadata": {},
     "output_type": "execute_result"
    }
   ],
   "source": [
    "convert(1, 'Mm³', 'm³')"
   ]
  },
  {
   "cell_type": "markdown",
   "id": "45cab7fc",
   "metadata": {},
   "source": [
    "then it is convenient to use the alias unit **'sm3'** that has the SI prefixes defined as linear multipliers:"
   ]
  },
  {
   "cell_type": "code",
   "execution_count": 142,
   "id": "a0145836",
   "metadata": {
    "ExecuteTime": {
     "end_time": "2025-05-04T15:52:48.482318Z",
     "start_time": "2025-05-04T15:52:48.467813Z"
    }
   },
   "outputs": [
    {
     "data": {
      "text/plain": [
       "1000000.0"
      ]
     },
     "execution_count": 142,
     "metadata": {},
     "output_type": "execute_result"
    }
   ],
   "source": [
    "convert(1, 'Msm³', 'sm³')"
   ]
  },
  {
   "cell_type": "code",
   "execution_count": 143,
   "id": "ebc1225c",
   "metadata": {
    "ExecuteTime": {
     "end_time": "2025-05-04T15:52:48.498330Z",
     "start_time": "2025-05-04T15:52:48.484292Z"
    }
   },
   "outputs": [
    {
     "data": {
      "text/plain": [
       "1000.0"
      ]
     },
     "execution_count": 143,
     "metadata": {},
     "output_type": "execute_result"
    }
   ],
   "source": [
    "convert(1, 'ksm³', 'm³')"
   ]
  }
 ],
 "metadata": {
  "hide_input": false,
  "kernelspec": {
   "display_name": "Python 3 (ipykernel)",
   "language": "python",
   "name": "python3"
  },
  "language_info": {
   "codemirror_mode": {
    "name": "ipython",
    "version": 3
   },
   "file_extension": ".py",
   "mimetype": "text/x-python",
   "name": "python",
   "nbconvert_exporter": "python",
   "pygments_lexer": "ipython3",
   "version": "3.10.8"
  },
  "latex_envs": {
   "LaTeX_envs_menu_present": true,
   "autoclose": false,
   "autocomplete": true,
   "bibliofile": "biblio.bib",
   "cite_by": "apalike",
   "current_citInitial": 1,
   "eqLabelWithNumbers": true,
   "eqNumInitial": 1,
   "hotkeys": {
    "equation": "Ctrl-E",
    "itemize": "Ctrl-I"
   },
   "labels_anchors": false,
   "latex_user_defs": false,
   "report_style_numbering": false,
   "user_envs_cfg": false
  },
  "toc": {
   "base_numbering": 1,
   "nav_menu": {},
   "number_sections": true,
   "sideBar": true,
   "skip_h1_title": false,
   "title_cell": "Table of Contents",
   "title_sidebar": "Contents",
   "toc_cell": false,
   "toc_position": {
    "height": "calc(100% - 180px)",
    "left": "10px",
    "top": "150px",
    "width": "379.8px"
   },
   "toc_section_display": true,
   "toc_window_display": true
  },
  "varInspector": {
   "cols": {
    "lenName": 16,
    "lenType": 16,
    "lenVar": 40
   },
   "kernels_config": {
    "python": {
     "delete_cmd_postfix": "",
     "delete_cmd_prefix": "del ",
     "library": "var_list.py",
     "varRefreshCmd": "print(var_dic_list())"
    },
    "r": {
     "delete_cmd_postfix": ") ",
     "delete_cmd_prefix": "rm(",
     "library": "var_list.r",
     "varRefreshCmd": "cat(var_dic_list()) "
    }
   },
   "types_to_exclude": [
    "module",
    "function",
    "builtin_function_or_method",
    "instance",
    "_Feature"
   ],
   "window_display": false
  }
 },
 "nbformat": 4,
 "nbformat_minor": 5
}
