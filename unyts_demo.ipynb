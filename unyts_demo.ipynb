{
 "cells": [
  {
   "cell_type": "markdown",
   "id": "be25ff5a",
   "metadata": {},
   "source": [
    "# `unyts`\n",
    "A package that consider quantities (values with units) instead of purely numerical values:\n",
    "- **units**: instances capable of making arithmetic and logical operations of values with different units\n",
    "- **convert**: a units converter able to convert practically between any pair units"
   ]
  },
  {
   "cell_type": "markdown",
   "id": "fd9c4250",
   "metadata": {},
   "source": [
    "# installing `unyts`\n",
    "\n",
    "This package is published in <a href=\"https://pypi.org/search/?q=unyts\">pypi.org</a> and can be installed using **pip**:  \n",
    "  \n",
    "`pip install unyts`\n",
    "  \n",
    "or upgrade to the latest version:\n",
    "\n",
    "`pip install --upgrade unyts`"
   ]
  },
  {
   "cell_type": "raw",
   "id": "20b1e6ac",
   "metadata": {},
   "source": [
    "pip install --upgrade unyts"
   ]
  },
  {
   "cell_type": "markdown",
   "id": "534f7d98",
   "metadata": {},
   "source": [
    "# `import unyts`\n",
    "Import the package to be able to change settings."
   ]
  },
  {
   "cell_type": "code",
   "execution_count": 1,
   "id": "9e266c7f",
   "metadata": {
    "ExecuteTime": {
     "end_time": "2023-01-27T23:35:58.543308Z",
     "start_time": "2023-01-27T23:35:55.537366Z"
    }
   },
   "outputs": [
    {
     "name": "stdout",
     "output_type": "stream",
     "text": [
      "units dictionary loaded from cache...\n",
      "units network loaded from cache...\n",
      "loaded unyts version 0.5.15\n"
     ]
    }
   ],
   "source": [
    "import unyts"
   ]
  },
  {
   "cell_type": "markdown",
   "id": "924b48cd",
   "metadata": {},
   "source": [
    "## importing the utilities `convert` and `units`\n",
    "Importing just the utilities will be enought to be able to work with values with units."
   ]
  },
  {
   "cell_type": "code",
   "execution_count": 2,
   "id": "4d202c80",
   "metadata": {
    "ExecuteTime": {
     "end_time": "2023-01-27T23:35:58.559241Z",
     "start_time": "2023-01-27T23:35:58.544282Z"
    }
   },
   "outputs": [],
   "source": [
    "from unyts import convert, units"
   ]
  },
  {
   "cell_type": "markdown",
   "id": "5d02f940",
   "metadata": {},
   "source": [
    "## importing the `Unit` class\n",
    "It is not required to instantiate values with units (to do that the `units` function is the best method as it will return appropriate subclass), but in case you need it, you can import the **`Unit` class**:"
   ]
  },
  {
   "cell_type": "code",
   "execution_count": 3,
   "id": "cba8cbb8",
   "metadata": {
    "ExecuteTime": {
     "end_time": "2023-01-27T23:35:58.574223Z",
     "start_time": "2023-01-27T23:35:58.560239Z"
    }
   },
   "outputs": [],
   "source": [
    "from unyts import Unit"
   ]
  },
  {
   "cell_type": "markdown",
   "id": "dd49bdb8",
   "metadata": {},
   "source": [
    "# The `units` function\n",
    "To make instances of **`Unit`** use the function **`units`** providing it with the _value_ and a _string representing the units_ as arguments of the function call:"
   ]
  },
  {
   "cell_type": "code",
   "execution_count": 4,
   "id": "ac0885e5",
   "metadata": {
    "ExecuteTime": {
     "end_time": "2023-01-27T23:35:58.589962Z",
     "start_time": "2023-01-27T23:35:58.576201Z"
    }
   },
   "outputs": [],
   "source": [
    "length_1 = units(3, 'm')\n",
    "length_2 = units(250, 'cm')\n",
    "length_3 = units(0.003, 'km')\n",
    "length_4 = units(6.5, 'ft')"
   ]
  },
  {
   "cell_type": "markdown",
   "id": "5e996285",
   "metadata": {},
   "source": [
    "The **units** function returns the apropriate **unit _subclass_**: "
   ]
  },
  {
   "cell_type": "code",
   "execution_count": 5,
   "id": "531a2ee1",
   "metadata": {
    "ExecuteTime": {
     "end_time": "2023-01-27T23:35:58.604952Z",
     "start_time": "2023-01-27T23:35:58.590995Z"
    }
   },
   "outputs": [
    {
     "name": "stdout",
     "output_type": "stream",
     "text": [
      "Length\n"
     ]
    },
    {
     "data": {
      "text/plain": [
       "Volume"
      ]
     },
     "execution_count": 5,
     "metadata": {},
     "output_type": "execute_result"
    }
   ],
   "source": [
    "print(type(length_1))\n",
    "type(units(333, 'ml'))"
   ]
  },
  {
   "cell_type": "markdown",
   "id": "a034d3f5",
   "metadata": {},
   "source": [
    "Any subclass of __unyts__ will be an instance of it, thus, the appropriate way to check if a variable points to an instance of __untys__ is using `isinstance()` function instead of using `type` as type will return the subclass.  \n",
    "\n",
    "# Check instance of `Unit`\n",
    "\n",
    "Checking any Unit subcalls using `isinstance()` will always work:"
   ]
  },
  {
   "cell_type": "code",
   "execution_count": 6,
   "id": "a79a9dbf",
   "metadata": {
    "ExecuteTime": {
     "end_time": "2023-01-27T23:35:58.619902Z",
     "start_time": "2023-01-27T23:35:58.605948Z"
    }
   },
   "outputs": [
    {
     "data": {
      "text/plain": [
       "True"
      ]
     },
     "execution_count": 6,
     "metadata": {},
     "output_type": "execute_result"
    }
   ],
   "source": [
    "isinstance(length_1, Unit)"
   ]
  },
  {
   "cell_type": "markdown",
   "id": "776ff8f7",
   "metadata": {},
   "source": [
    "But comparing the type of the subcalls to Unit class will fail"
   ]
  },
  {
   "cell_type": "code",
   "execution_count": 7,
   "id": "bf1552aa",
   "metadata": {
    "ExecuteTime": {
     "end_time": "2023-01-27T23:35:58.635891Z",
     "start_time": "2023-01-27T23:35:58.620879Z"
    }
   },
   "outputs": [
    {
     "data": {
      "text/plain": [
       "False"
      ]
     },
     "execution_count": 7,
     "metadata": {},
     "output_type": "execute_result"
    }
   ],
   "source": [
    "type(length_1) is Unit"
   ]
  },
  {
   "cell_type": "markdown",
   "id": "ee2a5e67",
   "metadata": {},
   "source": [
    "In case you need to check the subclass, you can import it following the path indicated by `type`:"
   ]
  },
  {
   "cell_type": "code",
   "execution_count": 8,
   "id": "c0873dfa",
   "metadata": {
    "ExecuteTime": {
     "end_time": "2023-01-27T23:35:58.651364Z",
     "start_time": "2023-01-27T23:35:58.636890Z"
    }
   },
   "outputs": [
    {
     "data": {
      "text/plain": [
       "Length"
      ]
     },
     "execution_count": 8,
     "metadata": {},
     "output_type": "execute_result"
    }
   ],
   "source": [
    "type(length_1)"
   ]
  },
  {
   "cell_type": "code",
   "execution_count": 9,
   "id": "a652879f",
   "metadata": {
    "ExecuteTime": {
     "end_time": "2023-01-27T23:35:58.667345Z",
     "start_time": "2023-01-27T23:35:58.652362Z"
    }
   },
   "outputs": [],
   "source": [
    "from unyts.units.geometry import Length"
   ]
  },
  {
   "cell_type": "code",
   "execution_count": 10,
   "id": "6eae1ba5",
   "metadata": {
    "ExecuteTime": {
     "end_time": "2023-01-27T23:35:58.683307Z",
     "start_time": "2023-01-27T23:35:58.670342Z"
    }
   },
   "outputs": [
    {
     "data": {
      "text/plain": [
       "True"
      ]
     },
     "execution_count": 10,
     "metadata": {},
     "output_type": "execute_result"
    }
   ],
   "source": [
    "type(length_1) is Length"
   ]
  },
  {
   "cell_type": "markdown",
   "id": "84967104",
   "metadata": {},
   "source": [
    "# Quantities representation \n",
    "The representation of the units instances consists in the value followed by the units string"
   ]
  },
  {
   "cell_type": "code",
   "execution_count": 11,
   "id": "e391f927",
   "metadata": {
    "ExecuteTime": {
     "end_time": "2023-01-27T23:35:58.698241Z",
     "start_time": "2023-01-27T23:35:58.685273Z"
    }
   },
   "outputs": [
    {
     "name": "stdout",
     "output_type": "stream",
     "text": [
      "3_m\n",
      "250_cm\n",
      "0.003_km\n"
     ]
    },
    {
     "data": {
      "text/plain": [
       "6.5_ft"
      ]
     },
     "execution_count": 11,
     "metadata": {},
     "output_type": "execute_result"
    }
   ],
   "source": [
    "print(length_1)\n",
    "print(length_2)\n",
    "print(length_3)\n",
    "length_4"
   ]
  },
  {
   "cell_type": "markdown",
   "id": "c07d322f",
   "metadata": {},
   "source": [
    "# The conversion path\n",
    "\n",
    "By default, the path followed to convert from one unit to other will be printed out.\n",
    "This behaviour can be changed using the function `print_path`.  \n",
    "\n",
    "## printhing the path"
   ]
  },
  {
   "cell_type": "code",
   "execution_count": 12,
   "id": "09fbe47f",
   "metadata": {
    "ExecuteTime": {
     "end_time": "2023-01-27T23:35:58.713224Z",
     "start_time": "2023-01-27T23:35:58.699260Z"
    }
   },
   "outputs": [
    {
     "name": "stdout",
     "output_type": "stream",
     "text": [
      "converting from 'cm' to 'm\n",
      "cm > m\n"
     ]
    },
    {
     "data": {
      "text/plain": [
       "5.5_m"
      ]
     },
     "execution_count": 12,
     "metadata": {},
     "output_type": "execute_result"
    }
   ],
   "source": [
    "length_1 + length_2"
   ]
  },
  {
   "cell_type": "markdown",
   "id": "ad977f2e",
   "metadata": {},
   "source": [
    "## not printing the path\n",
    "\n",
    "Set the `print_path` to `False`:"
   ]
  },
  {
   "cell_type": "code",
   "execution_count": 13,
   "id": "b6b7acc8",
   "metadata": {
    "ExecuteTime": {
     "end_time": "2023-01-27T23:35:58.729215Z",
     "start_time": "2023-01-27T23:35:58.714224Z"
    }
   },
   "outputs": [
    {
     "name": "stdout",
     "output_type": "stream",
     "text": [
      "print_path OFF\n"
     ]
    }
   ],
   "source": [
    "unyts.print_path(False)"
   ]
  },
  {
   "cell_type": "markdown",
   "id": "3ce3c1ce",
   "metadata": {},
   "source": [
    "From now, the conversion path will not be printed:"
   ]
  },
  {
   "cell_type": "code",
   "execution_count": 14,
   "id": "8560fce1",
   "metadata": {
    "ExecuteTime": {
     "end_time": "2023-01-27T23:35:58.744740Z",
     "start_time": "2023-01-27T23:35:58.730184Z"
    }
   },
   "outputs": [
    {
     "data": {
      "text/plain": [
       "5.5_m"
      ]
     },
     "execution_count": 14,
     "metadata": {},
     "output_type": "execute_result"
    }
   ],
   "source": [
    "length_1 + length_2"
   ]
  },
  {
   "cell_type": "markdown",
   "id": "4951cfda",
   "metadata": {},
   "source": [
    "This behaviour is saved into the init file, then it il be rememberd the next time `unyts` is used.  \n",
    "\n",
    "To print the conversion path again, simply set the parameter to True:"
   ]
  },
  {
   "cell_type": "code",
   "execution_count": 15,
   "id": "06c1b0cc",
   "metadata": {
    "ExecuteTime": {
     "end_time": "2023-01-27T23:35:58.760691Z",
     "start_time": "2023-01-27T23:35:58.745732Z"
    }
   },
   "outputs": [
    {
     "name": "stdout",
     "output_type": "stream",
     "text": [
      "print_path ON\n"
     ]
    }
   ],
   "source": [
    "unyts.print_path(True)"
   ]
  },
  {
   "cell_type": "code",
   "execution_count": 16,
   "id": "d9650574",
   "metadata": {
    "ExecuteTime": {
     "end_time": "2023-01-27T23:35:58.775650Z",
     "start_time": "2023-01-27T23:35:58.761660Z"
    }
   },
   "outputs": [
    {
     "name": "stdout",
     "output_type": "stream",
     "text": [
      "converting from 'cm' to 'm\n",
      "cm > m\n"
     ]
    },
    {
     "data": {
      "text/plain": [
       "5.5_m"
      ]
     },
     "execution_count": 16,
     "metadata": {},
     "output_type": "execute_result"
    }
   ],
   "source": [
    "length_1 + length_2"
   ]
  },
  {
   "cell_type": "markdown",
   "id": "c93933a1",
   "metadata": {},
   "source": [
    "Calling print_path without argument will change it from the current behaviour:"
   ]
  },
  {
   "cell_type": "code",
   "execution_count": 17,
   "id": "1c9d016e",
   "metadata": {
    "ExecuteTime": {
     "end_time": "2023-01-27T23:35:58.791581Z",
     "start_time": "2023-01-27T23:35:58.777618Z"
    }
   },
   "outputs": [
    {
     "name": "stdout",
     "output_type": "stream",
     "text": [
      "print_path OFF\n"
     ]
    }
   ],
   "source": [
    "unyts.print_path()"
   ]
  },
  {
   "cell_type": "code",
   "execution_count": 18,
   "id": "0eae16f0",
   "metadata": {
    "ExecuteTime": {
     "end_time": "2023-01-27T23:35:58.807565Z",
     "start_time": "2023-01-27T23:35:58.792577Z"
    }
   },
   "outputs": [
    {
     "name": "stdout",
     "output_type": "stream",
     "text": [
      "print_path ON\n"
     ]
    }
   ],
   "source": [
    "unyts.print_path()"
   ]
  },
  {
   "cell_type": "markdown",
   "id": "ed462a96",
   "metadata": {},
   "source": [
    "# Attributes of the `Unit` instances\n",
    "\n",
    "Two attributes can be handy for the user in certain applications:\n",
    "- `.value` contains the numeric value\n",
    "- `.unit` contains a string representing the units\n",
    "- `.name` contains a string representing the type of the units"
   ]
  },
  {
   "cell_type": "code",
   "execution_count": 19,
   "id": "4d05f021",
   "metadata": {
    "ExecuteTime": {
     "end_time": "2023-01-27T23:35:58.822526Z",
     "start_time": "2023-01-27T23:35:58.808536Z"
    }
   },
   "outputs": [
    {
     "data": {
      "text/plain": [
       "3"
      ]
     },
     "execution_count": 19,
     "metadata": {},
     "output_type": "execute_result"
    }
   ],
   "source": [
    "length_1.value"
   ]
  },
  {
   "cell_type": "code",
   "execution_count": 20,
   "id": "ce87ba8d",
   "metadata": {
    "ExecuteTime": {
     "end_time": "2023-01-27T23:35:58.837515Z",
     "start_time": "2023-01-27T23:35:58.823495Z"
    }
   },
   "outputs": [
    {
     "data": {
      "text/plain": [
       "'m'"
      ]
     },
     "execution_count": 20,
     "metadata": {},
     "output_type": "execute_result"
    }
   ],
   "source": [
    "length_1.unit"
   ]
  },
  {
   "cell_type": "code",
   "execution_count": 21,
   "id": "02d56d5e",
   "metadata": {
    "ExecuteTime": {
     "end_time": "2023-01-27T23:35:58.852985Z",
     "start_time": "2023-01-27T23:35:58.838484Z"
    }
   },
   "outputs": [
    {
     "data": {
      "text/plain": [
       "'length'"
      ]
     },
     "execution_count": 21,
     "metadata": {},
     "output_type": "execute_result"
    }
   ],
   "source": [
    "length_1.name"
   ]
  },
  {
   "cell_type": "markdown",
   "id": "664588a6",
   "metadata": {},
   "source": [
    "To get the `.value` or `.unit` attributes while coding, it could be safer to use ther respective getters:\n",
    "- `.get_value()`\n",
    "- `.get_unit()`"
   ]
  },
  {
   "cell_type": "code",
   "execution_count": 22,
   "id": "abf24b8f",
   "metadata": {
    "ExecuteTime": {
     "end_time": "2023-01-27T23:35:58.867947Z",
     "start_time": "2023-01-27T23:35:58.853955Z"
    }
   },
   "outputs": [
    {
     "data": {
      "text/plain": [
       "3"
      ]
     },
     "execution_count": 22,
     "metadata": {},
     "output_type": "execute_result"
    }
   ],
   "source": [
    "length_1.get_value()"
   ]
  },
  {
   "cell_type": "code",
   "execution_count": 23,
   "id": "e5cc368b",
   "metadata": {
    "ExecuteTime": {
     "end_time": "2023-01-27T23:35:58.883903Z",
     "start_time": "2023-01-27T23:35:58.868941Z"
    }
   },
   "outputs": [
    {
     "data": {
      "text/plain": [
       "'m'"
      ]
     },
     "execution_count": 23,
     "metadata": {},
     "output_type": "execute_result"
    }
   ],
   "source": [
    "length_1.get_unit()"
   ]
  },
  {
   "cell_type": "markdown",
   "id": "7fc852ba",
   "metadata": {},
   "source": [
    "# Arithmetic operations\n",
    "Simply operate with the instances of `Unit` as with regular Python variables:\n",
    "\n",
    "## Addition and substraction"
   ]
  },
  {
   "cell_type": "code",
   "execution_count": 24,
   "id": "d468e91f",
   "metadata": {
    "ExecuteTime": {
     "end_time": "2023-01-27T23:35:58.899858Z",
     "start_time": "2023-01-27T23:35:58.884872Z"
    }
   },
   "outputs": [
    {
     "name": "stdout",
     "output_type": "stream",
     "text": [
      "converting from 'cm' to 'm\n",
      "cm > m\n",
      "3_m + 250_cm = 5.5_m\n"
     ]
    }
   ],
   "source": [
    "print(length_1, '+', length_2, '=', length_1 + length_2)"
   ]
  },
  {
   "cell_type": "markdown",
   "id": "65d1346a",
   "metadata": {
    "ExecuteTime": {
     "end_time": "2022-12-31T12:32:32.312560Z",
     "start_time": "2022-12-31T12:32:32.295638Z"
    }
   },
   "source": [
    "I will turn the `print_path` to have clean output in the following operations."
   ]
  },
  {
   "cell_type": "code",
   "execution_count": 25,
   "id": "55ae2586",
   "metadata": {
    "ExecuteTime": {
     "end_time": "2023-01-27T23:35:58.914818Z",
     "start_time": "2023-01-27T23:35:58.900856Z"
    }
   },
   "outputs": [
    {
     "name": "stdout",
     "output_type": "stream",
     "text": [
      "print_path OFF\n"
     ]
    }
   ],
   "source": [
    "unyts.print_path(False)"
   ]
  },
  {
   "cell_type": "markdown",
   "id": "238ec305",
   "metadata": {},
   "source": [
    "All the units are **converted to the _first_ units** when making operations:"
   ]
  },
  {
   "cell_type": "code",
   "execution_count": 26,
   "id": "aa0b6d30",
   "metadata": {
    "ExecuteTime": {
     "end_time": "2023-01-27T23:35:58.929783Z",
     "start_time": "2023-01-27T23:35:58.915817Z"
    }
   },
   "outputs": [
    {
     "name": "stdout",
     "output_type": "stream",
     "text": [
      "3_m ** 2 + 6.5_ft * 250_cm\n",
      "9_m2 + 53.313648293963254_ft2\n",
      "= 13.953_m2\n"
     ]
    }
   ],
   "source": [
    "print(length_1, '** 2', '+', length_4, '*', length_2)\n",
    "print(length_1 ** 2, '+', length_4 * length_2)\n",
    "print('=', length_1 ** 2 + length_4 * length_2)"
   ]
  },
  {
   "cell_type": "markdown",
   "id": "821ed3b8",
   "metadata": {},
   "source": [
    "defining area units"
   ]
  },
  {
   "cell_type": "code",
   "execution_count": 27,
   "id": "6dc69eac",
   "metadata": {
    "ExecuteTime": {
     "end_time": "2023-01-27T23:35:58.945277Z",
     "start_time": "2023-01-27T23:35:58.930788Z"
    }
   },
   "outputs": [
    {
     "data": {
      "text/plain": [
       "12_m2"
      ]
     },
     "execution_count": 27,
     "metadata": {},
     "output_type": "execute_result"
    }
   ],
   "source": [
    "area_1 = units(12, 'm2')\n",
    "area_1"
   ]
  },
  {
   "cell_type": "markdown",
   "id": "f17d1552",
   "metadata": {},
   "source": [
    "and have their own subclass"
   ]
  },
  {
   "cell_type": "code",
   "execution_count": 28,
   "id": "c4dc0c62",
   "metadata": {
    "ExecuteTime": {
     "end_time": "2023-01-27T23:35:58.961239Z",
     "start_time": "2023-01-27T23:35:58.951239Z"
    }
   },
   "outputs": [
    {
     "data": {
      "text/plain": [
       "Area"
      ]
     },
     "execution_count": 28,
     "metadata": {},
     "output_type": "execute_result"
    }
   ],
   "source": [
    "type(area_1)"
   ]
  },
  {
   "cell_type": "markdown",
   "id": "35839aea",
   "metadata": {},
   "source": [
    "<font color='red'>Keep in mind that the **addition of different subclasses of Unit is not possible** and will return a `tuple` of both units:</font>"
   ]
  },
  {
   "cell_type": "code",
   "execution_count": 29,
   "id": "43fc242a",
   "metadata": {
    "ExecuteTime": {
     "end_time": "2023-01-27T23:35:58.976172Z",
     "start_time": "2023-01-27T23:35:58.962237Z"
    }
   },
   "outputs": [
    {
     "data": {
      "text/plain": [
       "(12_m2, 3_m)"
      ]
     },
     "execution_count": 29,
     "metadata": {},
     "output_type": "execute_result"
    }
   ],
   "source": [
    "(area_1 + length_1)"
   ]
  },
  {
   "cell_type": "markdown",
   "id": "e8ecfd12",
   "metadata": {},
   "source": [
    "Then, addition of tuples of Unit will simply return the contenation of the tuples:"
   ]
  },
  {
   "cell_type": "code",
   "execution_count": 30,
   "id": "49a47184",
   "metadata": {
    "ExecuteTime": {
     "end_time": "2023-01-27T23:35:58.992157Z",
     "start_time": "2023-01-27T23:35:58.977201Z"
    }
   },
   "outputs": [
    {
     "data": {
      "text/plain": [
       "(12_m2, 3_m, 12_m2, 250_cm)"
      ]
     },
     "execution_count": 30,
     "metadata": {},
     "output_type": "execute_result"
    }
   ],
   "source": [
    "(area_1 + length_1) + (area_1 + length_2)"
   ]
  },
  {
   "cell_type": "markdown",
   "id": "a9f02f6d",
   "metadata": {},
   "source": [
    "Further operations with these tuples of units is not yet implemented and will rise error or might return not the desired operation."
   ]
  },
  {
   "cell_type": "markdown",
   "id": "cb507b34",
   "metadata": {},
   "source": [
    "## Product and division\n",
    "Product of units return new units:"
   ]
  },
  {
   "cell_type": "code",
   "execution_count": 31,
   "id": "0b7a2182",
   "metadata": {
    "ExecuteTime": {
     "end_time": "2023-01-27T23:35:59.007122Z",
     "start_time": "2023-01-27T23:35:58.993126Z"
    }
   },
   "outputs": [
    {
     "data": {
      "text/plain": [
       "53.313648293963254_ft2"
      ]
     },
     "execution_count": 31,
     "metadata": {},
     "output_type": "execute_result"
    }
   ],
   "source": [
    "area_2 = length_4 * length_2\n",
    "area_2"
   ]
  },
  {
   "cell_type": "code",
   "execution_count": 32,
   "id": "c4876560",
   "metadata": {
    "ExecuteTime": {
     "end_time": "2023-01-27T23:35:59.022082Z",
     "start_time": "2023-01-27T23:35:59.009084Z"
    }
   },
   "outputs": [
    {
     "data": {
      "text/plain": [
       "524.740632814599_ft3"
      ]
     },
     "execution_count": 32,
     "metadata": {},
     "output_type": "execute_result"
    }
   ],
   "source": [
    "area_2 * length_1"
   ]
  },
  {
   "cell_type": "markdown",
   "id": "82178d4f",
   "metadata": {},
   "source": [
    "Division of units return new units as well:"
   ]
  },
  {
   "cell_type": "code",
   "execution_count": 33,
   "id": "b787e5b1",
   "metadata": {
    "ExecuteTime": {
     "end_time": "2023-01-27T23:35:59.038072Z",
     "start_time": "2023-01-27T23:35:59.023047Z"
    }
   },
   "outputs": [
    {
     "data": {
      "text/plain": [
       "5.416666666666666_ft"
      ]
     },
     "execution_count": 33,
     "metadata": {},
     "output_type": "execute_result"
    }
   ],
   "source": [
    "area_2 / length_1"
   ]
  },
  {
   "cell_type": "markdown",
   "id": "99723d5a",
   "metadata": {},
   "source": [
    "## Operations with _not_-`Unit` instances\n",
    "\n",
    "It is possible to make algebraic operations of `Unit` with adimensional numbers (`int`, `float`).  \n",
    "The behaviour will depend on the operation:\n",
    "- addition: will _assume_ the adimensional number as the same units of the instance\n",
    "- product: will simple multiply the value of the unyt number\n",
    "  \n",
    "Recall that the variable `length_1` contains *3_m*:"
   ]
  },
  {
   "cell_type": "code",
   "execution_count": 34,
   "id": "cae1a535",
   "metadata": {
    "ExecuteTime": {
     "end_time": "2023-01-27T23:35:59.053563Z",
     "start_time": "2023-01-27T23:35:59.039062Z"
    }
   },
   "outputs": [
    {
     "data": {
      "text/plain": [
       "3_m"
      ]
     },
     "execution_count": 34,
     "metadata": {},
     "output_type": "execute_result"
    }
   ],
   "source": [
    "length_1"
   ]
  },
  {
   "cell_type": "markdown",
   "id": "95fb54a6",
   "metadata": {},
   "source": [
    "now let's try some operations:"
   ]
  },
  {
   "cell_type": "code",
   "execution_count": 35,
   "id": "371a5220",
   "metadata": {
    "ExecuteTime": {
     "end_time": "2023-01-27T23:35:59.069493Z",
     "start_time": "2023-01-27T23:35:59.054532Z"
    }
   },
   "outputs": [
    {
     "data": {
      "text/plain": [
       "9_m"
      ]
     },
     "execution_count": 35,
     "metadata": {},
     "output_type": "execute_result"
    }
   ],
   "source": [
    "length_1 * 3"
   ]
  },
  {
   "cell_type": "code",
   "execution_count": 36,
   "id": "5b05e160",
   "metadata": {
    "ExecuteTime": {
     "end_time": "2023-01-27T23:35:59.085478Z",
     "start_time": "2023-01-27T23:35:59.070518Z"
    }
   },
   "outputs": [
    {
     "data": {
      "text/plain": [
       "1.5_m"
      ]
     },
     "execution_count": 36,
     "metadata": {},
     "output_type": "execute_result"
    }
   ],
   "source": [
    "length_1 / 2"
   ]
  },
  {
   "cell_type": "code",
   "execution_count": 37,
   "id": "0e77a1c8",
   "metadata": {
    "ExecuteTime": {
     "end_time": "2023-01-27T23:35:59.101435Z",
     "start_time": "2023-01-27T23:35:59.086476Z"
    }
   },
   "outputs": [
    {
     "data": {
      "text/plain": [
       "5_m"
      ]
     },
     "execution_count": 37,
     "metadata": {},
     "output_type": "execute_result"
    }
   ],
   "source": [
    "length_1 + 2"
   ]
  },
  {
   "cell_type": "markdown",
   "id": "da2525a5",
   "metadata": {},
   "source": [
    "# logical operations\n",
    "Logical operators transform second value to the units of first value before comparing"
   ]
  },
  {
   "cell_type": "code",
   "execution_count": 38,
   "id": "6804307f",
   "metadata": {
    "ExecuteTime": {
     "end_time": "2023-01-27T23:35:59.117393Z",
     "start_time": "2023-01-27T23:35:59.103402Z"
    }
   },
   "outputs": [
    {
     "name": "stdout",
     "output_type": "stream",
     "text": [
      "length_4: 6.5_ft equivalent to 198.12_cm\n",
      "length_2: 250_cm equivalent to 8.202099737532809_ft\n",
      "6.5_ft > 250_cm\n"
     ]
    },
    {
     "data": {
      "text/plain": [
       "False"
      ]
     },
     "execution_count": 38,
     "metadata": {},
     "output_type": "execute_result"
    }
   ],
   "source": [
    "print('length_4:', length_4 , 'equivalent to', length_4.to('cm'))\n",
    "print('length_2:', length_2 , 'equivalent to', length_2.to(length_4))\n",
    "\n",
    "print(length_4, '>', length_2)\n",
    "length_4 > length_2"
   ]
  },
  {
   "cell_type": "code",
   "execution_count": 39,
   "id": "3d8c92aa",
   "metadata": {
    "ExecuteTime": {
     "end_time": "2023-01-27T23:35:59.132379Z",
     "start_time": "2023-01-27T23:35:59.118361Z"
    }
   },
   "outputs": [
    {
     "name": "stdout",
     "output_type": "stream",
     "text": [
      "area_1: 12_m2\n",
      "area_2: 53.313648293963254_ft2\n",
      "12_m2 < 53.313648293963254_ft2\n"
     ]
    },
    {
     "data": {
      "text/plain": [
       "False"
      ]
     },
     "execution_count": 39,
     "metadata": {},
     "output_type": "execute_result"
    }
   ],
   "source": [
    "print('area_1:', area_1)\n",
    "print('area_2:', area_2)\n",
    "\n",
    "print(area_1, '<', area_2)\n",
    "area_1 < area_2"
   ]
  },
  {
   "cell_type": "code",
   "execution_count": 40,
   "id": "ea7104d4",
   "metadata": {
    "ExecuteTime": {
     "end_time": "2023-01-27T23:35:59.147912Z",
     "start_time": "2023-01-27T23:35:59.133349Z"
    }
   },
   "outputs": [
    {
     "data": {
      "text/plain": [
       "True"
      ]
     },
     "execution_count": 40,
     "metadata": {},
     "output_type": "execute_result"
    }
   ],
   "source": [
    "area_1 / 10 < area_2"
   ]
  },
  {
   "cell_type": "markdown",
   "id": "43f24485",
   "metadata": {},
   "source": [
    "# The `.to()` method\n",
    "Use the method **`.to`** to convert the instance value to other units of the same kind:"
   ]
  },
  {
   "cell_type": "code",
   "execution_count": 41,
   "id": "3127970f",
   "metadata": {
    "ExecuteTime": {
     "end_time": "2023-01-27T23:35:59.163869Z",
     "start_time": "2023-01-27T23:35:59.148907Z"
    }
   },
   "outputs": [
    {
     "data": {
      "text/plain": [
       "4.953_m2"
      ]
     },
     "execution_count": 41,
     "metadata": {},
     "output_type": "execute_result"
    }
   ],
   "source": [
    "area_2.to('m2')"
   ]
  },
  {
   "cell_type": "code",
   "execution_count": 42,
   "id": "b1a4b901",
   "metadata": {
    "ExecuteTime": {
     "end_time": "2023-01-27T23:35:59.178831Z",
     "start_time": "2023-01-27T23:35:59.164868Z"
    }
   },
   "outputs": [
    {
     "data": {
      "text/plain": [
       "2.9652645776059843_acre"
      ]
     },
     "execution_count": 42,
     "metadata": {},
     "output_type": "execute_result"
    }
   ],
   "source": [
    "1000*area_1.to('acre')"
   ]
  },
  {
   "cell_type": "code",
   "execution_count": 43,
   "id": "f8a2198c",
   "metadata": {
    "ExecuteTime": {
     "end_time": "2023-01-27T23:35:59.194783Z",
     "start_time": "2023-01-27T23:35:59.179829Z"
    }
   },
   "outputs": [
    {
     "data": {
      "text/plain": [
       "0.333_l"
      ]
     },
     "execution_count": 43,
     "metadata": {},
     "output_type": "execute_result"
    }
   ],
   "source": [
    "units(333, 'cc').to('l')"
   ]
  },
  {
   "cell_type": "code",
   "execution_count": 44,
   "id": "5be5afd2",
   "metadata": {
    "ExecuteTime": {
     "end_time": "2023-01-27T23:35:59.210715Z",
     "start_time": "2023-01-27T23:35:59.196753Z"
    }
   },
   "outputs": [
    {
     "name": "stdout",
     "output_type": "stream",
     "text": [
      "print_path ON\n"
     ]
    }
   ],
   "source": [
    "# let's print the following conversion\n",
    "unyts.print_path(True)"
   ]
  },
  {
   "cell_type": "code",
   "execution_count": 45,
   "id": "cff4f6d6",
   "metadata": {
    "ExecuteTime": {
     "end_time": "2023-01-27T23:35:59.225706Z",
     "start_time": "2023-01-27T23:35:59.212710Z"
    }
   },
   "outputs": [
    {
     "name": "stdout",
     "output_type": "stream",
     "text": [
      "converting from 'ml' to 'oz\n",
      "ml > millilitre > cubic centimeter > cm3 > m3 > standard cubic meter > standard barrel > USgal > gallonUS > fluid ounce > oz\n"
     ]
    },
    {
     "data": {
      "text/plain": [
       "11.260075341312_oz"
      ]
     },
     "execution_count": 45,
     "metadata": {},
     "output_type": "execute_result"
    }
   ],
   "source": [
    "units(333, 'ml').to('oz')"
   ]
  },
  {
   "cell_type": "code",
   "execution_count": 46,
   "id": "b2c3b5e3",
   "metadata": {
    "ExecuteTime": {
     "end_time": "2023-01-27T23:35:59.241209Z",
     "start_time": "2023-01-27T23:35:59.226731Z"
    }
   },
   "outputs": [
    {
     "name": "stdout",
     "output_type": "stream",
     "text": [
      "print_path OFF\n"
     ]
    }
   ],
   "source": [
    "unyts.print_path(False)"
   ]
  },
  {
   "cell_type": "markdown",
   "id": "407c6f39",
   "metadata": {},
   "source": [
    "# Further examples\n",
    "_area_ time _length_ returns _volume_"
   ]
  },
  {
   "cell_type": "code",
   "execution_count": 47,
   "id": "46b16960",
   "metadata": {
    "ExecuteTime": {
     "end_time": "2023-01-27T23:35:59.257196Z",
     "start_time": "2023-01-27T23:35:59.242230Z"
    }
   },
   "outputs": [
    {
     "data": {
      "text/plain": [
       "36_m3"
      ]
     },
     "execution_count": 47,
     "metadata": {},
     "output_type": "execute_result"
    }
   ],
   "source": [
    "volume_1 = area_1 * length_1\n",
    "volume_1"
   ]
  },
  {
   "cell_type": "markdown",
   "id": "8e265fd6",
   "metadata": {},
   "source": [
    "This _volume_ divided by _time_ returns _rate_:"
   ]
  },
  {
   "cell_type": "code",
   "execution_count": 48,
   "id": "d3104d67",
   "metadata": {
    "ExecuteTime": {
     "end_time": "2023-01-27T23:35:59.676430Z",
     "start_time": "2023-01-27T23:35:59.258194Z"
    }
   },
   "outputs": [
    {
     "name": "stdout",
     "output_type": "stream",
     "text": [
      "36.0_m3/day\n",
      "36.0_m3/day to field units: 226.433304_stb/day\n",
      "36.0_m3/day to litres per hour: 1500.0_l/hr\n",
      "or in thousand cubic feer over one year: 464.3525527208535_Mscf/year\n"
     ]
    }
   ],
   "source": [
    "rate_1 = volume_1 / units(1, 'day')\n",
    "print(rate_1)\n",
    "print(rate_1, 'to field units:', rate_1.to('stb/day'))\n",
    "print(rate_1, 'to litres per hour:', rate_1.to('l/hr'))\n",
    "print('or in thousand cubic feer over one year:', rate_1.to('Mscf/year'))"
   ]
  },
  {
   "cell_type": "markdown",
   "id": "c2208527",
   "metadata": {},
   "source": [
    "Multiple products and conversions:"
   ]
  },
  {
   "cell_type": "code",
   "execution_count": 49,
   "id": "f27c2dcc",
   "metadata": {
    "ExecuteTime": {
     "end_time": "2023-01-27T23:35:59.707538Z",
     "start_time": "2023-01-27T23:35:59.677399Z"
    }
   },
   "outputs": [
    {
     "data": {
      "text/plain": [
       "524.740632814599_ft3"
      ]
     },
     "execution_count": 49,
     "metadata": {},
     "output_type": "execute_result"
    }
   ],
   "source": [
    "volume_2 = length_4 * length_3 * length_2\n",
    "volume_2"
   ]
  },
  {
   "cell_type": "code",
   "execution_count": 50,
   "id": "11126ad7",
   "metadata": {
    "ExecuteTime": {
     "end_time": "2023-01-27T23:35:59.722470Z",
     "start_time": "2023-01-27T23:35:59.709544Z"
    }
   },
   "outputs": [
    {
     "data": {
      "text/plain": [
       "14.859000000000002_m3"
      ]
     },
     "execution_count": 50,
     "metadata": {},
     "output_type": "execute_result"
    }
   ],
   "source": [
    "volume_2.to('m3')"
   ]
  },
  {
   "cell_type": "code",
   "execution_count": 51,
   "id": "cc1de45c",
   "metadata": {
    "ExecuteTime": {
     "end_time": "2023-01-27T23:35:59.737610Z",
     "start_time": "2023-01-27T23:35:59.724466Z"
    }
   },
   "outputs": [
    {
     "data": {
      "text/plain": [
       "524.740632814599_scf"
      ]
     },
     "execution_count": 51,
     "metadata": {},
     "output_type": "execute_result"
    }
   ],
   "source": [
    "volume_2.to('scf')"
   ]
  },
  {
   "cell_type": "code",
   "execution_count": 52,
   "id": "8d315f07",
   "metadata": {
    "ExecuteTime": {
     "end_time": "2023-01-27T23:35:59.752939Z",
     "start_time": "2023-01-27T23:35:59.738579Z"
    }
   },
   "outputs": [
    {
     "data": {
      "text/plain": [
       "93.4602871405253_stb"
      ]
     },
     "execution_count": 52,
     "metadata": {},
     "output_type": "execute_result"
    }
   ],
   "source": [
    "volume_2.to('stb')"
   ]
  },
  {
   "cell_type": "code",
   "execution_count": 53,
   "id": "a793e510",
   "metadata": {
    "ExecuteTime": {
     "end_time": "2023-01-27T23:35:59.769061Z",
     "start_time": "2023-01-27T23:35:59.753913Z"
    }
   },
   "outputs": [
    {
     "data": {
      "text/plain": [
       "True"
      ]
     },
     "execution_count": 53,
     "metadata": {},
     "output_type": "execute_result"
    }
   ],
   "source": [
    "volume_2.to('stb') == volume_2"
   ]
  },
  {
   "cell_type": "code",
   "execution_count": 54,
   "id": "e51253ac",
   "metadata": {
    "ExecuteTime": {
     "end_time": "2023-01-27T23:36:00.238459Z",
     "start_time": "2023-01-27T23:35:59.770014Z"
    }
   },
   "outputs": [
    {
     "name": "stdout",
     "output_type": "stream",
     "text": [
      "524.740632814599_ft3 / 53.313648293963254_ft2 = 9.842519685039372_ft\n"
     ]
    }
   ],
   "source": [
    "print(volume_2, '/', area_2, '=', volume_2/area_2)"
   ]
  },
  {
   "cell_type": "code",
   "execution_count": 55,
   "id": "14775624",
   "metadata": {
    "ExecuteTime": {
     "end_time": "2023-01-27T23:36:00.640369Z",
     "start_time": "2023-01-27T23:36:00.239460Z"
    }
   },
   "outputs": [
    {
     "name": "stdout",
     "output_type": "stream",
     "text": [
      "36_m3 / 53.313648293963254_ft2 = 2.2153846153846155_m\n"
     ]
    }
   ],
   "source": [
    "print(volume_1, '/', area_2, '=', volume_1/area_2)"
   ]
  },
  {
   "cell_type": "code",
   "execution_count": 56,
   "id": "29635a83",
   "metadata": {
    "ExecuteTime": {
     "end_time": "2023-01-27T23:36:00.655430Z",
     "start_time": "2023-01-27T23:36:00.642328Z"
    }
   },
   "outputs": [
    {
     "data": {
      "text/plain": [
       "1.5_hr"
      ]
     },
     "execution_count": 56,
     "metadata": {},
     "output_type": "execute_result"
    }
   ],
   "source": [
    "time_1 = units(1.5, 'hr')\n",
    "time_1"
   ]
  },
  {
   "cell_type": "code",
   "execution_count": 57,
   "id": "1872a59d",
   "metadata": {
    "ExecuteTime": {
     "end_time": "2023-01-27T23:36:00.670590Z",
     "start_time": "2023-01-27T23:36:00.657299Z"
    }
   },
   "outputs": [
    {
     "data": {
      "text/plain": [
       "90.0_min"
      ]
     },
     "execution_count": 57,
     "metadata": {},
     "output_type": "execute_result"
    }
   ],
   "source": [
    "time_1.to('min')"
   ]
  },
  {
   "cell_type": "code",
   "execution_count": 58,
   "id": "cd0d1f6f",
   "metadata": {
    "ExecuteTime": {
     "end_time": "2023-01-27T23:36:00.686582Z",
     "start_time": "2023-01-27T23:36:00.672620Z"
    }
   },
   "outputs": [
    {
     "data": {
      "text/plain": [
       "5_sec"
      ]
     },
     "execution_count": 58,
     "metadata": {},
     "output_type": "execute_result"
    }
   ],
   "source": [
    "time_2 = units(5, 'sec')\n",
    "time_2"
   ]
  },
  {
   "cell_type": "code",
   "execution_count": 59,
   "id": "36f7eb88",
   "metadata": {
    "ExecuteTime": {
     "end_time": "2023-01-27T23:36:00.809820Z",
     "start_time": "2023-01-27T23:36:00.687572Z"
    }
   },
   "outputs": [
    {
     "data": {
      "text/plain": [
       "1.3_ft/sec"
      ]
     },
     "execution_count": 59,
     "metadata": {},
     "output_type": "execute_result"
    }
   ],
   "source": [
    "speed_1 = length_4 / time_2\n",
    "speed_1"
   ]
  },
  {
   "cell_type": "code",
   "execution_count": 60,
   "id": "7cebaacf",
   "metadata": {
    "ExecuteTime": {
     "end_time": "2023-01-27T23:36:00.824786Z",
     "start_time": "2023-01-27T23:36:00.810817Z"
    }
   },
   "outputs": [
    {
     "data": {
      "text/plain": [
       "1.4264640000000002_km/hr"
      ]
     },
     "execution_count": 60,
     "metadata": {},
     "output_type": "execute_result"
    }
   ],
   "source": [
    "speed_1.to('km/hr')"
   ]
  },
  {
   "cell_type": "code",
   "execution_count": 61,
   "id": "4d95e86f",
   "metadata": {
    "ExecuteTime": {
     "end_time": "2023-01-27T23:36:00.946686Z",
     "start_time": "2023-01-27T23:36:00.825778Z"
    }
   },
   "outputs": [
    {
     "data": {
      "text/plain": [
       "100_km/hr"
      ]
     },
     "execution_count": 61,
     "metadata": {},
     "output_type": "execute_result"
    }
   ],
   "source": [
    "speed_2 = units(100, 'km/hr')\n",
    "speed_2"
   ]
  },
  {
   "cell_type": "code",
   "execution_count": 62,
   "id": "1d5bdece",
   "metadata": {
    "ExecuteTime": {
     "end_time": "2023-01-27T23:36:00.961963Z",
     "start_time": "2023-01-27T23:36:00.947656Z"
    }
   },
   "outputs": [
    {
     "data": {
      "text/plain": [
       "62.13711922373341_mi/hr"
      ]
     },
     "execution_count": 62,
     "metadata": {},
     "output_type": "execute_result"
    }
   ],
   "source": [
    "speed_2.to('mi/hr')"
   ]
  },
  {
   "cell_type": "code",
   "execution_count": 63,
   "id": "d69d3574",
   "metadata": {
    "ExecuteTime": {
     "end_time": "2023-01-27T23:36:01.009704Z",
     "start_time": "2023-01-27T23:36:00.962835Z"
    }
   },
   "outputs": [
    {
     "data": {
      "text/plain": [
       "2.7_stb/day/psia"
      ]
     },
     "execution_count": 63,
     "metadata": {},
     "output_type": "execute_result"
    }
   ],
   "source": [
    "productivity_index_1 = units(2.7, 'stb/day/psia')\n",
    "productivity_index_1"
   ]
  },
  {
   "cell_type": "code",
   "execution_count": 64,
   "id": "c5c7a2ff",
   "metadata": {
    "ExecuteTime": {
     "end_time": "2023-01-27T23:36:01.117979Z",
     "start_time": "2023-01-27T23:36:01.010702Z"
    }
   },
   "outputs": [
    {
     "data": {
      "text/plain": [
       "6.225969351032321_sm3/day/barsa"
      ]
     },
     "execution_count": 64,
     "metadata": {},
     "output_type": "execute_result"
    }
   ],
   "source": [
    "productivity_index_1.to('sm3/day/barsa')"
   ]
  },
  {
   "cell_type": "code",
   "execution_count": 65,
   "id": "789ca0cf",
   "metadata": {
    "ExecuteTime": {
     "end_time": "2023-01-27T23:36:01.210774Z",
     "start_time": "2023-01-27T23:36:01.118977Z"
    }
   },
   "outputs": [
    {
     "data": {
      "text/plain": [
       "43.2358982710578_cc/min/kPa"
      ]
     },
     "execution_count": 65,
     "metadata": {},
     "output_type": "execute_result"
    }
   ],
   "source": [
    "productivity_index_1.to('cc/min/kPa')"
   ]
  },
  {
   "cell_type": "markdown",
   "id": "a2601c05",
   "metadata": {},
   "source": [
    "# Working with NumPy arrays\n",
    "simply provide the array as the first argument of **`units()`** function:"
   ]
  },
  {
   "cell_type": "code",
   "execution_count": 66,
   "id": "e4119421",
   "metadata": {
    "ExecuteTime": {
     "end_time": "2023-01-27T23:36:01.225733Z",
     "start_time": "2023-01-27T23:36:01.212769Z"
    }
   },
   "outputs": [],
   "source": [
    "import numpy as np"
   ]
  },
  {
   "cell_type": "code",
   "execution_count": 67,
   "id": "c4f0c7af",
   "metadata": {
    "ExecuteTime": {
     "end_time": "2023-01-27T23:36:01.241723Z",
     "start_time": "2023-01-27T23:36:01.226730Z"
    }
   },
   "outputs": [
    {
     "data": {
      "text/plain": [
       "array([0.26598982, 0.74326007, 0.07158929, 0.58548744, 0.91337473,\n",
       "       0.02400458, 0.01014488, 0.98091148, 0.75929414, 0.12240607])"
      ]
     },
     "execution_count": 67,
     "metadata": {},
     "output_type": "execute_result"
    }
   ],
   "source": [
    "array_1 = np.random.rand(10)\n",
    "array_1"
   ]
  },
  {
   "cell_type": "code",
   "execution_count": 68,
   "id": "ccd6be22",
   "metadata": {
    "ExecuteTime": {
     "end_time": "2023-01-27T23:36:01.256421Z",
     "start_time": "2023-01-27T23:36:01.242720Z"
    }
   },
   "outputs": [],
   "source": [
    "mass_1 = units(array_1, 'kg')"
   ]
  },
  {
   "cell_type": "code",
   "execution_count": 69,
   "id": "3de66b00",
   "metadata": {
    "ExecuteTime": {
     "end_time": "2023-01-27T23:36:01.272498Z",
     "start_time": "2023-01-27T23:36:01.257418Z"
    }
   },
   "outputs": [
    {
     "data": {
      "text/plain": [
       "[0.26598982 0.74326007 0.07158929 0.58548744 0.91337473 0.02400458\n",
       " 0.01014488 0.98091148 0.75929414 0.12240607]_kg"
      ]
     },
     "execution_count": 69,
     "metadata": {},
     "output_type": "execute_result"
    }
   ],
   "source": [
    "mass_1"
   ]
  },
  {
   "cell_type": "code",
   "execution_count": 70,
   "id": "4c965bb1",
   "metadata": {
    "ExecuteTime": {
     "end_time": "2023-01-27T23:36:01.287458Z",
     "start_time": "2023-01-27T23:36:01.273495Z"
    }
   },
   "outputs": [
    {
     "data": {
      "text/plain": [
       "[265.98981981 743.26006532  71.58929016 585.48744295 913.37472996\n",
       "  24.00457564  10.14488069 980.91148026 759.29413529 122.40606907]_g"
      ]
     },
     "execution_count": 70,
     "metadata": {},
     "output_type": "execute_result"
    }
   ],
   "source": [
    "mass_1.to('g')"
   ]
  },
  {
   "cell_type": "code",
   "execution_count": 71,
   "id": "e02b45e8",
   "metadata": {
    "ExecuteTime": {
     "end_time": "2023-01-27T23:36:01.303170Z",
     "start_time": "2023-01-27T23:36:01.288455Z"
    }
   },
   "outputs": [
    {
     "data": {
      "text/plain": [
       "[0.92151935 0.22882139 0.11327441 0.11890817 0.57891111 0.72639742\n",
       " 0.5503249  0.26023759 0.76119473 0.8757626 ]_lb"
      ]
     },
     "execution_count": 71,
     "metadata": {},
     "output_type": "execute_result"
    }
   ],
   "source": [
    "mass_2 = units(np.random.rand(10), 'lb')\n",
    "mass_2"
   ]
  },
  {
   "cell_type": "code",
   "execution_count": 72,
   "id": "753725fe",
   "metadata": {
    "ExecuteTime": {
     "end_time": "2023-01-27T23:36:01.318996Z",
     "start_time": "2023-01-27T23:36:01.304035Z"
    }
   },
   "outputs": [
    {
     "data": {
      "text/plain": [
       "[1.50792652 1.86742935 0.27110178 1.40968703 2.5925577  0.77931845\n",
       " 0.57269054 2.42277723 2.43515176 1.14562179]_lb"
      ]
     },
     "execution_count": 72,
     "metadata": {},
     "output_type": "execute_result"
    }
   ],
   "source": [
    "mass_2 + mass_1"
   ]
  },
  {
   "cell_type": "markdown",
   "id": "21b99062",
   "metadata": {},
   "source": [
    "# The `convert` function\n",
    "The units converter function, **`convert()`** can be used directly, providing the following arguments:\n",
    "- `value`: _int_, _float_, _np.array_, etc, the value to be converted\n",
    "- `from_units`: _str_ the input units\n",
    "- `to_units`: _str_, the desired output units\n",
    "- `print_path`: [optional] _bool_, set to True to request printing the conversion path. Default behaviour is defined by the `print_path()` setting."
   ]
  },
  {
   "cell_type": "code",
   "execution_count": 73,
   "id": "2b937728",
   "metadata": {
    "ExecuteTime": {
     "end_time": "2023-01-27T23:36:01.334337Z",
     "start_time": "2023-01-27T23:36:01.319993Z"
    }
   },
   "outputs": [
    {
     "data": {
      "text/plain": [
       "14"
      ]
     },
     "execution_count": 73,
     "metadata": {},
     "output_type": "execute_result"
    }
   ],
   "source": [
    "convert(2, 'week', 'day')"
   ]
  },
  {
   "cell_type": "code",
   "execution_count": 74,
   "id": "4e5639bb",
   "metadata": {
    "ExecuteTime": {
     "end_time": "2023-01-27T23:36:01.350306Z",
     "start_time": "2023-01-27T23:36:01.335335Z"
    }
   },
   "outputs": [
    {
     "data": {
      "text/plain": [
       "1440"
      ]
     },
     "execution_count": 74,
     "metadata": {},
     "output_type": "execute_result"
    }
   ],
   "source": [
    "convert(1, 'day', 'minute')"
   ]
  },
  {
   "cell_type": "code",
   "execution_count": 75,
   "id": "0474f3e6",
   "metadata": {
    "ExecuteTime": {
     "end_time": "2023-01-27T23:36:01.366263Z",
     "start_time": "2023-01-27T23:36:01.352300Z"
    }
   },
   "outputs": [
    {
     "name": "stdout",
     "output_type": "stream",
     "text": [
      "converting from 'week' to 'second\n",
      "week > day > hour > minute > second\n"
     ]
    },
    {
     "data": {
      "text/plain": [
       "604800"
      ]
     },
     "execution_count": 75,
     "metadata": {},
     "output_type": "execute_result"
    }
   ],
   "source": [
    "convert(1, 'week', 'second', True)"
   ]
  },
  {
   "cell_type": "code",
   "execution_count": 76,
   "id": "8c34ecfc",
   "metadata": {
    "ExecuteTime": {
     "end_time": "2023-01-27T23:36:01.412164Z",
     "start_time": "2023-01-27T23:36:01.367261Z"
    }
   },
   "outputs": [
    {
     "name": "stdout",
     "output_type": "stream",
     "text": [
      "converting from 'psia' to 'g/cm2\n",
      "psia > absolute psi > lb/in2 > lb > pound > kilogram > kg > g / 1 in2 > square inch > square foot > square meter > m2 > cm2\n"
     ]
    },
    {
     "data": {
      "text/plain": [
       "70.30695796391595"
      ]
     },
     "execution_count": 76,
     "metadata": {},
     "output_type": "execute_result"
    }
   ],
   "source": [
    "convert(1, 'psia', 'g/cm2', True)"
   ]
  },
  {
   "cell_type": "markdown",
   "id": "8f558f37",
   "metadata": {},
   "source": [
    "- optional, fourth argument set to **True** will return the conversion path.   \n",
    "To avoid anoying print outs, the conversion path is printed only the first time it is used:"
   ]
  },
  {
   "cell_type": "code",
   "execution_count": 77,
   "id": "4fe90dc5",
   "metadata": {
    "ExecuteTime": {
     "end_time": "2023-01-27T23:36:01.427374Z",
     "start_time": "2023-01-27T23:36:01.413139Z"
    }
   },
   "outputs": [
    {
     "name": "stdout",
     "output_type": "stream",
     "text": [
      "converting from 'nautical mile' to 'km\n",
      "nautical mile > meter > m > km\n"
     ]
    },
    {
     "data": {
      "text/plain": [
       "1.852"
      ]
     },
     "execution_count": 77,
     "metadata": {},
     "output_type": "execute_result"
    }
   ],
   "source": [
    "convert(1, 'nautical mile', 'km', True)"
   ]
  },
  {
   "cell_type": "code",
   "execution_count": 78,
   "id": "12189df7",
   "metadata": {
    "ExecuteTime": {
     "end_time": "2023-01-27T23:36:01.442225Z",
     "start_time": "2023-01-27T23:36:01.428236Z"
    }
   },
   "outputs": [
    {
     "name": "stdout",
     "output_type": "stream",
     "text": [
      "converting from 'm3/month' to 'l/day\n",
      "m3 > cm3 > cubic centimeter > millilitre > ml > l / 1 month > day\n"
     ]
    },
    {
     "data": {
      "text/plain": [
       "985.6262833675565"
      ]
     },
     "execution_count": 78,
     "metadata": {},
     "output_type": "execute_result"
    }
   ],
   "source": [
    "convert(30, 'm3/month', 'l/day', True)"
   ]
  },
  {
   "cell_type": "code",
   "execution_count": 79,
   "id": "05ce65f0",
   "metadata": {
    "ExecuteTime": {
     "end_time": "2023-01-27T23:36:01.458201Z",
     "start_time": "2023-01-27T23:36:01.444195Z"
    }
   },
   "outputs": [
    {
     "name": "stdout",
     "output_type": "stream",
     "text": [
      "converting from 'psi/ft' to 'bar/m\n",
      "psi > bar / 1 ft > foot > yard > meter > m\n"
     ]
    },
    {
     "data": {
      "text/plain": [
       "0.07917208177742135"
      ]
     },
     "execution_count": 79,
     "metadata": {},
     "output_type": "execute_result"
    }
   ],
   "source": [
    "convert(0.35, 'psi/ft', 'bar/m', True)"
   ]
  },
  {
   "cell_type": "code",
   "execution_count": 80,
   "id": "c61b97c1",
   "metadata": {
    "ExecuteTime": {
     "end_time": "2023-01-27T23:36:01.473164Z",
     "start_time": "2023-01-27T23:36:01.459172Z"
    }
   },
   "outputs": [
    {
     "name": "stdout",
     "output_type": "stream",
     "text": [
      "converting from 'psi/ft' to 'g/cc\n",
      "psi/ft > psia/ft > lb/ft3 > g/cm3 > g/cc\n"
     ]
    },
    {
     "data": {
      "text/plain": [
       "0.8073305540475911"
      ]
     },
     "execution_count": 80,
     "metadata": {},
     "output_type": "execute_result"
    }
   ],
   "source": [
    "convert(0.35, 'psi/ft', 'g/cc', True)"
   ]
  },
  {
   "cell_type": "code",
   "execution_count": 81,
   "id": "6567efa8",
   "metadata": {
    "ExecuteTime": {
     "end_time": "2023-01-27T23:36:01.489093Z",
     "start_time": "2023-01-27T23:36:01.475130Z"
    }
   },
   "outputs": [
    {
     "name": "stdout",
     "output_type": "stream",
     "text": [
      "converting from 'psia' to 'lb/in2\n",
      "psia > absolute psi > lb/in2\n"
     ]
    },
    {
     "data": {
      "text/plain": [
       "14.7"
      ]
     },
     "execution_count": 81,
     "metadata": {},
     "output_type": "execute_result"
    }
   ],
   "source": [
    "convert(14.7, 'psia', 'lb/in2', True)"
   ]
  },
  {
   "cell_type": "code",
   "execution_count": 82,
   "id": "ea74ca0a",
   "metadata": {
    "ExecuteTime": {
     "end_time": "2023-01-27T23:36:01.520038Z",
     "start_time": "2023-01-27T23:36:01.502086Z"
    }
   },
   "outputs": [
    {
     "name": "stdout",
     "output_type": "stream",
     "text": [
      "converting from 'kg/cm2' to 'lb/in2\n",
      "kg > kilogram > pound > lb / 1 cm2 > m2 > square meter > square foot > square inch > in2\n"
     ]
    },
    {
     "data": {
      "text/plain": [
       "14.223343307119563"
      ]
     },
     "execution_count": 82,
     "metadata": {},
     "output_type": "execute_result"
    }
   ],
   "source": [
    "convert(1, 'kg/cm2', 'lb/in2', True)"
   ]
  },
  {
   "cell_type": "code",
   "execution_count": 83,
   "id": "6a6b2d9a",
   "metadata": {
    "ExecuteTime": {
     "end_time": "2023-01-27T23:36:04.335530Z",
     "start_time": "2023-01-27T23:36:01.521007Z"
    }
   },
   "outputs": [
    {
     "name": "stdout",
     "output_type": "stream",
     "text": [
      "converting from 'kg/cm2' to 'psia\n",
      "kg > kilogram > pound > lb / 1 cm2 > m2 > square meter > square foot > square inch > in2 > lb/in2 > absolute psi > psia\n"
     ]
    },
    {
     "data": {
      "text/plain": [
       "14.223343307119563"
      ]
     },
     "execution_count": 83,
     "metadata": {},
     "output_type": "execute_result"
    }
   ],
   "source": [
    "convert(1, 'kg/cm2', 'psia', True)"
   ]
  },
  {
   "cell_type": "code",
   "execution_count": 84,
   "id": "7526d5b7",
   "metadata": {
    "ExecuteTime": {
     "end_time": "2023-01-27T23:36:04.350491Z",
     "start_time": "2023-01-27T23:36:04.337524Z"
    }
   },
   "outputs": [
    {
     "name": "stdout",
     "output_type": "stream",
     "text": [
      "converting from 'g/cm2' to 'lb/in2\n",
      "g > gram > kilogram > pound > lb / 1 cm2 > m2 > square meter > square foot > square inch > in2\n"
     ]
    },
    {
     "data": {
      "text/plain": [
       "0.014223343307119564"
      ]
     },
     "execution_count": 84,
     "metadata": {},
     "output_type": "execute_result"
    }
   ],
   "source": [
    "convert(1, 'g/cm2', 'lb/in2', True)"
   ]
  },
  {
   "cell_type": "code",
   "execution_count": 85,
   "id": "79dcf20b",
   "metadata": {
    "ExecuteTime": {
     "end_time": "2023-01-27T23:36:04.365643Z",
     "start_time": "2023-01-27T23:36:04.352487Z"
    }
   },
   "outputs": [
    {
     "name": "stdout",
     "output_type": "stream",
     "text": [
      "converting from 'API' to 'lb/ft3\n",
      "API > g/cc > g/cm3 > lb/ft3\n"
     ]
    },
    {
     "data": {
      "text/plain": [
       "62.427960576144606"
      ]
     },
     "execution_count": 85,
     "metadata": {},
     "output_type": "execute_result"
    }
   ],
   "source": [
    "convert(10, 'API', 'lb/ft3', True)"
   ]
  },
  {
   "cell_type": "code",
   "execution_count": 86,
   "id": "c1547494",
   "metadata": {
    "ExecuteTime": {
     "end_time": "2023-01-27T23:36:05.064560Z",
     "start_time": "2023-01-27T23:36:04.366671Z"
    }
   },
   "outputs": [
    {
     "name": "stdout",
     "output_type": "stream",
     "text": [
      "converting from 'lb/scf' to 'API\n",
      "lb > pound > kilogram > kg > g / 1 scf > standard cubic foot > standard cubic meter > m3 > cm3 > cubic centimeter > cc > g/cc > API\n"
     ]
    },
    {
     "data": {
      "text/plain": [
       "29.11011675499026"
      ]
     },
     "execution_count": 86,
     "metadata": {},
     "output_type": "execute_result"
    }
   ],
   "source": [
    "convert(55, 'lb/scf', 'API', True)"
   ]
  },
  {
   "cell_type": "code",
   "execution_count": 87,
   "id": "1af4c897",
   "metadata": {
    "ExecuteTime": {
     "end_time": "2023-01-27T23:36:05.080511Z",
     "start_time": "2023-01-27T23:36:05.066576Z"
    }
   },
   "outputs": [
    {
     "name": "stdout",
     "output_type": "stream",
     "text": [
      "converting from 'API' to 'g/cc\n",
      "API > g/cc\n"
     ]
    },
    {
     "data": {
      "text/plain": [
       "1.0"
      ]
     },
     "execution_count": 87,
     "metadata": {},
     "output_type": "execute_result"
    }
   ],
   "source": [
    "convert(10, 'API', 'g/cc', True)"
   ]
  },
  {
   "cell_type": "code",
   "execution_count": 88,
   "id": "a16d1fde",
   "metadata": {
    "ExecuteTime": {
     "end_time": "2023-01-27T23:36:05.096579Z",
     "start_time": "2023-01-27T23:36:05.082482Z"
    }
   },
   "outputs": [
    {
     "name": "stdout",
     "output_type": "stream",
     "text": [
      "converting from 'g/cm3' to 'API\n",
      "g/cm3 > g/cc > API\n"
     ]
    },
    {
     "data": {
      "text/plain": [
       "10.0"
      ]
     },
     "execution_count": 88,
     "metadata": {},
     "output_type": "execute_result"
    }
   ],
   "source": [
    "convert(1, 'g/cm3', 'API', True)"
   ]
  },
  {
   "cell_type": "markdown",
   "id": "46ef907b",
   "metadata": {},
   "source": [
    "# getting a `lambda` for later conversion\n",
    "\n",
    "Optionally, the first argument (_value_) of the function `convert` can be set `None`. In this case, a `lambda` with the conversion will be returned. This _lambda_ can be saved into a variable for later use."
   ]
  },
  {
   "cell_type": "code",
   "execution_count": 89,
   "id": "32c07627",
   "metadata": {
    "ExecuteTime": {
     "end_time": "2023-01-27T23:36:05.111945Z",
     "start_time": "2023-01-27T23:36:05.097442Z"
    }
   },
   "outputs": [
    {
     "name": "stdout",
     "output_type": "stream",
     "text": [
      "converting from 'F' to 'C\n",
      "F > Fahrenheit > Celsius > C\n"
     ]
    }
   ],
   "source": [
    "temperature_conversion = convert(None, 'F', 'C', True)"
   ]
  },
  {
   "cell_type": "code",
   "execution_count": 90,
   "id": "e2319e76",
   "metadata": {
    "ExecuteTime": {
     "end_time": "2023-01-27T23:36:05.127338Z",
     "start_time": "2023-01-27T23:36:05.112943Z"
    }
   },
   "outputs": [
    {
     "data": {
      "text/plain": [
       "29.444444444444443"
      ]
     },
     "execution_count": 90,
     "metadata": {},
     "output_type": "execute_result"
    }
   ],
   "source": [
    "temperature_conversion(85)"
   ]
  }
 ],
 "metadata": {
  "hide_input": false,
  "kernelspec": {
   "display_name": "Python 3 (ipykernel)",
   "language": "python",
   "name": "python3"
  },
  "language_info": {
   "codemirror_mode": {
    "name": "ipython",
    "version": 3
   },
   "file_extension": ".py",
   "mimetype": "text/x-python",
   "name": "python",
   "nbconvert_exporter": "python",
   "pygments_lexer": "ipython3",
   "version": "3.10.8"
  },
  "latex_envs": {
   "LaTeX_envs_menu_present": true,
   "autoclose": false,
   "autocomplete": true,
   "bibliofile": "biblio.bib",
   "cite_by": "apalike",
   "current_citInitial": 1,
   "eqLabelWithNumbers": true,
   "eqNumInitial": 1,
   "hotkeys": {
    "equation": "Ctrl-E",
    "itemize": "Ctrl-I"
   },
   "labels_anchors": false,
   "latex_user_defs": false,
   "report_style_numbering": false,
   "user_envs_cfg": false
  },
  "toc": {
   "base_numbering": 1,
   "nav_menu": {},
   "number_sections": true,
   "sideBar": true,
   "skip_h1_title": false,
   "title_cell": "Table of Contents",
   "title_sidebar": "Contents",
   "toc_cell": false,
   "toc_position": {},
   "toc_section_display": true,
   "toc_window_display": true
  },
  "varInspector": {
   "cols": {
    "lenName": 16,
    "lenType": 16,
    "lenVar": 40
   },
   "kernels_config": {
    "python": {
     "delete_cmd_postfix": "",
     "delete_cmd_prefix": "del ",
     "library": "var_list.py",
     "varRefreshCmd": "print(var_dic_list())"
    },
    "r": {
     "delete_cmd_postfix": ") ",
     "delete_cmd_prefix": "rm(",
     "library": "var_list.r",
     "varRefreshCmd": "cat(var_dic_list()) "
    }
   },
   "types_to_exclude": [
    "module",
    "function",
    "builtin_function_or_method",
    "instance",
    "_Feature"
   ],
   "window_display": false
  }
 },
 "nbformat": 4,
 "nbformat_minor": 5
}
