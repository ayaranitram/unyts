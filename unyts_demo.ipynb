{
 "cells": [
  {
   "cell_type": "markdown",
   "id": "be25ff5a",
   "metadata": {},
   "source": [
    "# `unyts`\n",
    "A package that consider quantities (values with units) instead of purely numerical values:\n",
    "- **units**: instances capable of making arithmetic and logical operations of values with different units\n",
    "- **convert**: a units converter able to convert practically between any pair units"
   ]
  },
  {
   "cell_type": "markdown",
   "id": "fd9c4250",
   "metadata": {},
   "source": [
    "# Installing `unyts`\n",
    "\n",
    "This package is published in <a href=\"https://pypi.org/search/?q=unyts\">pypi.org</a> and can be installed using **pip**:  \n",
    "  \n",
    "`pip install unyts`\n",
    "  \n",
    "or upgrade to the latest version:\n",
    "\n",
    "`pip install --upgrade unyts`"
   ]
  },
  {
   "cell_type": "raw",
   "id": "20b1e6ac",
   "metadata": {},
   "source": [
    "pip install --upgrade unyts"
   ]
  },
  {
   "cell_type": "markdown",
   "id": "534f7d98",
   "metadata": {},
   "source": [
    "# `import unyts`\n",
    "Import the package to be able to change settings."
   ]
  },
  {
   "cell_type": "code",
   "execution_count": 1,
   "id": "9e266c7f",
   "metadata": {
    "ExecuteTime": {
     "end_time": "2024-05-02T22:33:35.653710Z",
     "start_time": "2024-05-02T22:33:07.286903Z"
    }
   },
   "outputs": [
    {
     "name": "stderr",
     "output_type": "stream",
     "text": [
      "INFO:preparing units dictionary...\n",
      "INFO:preparing units network...\n",
      "INFO:saving units network and dictionary to cache...\n"
     ]
    },
    {
     "name": "stdout",
     "output_type": "stream",
     "text": [
      "loaded unyts version 0.8.0\n"
     ]
    }
   ],
   "source": [
    "import unyts"
   ]
  },
  {
   "cell_type": "code",
   "execution_count": 2,
   "id": "db2574f6",
   "metadata": {
    "ExecuteTime": {
     "end_time": "2024-05-02T22:33:35.669690Z",
     "start_time": "2024-05-02T22:33:35.655752Z"
    }
   },
   "outputs": [
    {
     "data": {
      "text/plain": [
       "'0.8.0'"
      ]
     },
     "execution_count": 2,
     "metadata": {},
     "output_type": "execute_result"
    }
   ],
   "source": [
    "unyts.__version__"
   ]
  },
  {
   "cell_type": "markdown",
   "id": "924b48cd",
   "metadata": {},
   "source": [
    "## Importing the utilities `convert` and `units`\n",
    "\n",
    "Importing just the utilities will be enought to be able to convert values and to instantiate the appropriate Unit subclass and operate with them."
   ]
  },
  {
   "cell_type": "code",
   "execution_count": 3,
   "id": "4d202c80",
   "metadata": {
    "ExecuteTime": {
     "end_time": "2024-05-02T22:33:35.684838Z",
     "start_time": "2024-05-02T22:33:35.670719Z"
    }
   },
   "outputs": [],
   "source": [
    "from unyts import convert, units"
   ]
  },
  {
   "cell_type": "markdown",
   "id": "5d02f940",
   "metadata": {},
   "source": [
    "## Importing the `Unit` class\n",
    "\n",
    "In case you need it, you can import the main **`Unit` class**, to check if something `isinstance()` of `Unit`.  \n",
    "\n",
    "It is recommended to instantiate using the function `units`  or the appropiate subclass, as using the class `Unit`to instantiate _values with units_ will return instances of the main class."
   ]
  },
  {
   "cell_type": "code",
   "execution_count": 4,
   "id": "cba8cbb8",
   "metadata": {
    "ExecuteTime": {
     "end_time": "2024-05-02T22:33:35.700323Z",
     "start_time": "2024-05-02T22:33:35.692343Z"
    }
   },
   "outputs": [],
   "source": [
    "from unyts import Unit"
   ]
  },
  {
   "cell_type": "code",
   "execution_count": 5,
   "id": "315abde5",
   "metadata": {
    "ExecuteTime": {
     "end_time": "2024-05-02T22:33:39.081415Z",
     "start_time": "2024-05-02T22:33:35.702317Z"
    }
   },
   "outputs": [
    {
     "name": "stdout",
     "output_type": "stream",
     "text": [
      "Unit 1_ounce\n"
     ]
    }
   ],
   "source": [
    "ounce = Unit(1, 'ounce')\n",
    "print(type(ounce), ounce)"
   ]
  },
  {
   "cell_type": "markdown",
   "id": "dd49bdb8",
   "metadata": {},
   "source": [
    "# The `units` function\n",
    "To make instances of **`Unit`** use the function **`units`** providing it with the _value_ and a _string representing the units_ as arguments of the function call:"
   ]
  },
  {
   "cell_type": "code",
   "execution_count": 6,
   "id": "ac0885e5",
   "metadata": {
    "ExecuteTime": {
     "end_time": "2024-05-02T22:33:39.096948Z",
     "start_time": "2024-05-02T22:33:39.082413Z"
    }
   },
   "outputs": [],
   "source": [
    "length_1 = units(3, 'm')\n",
    "length_2 = units(250, 'cm')\n",
    "length_3 = units(0.003, 'km')\n",
    "length_4 = units(6.5, 'ft')\n",
    "length_5 = units(18, 'in')"
   ]
  },
  {
   "cell_type": "markdown",
   "id": "5e996285",
   "metadata": {},
   "source": [
    "The **units** function returns the apropriate **unit _subclass_**: "
   ]
  },
  {
   "cell_type": "code",
   "execution_count": 7,
   "id": "531a2ee1",
   "metadata": {
    "ExecuteTime": {
     "end_time": "2024-05-02T22:33:39.112116Z",
     "start_time": "2024-05-02T22:33:39.097918Z"
    }
   },
   "outputs": [
    {
     "name": "stdout",
     "output_type": "stream",
     "text": [
      "Length\n"
     ]
    },
    {
     "data": {
      "text/plain": [
       "Volume"
      ]
     },
     "execution_count": 7,
     "metadata": {},
     "output_type": "execute_result"
    }
   ],
   "source": [
    "print(type(length_1))\n",
    "type(units(333, 'ml'))"
   ]
  },
  {
   "cell_type": "markdown",
   "id": "a034d3f5",
   "metadata": {},
   "source": [
    "Any subclass of __unyts__ will be an instance of it, thus, the appropriate way to check if a variable points to an instance of __untys__ is using `isinstance()` function instead of using `type` as type will return the subclass.  \n",
    "\n",
    "# Check instance of `Unit`\n",
    "\n",
    "Checking any Unit subcalls using `isinstance()` will always work:"
   ]
  },
  {
   "cell_type": "code",
   "execution_count": 8,
   "id": "a79a9dbf",
   "metadata": {
    "ExecuteTime": {
     "end_time": "2024-05-02T22:33:39.128068Z",
     "start_time": "2024-05-02T22:33:39.113084Z"
    }
   },
   "outputs": [
    {
     "data": {
      "text/plain": [
       "True"
      ]
     },
     "execution_count": 8,
     "metadata": {},
     "output_type": "execute_result"
    }
   ],
   "source": [
    "isinstance(length_1, Unit)"
   ]
  },
  {
   "cell_type": "markdown",
   "id": "776ff8f7",
   "metadata": {},
   "source": [
    "But comparing the type of the subcalls to Unit class will fail"
   ]
  },
  {
   "cell_type": "code",
   "execution_count": 9,
   "id": "bf1552aa",
   "metadata": {
    "ExecuteTime": {
     "end_time": "2024-05-02T22:33:39.144033Z",
     "start_time": "2024-05-02T22:33:39.129043Z"
    }
   },
   "outputs": [
    {
     "data": {
      "text/plain": [
       "False"
      ]
     },
     "execution_count": 9,
     "metadata": {},
     "output_type": "execute_result"
    }
   ],
   "source": [
    "type(length_1) is Unit"
   ]
  },
  {
   "cell_type": "markdown",
   "id": "ee2a5e67",
   "metadata": {},
   "source": [
    "In case you need to check the subclass, you can import it following the path indicated by `type`:"
   ]
  },
  {
   "cell_type": "code",
   "execution_count": 10,
   "id": "c0873dfa",
   "metadata": {
    "ExecuteTime": {
     "end_time": "2024-05-02T22:33:39.159984Z",
     "start_time": "2024-05-02T22:33:39.146994Z"
    }
   },
   "outputs": [
    {
     "data": {
      "text/plain": [
       "Length"
      ]
     },
     "execution_count": 10,
     "metadata": {},
     "output_type": "execute_result"
    }
   ],
   "source": [
    "type(length_1)"
   ]
  },
  {
   "cell_type": "code",
   "execution_count": 11,
   "id": "a652879f",
   "metadata": {
    "ExecuteTime": {
     "end_time": "2024-05-02T22:33:39.176050Z",
     "start_time": "2024-05-02T22:33:39.161954Z"
    }
   },
   "outputs": [],
   "source": [
    "from unyts.units.geometry import Length"
   ]
  },
  {
   "cell_type": "code",
   "execution_count": 12,
   "id": "6eae1ba5",
   "metadata": {
    "ExecuteTime": {
     "end_time": "2024-05-02T22:33:39.191484Z",
     "start_time": "2024-05-02T22:33:39.177911Z"
    }
   },
   "outputs": [
    {
     "data": {
      "text/plain": [
       "True"
      ]
     },
     "execution_count": 12,
     "metadata": {},
     "output_type": "execute_result"
    }
   ],
   "source": [
    "type(length_1) is Length"
   ]
  },
  {
   "cell_type": "markdown",
   "id": "84967104",
   "metadata": {},
   "source": [
    "# Quantities representation \n",
    "The representation of the units instances consists in the value followed by the units string"
   ]
  },
  {
   "cell_type": "code",
   "execution_count": 13,
   "id": "e391f927",
   "metadata": {
    "ExecuteTime": {
     "end_time": "2024-05-02T22:33:39.206898Z",
     "start_time": "2024-05-02T22:33:39.192396Z"
    }
   },
   "outputs": [
    {
     "name": "stdout",
     "output_type": "stream",
     "text": [
      "3_m\n",
      "250_cm\n",
      "0.003_km\n"
     ]
    },
    {
     "data": {
      "text/plain": [
       "6.5_ft"
      ]
     },
     "execution_count": 13,
     "metadata": {},
     "output_type": "execute_result"
    }
   ],
   "source": [
    "print(length_1)\n",
    "print(length_2)\n",
    "print(length_3)\n",
    "length_4"
   ]
  },
  {
   "cell_type": "markdown",
   "id": "c07d322f",
   "metadata": {},
   "source": [
    "# The conversion path\n",
    "\n",
    "By default, the path followed to convert from one unit to other will be printed out.\n",
    "This behaviour can be changed using the function `print_path`.  \n",
    "\n",
    "## Printhing the conversion path"
   ]
  },
  {
   "cell_type": "code",
   "execution_count": 14,
   "id": "09fbe47f",
   "metadata": {
    "ExecuteTime": {
     "end_time": "2024-05-02T22:33:39.222852Z",
     "start_time": "2024-05-02T22:33:39.207895Z"
    }
   },
   "outputs": [
    {
     "data": {
      "text/plain": [
       "5.5_m"
      ]
     },
     "execution_count": 14,
     "metadata": {},
     "output_type": "execute_result"
    }
   ],
   "source": [
    "length_1 + length_2"
   ]
  },
  {
   "cell_type": "code",
   "execution_count": 15,
   "id": "53b24ec0",
   "metadata": {
    "ExecuteTime": {
     "end_time": "2024-05-02T22:33:39.238808Z",
     "start_time": "2024-05-02T22:33:39.223863Z"
    }
   },
   "outputs": [
    {
     "data": {
      "text/plain": [
       "6289.813999999999"
      ]
     },
     "execution_count": 15,
     "metadata": {},
     "output_type": "execute_result"
    }
   ],
   "source": [
    "convert(1, 'Ksm3', 'stb')"
   ]
  },
  {
   "cell_type": "markdown",
   "id": "ad977f2e",
   "metadata": {},
   "source": [
    "## Not printing the conversion path\n",
    "\n",
    "Set the `print_path` to `False`:"
   ]
  },
  {
   "cell_type": "code",
   "execution_count": 16,
   "id": "b6b7acc8",
   "metadata": {
    "ExecuteTime": {
     "end_time": "2024-05-02T22:33:39.253769Z",
     "start_time": "2024-05-02T22:33:39.240793Z"
    }
   },
   "outputs": [
    {
     "name": "stdout",
     "output_type": "stream",
     "text": [
      "print_path OFF\n"
     ]
    }
   ],
   "source": [
    "unyts.print_path(False)"
   ]
  },
  {
   "cell_type": "markdown",
   "id": "3ce3c1ce",
   "metadata": {},
   "source": [
    "From now, the conversion path will not be printed:"
   ]
  },
  {
   "cell_type": "code",
   "execution_count": 17,
   "id": "8560fce1",
   "metadata": {
    "ExecuteTime": {
     "end_time": "2024-05-02T22:33:39.268728Z",
     "start_time": "2024-05-02T22:33:39.255739Z"
    }
   },
   "outputs": [
    {
     "data": {
      "text/plain": [
       "5.5_m"
      ]
     },
     "execution_count": 17,
     "metadata": {},
     "output_type": "execute_result"
    }
   ],
   "source": [
    "length_1 + length_2"
   ]
  },
  {
   "cell_type": "markdown",
   "id": "4951cfda",
   "metadata": {},
   "source": [
    "This behaviour is saved into the init file, then it il be rememberd the next time `unyts` is used.  \n",
    "\n",
    "To print the conversion path again, simply set the parameter to True:"
   ]
  },
  {
   "cell_type": "code",
   "execution_count": 18,
   "id": "06c1b0cc",
   "metadata": {
    "ExecuteTime": {
     "end_time": "2024-05-02T22:33:39.283722Z",
     "start_time": "2024-05-02T22:33:39.269703Z"
    }
   },
   "outputs": [
    {
     "name": "stdout",
     "output_type": "stream",
     "text": [
      "print_path ON\n"
     ]
    }
   ],
   "source": [
    "unyts.print_path(True)"
   ]
  },
  {
   "cell_type": "code",
   "execution_count": 19,
   "id": "d9650574",
   "metadata": {
    "ExecuteTime": {
     "end_time": "2024-05-02T22:33:39.299193Z",
     "start_time": "2024-05-02T22:33:39.284719Z"
    }
   },
   "outputs": [
    {
     "name": "stderr",
     "output_type": "stream",
     "text": [
      "INFO:converting from 'cm' to 'm':\n",
      " cm > m\n"
     ]
    },
    {
     "data": {
      "text/plain": [
       "5.5_m"
      ]
     },
     "execution_count": 19,
     "metadata": {},
     "output_type": "execute_result"
    }
   ],
   "source": [
    "length_1 + length_2"
   ]
  },
  {
   "cell_type": "code",
   "execution_count": 20,
   "id": "d82a7042",
   "metadata": {
    "ExecuteTime": {
     "end_time": "2024-05-02T22:33:39.314155Z",
     "start_time": "2024-05-02T22:33:39.300200Z"
    }
   },
   "outputs": [
    {
     "name": "stderr",
     "output_type": "stream",
     "text": [
      "INFO:converting from 'in' to 'cm':\n",
      " in > inch > foot > yard > meter > m > cm\n"
     ]
    },
    {
     "data": {
      "text/plain": [
       "295.72_cm"
      ]
     },
     "execution_count": 20,
     "metadata": {},
     "output_type": "execute_result"
    }
   ],
   "source": [
    "length_2 + length_5"
   ]
  },
  {
   "cell_type": "markdown",
   "id": "c93933a1",
   "metadata": {},
   "source": [
    "Calling print_path without argument will change it from the current behaviour:"
   ]
  },
  {
   "cell_type": "code",
   "execution_count": 21,
   "id": "1c9d016e",
   "metadata": {
    "ExecuteTime": {
     "end_time": "2024-05-02T22:33:39.330103Z",
     "start_time": "2024-05-02T22:33:39.315148Z"
    }
   },
   "outputs": [
    {
     "name": "stdout",
     "output_type": "stream",
     "text": [
      "print_path OFF\n"
     ]
    }
   ],
   "source": [
    "unyts.print_path()"
   ]
  },
  {
   "cell_type": "code",
   "execution_count": 22,
   "id": "0eae16f0",
   "metadata": {
    "ExecuteTime": {
     "end_time": "2024-05-02T22:33:39.346079Z",
     "start_time": "2024-05-02T22:33:39.331108Z"
    }
   },
   "outputs": [
    {
     "name": "stdout",
     "output_type": "stream",
     "text": [
      "print_path ON\n"
     ]
    }
   ],
   "source": [
    "unyts.print_path()"
   ]
  },
  {
   "cell_type": "markdown",
   "id": "ed462a96",
   "metadata": {},
   "source": [
    "# Attributes of the `Unit` instances\n",
    "\n",
    "Two attributes can be handy for the user in certain applications:\n",
    "- `.value` contains the numeric value\n",
    "- `.unit` contains a string representing the units\n",
    "- `.name` contains a string representing the type of the units"
   ]
  },
  {
   "cell_type": "code",
   "execution_count": 23,
   "id": "4d05f021",
   "metadata": {
    "ExecuteTime": {
     "end_time": "2024-05-02T22:33:39.361001Z",
     "start_time": "2024-05-02T22:33:39.347038Z"
    }
   },
   "outputs": [
    {
     "data": {
      "text/plain": [
       "3"
      ]
     },
     "execution_count": 23,
     "metadata": {},
     "output_type": "execute_result"
    }
   ],
   "source": [
    "length_1.value"
   ]
  },
  {
   "cell_type": "code",
   "execution_count": 24,
   "id": "ce87ba8d",
   "metadata": {
    "ExecuteTime": {
     "end_time": "2024-05-02T22:33:39.375985Z",
     "start_time": "2024-05-02T22:33:39.362027Z"
    }
   },
   "outputs": [
    {
     "data": {
      "text/plain": [
       "'m'"
      ]
     },
     "execution_count": 24,
     "metadata": {},
     "output_type": "execute_result"
    }
   ],
   "source": [
    "length_1.unit"
   ]
  },
  {
   "cell_type": "code",
   "execution_count": 25,
   "id": "02d56d5e",
   "metadata": {
    "ExecuteTime": {
     "end_time": "2024-05-02T22:33:39.390922Z",
     "start_time": "2024-05-02T22:33:39.376958Z"
    }
   },
   "outputs": [
    {
     "data": {
      "text/plain": [
       "'length'"
      ]
     },
     "execution_count": 25,
     "metadata": {},
     "output_type": "execute_result"
    }
   ],
   "source": [
    "length_1.name"
   ]
  },
  {
   "cell_type": "markdown",
   "id": "664588a6",
   "metadata": {},
   "source": [
    "To get the `.value` or `.unit` attributes while coding, it could be safer to use ther respective getters:\n",
    "- `.get_value()`\n",
    "- `.get_unit()`"
   ]
  },
  {
   "cell_type": "code",
   "execution_count": 26,
   "id": "abf24b8f",
   "metadata": {
    "ExecuteTime": {
     "end_time": "2024-05-02T22:33:39.406422Z",
     "start_time": "2024-05-02T22:33:39.391920Z"
    }
   },
   "outputs": [
    {
     "data": {
      "text/plain": [
       "3"
      ]
     },
     "execution_count": 26,
     "metadata": {},
     "output_type": "execute_result"
    }
   ],
   "source": [
    "length_1.get_value()"
   ]
  },
  {
   "cell_type": "code",
   "execution_count": 27,
   "id": "e5cc368b",
   "metadata": {
    "ExecuteTime": {
     "end_time": "2024-05-02T22:33:39.422351Z",
     "start_time": "2024-05-02T22:33:39.408391Z"
    }
   },
   "outputs": [
    {
     "data": {
      "text/plain": [
       "'m'"
      ]
     },
     "execution_count": 27,
     "metadata": {},
     "output_type": "execute_result"
    }
   ],
   "source": [
    "length_1.get_unit()"
   ]
  },
  {
   "cell_type": "markdown",
   "id": "7fc852ba",
   "metadata": {},
   "source": [
    "# Arithmetic operations\n",
    "Simply operate with the instances of `Unit` as with regular Python variables:\n",
    "\n",
    "## Addition and substraction"
   ]
  },
  {
   "cell_type": "code",
   "execution_count": 28,
   "id": "d468e91f",
   "metadata": {
    "ExecuteTime": {
     "end_time": "2024-05-02T22:33:39.437339Z",
     "start_time": "2024-05-02T22:33:39.428361Z"
    }
   },
   "outputs": [
    {
     "name": "stderr",
     "output_type": "stream",
     "text": [
      "INFO:converting from 'cm' to 'm':\n",
      " cm > m\n"
     ]
    },
    {
     "name": "stdout",
     "output_type": "stream",
     "text": [
      "3_m + 250_cm = 5.5_m\n"
     ]
    }
   ],
   "source": [
    "print(length_1, '+', length_2, '=', length_1 + length_2)"
   ]
  },
  {
   "cell_type": "markdown",
   "id": "65d1346a",
   "metadata": {
    "ExecuteTime": {
     "end_time": "2022-12-31T12:32:32.312560Z",
     "start_time": "2022-12-31T12:32:32.295638Z"
    }
   },
   "source": [
    "I will turn the `print_path` to have clean output in the following operations."
   ]
  },
  {
   "cell_type": "code",
   "execution_count": 29,
   "id": "55ae2586",
   "metadata": {
    "ExecuteTime": {
     "end_time": "2024-05-02T22:33:39.453293Z",
     "start_time": "2024-05-02T22:33:39.438333Z"
    }
   },
   "outputs": [
    {
     "name": "stdout",
     "output_type": "stream",
     "text": [
      "print_path OFF\n"
     ]
    }
   ],
   "source": [
    "unyts.print_path(False)"
   ]
  },
  {
   "cell_type": "markdown",
   "id": "238ec305",
   "metadata": {},
   "source": [
    "All the units are **converted to the _first_ units** when making operations:"
   ]
  },
  {
   "cell_type": "code",
   "execution_count": 30,
   "id": "aa0b6d30",
   "metadata": {
    "ExecuteTime": {
     "end_time": "2024-05-02T22:33:39.468258Z",
     "start_time": "2024-05-02T22:33:39.454291Z"
    }
   },
   "outputs": [
    {
     "name": "stdout",
     "output_type": "stream",
     "text": [
      "3_m ** 2 + 6.5_ft * 250_cm\n",
      "9_m2 + 53.313648293963254_ft2\n",
      "= 13.953_m2\n"
     ]
    }
   ],
   "source": [
    "print(length_1, '** 2', '+', length_4, '*', length_2)\n",
    "print(length_1 ** 2, '+', length_4 * length_2)\n",
    "print('=', length_1 ** 2 + length_4 * length_2)"
   ]
  },
  {
   "cell_type": "markdown",
   "id": "821ed3b8",
   "metadata": {},
   "source": [
    "defining area units"
   ]
  },
  {
   "cell_type": "code",
   "execution_count": 31,
   "id": "6dc69eac",
   "metadata": {
    "ExecuteTime": {
     "end_time": "2024-05-02T22:33:39.483216Z",
     "start_time": "2024-05-02T22:33:39.469226Z"
    }
   },
   "outputs": [
    {
     "data": {
      "text/plain": [
       "12_m2"
      ]
     },
     "execution_count": 31,
     "metadata": {},
     "output_type": "execute_result"
    }
   ],
   "source": [
    "area_1 = units(12, 'm2')\n",
    "area_1"
   ]
  },
  {
   "cell_type": "markdown",
   "id": "f17d1552",
   "metadata": {},
   "source": [
    "and have their own subclass"
   ]
  },
  {
   "cell_type": "code",
   "execution_count": 32,
   "id": "c4dc0c62",
   "metadata": {
    "ExecuteTime": {
     "end_time": "2024-05-02T22:33:39.498755Z",
     "start_time": "2024-05-02T22:33:39.485186Z"
    }
   },
   "outputs": [
    {
     "data": {
      "text/plain": [
       "Area"
      ]
     },
     "execution_count": 32,
     "metadata": {},
     "output_type": "execute_result"
    }
   ],
   "source": [
    "type(area_1)"
   ]
  },
  {
   "cell_type": "markdown",
   "id": "35839aea",
   "metadata": {},
   "source": [
    "<font color='red'>Keep in mind that the **addition of different subclasses of Unit is not possible** and will return a `tuple` of both units:</font>"
   ]
  },
  {
   "cell_type": "code",
   "execution_count": 33,
   "id": "43fc242a",
   "metadata": {
    "ExecuteTime": {
     "end_time": "2024-05-02T22:33:39.514674Z",
     "start_time": "2024-05-02T22:33:39.499741Z"
    }
   },
   "outputs": [
    {
     "data": {
      "text/plain": [
       "(12_m2, 3_m)"
      ]
     },
     "execution_count": 33,
     "metadata": {},
     "output_type": "execute_result"
    }
   ],
   "source": [
    "(area_1 + length_1)"
   ]
  },
  {
   "cell_type": "markdown",
   "id": "e8ecfd12",
   "metadata": {},
   "source": [
    "Then, addition of tuples of Unit will simply return the contenation of the tuples:"
   ]
  },
  {
   "cell_type": "code",
   "execution_count": 34,
   "id": "49a47184",
   "metadata": {
    "ExecuteTime": {
     "end_time": "2024-05-02T22:33:39.530660Z",
     "start_time": "2024-05-02T22:33:39.515696Z"
    }
   },
   "outputs": [
    {
     "data": {
      "text/plain": [
       "(12_m2, 3_m, 12_m2, 250_cm)"
      ]
     },
     "execution_count": 34,
     "metadata": {},
     "output_type": "execute_result"
    }
   ],
   "source": [
    "(area_1 + length_1) + (area_1 + length_2)"
   ]
  },
  {
   "cell_type": "markdown",
   "id": "a9f02f6d",
   "metadata": {},
   "source": [
    "Further operations with these tuples of units is not yet implemented and will rise error or might return not the desired operation."
   ]
  },
  {
   "cell_type": "markdown",
   "id": "cb507b34",
   "metadata": {},
   "source": [
    "## Product and division\n",
    "Product of units return new units:"
   ]
  },
  {
   "cell_type": "code",
   "execution_count": 35,
   "id": "0b7a2182",
   "metadata": {
    "ExecuteTime": {
     "end_time": "2024-05-02T22:33:39.546617Z",
     "start_time": "2024-05-02T22:33:39.531628Z"
    }
   },
   "outputs": [
    {
     "data": {
      "text/plain": [
       "53.313648293963254_ft2"
      ]
     },
     "execution_count": 35,
     "metadata": {},
     "output_type": "execute_result"
    }
   ],
   "source": [
    "area_2 = length_4 * length_2\n",
    "area_2"
   ]
  },
  {
   "cell_type": "code",
   "execution_count": 36,
   "id": "c4876560",
   "metadata": {
    "ExecuteTime": {
     "end_time": "2024-05-02T22:33:39.561577Z",
     "start_time": "2024-05-02T22:33:39.548583Z"
    }
   },
   "outputs": [
    {
     "data": {
      "text/plain": [
       "524.740632814599_ft3"
      ]
     },
     "execution_count": 36,
     "metadata": {},
     "output_type": "execute_result"
    }
   ],
   "source": [
    "area_2 * length_1"
   ]
  },
  {
   "cell_type": "markdown",
   "id": "82178d4f",
   "metadata": {},
   "source": [
    "Division of units return new units as well:"
   ]
  },
  {
   "cell_type": "code",
   "execution_count": 37,
   "id": "b787e5b1",
   "metadata": {
    "ExecuteTime": {
     "end_time": "2024-05-02T22:33:39.576532Z",
     "start_time": "2024-05-02T22:33:39.562547Z"
    }
   },
   "outputs": [
    {
     "data": {
      "text/plain": [
       "5.416666666666666_ft"
      ]
     },
     "execution_count": 37,
     "metadata": {},
     "output_type": "execute_result"
    }
   ],
   "source": [
    "area_2 / length_1"
   ]
  },
  {
   "cell_type": "markdown",
   "id": "99723d5a",
   "metadata": {},
   "source": [
    "## Operations with _not_-`Unit` instances\n",
    "\n",
    "It is possible to make algebraic operations of `Unit` with adimensional numbers (`int`, `float`).  \n",
    "The behaviour will depend on the operation:\n",
    "- addition: will _assume_ the adimensional number as the same units of the instance\n",
    "- product: will simple multiply the value of the unyt number\n",
    "  \n",
    "Recall that the variable `length_1` contains *3_m*:"
   ]
  },
  {
   "cell_type": "code",
   "execution_count": 38,
   "id": "cae1a535",
   "metadata": {
    "ExecuteTime": {
     "end_time": "2024-05-02T22:33:39.592526Z",
     "start_time": "2024-05-02T22:33:39.577544Z"
    }
   },
   "outputs": [
    {
     "data": {
      "text/plain": [
       "3_m"
      ]
     },
     "execution_count": 38,
     "metadata": {},
     "output_type": "execute_result"
    }
   ],
   "source": [
    "length_1"
   ]
  },
  {
   "cell_type": "markdown",
   "id": "95fb54a6",
   "metadata": {},
   "source": [
    "now let's try some operations:"
   ]
  },
  {
   "cell_type": "code",
   "execution_count": 39,
   "id": "371a5220",
   "metadata": {
    "ExecuteTime": {
     "end_time": "2024-05-02T22:33:39.607992Z",
     "start_time": "2024-05-02T22:33:39.594490Z"
    }
   },
   "outputs": [
    {
     "data": {
      "text/plain": [
       "9_m"
      ]
     },
     "execution_count": 39,
     "metadata": {},
     "output_type": "execute_result"
    }
   ],
   "source": [
    "length_1 * 3"
   ]
  },
  {
   "cell_type": "code",
   "execution_count": 40,
   "id": "5b05e160",
   "metadata": {
    "ExecuteTime": {
     "end_time": "2024-05-02T22:33:39.623950Z",
     "start_time": "2024-05-02T22:33:39.608966Z"
    }
   },
   "outputs": [
    {
     "data": {
      "text/plain": [
       "1.5_m"
      ]
     },
     "execution_count": 40,
     "metadata": {},
     "output_type": "execute_result"
    }
   ],
   "source": [
    "length_1 / 2"
   ]
  },
  {
   "cell_type": "code",
   "execution_count": 41,
   "id": "0e77a1c8",
   "metadata": {
    "ExecuteTime": {
     "end_time": "2024-05-02T22:33:39.639910Z",
     "start_time": "2024-05-02T22:33:39.624922Z"
    }
   },
   "outputs": [
    {
     "data": {
      "text/plain": [
       "5_m"
      ]
     },
     "execution_count": 41,
     "metadata": {},
     "output_type": "execute_result"
    }
   ],
   "source": [
    "length_1 + 2"
   ]
  },
  {
   "cell_type": "markdown",
   "id": "da2525a5",
   "metadata": {},
   "source": [
    "# Logical operations\n",
    "\n",
    "Logical operators transform second value to the units of first value before comparing"
   ]
  },
  {
   "cell_type": "code",
   "execution_count": 42,
   "id": "6804307f",
   "metadata": {
    "ExecuteTime": {
     "end_time": "2024-05-02T22:33:39.655863Z",
     "start_time": "2024-05-02T22:33:39.640881Z"
    }
   },
   "outputs": [
    {
     "name": "stdout",
     "output_type": "stream",
     "text": [
      "length_4: 6.5_ft equivalent to 198.12_cm\n",
      "length_2: 250_cm equivalent to 8.202099737532809_ft\n",
      "6.5_ft > 250_cm\n"
     ]
    },
    {
     "data": {
      "text/plain": [
       "False"
      ]
     },
     "execution_count": 42,
     "metadata": {},
     "output_type": "execute_result"
    }
   ],
   "source": [
    "print('length_4:', length_4 , 'equivalent to', length_4.to('cm'))\n",
    "print('length_2:', length_2 , 'equivalent to', length_2.to(length_4))\n",
    "\n",
    "print(length_4, '>', length_2)\n",
    "length_4 > length_2"
   ]
  },
  {
   "cell_type": "code",
   "execution_count": 43,
   "id": "3d8c92aa",
   "metadata": {
    "ExecuteTime": {
     "end_time": "2024-05-02T22:33:39.670823Z",
     "start_time": "2024-05-02T22:33:39.656859Z"
    }
   },
   "outputs": [
    {
     "name": "stdout",
     "output_type": "stream",
     "text": [
      "area_1: 12_m2\n",
      "area_2: 53.313648293963254_ft2\n",
      "12_m2 < 53.313648293963254_ft2\n"
     ]
    },
    {
     "data": {
      "text/plain": [
       "False"
      ]
     },
     "execution_count": 43,
     "metadata": {},
     "output_type": "execute_result"
    }
   ],
   "source": [
    "print('area_1:', area_1)\n",
    "print('area_2:', area_2)\n",
    "\n",
    "print(area_1, '<', area_2)\n",
    "area_1 < area_2"
   ]
  },
  {
   "cell_type": "code",
   "execution_count": 44,
   "id": "ea7104d4",
   "metadata": {
    "ExecuteTime": {
     "end_time": "2024-05-02T22:33:39.686777Z",
     "start_time": "2024-05-02T22:33:39.671822Z"
    }
   },
   "outputs": [
    {
     "data": {
      "text/plain": [
       "True"
      ]
     },
     "execution_count": 44,
     "metadata": {},
     "output_type": "execute_result"
    }
   ],
   "source": [
    "area_1 / 10 < area_2"
   ]
  },
  {
   "cell_type": "markdown",
   "id": "43f24485",
   "metadata": {},
   "source": [
    "# The `.to()` method\n",
    "Use the method **`.to`** to convert the instance value to other units of the same kind:"
   ]
  },
  {
   "cell_type": "code",
   "execution_count": 45,
   "id": "3127970f",
   "metadata": {
    "ExecuteTime": {
     "end_time": "2024-05-02T22:33:39.702260Z",
     "start_time": "2024-05-02T22:33:39.688754Z"
    }
   },
   "outputs": [
    {
     "data": {
      "text/plain": [
       "4.953_m2"
      ]
     },
     "execution_count": 45,
     "metadata": {},
     "output_type": "execute_result"
    }
   ],
   "source": [
    "area_2.to('m2')"
   ]
  },
  {
   "cell_type": "code",
   "execution_count": 46,
   "id": "b1a4b901",
   "metadata": {
    "ExecuteTime": {
     "end_time": "2024-05-02T22:33:39.718215Z",
     "start_time": "2024-05-02T22:33:39.703229Z"
    }
   },
   "outputs": [
    {
     "data": {
      "text/plain": [
       "2.9652645776059843_acre"
      ]
     },
     "execution_count": 46,
     "metadata": {},
     "output_type": "execute_result"
    }
   ],
   "source": [
    "1000*area_1.to('acre')"
   ]
  },
  {
   "cell_type": "code",
   "execution_count": 47,
   "id": "f8a2198c",
   "metadata": {
    "ExecuteTime": {
     "end_time": "2024-05-02T22:33:39.734169Z",
     "start_time": "2024-05-02T22:33:39.719216Z"
    }
   },
   "outputs": [
    {
     "data": {
      "text/plain": [
       "0.333_l"
      ]
     },
     "execution_count": 47,
     "metadata": {},
     "output_type": "execute_result"
    }
   ],
   "source": [
    "units(333, 'cc').to('l')"
   ]
  },
  {
   "cell_type": "code",
   "execution_count": 48,
   "id": "5be5afd2",
   "metadata": {
    "ExecuteTime": {
     "end_time": "2024-05-02T22:33:39.749132Z",
     "start_time": "2024-05-02T22:33:39.735143Z"
    }
   },
   "outputs": [
    {
     "name": "stdout",
     "output_type": "stream",
     "text": [
      "print_path ON\n"
     ]
    }
   ],
   "source": [
    "# let's print the following conversion\n",
    "unyts.print_path(True)"
   ]
  },
  {
   "cell_type": "code",
   "execution_count": 49,
   "id": "cff4f6d6",
   "metadata": {
    "ExecuteTime": {
     "end_time": "2024-05-02T22:33:39.765086Z",
     "start_time": "2024-05-02T22:33:39.750103Z"
    }
   },
   "outputs": [
    {
     "name": "stderr",
     "output_type": "stream",
     "text": [
      "INFO:converting from 'ml' to 'oz':\n",
      " ml > millilitre > cubic centimeter > cm3 > m3 > standard cubic meter > standard barrel > USgal > gallonUS > fluid ounce > oz\n"
     ]
    },
    {
     "data": {
      "text/plain": [
       "11.260075341312_oz"
      ]
     },
     "execution_count": 49,
     "metadata": {},
     "output_type": "execute_result"
    }
   ],
   "source": [
    "units(333, 'ml').to('oz')"
   ]
  },
  {
   "cell_type": "code",
   "execution_count": 50,
   "id": "b2c3b5e3",
   "metadata": {
    "ExecuteTime": {
     "end_time": "2024-05-02T22:33:39.780049Z",
     "start_time": "2024-05-02T22:33:39.766060Z"
    }
   },
   "outputs": [
    {
     "name": "stdout",
     "output_type": "stream",
     "text": [
      "print_path OFF\n"
     ]
    }
   ],
   "source": [
    "unyts.print_path(False)"
   ]
  },
  {
   "cell_type": "markdown",
   "id": "407c6f39",
   "metadata": {},
   "source": [
    "# Examples of use\n",
    "\n",
    "_area_ times _length_ returns _volume_"
   ]
  },
  {
   "cell_type": "code",
   "execution_count": 51,
   "id": "46b16960",
   "metadata": {
    "ExecuteTime": {
     "end_time": "2024-05-02T22:33:39.796586Z",
     "start_time": "2024-05-02T22:33:39.781055Z"
    }
   },
   "outputs": [
    {
     "name": "stdout",
     "output_type": "stream",
     "text": [
      "type: Volume\n"
     ]
    },
    {
     "data": {
      "text/plain": [
       "36_m3"
      ]
     },
     "execution_count": 51,
     "metadata": {},
     "output_type": "execute_result"
    }
   ],
   "source": [
    "volume_1 = area_1 * length_1\n",
    "print('type:', type(volume_1))\n",
    "volume_1"
   ]
  },
  {
   "cell_type": "markdown",
   "id": "8e265fd6",
   "metadata": {},
   "source": [
    "This _volume_ divided by _time_ returns _rate_:"
   ]
  },
  {
   "cell_type": "code",
   "execution_count": 52,
   "id": "d3104d67",
   "metadata": {
    "ExecuteTime": {
     "end_time": "2024-05-02T22:33:40.217850Z",
     "start_time": "2024-05-02T22:33:39.797628Z"
    }
   },
   "outputs": [
    {
     "name": "stdout",
     "output_type": "stream",
     "text": [
      "type: Rate\n",
      "36.0_m3/day\n",
      "36.0_m3/day to field units: 226.433304_stb/day\n",
      "36.0_m3/day to litres per hour: 1500.0_l/hr\n",
      "or in thousand cubic feer over one year: 464.3525527208535_Mscf/year\n"
     ]
    }
   ],
   "source": [
    "rate_1 = volume_1 / units(1, 'day')\n",
    "print('type:', type(rate_1))\n",
    "print(rate_1)\n",
    "print(rate_1, 'to field units:', rate_1.to('stb/day'))\n",
    "print(rate_1, 'to litres per hour:', rate_1.to('l/hr'))\n",
    "print('or in thousand cubic feer over one year:', rate_1.to('Mscf/year'))"
   ]
  },
  {
   "cell_type": "markdown",
   "id": "c2208527",
   "metadata": {},
   "source": [
    "Multiple products and conversions:"
   ]
  },
  {
   "cell_type": "code",
   "execution_count": 53,
   "id": "f27c2dcc",
   "metadata": {
    "ExecuteTime": {
     "end_time": "2024-05-02T22:33:40.233818Z",
     "start_time": "2024-05-02T22:33:40.218814Z"
    }
   },
   "outputs": [
    {
     "data": {
      "text/plain": [
       "524.740632814599_ft3"
      ]
     },
     "execution_count": 53,
     "metadata": {},
     "output_type": "execute_result"
    }
   ],
   "source": [
    "volume_2 = length_4 * length_3 * length_2\n",
    "volume_2"
   ]
  },
  {
   "cell_type": "code",
   "execution_count": 54,
   "id": "11126ad7",
   "metadata": {
    "ExecuteTime": {
     "end_time": "2024-05-02T22:33:40.248761Z",
     "start_time": "2024-05-02T22:33:40.235796Z"
    }
   },
   "outputs": [
    {
     "data": {
      "text/plain": [
       "14.859000000000002_m3"
      ]
     },
     "execution_count": 54,
     "metadata": {},
     "output_type": "execute_result"
    }
   ],
   "source": [
    "volume_2.to('m3')"
   ]
  },
  {
   "cell_type": "code",
   "execution_count": 55,
   "id": "cc1de45c",
   "metadata": {
    "ExecuteTime": {
     "end_time": "2024-05-02T22:33:40.263721Z",
     "start_time": "2024-05-02T22:33:40.250730Z"
    }
   },
   "outputs": [
    {
     "data": {
      "text/plain": [
       "524.740632814599_scf"
      ]
     },
     "execution_count": 55,
     "metadata": {},
     "output_type": "execute_result"
    }
   ],
   "source": [
    "volume_2.to('scf')"
   ]
  },
  {
   "cell_type": "code",
   "execution_count": 56,
   "id": "8d315f07",
   "metadata": {
    "ExecuteTime": {
     "end_time": "2024-05-02T22:33:40.278677Z",
     "start_time": "2024-05-02T22:33:40.265690Z"
    }
   },
   "outputs": [
    {
     "data": {
      "text/plain": [
       "93.4602871405253_stb"
      ]
     },
     "execution_count": 56,
     "metadata": {},
     "output_type": "execute_result"
    }
   ],
   "source": [
    "volume_2.to('stb')"
   ]
  },
  {
   "cell_type": "code",
   "execution_count": 57,
   "id": "a793e510",
   "metadata": {
    "ExecuteTime": {
     "end_time": "2024-05-02T22:33:40.294643Z",
     "start_time": "2024-05-02T22:33:40.279675Z"
    }
   },
   "outputs": [
    {
     "data": {
      "text/plain": [
       "True"
      ]
     },
     "execution_count": 57,
     "metadata": {},
     "output_type": "execute_result"
    }
   ],
   "source": [
    "volume_2.to('stb') == volume_2"
   ]
  },
  {
   "cell_type": "code",
   "execution_count": 58,
   "id": "e51253ac",
   "metadata": {
    "ExecuteTime": {
     "end_time": "2024-05-02T22:33:40.776760Z",
     "start_time": "2024-05-02T22:33:40.295657Z"
    }
   },
   "outputs": [
    {
     "name": "stdout",
     "output_type": "stream",
     "text": [
      "524.740632814599_ft3 / 53.313648293963254_ft2 = 9.842519685039372_ft\n"
     ]
    }
   ],
   "source": [
    "print(volume_2, '/', area_2, '=', volume_2/area_2)"
   ]
  },
  {
   "cell_type": "code",
   "execution_count": 59,
   "id": "14775624",
   "metadata": {
    "ExecuteTime": {
     "end_time": "2024-05-02T22:33:41.198261Z",
     "start_time": "2024-05-02T22:33:40.778726Z"
    }
   },
   "outputs": [
    {
     "name": "stdout",
     "output_type": "stream",
     "text": [
      "36_m3 / 53.313648293963254_ft2 = 2.2153846153846155_m\n"
     ]
    }
   ],
   "source": [
    "print(volume_1, '/', area_2, '=', volume_1/area_2)"
   ]
  },
  {
   "cell_type": "code",
   "execution_count": 60,
   "id": "29635a83",
   "metadata": {
    "ExecuteTime": {
     "end_time": "2024-05-02T22:33:41.214316Z",
     "start_time": "2024-05-02T22:33:41.199259Z"
    }
   },
   "outputs": [
    {
     "name": "stdout",
     "output_type": "stream",
     "text": [
      "type: Time\n"
     ]
    },
    {
     "data": {
      "text/plain": [
       "1.5_hr"
      ]
     },
     "execution_count": 60,
     "metadata": {},
     "output_type": "execute_result"
    }
   ],
   "source": [
    "time_1 = units(1.5, 'hr')\n",
    "print('type:', type(time_1))\n",
    "time_1"
   ]
  },
  {
   "cell_type": "code",
   "execution_count": 61,
   "id": "1872a59d",
   "metadata": {
    "ExecuteTime": {
     "end_time": "2024-05-02T22:33:41.229909Z",
     "start_time": "2024-05-02T22:33:41.215289Z"
    }
   },
   "outputs": [
    {
     "data": {
      "text/plain": [
       "90.0_min"
      ]
     },
     "execution_count": 61,
     "metadata": {},
     "output_type": "execute_result"
    }
   ],
   "source": [
    "time_1.to('min')"
   ]
  },
  {
   "cell_type": "code",
   "execution_count": 62,
   "id": "cd0d1f6f",
   "metadata": {
    "ExecuteTime": {
     "end_time": "2024-05-02T22:33:41.245579Z",
     "start_time": "2024-05-02T22:33:41.231903Z"
    }
   },
   "outputs": [
    {
     "data": {
      "text/plain": [
       "5_sec"
      ]
     },
     "execution_count": 62,
     "metadata": {},
     "output_type": "execute_result"
    }
   ],
   "source": [
    "time_2 = units(5, 'sec')\n",
    "time_2"
   ]
  },
  {
   "cell_type": "code",
   "execution_count": 63,
   "id": "36f7eb88",
   "metadata": {
    "ExecuteTime": {
     "end_time": "2024-05-02T22:33:41.787899Z",
     "start_time": "2024-05-02T22:33:41.247549Z"
    }
   },
   "outputs": [
    {
     "name": "stdout",
     "output_type": "stream",
     "text": [
      "type: Velocity\n"
     ]
    },
    {
     "data": {
      "text/plain": [
       "1.3_ft/sec"
      ]
     },
     "execution_count": 63,
     "metadata": {},
     "output_type": "execute_result"
    }
   ],
   "source": [
    "speed_1 = length_4 / time_2\n",
    "print('type:', type(speed_1))\n",
    "speed_1"
   ]
  },
  {
   "cell_type": "code",
   "execution_count": 64,
   "id": "7cebaacf",
   "metadata": {
    "ExecuteTime": {
     "end_time": "2024-05-02T22:33:41.803359Z",
     "start_time": "2024-05-02T22:33:41.789866Z"
    }
   },
   "outputs": [
    {
     "data": {
      "text/plain": [
       "1.4264640000000002_km/hr"
      ]
     },
     "execution_count": 64,
     "metadata": {},
     "output_type": "execute_result"
    }
   ],
   "source": [
    "speed_1.to('km/hr')"
   ]
  },
  {
   "cell_type": "code",
   "execution_count": 65,
   "id": "4d95e86f",
   "metadata": {
    "ExecuteTime": {
     "end_time": "2024-05-02T22:33:42.345029Z",
     "start_time": "2024-05-02T22:33:41.805383Z"
    }
   },
   "outputs": [
    {
     "data": {
      "text/plain": [
       "100_km/hr"
      ]
     },
     "execution_count": 65,
     "metadata": {},
     "output_type": "execute_result"
    }
   ],
   "source": [
    "speed_2 = units(100, 'km/hr')\n",
    "speed_2"
   ]
  },
  {
   "cell_type": "code",
   "execution_count": 66,
   "id": "1d5bdece",
   "metadata": {
    "ExecuteTime": {
     "end_time": "2024-05-02T22:33:42.360175Z",
     "start_time": "2024-05-02T22:33:42.347024Z"
    }
   },
   "outputs": [
    {
     "data": {
      "text/plain": [
       "62.13711922373341_mi/hr"
      ]
     },
     "execution_count": 66,
     "metadata": {},
     "output_type": "execute_result"
    }
   ],
   "source": [
    "speed_2.to('mi/hr')"
   ]
  },
  {
   "cell_type": "code",
   "execution_count": 67,
   "id": "d69d3574",
   "metadata": {
    "ExecuteTime": {
     "end_time": "2024-05-02T22:33:42.779441Z",
     "start_time": "2024-05-02T22:33:42.361208Z"
    }
   },
   "outputs": [
    {
     "name": "stdout",
     "output_type": "stream",
     "text": [
      "type: ProductivityIndex\n"
     ]
    },
    {
     "data": {
      "text/plain": [
       "2.7_stb/day/psia"
      ]
     },
     "execution_count": 67,
     "metadata": {},
     "output_type": "execute_result"
    }
   ],
   "source": [
    "productivity_index_1 = units(2.7, 'stb/day/psia')\n",
    "print('type:', type(productivity_index_1))\n",
    "productivity_index_1"
   ]
  },
  {
   "cell_type": "code",
   "execution_count": 68,
   "id": "c5c7a2ff",
   "metadata": {
    "ExecuteTime": {
     "end_time": "2024-05-02T22:33:43.014596Z",
     "start_time": "2024-05-02T22:33:42.781436Z"
    }
   },
   "outputs": [
    {
     "data": {
      "text/plain": [
       "6.225969351032321_sm3/day/barsa"
      ]
     },
     "execution_count": 68,
     "metadata": {},
     "output_type": "execute_result"
    }
   ],
   "source": [
    "productivity_index_1.to('sm3/day/barsa')"
   ]
  },
  {
   "cell_type": "code",
   "execution_count": 69,
   "id": "789ca0cf",
   "metadata": {
    "ExecuteTime": {
     "end_time": "2024-05-02T22:33:43.201767Z",
     "start_time": "2024-05-02T22:33:43.015620Z"
    }
   },
   "outputs": [
    {
     "data": {
      "text/plain": [
       "43.2358982710578_cc/min/kPa"
      ]
     },
     "execution_count": 69,
     "metadata": {},
     "output_type": "execute_result"
    }
   ],
   "source": [
    "productivity_index_1.to('cc/min/kPa')"
   ]
  },
  {
   "cell_type": "markdown",
   "id": "a2601c05",
   "metadata": {},
   "source": [
    "# Working with NumPy arrays\n",
    "simply provide the array as the first argument of **`units()`** function:"
   ]
  },
  {
   "cell_type": "code",
   "execution_count": 70,
   "id": "e4119421",
   "metadata": {
    "ExecuteTime": {
     "end_time": "2024-05-02T22:33:43.216741Z",
     "start_time": "2024-05-02T22:33:43.202763Z"
    }
   },
   "outputs": [],
   "source": [
    "import numpy as np"
   ]
  },
  {
   "cell_type": "code",
   "execution_count": 71,
   "id": "c4f0c7af",
   "metadata": {
    "ExecuteTime": {
     "end_time": "2024-05-02T22:33:43.231932Z",
     "start_time": "2024-05-02T22:33:43.217609Z"
    }
   },
   "outputs": [
    {
     "data": {
      "text/plain": [
       "array([0.17449923, 0.85312887, 0.45973831, 0.94159749, 0.68859609,\n",
       "       0.1881126 , 0.37739591, 0.3789477 , 0.08872302, 0.69691619])"
      ]
     },
     "execution_count": 71,
     "metadata": {},
     "output_type": "execute_result"
    }
   ],
   "source": [
    "array_1 = np.random.rand(10)\n",
    "array_1"
   ]
  },
  {
   "cell_type": "code",
   "execution_count": 72,
   "id": "ccd6be22",
   "metadata": {
    "ExecuteTime": {
     "end_time": "2024-05-02T22:33:43.247669Z",
     "start_time": "2024-05-02T22:33:43.233902Z"
    }
   },
   "outputs": [],
   "source": [
    "mass_1 = units(array_1, 'kg')"
   ]
  },
  {
   "cell_type": "code",
   "execution_count": 73,
   "id": "3de66b00",
   "metadata": {
    "ExecuteTime": {
     "end_time": "2024-05-02T22:33:43.262659Z",
     "start_time": "2024-05-02T22:33:43.248667Z"
    }
   },
   "outputs": [
    {
     "data": {
      "text/plain": [
       "[0.17449923 0.85312887 0.45973831 0.94159749 0.68859609 0.1881126\n",
       " 0.37739591 0.3789477  0.08872302 0.69691619]_kg"
      ]
     },
     "execution_count": 73,
     "metadata": {},
     "output_type": "execute_result"
    }
   ],
   "source": [
    "mass_1"
   ]
  },
  {
   "cell_type": "code",
   "execution_count": 74,
   "id": "4c965bb1",
   "metadata": {
    "ExecuteTime": {
     "end_time": "2024-05-02T22:33:43.278611Z",
     "start_time": "2024-05-02T22:33:43.263627Z"
    }
   },
   "outputs": [
    {
     "data": {
      "text/plain": [
       "[174.49922552 853.12887325 459.73831065 941.59749285 688.59609175\n",
       " 188.11260109 377.3959105  378.94769615  88.72301539 696.91618745]_g"
      ]
     },
     "execution_count": 74,
     "metadata": {},
     "output_type": "execute_result"
    }
   ],
   "source": [
    "mass_1.to('g')"
   ]
  },
  {
   "cell_type": "code",
   "execution_count": 75,
   "id": "e02b45e8",
   "metadata": {
    "ExecuteTime": {
     "end_time": "2024-05-02T22:33:43.294688Z",
     "start_time": "2024-05-02T22:33:43.280615Z"
    }
   },
   "outputs": [
    {
     "data": {
      "text/plain": [
       "[0.61492258 0.29476799 0.38736198 0.98844546 0.85381453 0.88139454\n",
       " 0.71847189 0.92517157 0.78169695 0.47911617]_lb"
      ]
     },
     "execution_count": 75,
     "metadata": {},
     "output_type": "execute_result"
    }
   ],
   "source": [
    "mass_2 = units(np.random.rand(10), 'lb')\n",
    "mass_2"
   ]
  },
  {
   "cell_type": "code",
   "execution_count": 76,
   "id": "753725fe",
   "metadata": {
    "ExecuteTime": {
     "end_time": "2024-05-02T22:33:43.310230Z",
     "start_time": "2024-05-02T22:33:43.296657Z"
    }
   },
   "outputs": [
    {
     "data": {
      "text/plain": [
       "[0.99962752 2.17559521 1.40091146 3.06431259 2.37190906 1.29611183\n",
       " 1.55048745 1.76060824 0.97729772 2.01555336]_lb"
      ]
     },
     "execution_count": 76,
     "metadata": {},
     "output_type": "execute_result"
    }
   ],
   "source": [
    "mass_2 + mass_1"
   ]
  },
  {
   "cell_type": "markdown",
   "id": "21b99062",
   "metadata": {},
   "source": [
    "# The `convert` function\n",
    "The units converter function, **`convert()`** can be used directly, providing the following arguments:\n",
    "- `value`: _int_, _float_, _np.array_, etc, the value to be converted\n",
    "- `from_units`: _str_ the input units\n",
    "- `to_units`: _str_, the desired output units\n",
    "- `print_path`: [optional] _bool_, set to True to request printing the conversion path. Default behaviour is defined by the `print_path()` setting."
   ]
  },
  {
   "cell_type": "code",
   "execution_count": 77,
   "id": "2b937728",
   "metadata": {
    "ExecuteTime": {
     "end_time": "2024-05-02T22:33:43.326169Z",
     "start_time": "2024-05-02T22:33:43.312227Z"
    }
   },
   "outputs": [
    {
     "data": {
      "text/plain": [
       "14"
      ]
     },
     "execution_count": 77,
     "metadata": {},
     "output_type": "execute_result"
    }
   ],
   "source": [
    "convert(2, 'week', 'day')"
   ]
  },
  {
   "cell_type": "code",
   "execution_count": 78,
   "id": "4e5639bb",
   "metadata": {
    "ExecuteTime": {
     "end_time": "2024-05-02T22:33:43.341119Z",
     "start_time": "2024-05-02T22:33:43.328154Z"
    }
   },
   "outputs": [
    {
     "data": {
      "text/plain": [
       "1440"
      ]
     },
     "execution_count": 78,
     "metadata": {},
     "output_type": "execute_result"
    }
   ],
   "source": [
    "convert(1, 'day', 'minute')"
   ]
  },
  {
   "cell_type": "code",
   "execution_count": 79,
   "id": "0474f3e6",
   "metadata": {
    "ExecuteTime": {
     "end_time": "2024-05-02T22:33:43.356107Z",
     "start_time": "2024-05-02T22:33:43.343114Z"
    }
   },
   "outputs": [
    {
     "name": "stderr",
     "output_type": "stream",
     "text": [
      "INFO:converting from 'week' to 'second':\n",
      " week > day > hour > minute > second\n"
     ]
    },
    {
     "data": {
      "text/plain": [
       "604800"
      ]
     },
     "execution_count": 79,
     "metadata": {},
     "output_type": "execute_result"
    }
   ],
   "source": [
    "convert(1, 'week', 'second', True)"
   ]
  },
  {
   "cell_type": "code",
   "execution_count": 80,
   "id": "8c34ecfc",
   "metadata": {
    "ExecuteTime": {
     "end_time": "2024-05-02T22:33:43.403008Z",
     "start_time": "2024-05-02T22:33:43.357078Z"
    }
   },
   "outputs": [
    {
     "name": "stderr",
     "output_type": "stream",
     "text": [
      "INFO:converting from 'psia' to 'g/cm2':\n",
      " psia > absolute psi > lb/in2 > lb > pound > kilogram > kg > g / 1 in2 > square inch > square foot > square meter > m2 > cm2\n"
     ]
    },
    {
     "data": {
      "text/plain": [
       "70.30695796391595"
      ]
     },
     "execution_count": 80,
     "metadata": {},
     "output_type": "execute_result"
    }
   ],
   "source": [
    "convert(1, 'psia', 'g/cm2', True)"
   ]
  },
  {
   "cell_type": "markdown",
   "id": "8f558f37",
   "metadata": {},
   "source": [
    "- optional, fourth argument set to **True** will return the conversion path.   \n",
    "To avoid anoying print outs, the conversion path is printed only the first time it is used:"
   ]
  },
  {
   "cell_type": "code",
   "execution_count": 81,
   "id": "4fe90dc5",
   "metadata": {
    "ExecuteTime": {
     "end_time": "2024-05-02T22:33:43.418520Z",
     "start_time": "2024-05-02T22:33:43.403983Z"
    }
   },
   "outputs": [
    {
     "name": "stderr",
     "output_type": "stream",
     "text": [
      "INFO:converting from 'nautical mile' to 'km':\n",
      " nautical mile > meter > m > km\n"
     ]
    },
    {
     "data": {
      "text/plain": [
       "1.852"
      ]
     },
     "execution_count": 81,
     "metadata": {},
     "output_type": "execute_result"
    }
   ],
   "source": [
    "convert(1, 'nautical mile', 'km', True)"
   ]
  },
  {
   "cell_type": "code",
   "execution_count": 82,
   "id": "12189df7",
   "metadata": {
    "ExecuteTime": {
     "end_time": "2024-05-02T22:33:43.449436Z",
     "start_time": "2024-05-02T22:33:43.430458Z"
    }
   },
   "outputs": [
    {
     "name": "stderr",
     "output_type": "stream",
     "text": [
      "INFO:converting from 'm3/month' to 'l/day':\n",
      " m3 > cm3 > cubic centimeter > millilitre > ml > l / 1 month > day\n"
     ]
    },
    {
     "data": {
      "text/plain": [
       "985.6262833675565"
      ]
     },
     "execution_count": 82,
     "metadata": {},
     "output_type": "execute_result"
    }
   ],
   "source": [
    "convert(30, 'm3/month', 'l/day', True)"
   ]
  },
  {
   "cell_type": "code",
   "execution_count": 83,
   "id": "05ce65f0",
   "metadata": {
    "ExecuteTime": {
     "end_time": "2024-05-02T22:33:43.465390Z",
     "start_time": "2024-05-02T22:33:43.451402Z"
    }
   },
   "outputs": [
    {
     "name": "stderr",
     "output_type": "stream",
     "text": [
      "INFO:converting from 'psi/ft' to 'bar/m':\n",
      " psi > bar / 1 ft > foot > yard > meter > m\n"
     ]
    },
    {
     "data": {
      "text/plain": [
       "0.07917208177742135"
      ]
     },
     "execution_count": 83,
     "metadata": {},
     "output_type": "execute_result"
    }
   ],
   "source": [
    "convert(0.35, 'psi/ft', 'bar/m', True)"
   ]
  },
  {
   "cell_type": "code",
   "execution_count": 84,
   "id": "c61b97c1",
   "metadata": {
    "ExecuteTime": {
     "end_time": "2024-05-02T22:33:43.480356Z",
     "start_time": "2024-05-02T22:33:43.466390Z"
    }
   },
   "outputs": [
    {
     "name": "stderr",
     "output_type": "stream",
     "text": [
      "INFO:converting from 'psi/ft' to 'g/cc':\n",
      " psi/ft > psia/ft > lb/ft3 > g/cm3 > g/cc\n"
     ]
    },
    {
     "data": {
      "text/plain": [
       "0.8073305540475911"
      ]
     },
     "execution_count": 84,
     "metadata": {},
     "output_type": "execute_result"
    }
   ],
   "source": [
    "convert(0.35, 'psi/ft', 'g/cc', True)"
   ]
  },
  {
   "cell_type": "code",
   "execution_count": 85,
   "id": "5d9b6e3c",
   "metadata": {
    "ExecuteTime": {
     "end_time": "2024-05-02T22:33:43.495346Z",
     "start_time": "2024-05-02T22:33:43.481323Z"
    }
   },
   "outputs": [
    {
     "name": "stderr",
     "output_type": "stream",
     "text": [
      "INFO:converting from 'bar/m' to 'psi/ft':\n",
      " bar > psi / 1 m > meter > yard > foot > ft\n"
     ]
    },
    {
     "data": {
      "text/plain": [
       "0.3499999999999999"
      ]
     },
     "execution_count": 85,
     "metadata": {},
     "output_type": "execute_result"
    }
   ],
   "source": [
    "convert(0.07917208177742135, 'bar/m', 'psi/ft', True)"
   ]
  },
  {
   "cell_type": "code",
   "execution_count": 86,
   "id": "7d7ee781",
   "metadata": {
    "ExecuteTime": {
     "end_time": "2024-05-02T22:33:43.510845Z",
     "start_time": "2024-05-02T22:33:43.497311Z"
    }
   },
   "outputs": [
    {
     "name": "stderr",
     "output_type": "stream",
     "text": [
      "INFO:converting from 'barsa/m' to 'psia/ft':\n",
      " barsa > absolute bar > absolute psi > psia / 1 m > meter > yard > foot > ft\n"
     ]
    },
    {
     "data": {
      "text/plain": [
       "1.9141848565515385"
      ]
     },
     "execution_count": 86,
     "metadata": {},
     "output_type": "execute_result"
    }
   ],
   "source": [
    "convert(0.433, 'barsa/m', 'psia/ft', True)"
   ]
  },
  {
   "cell_type": "code",
   "execution_count": 87,
   "id": "6567efa8",
   "metadata": {
    "ExecuteTime": {
     "end_time": "2024-05-02T22:33:43.526801Z",
     "start_time": "2024-05-02T22:33:43.512810Z"
    }
   },
   "outputs": [
    {
     "name": "stderr",
     "output_type": "stream",
     "text": [
      "INFO:converting from 'psia' to 'lb/in2':\n",
      " psia > absolute psi > lb/in2\n"
     ]
    },
    {
     "data": {
      "text/plain": [
       "14.7"
      ]
     },
     "execution_count": 87,
     "metadata": {},
     "output_type": "execute_result"
    }
   ],
   "source": [
    "convert(14.7, 'psia', 'lb/in2', True)"
   ]
  },
  {
   "cell_type": "code",
   "execution_count": 88,
   "id": "ea74ca0a",
   "metadata": {
    "ExecuteTime": {
     "end_time": "2024-05-02T22:33:43.541733Z",
     "start_time": "2024-05-02T22:33:43.527798Z"
    }
   },
   "outputs": [
    {
     "name": "stderr",
     "output_type": "stream",
     "text": [
      "INFO:converting from 'kg/cm2' to 'lb/in2':\n",
      " kg > kilogram > pound > lb / 1 cm2 > m2 > square meter > square foot > square inch > in2\n"
     ]
    },
    {
     "data": {
      "text/plain": [
       "14.223343307119563"
      ]
     },
     "execution_count": 88,
     "metadata": {},
     "output_type": "execute_result"
    }
   ],
   "source": [
    "convert(1, 'kg/cm2', 'lb/in2', True)"
   ]
  },
  {
   "cell_type": "markdown",
   "id": "628594dc",
   "metadata": {
    "ExecuteTime": {
     "end_time": "2023-01-28T21:26:47.070369Z",
     "start_time": "2023-01-28T21:26:44.189997Z"
    }
   },
   "source": [
    "convert(1, 'kg/cm2', 'psia', True)"
   ]
  },
  {
   "cell_type": "code",
   "execution_count": 89,
   "id": "7526d5b7",
   "metadata": {
    "ExecuteTime": {
     "end_time": "2024-05-02T22:33:43.557717Z",
     "start_time": "2024-05-02T22:33:43.543727Z"
    }
   },
   "outputs": [
    {
     "name": "stderr",
     "output_type": "stream",
     "text": [
      "INFO:converting from 'g/cm2' to 'lb/in2':\n",
      " g > gram > kilogram > pound > lb / 1 cm2 > m2 > square meter > square foot > square inch > in2\n"
     ]
    },
    {
     "data": {
      "text/plain": [
       "0.014223343307119564"
      ]
     },
     "execution_count": 89,
     "metadata": {},
     "output_type": "execute_result"
    }
   ],
   "source": [
    "convert(1, 'g/cm2', 'lb/in2', True)"
   ]
  },
  {
   "cell_type": "code",
   "execution_count": 90,
   "id": "79dcf20b",
   "metadata": {
    "ExecuteTime": {
     "end_time": "2024-05-02T22:33:43.572679Z",
     "start_time": "2024-05-02T22:33:43.558710Z"
    }
   },
   "outputs": [
    {
     "name": "stderr",
     "output_type": "stream",
     "text": [
      "INFO:converting from 'API' to 'lb/ft3':\n",
      " API > g/cc > g/cm3 > lb/ft3\n"
     ]
    },
    {
     "data": {
      "text/plain": [
       "62.427960576144606"
      ]
     },
     "execution_count": 90,
     "metadata": {},
     "output_type": "execute_result"
    }
   ],
   "source": [
    "convert(10, 'API', 'lb/ft3', True)"
   ]
  },
  {
   "cell_type": "code",
   "execution_count": 91,
   "id": "c1547494",
   "metadata": {
    "ExecuteTime": {
     "end_time": "2024-05-02T22:33:43.820753Z",
     "start_time": "2024-05-02T22:33:43.574682Z"
    }
   },
   "outputs": [
    {
     "name": "stderr",
     "output_type": "stream",
     "text": [
      "INFO:converting from 'lb/scf' to 'API':\n",
      " lb > pound > kilogram > kg > g / 1 scf > standard cubic foot > standard cubic meter > m3 > cm3 > cubic centimeter > cc > g/cc > API\n"
     ]
    },
    {
     "data": {
      "text/plain": [
       "29.11011675499026"
      ]
     },
     "execution_count": 91,
     "metadata": {},
     "output_type": "execute_result"
    }
   ],
   "source": [
    "convert(55, 'lb/scf', 'API', True)"
   ]
  },
  {
   "cell_type": "code",
   "execution_count": 92,
   "id": "1af4c897",
   "metadata": {
    "ExecuteTime": {
     "end_time": "2024-05-02T22:33:43.835966Z",
     "start_time": "2024-05-02T22:33:43.821725Z"
    }
   },
   "outputs": [
    {
     "name": "stderr",
     "output_type": "stream",
     "text": [
      "INFO:converting from 'API' to 'g/cc':\n",
      " API > g/cc\n"
     ]
    },
    {
     "data": {
      "text/plain": [
       "1.0"
      ]
     },
     "execution_count": 92,
     "metadata": {},
     "output_type": "execute_result"
    }
   ],
   "source": [
    "convert(10, 'API', 'g/cc', True)"
   ]
  },
  {
   "cell_type": "code",
   "execution_count": 93,
   "id": "a16d1fde",
   "metadata": {
    "ExecuteTime": {
     "end_time": "2024-05-02T22:33:43.852062Z",
     "start_time": "2024-05-02T22:33:43.836992Z"
    }
   },
   "outputs": [
    {
     "name": "stderr",
     "output_type": "stream",
     "text": [
      "INFO:converting from 'g/cm3' to 'API':\n",
      " g/cm3 > g/cc > API\n"
     ]
    },
    {
     "data": {
      "text/plain": [
       "10.0"
      ]
     },
     "execution_count": 93,
     "metadata": {},
     "output_type": "execute_result"
    }
   ],
   "source": [
    "convert(1, 'g/cm3', 'API', True)"
   ]
  },
  {
   "cell_type": "markdown",
   "id": "954a772d",
   "metadata": {},
   "source": [
    "## if `value` argument is instance of `Unit`\n",
    "If `value` argument is an instance of the `Unit` class, the third argument (`to_unit`) might be left default (or the provided class `Empty`).  \n",
    "In this case `value` will be converted from its units to the units provided in the argument `from_unit`."
   ]
  },
  {
   "cell_type": "code",
   "execution_count": 94,
   "id": "fcfe265d",
   "metadata": {
    "ExecuteTime": {
     "end_time": "2024-05-02T22:33:43.867247Z",
     "start_time": "2024-05-02T22:33:43.853952Z"
    }
   },
   "outputs": [
    {
     "name": "stdout",
     "output_type": "stream",
     "text": [
      "`mass_1` is and instance of the `Unit` class:\n",
      "[0.17449923 0.85312887 0.45973831 0.94159749 0.68859609 0.1881126\n",
      " 0.37739591 0.3789477  0.08872302 0.69691619]_kg\n"
     ]
    },
    {
     "data": {
      "text/plain": [
       "array([0.38470494, 1.88082721, 1.01354948, 2.07586713, 1.51809452,\n",
       "       0.4147173 , 0.83201556, 0.83543666, 0.19560077, 1.53643719])"
      ]
     },
     "execution_count": 94,
     "metadata": {},
     "output_type": "execute_result"
    }
   ],
   "source": [
    "print(\"`mass_1` is and instance of the `Unit` class:\", mass_1, sep='\\n')\n",
    "convert(mass_1, 'lb')"
   ]
  },
  {
   "cell_type": "markdown",
   "id": "12b23da1",
   "metadata": {},
   "source": [
    "### `Empty`, instead of `None`\n",
    "It is important to hightlight that the `None` value as argument in the `convert` function will indicate the conversion to a dimensionless value.  \n",
    "  \n",
    "To provide the default _Empty_ value for an argument, the provided value `Empty` should be used. Notice that is only accepted in the second argument (`to_unit`) and will be valid only if the `value` argument is an instance of `Unit`.  \n",
    "The `Empty` instance can be imported from `unyts`:"
   ]
  },
  {
   "cell_type": "code",
   "execution_count": 95,
   "id": "1cb4c656",
   "metadata": {
    "ExecuteTime": {
     "end_time": "2024-05-02T22:33:43.882411Z",
     "start_time": "2024-05-02T22:33:43.869242Z"
    }
   },
   "outputs": [],
   "source": [
    "from unyts import Empty"
   ]
  },
  {
   "cell_type": "code",
   "execution_count": 96,
   "id": "50ce2ed6",
   "metadata": {
    "ExecuteTime": {
     "end_time": "2024-05-02T22:33:43.897736Z",
     "start_time": "2024-05-02T22:33:43.883408Z"
    }
   },
   "outputs": [
    {
     "data": {
      "text/plain": [
       "array([0.38470494, 1.88082721, 1.01354948, 2.07586713, 1.51809452,\n",
       "       0.4147173 , 0.83201556, 0.83543666, 0.19560077, 1.53643719])"
      ]
     },
     "execution_count": 96,
     "metadata": {},
     "output_type": "execute_result"
    }
   ],
   "source": [
    "convert(mass_1, 'lb', Empty)"
   ]
  },
  {
   "cell_type": "markdown",
   "id": "46ef907b",
   "metadata": {},
   "source": [
    "# Getting a `lambda` to use later\n",
    "\n",
    "Optionally, the first argument (_value_) of the function `convert` can be set `None`. In this case, a `lambda` with the conversion will be returned. This _lambda_ can be saved into a variable for later use."
   ]
  },
  {
   "cell_type": "code",
   "execution_count": 97,
   "id": "32c07627",
   "metadata": {
    "ExecuteTime": {
     "end_time": "2024-05-02T22:33:43.913402Z",
     "start_time": "2024-05-02T22:33:43.898706Z"
    }
   },
   "outputs": [
    {
     "name": "stderr",
     "output_type": "stream",
     "text": [
      "INFO:converting from 'F' to 'C':\n",
      " F > Fahrenheit > Celsius > C\n"
     ]
    }
   ],
   "source": [
    "temperature_conversion = convert(None, 'F', 'C', True)"
   ]
  },
  {
   "cell_type": "code",
   "execution_count": 98,
   "id": "e2319e76",
   "metadata": {
    "ExecuteTime": {
     "end_time": "2024-05-02T22:33:43.929074Z",
     "start_time": "2024-05-02T22:33:43.915371Z"
    }
   },
   "outputs": [
    {
     "data": {
      "text/plain": [
       "29.444444444444443"
      ]
     },
     "execution_count": 98,
     "metadata": {},
     "output_type": "execute_result"
    }
   ],
   "source": [
    "temperature_conversion(85)"
   ]
  },
  {
   "cell_type": "markdown",
   "id": "8ab6737f",
   "metadata": {},
   "source": [
    "# Preloaded unitary units\n",
    "\n",
    "In some ocassions it could be handy use the preloaded variables of basic units in order to make new instances of any units as production of numbers with the basic units, like (not exhaustive list):\n",
    "- `meter` or `metre`\n",
    "- `foot` or `feet`\n",
    "- `inch`\n",
    "- `second`, `minute`, `hour`, `day`, `week`, `month` and `year`\n",
    "- `gram` and `kilogram`\n",
    "- `ounce`, `pound` and `ton`\n",
    "- `pascal`, `kilopascal`, `torr`, `psi`, `bar` and `atmosphere`"
   ]
  },
  {
   "cell_type": "code",
   "execution_count": 99,
   "id": "2886f92a",
   "metadata": {
    "ExecuteTime": {
     "end_time": "2024-05-02T22:33:43.945031Z",
     "start_time": "2024-05-02T22:33:43.930048Z"
    }
   },
   "outputs": [],
   "source": [
    "from unyts.unitary import *"
   ]
  },
  {
   "cell_type": "code",
   "execution_count": 100,
   "id": "70804381",
   "metadata": {
    "ExecuteTime": {
     "end_time": "2024-05-02T22:33:43.960182Z",
     "start_time": "2024-05-02T22:33:43.947002Z"
    }
   },
   "outputs": [
    {
     "data": {
      "text/plain": [
       "5_yd"
      ]
     },
     "execution_count": 100,
     "metadata": {},
     "output_type": "execute_result"
    }
   ],
   "source": [
    "5 * yard"
   ]
  },
  {
   "cell_type": "code",
   "execution_count": 101,
   "id": "71adc0fc",
   "metadata": {
    "ExecuteTime": {
     "end_time": "2024-05-02T22:33:43.976128Z",
     "start_time": "2024-05-02T22:33:43.965137Z"
    }
   },
   "outputs": [
    {
     "data": {
      "text/plain": [
       "36_m2"
      ]
     },
     "execution_count": 101,
     "metadata": {},
     "output_type": "execute_result"
    }
   ],
   "source": [
    "36 * meter * meter"
   ]
  },
  {
   "cell_type": "code",
   "execution_count": 102,
   "id": "cf096bb3",
   "metadata": {
    "ExecuteTime": {
     "end_time": "2024-05-02T22:33:44.521942Z",
     "start_time": "2024-05-02T22:33:43.979096Z"
    }
   },
   "outputs": [
    {
     "data": {
      "text/plain": [
       "3.0_ft/sec"
      ]
     },
     "execution_count": 102,
     "metadata": {},
     "output_type": "execute_result"
    }
   ],
   "source": [
    "3 * foot / second"
   ]
  },
  {
   "cell_type": "code",
   "execution_count": 103,
   "id": "aa41cb7d",
   "metadata": {
    "ExecuteTime": {
     "end_time": "2024-05-02T22:33:47.786234Z",
     "start_time": "2024-05-02T22:33:44.525960Z"
    }
   },
   "outputs": [
    {
     "data": {
      "text/plain": [
       "3_oz"
      ]
     },
     "execution_count": 103,
     "metadata": {},
     "output_type": "execute_result"
    }
   ],
   "source": [
    "3 * ounce"
   ]
  },
  {
   "cell_type": "markdown",
   "id": "9e11b95c",
   "metadata": {},
   "source": [
    "# The special case of _ounce_\n",
    "\n",
    "Considering that the unit **ounce** can be associated to volume or to weiht, calling `units()` function with unit argumento _'ounce'_ or _'oz'_ will return a generic **Unit** instance (not the specific subclass of Unit):"
   ]
  },
  {
   "cell_type": "code",
   "execution_count": 104,
   "id": "93276edd",
   "metadata": {
    "ExecuteTime": {
     "end_time": "2024-05-02T22:33:51.132857Z",
     "start_time": "2024-05-02T22:33:47.787234Z"
    }
   },
   "outputs": [
    {
     "data": {
      "text/plain": [
       "2.5_ounce"
      ]
     },
     "execution_count": 104,
     "metadata": {},
     "output_type": "execute_result"
    }
   ],
   "source": [
    "oz = units(2.5, 'ounce')\n",
    "oz"
   ]
  },
  {
   "cell_type": "code",
   "execution_count": 105,
   "id": "99e87f95",
   "metadata": {
    "ExecuteTime": {
     "end_time": "2024-05-02T22:33:51.147809Z",
     "start_time": "2024-05-02T22:33:51.133855Z"
    }
   },
   "outputs": [
    {
     "data": {
      "text/plain": [
       "Unit"
      ]
     },
     "execution_count": 105,
     "metadata": {},
     "output_type": "execute_result"
    }
   ],
   "source": [
    "type(oz)"
   ]
  },
  {
   "cell_type": "markdown",
   "id": "694015b1",
   "metadata": {},
   "source": [
    "This generic instance is able to be converted to other weight or volume quantities and only then it will be instantiated as the appropiate subclass:"
   ]
  },
  {
   "cell_type": "code",
   "execution_count": 106,
   "id": "9fe02190",
   "metadata": {
    "ExecuteTime": {
     "end_time": "2024-05-02T22:33:51.179495Z",
     "start_time": "2024-05-02T22:33:51.149785Z"
    }
   },
   "outputs": [
    {
     "name": "stdout",
     "output_type": "stream",
     "text": [
      "73.9337859441888_ml\n"
     ]
    },
    {
     "data": {
      "text/plain": [
       "Volume"
      ]
     },
     "execution_count": 106,
     "metadata": {},
     "output_type": "execute_result"
    }
   ],
   "source": [
    "v = oz.to('ml')\n",
    "print(v)\n",
    "type(v)"
   ]
  },
  {
   "cell_type": "code",
   "execution_count": 107,
   "id": "885bed71",
   "metadata": {
    "ExecuteTime": {
     "end_time": "2024-05-02T22:33:51.195519Z",
     "start_time": "2024-05-02T22:33:51.181490Z"
    }
   },
   "outputs": [
    {
     "name": "stdout",
     "output_type": "stream",
     "text": [
      "70.87380781249999_g\n"
     ]
    },
    {
     "data": {
      "text/plain": [
       "Weight"
      ]
     },
     "execution_count": 107,
     "metadata": {},
     "output_type": "execute_result"
    }
   ],
   "source": [
    "w = oz.to('g')\n",
    "print(w)\n",
    "type(w)"
   ]
  },
  {
   "cell_type": "markdown",
   "id": "f51f3227",
   "metadata": {},
   "source": [
    "# know issues"
   ]
  },
  {
   "cell_type": "markdown",
   "id": "50420012",
   "metadata": {},
   "source": [
    "## convertion of `bar/m` to `g/cc`"
   ]
  },
  {
   "cell_type": "raw",
   "id": "4b021169",
   "metadata": {
    "ExecuteTime": {
     "start_time": "2023-12-20T23:21:36.623Z"
    }
   },
   "source": [
    "convert(0.1, 'bar/m', 'g/cc', True)"
   ]
  },
  {
   "cell_type": "markdown",
   "id": "69968544",
   "metadata": {},
   "source": [
    "a workaround for this convertion is:"
   ]
  },
  {
   "cell_type": "code",
   "execution_count": 108,
   "id": "78618e24",
   "metadata": {
    "ExecuteTime": {
     "end_time": "2024-05-02T22:33:51.211560Z",
     "start_time": "2024-05-02T22:33:51.196517Z"
    }
   },
   "outputs": [
    {
     "name": "stderr",
     "output_type": "stream",
     "text": [
      "INFO:converting from 'bar/m' to 'psi/ft':\n",
      " bar > psi / 1 m > meter > yard > foot > ft\n",
      "INFO:converting from 'psi/ft' to 'g/cc':\n",
      " psi/ft > psia/ft > lb/ft3 > g/cm3 > g/cc\n"
     ]
    },
    {
     "data": {
      "text/plain": [
       "1.019716212991925"
      ]
     },
     "execution_count": 108,
     "metadata": {},
     "output_type": "execute_result"
    }
   ],
   "source": [
    "convert(\n",
    "    convert(0.1, 'bar/m', 'psi/ft', True),\n",
    "    'psi/ft', \n",
    "    'g/cc', \n",
    "    True)"
   ]
  }
 ],
 "metadata": {
  "hide_input": false,
  "kernelspec": {
   "display_name": "Python 3 (ipykernel)",
   "language": "python",
   "name": "python3"
  },
  "language_info": {
   "codemirror_mode": {
    "name": "ipython",
    "version": 3
   },
   "file_extension": ".py",
   "mimetype": "text/x-python",
   "name": "python",
   "nbconvert_exporter": "python",
   "pygments_lexer": "ipython3",
   "version": "3.10.8"
  },
  "latex_envs": {
   "LaTeX_envs_menu_present": true,
   "autoclose": false,
   "autocomplete": true,
   "bibliofile": "biblio.bib",
   "cite_by": "apalike",
   "current_citInitial": 1,
   "eqLabelWithNumbers": true,
   "eqNumInitial": 1,
   "hotkeys": {
    "equation": "Ctrl-E",
    "itemize": "Ctrl-I"
   },
   "labels_anchors": false,
   "latex_user_defs": false,
   "report_style_numbering": false,
   "user_envs_cfg": false
  },
  "toc": {
   "base_numbering": 1,
   "nav_menu": {},
   "number_sections": true,
   "sideBar": true,
   "skip_h1_title": false,
   "title_cell": "Table of Contents",
   "title_sidebar": "Contents",
   "toc_cell": false,
   "toc_position": {},
   "toc_section_display": true,
   "toc_window_display": true
  },
  "varInspector": {
   "cols": {
    "lenName": 16,
    "lenType": 16,
    "lenVar": 40
   },
   "kernels_config": {
    "python": {
     "delete_cmd_postfix": "",
     "delete_cmd_prefix": "del ",
     "library": "var_list.py",
     "varRefreshCmd": "print(var_dic_list())"
    },
    "r": {
     "delete_cmd_postfix": ") ",
     "delete_cmd_prefix": "rm(",
     "library": "var_list.r",
     "varRefreshCmd": "cat(var_dic_list()) "
    }
   },
   "types_to_exclude": [
    "module",
    "function",
    "builtin_function_or_method",
    "instance",
    "_Feature"
   ],
   "window_display": false
  }
 },
 "nbformat": 4,
 "nbformat_minor": 5
}
