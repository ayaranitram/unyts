{
 "cells": [
  {
   "cell_type": "markdown",
   "id": "be25ff5a",
   "metadata": {},
   "source": [
    "# `unyts`\n",
    "A package that consider quantities (values with units) instead of purely numerical values:\n",
    "- **units**: instances capable of making arithmetic and logical operations of values with different units\n",
    "- **convert**: a units converter able to convert practically between any pair units"
   ]
  },
  {
   "cell_type": "markdown",
   "id": "fd9c4250",
   "metadata": {},
   "source": [
    "# Installing `unyts`\n",
    "\n",
    "This package is published in <a href=\"https://pypi.org/search/?q=unyts\">pypi.org</a> and can be installed using **pip**:  \n",
    "  \n",
    "`pip install unyts`\n",
    "  \n",
    "or upgrade to the latest version:\n",
    "\n",
    "`pip install --upgrade unyts`"
   ]
  },
  {
   "cell_type": "raw",
   "id": "20b1e6ac",
   "metadata": {},
   "source": [
    "pip install --upgrade unyts"
   ]
  },
  {
   "cell_type": "markdown",
   "id": "534f7d98",
   "metadata": {},
   "source": [
    "# `import unyts`\n",
    "Import the package to be able to change settings."
   ]
  },
  {
   "cell_type": "code",
   "execution_count": 1,
   "id": "9e266c7f",
   "metadata": {
    "ExecuteTime": {
     "end_time": "2024-05-23T23:49:47.565198Z",
     "start_time": "2024-05-23T23:49:08.478831Z"
    }
   },
   "outputs": [
    {
     "name": "stderr",
     "output_type": "stream",
     "text": [
      "INFO:preparing units dictionary...\n",
      "INFO:preparing units network...\n",
      "INFO:saving units network and dictionary to cache...\n"
     ]
    },
    {
     "name": "stdout",
     "output_type": "stream",
     "text": [
      "loaded unyts version 0.8.10\n"
     ]
    }
   ],
   "source": [
    "import unyts"
   ]
  },
  {
   "cell_type": "code",
   "execution_count": 2,
   "id": "db2574f6",
   "metadata": {
    "ExecuteTime": {
     "end_time": "2024-05-23T23:49:47.581117Z",
     "start_time": "2024-05-23T23:49:47.567195Z"
    }
   },
   "outputs": [
    {
     "data": {
      "text/plain": [
       "'0.8.10'"
      ]
     },
     "execution_count": 2,
     "metadata": {},
     "output_type": "execute_result"
    }
   ],
   "source": [
    "unyts.__version__"
   ]
  },
  {
   "cell_type": "markdown",
   "id": "924b48cd",
   "metadata": {},
   "source": [
    "## Importing the utilities `convert` and `units`\n",
    "\n",
    "Importing just the utilities will be enought to be able to convert values and to instantiate the appropriate Unit subclass and operate with them."
   ]
  },
  {
   "cell_type": "code",
   "execution_count": 3,
   "id": "4d202c80",
   "metadata": {
    "ExecuteTime": {
     "end_time": "2024-05-23T23:49:47.596104Z",
     "start_time": "2024-05-23T23:49:47.583111Z"
    }
   },
   "outputs": [],
   "source": [
    "from unyts import convert, units"
   ]
  },
  {
   "cell_type": "markdown",
   "id": "5d02f940",
   "metadata": {},
   "source": [
    "## Importing the `Unit` class\n",
    "\n",
    "In case you need it, you can import the main **`Unit` class**, to check if something `isinstance()` of `Unit`.  \n",
    "\n",
    "It is recommended to instantiate using the function `units`  or the appropiate subclass, as using the class `Unit`to instantiate _values with units_ will return instances of the main class."
   ]
  },
  {
   "cell_type": "code",
   "execution_count": 4,
   "id": "cba8cbb8",
   "metadata": {
    "ExecuteTime": {
     "end_time": "2024-05-23T23:49:47.612061Z",
     "start_time": "2024-05-23T23:49:47.599067Z"
    }
   },
   "outputs": [],
   "source": [
    "from unyts import Unit"
   ]
  },
  {
   "cell_type": "code",
   "execution_count": 5,
   "id": "315abde5",
   "metadata": {
    "ExecuteTime": {
     "end_time": "2024-05-23T23:49:51.943489Z",
     "start_time": "2024-05-23T23:49:47.613030Z"
    }
   },
   "outputs": [
    {
     "name": "stdout",
     "output_type": "stream",
     "text": [
      "Unit 1_ounce\n"
     ]
    }
   ],
   "source": [
    "ounce = Unit(1, 'ounce')\n",
    "print(type(ounce), ounce)"
   ]
  },
  {
   "cell_type": "markdown",
   "id": "dd49bdb8",
   "metadata": {},
   "source": [
    "# The `units` function\n",
    "To make instances of **`Unit`** use the function **`units`** providing it with the _value_ and a _string representing the units_ as arguments of the function call:"
   ]
  },
  {
   "cell_type": "code",
   "execution_count": 6,
   "id": "ac0885e5",
   "metadata": {
    "ExecuteTime": {
     "end_time": "2024-05-23T23:49:51.959081Z",
     "start_time": "2024-05-23T23:49:51.944487Z"
    }
   },
   "outputs": [],
   "source": [
    "length_1 = units(3, 'm')\n",
    "length_2 = units(250, 'cm')\n",
    "length_3 = units(0.003, 'km')\n",
    "length_4 = units(6.5, 'ft')\n",
    "length_5 = units(18, 'in')"
   ]
  },
  {
   "cell_type": "markdown",
   "id": "5e996285",
   "metadata": {},
   "source": [
    "The **units** function returns the apropriate **unit _subclass_**: "
   ]
  },
  {
   "cell_type": "code",
   "execution_count": 7,
   "id": "531a2ee1",
   "metadata": {
    "ExecuteTime": {
     "end_time": "2024-05-23T23:49:51.973730Z",
     "start_time": "2024-05-23T23:49:51.961076Z"
    }
   },
   "outputs": [
    {
     "name": "stdout",
     "output_type": "stream",
     "text": [
      "Length\n"
     ]
    },
    {
     "data": {
      "text/plain": [
       "Volume"
      ]
     },
     "execution_count": 7,
     "metadata": {},
     "output_type": "execute_result"
    }
   ],
   "source": [
    "print(type(length_1))\n",
    "type(units(333, 'ml'))"
   ]
  },
  {
   "cell_type": "markdown",
   "id": "a034d3f5",
   "metadata": {},
   "source": [
    "Any subclass of __unyts__ will be an instance of it, thus, the appropriate way to check if a variable points to an instance of __untys__ is using `isinstance()` function instead of using `type` as type will return the subclass.  \n",
    "\n",
    "# Check instance of `Unit`\n",
    "\n",
    "Checking any Unit subcalls using `isinstance()` will always work:"
   ]
  },
  {
   "cell_type": "code",
   "execution_count": 8,
   "id": "a79a9dbf",
   "metadata": {
    "ExecuteTime": {
     "end_time": "2024-05-23T23:49:51.989736Z",
     "start_time": "2024-05-23T23:49:51.975207Z"
    }
   },
   "outputs": [
    {
     "data": {
      "text/plain": [
       "True"
      ]
     },
     "execution_count": 8,
     "metadata": {},
     "output_type": "execute_result"
    }
   ],
   "source": [
    "isinstance(length_1, Unit)"
   ]
  },
  {
   "cell_type": "markdown",
   "id": "776ff8f7",
   "metadata": {},
   "source": [
    "But comparing the type of the subcalls to Unit class will fail"
   ]
  },
  {
   "cell_type": "code",
   "execution_count": 9,
   "id": "bf1552aa",
   "metadata": {
    "ExecuteTime": {
     "end_time": "2024-05-23T23:49:52.005694Z",
     "start_time": "2024-05-23T23:49:51.991732Z"
    }
   },
   "outputs": [
    {
     "data": {
      "text/plain": [
       "False"
      ]
     },
     "execution_count": 9,
     "metadata": {},
     "output_type": "execute_result"
    }
   ],
   "source": [
    "type(length_1) is Unit"
   ]
  },
  {
   "cell_type": "markdown",
   "id": "ee2a5e67",
   "metadata": {},
   "source": [
    "In case you need to check the subclass, you can import it following the path indicated by `type`:"
   ]
  },
  {
   "cell_type": "code",
   "execution_count": 10,
   "id": "c0873dfa",
   "metadata": {
    "ExecuteTime": {
     "end_time": "2024-05-23T23:49:52.020681Z",
     "start_time": "2024-05-23T23:49:52.008721Z"
    }
   },
   "outputs": [
    {
     "data": {
      "text/plain": [
       "Length"
      ]
     },
     "execution_count": 10,
     "metadata": {},
     "output_type": "execute_result"
    }
   ],
   "source": [
    "type(length_1)"
   ]
  },
  {
   "cell_type": "code",
   "execution_count": 11,
   "id": "a652879f",
   "metadata": {
    "ExecuteTime": {
     "end_time": "2024-05-23T23:49:52.036643Z",
     "start_time": "2024-05-23T23:49:52.021651Z"
    }
   },
   "outputs": [],
   "source": [
    "from unyts.units.geometry import Length"
   ]
  },
  {
   "cell_type": "code",
   "execution_count": 12,
   "id": "6eae1ba5",
   "metadata": {
    "ExecuteTime": {
     "end_time": "2024-05-23T23:49:52.051604Z",
     "start_time": "2024-05-23T23:49:52.037649Z"
    }
   },
   "outputs": [
    {
     "data": {
      "text/plain": [
       "True"
      ]
     },
     "execution_count": 12,
     "metadata": {},
     "output_type": "execute_result"
    }
   ],
   "source": [
    "type(length_1) is Length"
   ]
  },
  {
   "cell_type": "markdown",
   "id": "84967104",
   "metadata": {},
   "source": [
    "# Quantities representation \n",
    "The representation of the units instances consists in the value followed by the units string"
   ]
  },
  {
   "cell_type": "code",
   "execution_count": 13,
   "id": "e391f927",
   "metadata": {
    "ExecuteTime": {
     "end_time": "2024-05-23T23:49:52.067458Z",
     "start_time": "2024-05-23T23:49:52.053467Z"
    }
   },
   "outputs": [
    {
     "name": "stdout",
     "output_type": "stream",
     "text": [
      "3_m\n",
      "250_cm\n",
      "0.003_km\n"
     ]
    },
    {
     "data": {
      "text/plain": [
       "6.5_ft"
      ]
     },
     "execution_count": 13,
     "metadata": {},
     "output_type": "execute_result"
    }
   ],
   "source": [
    "print(length_1)\n",
    "print(length_2)\n",
    "print(length_3)\n",
    "length_4"
   ]
  },
  {
   "cell_type": "markdown",
   "id": "c07d322f",
   "metadata": {},
   "source": [
    "# The conversion path\n",
    "\n",
    "By default, the path followed to convert from one unit to other will be printed out.\n",
    "This behaviour can be changed using the function `print_path`.  \n",
    "\n",
    "## Printhing the conversion path"
   ]
  },
  {
   "cell_type": "code",
   "execution_count": 14,
   "id": "09fbe47f",
   "metadata": {
    "ExecuteTime": {
     "end_time": "2024-05-23T23:49:52.083423Z",
     "start_time": "2024-05-23T23:49:52.068429Z"
    }
   },
   "outputs": [
    {
     "data": {
      "text/plain": [
       "5.5_m"
      ]
     },
     "execution_count": 14,
     "metadata": {},
     "output_type": "execute_result"
    }
   ],
   "source": [
    "length_1 + length_2"
   ]
  },
  {
   "cell_type": "code",
   "execution_count": 15,
   "id": "53b24ec0",
   "metadata": {
    "ExecuteTime": {
     "end_time": "2024-05-23T23:49:52.098900Z",
     "start_time": "2024-05-23T23:49:52.084389Z"
    }
   },
   "outputs": [
    {
     "data": {
      "text/plain": [
       "6289.813999999999"
      ]
     },
     "execution_count": 15,
     "metadata": {},
     "output_type": "execute_result"
    }
   ],
   "source": [
    "convert(1, 'Ksm3', 'stb')"
   ]
  },
  {
   "cell_type": "markdown",
   "id": "ad977f2e",
   "metadata": {},
   "source": [
    "## Not printing the conversion path\n",
    "\n",
    "Set the `print_path` to `False`:"
   ]
  },
  {
   "cell_type": "code",
   "execution_count": 16,
   "id": "b6b7acc8",
   "metadata": {
    "ExecuteTime": {
     "end_time": "2024-05-23T23:49:52.114849Z",
     "start_time": "2024-05-23T23:49:52.099863Z"
    }
   },
   "outputs": [
    {
     "name": "stderr",
     "output_type": "stream",
     "text": [
      "INFO:print path OFF\n"
     ]
    }
   ],
   "source": [
    "unyts.print_path(False)"
   ]
  },
  {
   "cell_type": "markdown",
   "id": "3ce3c1ce",
   "metadata": {},
   "source": [
    "From now, the conversion path will not be printed:"
   ]
  },
  {
   "cell_type": "code",
   "execution_count": 17,
   "id": "8560fce1",
   "metadata": {
    "ExecuteTime": {
     "end_time": "2024-05-23T23:49:52.130779Z",
     "start_time": "2024-05-23T23:49:52.115820Z"
    }
   },
   "outputs": [
    {
     "data": {
      "text/plain": [
       "5.5_m"
      ]
     },
     "execution_count": 17,
     "metadata": {},
     "output_type": "execute_result"
    }
   ],
   "source": [
    "length_1 + length_2"
   ]
  },
  {
   "cell_type": "markdown",
   "id": "4951cfda",
   "metadata": {},
   "source": [
    "This behaviour is saved into the init file, then it il be rememberd the next time `unyts` is used.  \n",
    "\n",
    "To print the conversion path again, simply set the parameter to True:"
   ]
  },
  {
   "cell_type": "code",
   "execution_count": 18,
   "id": "06c1b0cc",
   "metadata": {
    "ExecuteTime": {
     "end_time": "2024-05-23T23:49:52.145760Z",
     "start_time": "2024-05-23T23:49:52.131777Z"
    }
   },
   "outputs": [
    {
     "name": "stderr",
     "output_type": "stream",
     "text": [
      "INFO:print path ON\n"
     ]
    }
   ],
   "source": [
    "unyts.print_path(True)"
   ]
  },
  {
   "cell_type": "code",
   "execution_count": 19,
   "id": "d9650574",
   "metadata": {
    "ExecuteTime": {
     "end_time": "2024-05-23T23:49:52.160726Z",
     "start_time": "2024-05-23T23:49:52.146738Z"
    }
   },
   "outputs": [
    {
     "name": "stderr",
     "output_type": "stream",
     "text": [
      "INFO:converting from 'cm' to 'm':\n",
      " cm > m\n"
     ]
    },
    {
     "data": {
      "text/plain": [
       "5.5_m"
      ]
     },
     "execution_count": 19,
     "metadata": {},
     "output_type": "execute_result"
    }
   ],
   "source": [
    "length_1 + length_2"
   ]
  },
  {
   "cell_type": "code",
   "execution_count": 20,
   "id": "d82a7042",
   "metadata": {
    "ExecuteTime": {
     "end_time": "2024-05-23T23:49:52.176687Z",
     "start_time": "2024-05-23T23:49:52.161698Z"
    }
   },
   "outputs": [
    {
     "name": "stderr",
     "output_type": "stream",
     "text": [
      "INFO:converting from 'in' to 'cm':\n",
      " in > inch > foot > yard > meter > m > cm\n"
     ]
    },
    {
     "data": {
      "text/plain": [
       "295.72_cm"
      ]
     },
     "execution_count": 20,
     "metadata": {},
     "output_type": "execute_result"
    }
   ],
   "source": [
    "length_2 + length_5"
   ]
  },
  {
   "cell_type": "markdown",
   "id": "c93933a1",
   "metadata": {},
   "source": [
    "Calling print_path without argument will change it from the current behaviour:"
   ]
  },
  {
   "cell_type": "code",
   "execution_count": 21,
   "id": "1c9d016e",
   "metadata": {
    "ExecuteTime": {
     "end_time": "2024-05-23T23:49:52.192177Z",
     "start_time": "2024-05-23T23:49:52.177657Z"
    }
   },
   "outputs": [
    {
     "name": "stderr",
     "output_type": "stream",
     "text": [
      "INFO:print path OFF\n"
     ]
    }
   ],
   "source": [
    "unyts.print_path()"
   ]
  },
  {
   "cell_type": "code",
   "execution_count": 22,
   "id": "0eae16f0",
   "metadata": {
    "ExecuteTime": {
     "end_time": "2024-05-23T23:49:52.208138Z",
     "start_time": "2024-05-23T23:49:52.193152Z"
    }
   },
   "outputs": [
    {
     "name": "stderr",
     "output_type": "stream",
     "text": [
      "INFO:print path ON\n"
     ]
    }
   ],
   "source": [
    "unyts.print_path()"
   ]
  },
  {
   "cell_type": "markdown",
   "id": "ed462a96",
   "metadata": {},
   "source": [
    "# Attributes of the `Unit` instances\n",
    "\n",
    "Two attributes can be handy for the user in certain applications:\n",
    "- `.value` contains the numeric value\n",
    "- `.unit` contains a string representing the units\n",
    "- `.name` contains a string representing the type of the units"
   ]
  },
  {
   "cell_type": "code",
   "execution_count": 23,
   "id": "4d05f021",
   "metadata": {
    "ExecuteTime": {
     "end_time": "2024-05-23T23:49:52.224068Z",
     "start_time": "2024-05-23T23:49:52.210106Z"
    }
   },
   "outputs": [
    {
     "data": {
      "text/plain": [
       "3"
      ]
     },
     "execution_count": 23,
     "metadata": {},
     "output_type": "execute_result"
    }
   ],
   "source": [
    "length_1.value"
   ]
  },
  {
   "cell_type": "code",
   "execution_count": 24,
   "id": "ce87ba8d",
   "metadata": {
    "ExecuteTime": {
     "end_time": "2024-05-23T23:49:52.239055Z",
     "start_time": "2024-05-23T23:49:52.225067Z"
    }
   },
   "outputs": [
    {
     "data": {
      "text/plain": [
       "'m'"
      ]
     },
     "execution_count": 24,
     "metadata": {},
     "output_type": "execute_result"
    }
   ],
   "source": [
    "length_1.unit"
   ]
  },
  {
   "cell_type": "code",
   "execution_count": 25,
   "id": "02d56d5e",
   "metadata": {
    "ExecuteTime": {
     "end_time": "2024-05-23T23:49:52.255012Z",
     "start_time": "2024-05-23T23:49:52.241024Z"
    }
   },
   "outputs": [
    {
     "data": {
      "text/plain": [
       "'length'"
      ]
     },
     "execution_count": 25,
     "metadata": {},
     "output_type": "execute_result"
    }
   ],
   "source": [
    "length_1.name"
   ]
  },
  {
   "cell_type": "markdown",
   "id": "664588a6",
   "metadata": {},
   "source": [
    "To get the `.value` or `.unit` attributes while coding, it could be safer to use ther respective getters:\n",
    "- `.get_value()`\n",
    "- `.get_unit()`"
   ]
  },
  {
   "cell_type": "code",
   "execution_count": 26,
   "id": "abf24b8f",
   "metadata": {
    "ExecuteTime": {
     "end_time": "2024-05-23T23:49:52.269981Z",
     "start_time": "2024-05-23T23:49:52.255983Z"
    }
   },
   "outputs": [
    {
     "data": {
      "text/plain": [
       "3"
      ]
     },
     "execution_count": 26,
     "metadata": {},
     "output_type": "execute_result"
    }
   ],
   "source": [
    "length_1.get_value()"
   ]
  },
  {
   "cell_type": "code",
   "execution_count": 27,
   "id": "e5cc368b",
   "metadata": {
    "ExecuteTime": {
     "end_time": "2024-05-23T23:49:52.286476Z",
     "start_time": "2024-05-23T23:49:52.270944Z"
    }
   },
   "outputs": [
    {
     "data": {
      "text/plain": [
       "'m'"
      ]
     },
     "execution_count": 27,
     "metadata": {},
     "output_type": "execute_result"
    }
   ],
   "source": [
    "length_1.get_unit()"
   ]
  },
  {
   "cell_type": "markdown",
   "id": "7fc852ba",
   "metadata": {},
   "source": [
    "# Arithmetic operations\n",
    "Simply operate with the instances of `Unit` as with regular Python variables:\n",
    "\n",
    "## Addition and substraction"
   ]
  },
  {
   "cell_type": "code",
   "execution_count": 28,
   "id": "d468e91f",
   "metadata": {
    "ExecuteTime": {
     "end_time": "2024-05-23T23:49:52.302464Z",
     "start_time": "2024-05-23T23:49:52.291466Z"
    }
   },
   "outputs": [
    {
     "name": "stderr",
     "output_type": "stream",
     "text": [
      "INFO:converting from 'cm' to 'm':\n",
      " cm > m\n"
     ]
    },
    {
     "name": "stdout",
     "output_type": "stream",
     "text": [
      "3_m + 250_cm = 5.5_m\n"
     ]
    }
   ],
   "source": [
    "print(length_1, '+', length_2, '=', length_1 + length_2)"
   ]
  },
  {
   "cell_type": "markdown",
   "id": "65d1346a",
   "metadata": {
    "ExecuteTime": {
     "end_time": "2022-12-31T12:32:32.312560Z",
     "start_time": "2022-12-31T12:32:32.295638Z"
    }
   },
   "source": [
    "I will turn the `print_path` to have clean output in the following operations."
   ]
  },
  {
   "cell_type": "code",
   "execution_count": 29,
   "id": "55ae2586",
   "metadata": {
    "ExecuteTime": {
     "end_time": "2024-05-23T23:49:52.318392Z",
     "start_time": "2024-05-23T23:49:52.303434Z"
    }
   },
   "outputs": [
    {
     "name": "stderr",
     "output_type": "stream",
     "text": [
      "INFO:print path OFF\n"
     ]
    }
   ],
   "source": [
    "unyts.print_path(False)"
   ]
  },
  {
   "cell_type": "markdown",
   "id": "238ec305",
   "metadata": {},
   "source": [
    "All the units are **converted to the _first_ units** when making operations:"
   ]
  },
  {
   "cell_type": "code",
   "execution_count": 30,
   "id": "aa0b6d30",
   "metadata": {
    "ExecuteTime": {
     "end_time": "2024-05-23T23:49:52.349338Z",
     "start_time": "2024-05-23T23:49:52.321385Z"
    }
   },
   "outputs": [
    {
     "name": "stdout",
     "output_type": "stream",
     "text": [
      "3_m ** 2 + 6.5_ft * 250_cm\n",
      "9_m2 + 53.313648293963254_ft2\n",
      "= 13.953_m2\n"
     ]
    }
   ],
   "source": [
    "print(length_1, '** 2', '+', length_4, '*', length_2)\n",
    "print(length_1 ** 2, '+', length_4 * length_2)\n",
    "print('=', length_1 ** 2 + length_4 * length_2)"
   ]
  },
  {
   "cell_type": "markdown",
   "id": "821ed3b8",
   "metadata": {},
   "source": [
    "defining area units"
   ]
  },
  {
   "cell_type": "code",
   "execution_count": 31,
   "id": "6dc69eac",
   "metadata": {
    "ExecuteTime": {
     "end_time": "2024-05-23T23:49:52.364298Z",
     "start_time": "2024-05-23T23:49:52.350310Z"
    }
   },
   "outputs": [
    {
     "data": {
      "text/plain": [
       "12_m2"
      ]
     },
     "execution_count": 31,
     "metadata": {},
     "output_type": "execute_result"
    }
   ],
   "source": [
    "area_1 = units(12, 'm2')\n",
    "area_1"
   ]
  },
  {
   "cell_type": "markdown",
   "id": "f17d1552",
   "metadata": {},
   "source": [
    "and have their own subclass"
   ]
  },
  {
   "cell_type": "code",
   "execution_count": 32,
   "id": "c4dc0c62",
   "metadata": {
    "ExecuteTime": {
     "end_time": "2024-05-23T23:49:52.379284Z",
     "start_time": "2024-05-23T23:49:52.365268Z"
    }
   },
   "outputs": [
    {
     "data": {
      "text/plain": [
       "Area"
      ]
     },
     "execution_count": 32,
     "metadata": {},
     "output_type": "execute_result"
    }
   ],
   "source": [
    "type(area_1)"
   ]
  },
  {
   "cell_type": "markdown",
   "id": "35839aea",
   "metadata": {},
   "source": [
    "<font color='red'>Keep in mind that the **addition of different subclasses of Unit is not possible** and will return a `tuple` of both units:</font>"
   ]
  },
  {
   "cell_type": "code",
   "execution_count": 33,
   "id": "43fc242a",
   "metadata": {
    "ExecuteTime": {
     "end_time": "2024-05-23T23:49:52.394726Z",
     "start_time": "2024-05-23T23:49:52.380255Z"
    }
   },
   "outputs": [
    {
     "data": {
      "text/plain": [
       "(12_m2, 3_m)"
      ]
     },
     "execution_count": 33,
     "metadata": {},
     "output_type": "execute_result"
    }
   ],
   "source": [
    "(area_1 + length_1)"
   ]
  },
  {
   "cell_type": "markdown",
   "id": "e8ecfd12",
   "metadata": {},
   "source": [
    "Then, addition of tuples of Unit will simply return the contenation of the tuples:"
   ]
  },
  {
   "cell_type": "code",
   "execution_count": 34,
   "id": "49a47184",
   "metadata": {
    "ExecuteTime": {
     "end_time": "2024-05-23T23:49:52.410711Z",
     "start_time": "2024-05-23T23:49:52.396721Z"
    }
   },
   "outputs": [
    {
     "data": {
      "text/plain": [
       "(12_m2, 3_m, 12_m2, 250_cm)"
      ]
     },
     "execution_count": 34,
     "metadata": {},
     "output_type": "execute_result"
    }
   ],
   "source": [
    "(area_1 + length_1) + (area_1 + length_2)"
   ]
  },
  {
   "cell_type": "markdown",
   "id": "a9f02f6d",
   "metadata": {},
   "source": [
    "Further operations with these tuples of units is not yet implemented and will rise error or might return not the desired operation."
   ]
  },
  {
   "cell_type": "markdown",
   "id": "cb507b34",
   "metadata": {},
   "source": [
    "## Product and division\n",
    "Product of units return new units:"
   ]
  },
  {
   "cell_type": "code",
   "execution_count": 35,
   "id": "0b7a2182",
   "metadata": {
    "ExecuteTime": {
     "end_time": "2024-05-23T23:49:52.425671Z",
     "start_time": "2024-05-23T23:49:52.411682Z"
    }
   },
   "outputs": [
    {
     "data": {
      "text/plain": [
       "53.313648293963254_ft2"
      ]
     },
     "execution_count": 35,
     "metadata": {},
     "output_type": "execute_result"
    }
   ],
   "source": [
    "area_2 = length_4 * length_2\n",
    "area_2"
   ]
  },
  {
   "cell_type": "code",
   "execution_count": 36,
   "id": "c4876560",
   "metadata": {
    "ExecuteTime": {
     "end_time": "2024-05-23T23:49:52.440604Z",
     "start_time": "2024-05-23T23:49:52.426642Z"
    }
   },
   "outputs": [
    {
     "data": {
      "text/plain": [
       "524.740632814599_ft3"
      ]
     },
     "execution_count": 36,
     "metadata": {},
     "output_type": "execute_result"
    }
   ],
   "source": [
    "area_2 * length_1"
   ]
  },
  {
   "cell_type": "markdown",
   "id": "82178d4f",
   "metadata": {},
   "source": [
    "Division of units return new units as well:"
   ]
  },
  {
   "cell_type": "code",
   "execution_count": 37,
   "id": "b787e5b1",
   "metadata": {
    "ExecuteTime": {
     "end_time": "2024-05-23T23:49:52.455564Z",
     "start_time": "2024-05-23T23:49:52.442600Z"
    }
   },
   "outputs": [
    {
     "data": {
      "text/plain": [
       "5.416666666666666_ft"
      ]
     },
     "execution_count": 37,
     "metadata": {},
     "output_type": "execute_result"
    }
   ],
   "source": [
    "area_2 / length_1"
   ]
  },
  {
   "cell_type": "markdown",
   "id": "99723d5a",
   "metadata": {},
   "source": [
    "## Operations with _not_-`Unit` instances\n",
    "\n",
    "It is possible to make algebraic operations of `Unit` with adimensional numbers (`int`, `float`).  \n",
    "The behaviour will depend on the operation:\n",
    "- addition: will _assume_ the adimensional number as the same units of the instance\n",
    "- product: will simple multiply the value of the unyt number\n",
    "  \n",
    "Recall that the variable `length_1` contains *3_m*:"
   ]
  },
  {
   "cell_type": "code",
   "execution_count": 38,
   "id": "cae1a535",
   "metadata": {
    "ExecuteTime": {
     "end_time": "2024-05-23T23:49:52.471521Z",
     "start_time": "2024-05-23T23:49:52.456562Z"
    }
   },
   "outputs": [
    {
     "data": {
      "text/plain": [
       "3_m"
      ]
     },
     "execution_count": 38,
     "metadata": {},
     "output_type": "execute_result"
    }
   ],
   "source": [
    "length_1"
   ]
  },
  {
   "cell_type": "markdown",
   "id": "95fb54a6",
   "metadata": {},
   "source": [
    "now let's try some operations:"
   ]
  },
  {
   "cell_type": "code",
   "execution_count": 39,
   "id": "371a5220",
   "metadata": {
    "ExecuteTime": {
     "end_time": "2024-05-23T23:49:52.487047Z",
     "start_time": "2024-05-23T23:49:52.472520Z"
    }
   },
   "outputs": [
    {
     "data": {
      "text/plain": [
       "9_m"
      ]
     },
     "execution_count": 39,
     "metadata": {},
     "output_type": "execute_result"
    }
   ],
   "source": [
    "length_1 * 3"
   ]
  },
  {
   "cell_type": "code",
   "execution_count": 40,
   "id": "5b05e160",
   "metadata": {
    "ExecuteTime": {
     "end_time": "2024-05-23T23:49:52.502429Z",
     "start_time": "2024-05-23T23:49:52.488048Z"
    }
   },
   "outputs": [
    {
     "data": {
      "text/plain": [
       "1.5_m"
      ]
     },
     "execution_count": 40,
     "metadata": {},
     "output_type": "execute_result"
    }
   ],
   "source": [
    "length_1 / 2"
   ]
  },
  {
   "cell_type": "code",
   "execution_count": 41,
   "id": "0e77a1c8",
   "metadata": {
    "ExecuteTime": {
     "end_time": "2024-05-23T23:49:52.518386Z",
     "start_time": "2024-05-23T23:49:52.503427Z"
    }
   },
   "outputs": [
    {
     "data": {
      "text/plain": [
       "5_m"
      ]
     },
     "execution_count": 41,
     "metadata": {},
     "output_type": "execute_result"
    }
   ],
   "source": [
    "length_1 + 2"
   ]
  },
  {
   "cell_type": "markdown",
   "id": "da2525a5",
   "metadata": {},
   "source": [
    "# Logical operations\n",
    "\n",
    "Logical operators transform second value to the units of first value before comparing"
   ]
  },
  {
   "cell_type": "code",
   "execution_count": 42,
   "id": "6804307f",
   "metadata": {
    "ExecuteTime": {
     "end_time": "2024-05-23T23:49:52.534376Z",
     "start_time": "2024-05-23T23:49:52.519384Z"
    }
   },
   "outputs": [
    {
     "name": "stdout",
     "output_type": "stream",
     "text": [
      "length_4: 6.5_ft equivalent to 198.12_cm\n",
      "length_2: 250_cm equivalent to 8.202099737532809_ft\n",
      "6.5_ft > 250_cm\n"
     ]
    },
    {
     "data": {
      "text/plain": [
       "False"
      ]
     },
     "execution_count": 42,
     "metadata": {},
     "output_type": "execute_result"
    }
   ],
   "source": [
    "print('length_4:', length_4 , 'equivalent to', length_4.to('cm'))\n",
    "print('length_2:', length_2 , 'equivalent to', length_2.to(length_4))\n",
    "\n",
    "print(length_4, '>', length_2)\n",
    "length_4 > length_2"
   ]
  },
  {
   "cell_type": "code",
   "execution_count": 43,
   "id": "3d8c92aa",
   "metadata": {
    "ExecuteTime": {
     "end_time": "2024-05-23T23:49:52.550329Z",
     "start_time": "2024-05-23T23:49:52.535371Z"
    }
   },
   "outputs": [
    {
     "name": "stdout",
     "output_type": "stream",
     "text": [
      "area_1: 12_m2\n",
      "area_2: 53.313648293963254_ft2\n",
      "12_m2 < 53.313648293963254_ft2\n"
     ]
    },
    {
     "data": {
      "text/plain": [
       "False"
      ]
     },
     "execution_count": 43,
     "metadata": {},
     "output_type": "execute_result"
    }
   ],
   "source": [
    "print('area_1:', area_1)\n",
    "print('area_2:', area_2)\n",
    "\n",
    "print(area_1, '<', area_2)\n",
    "area_1 < area_2"
   ]
  },
  {
   "cell_type": "code",
   "execution_count": 44,
   "id": "ea7104d4",
   "metadata": {
    "ExecuteTime": {
     "end_time": "2024-05-23T23:49:52.566288Z",
     "start_time": "2024-05-23T23:49:52.551330Z"
    }
   },
   "outputs": [
    {
     "data": {
      "text/plain": [
       "True"
      ]
     },
     "execution_count": 44,
     "metadata": {},
     "output_type": "execute_result"
    }
   ],
   "source": [
    "area_1 / 10 < area_2"
   ]
  },
  {
   "cell_type": "markdown",
   "id": "43f24485",
   "metadata": {},
   "source": [
    "# The `.to()` method\n",
    "Use the method **`.to`** to convert the instance value to other units of the same kind:"
   ]
  },
  {
   "cell_type": "code",
   "execution_count": 45,
   "id": "3127970f",
   "metadata": {
    "ExecuteTime": {
     "end_time": "2024-05-23T23:49:52.582278Z",
     "start_time": "2024-05-23T23:49:52.568253Z"
    }
   },
   "outputs": [
    {
     "data": {
      "text/plain": [
       "4.953_m2"
      ]
     },
     "execution_count": 45,
     "metadata": {},
     "output_type": "execute_result"
    }
   ],
   "source": [
    "area_2.to('m2')"
   ]
  },
  {
   "cell_type": "code",
   "execution_count": 46,
   "id": "b1a4b901",
   "metadata": {
    "ExecuteTime": {
     "end_time": "2024-05-23T23:49:52.598259Z",
     "start_time": "2024-05-23T23:49:52.583248Z"
    }
   },
   "outputs": [
    {
     "data": {
      "text/plain": [
       "2.9652645776059843_acre"
      ]
     },
     "execution_count": 46,
     "metadata": {},
     "output_type": "execute_result"
    }
   ],
   "source": [
    "1000*area_1.to('acre')"
   ]
  },
  {
   "cell_type": "code",
   "execution_count": 47,
   "id": "f8a2198c",
   "metadata": {
    "ExecuteTime": {
     "end_time": "2024-05-23T23:49:52.614215Z",
     "start_time": "2024-05-23T23:49:52.599256Z"
    }
   },
   "outputs": [
    {
     "data": {
      "text/plain": [
       "0.333_l"
      ]
     },
     "execution_count": 47,
     "metadata": {},
     "output_type": "execute_result"
    }
   ],
   "source": [
    "units(333, 'cc').to('l')"
   ]
  },
  {
   "cell_type": "code",
   "execution_count": 48,
   "id": "5be5afd2",
   "metadata": {
    "ExecuteTime": {
     "end_time": "2024-05-23T23:49:52.630169Z",
     "start_time": "2024-05-23T23:49:52.615227Z"
    }
   },
   "outputs": [
    {
     "name": "stderr",
     "output_type": "stream",
     "text": [
      "INFO:print path ON\n"
     ]
    }
   ],
   "source": [
    "# let's print the following conversion\n",
    "unyts.print_path(True)"
   ]
  },
  {
   "cell_type": "code",
   "execution_count": 49,
   "id": "cff4f6d6",
   "metadata": {
    "ExecuteTime": {
     "end_time": "2024-05-23T23:49:52.661090Z",
     "start_time": "2024-05-23T23:49:52.631142Z"
    }
   },
   "outputs": [
    {
     "name": "stderr",
     "output_type": "stream",
     "text": [
      "INFO:converting from 'ml' to 'oz':\n",
      " ml > millilitre > cubic centimeter > cm3 > m3 > cubic meter > cubic foot > cubic inch > gallonUS > fluid ounce > oz\n"
     ]
    },
    {
     "data": {
      "text/plain": [
       "11.260069559713717_oz"
      ]
     },
     "execution_count": 49,
     "metadata": {},
     "output_type": "execute_result"
    }
   ],
   "source": [
    "units(333, 'ml').to('oz')"
   ]
  },
  {
   "cell_type": "code",
   "execution_count": 50,
   "id": "b2c3b5e3",
   "metadata": {
    "ExecuteTime": {
     "end_time": "2024-05-23T23:49:52.677072Z",
     "start_time": "2024-05-23T23:49:52.662093Z"
    }
   },
   "outputs": [
    {
     "name": "stderr",
     "output_type": "stream",
     "text": [
      "INFO:print path OFF\n"
     ]
    }
   ],
   "source": [
    "unyts.print_path(False)"
   ]
  },
  {
   "cell_type": "markdown",
   "id": "407c6f39",
   "metadata": {},
   "source": [
    "# Examples of use\n",
    "\n",
    "_area_ times _length_ returns _volume_"
   ]
  },
  {
   "cell_type": "code",
   "execution_count": 51,
   "id": "46b16960",
   "metadata": {
    "ExecuteTime": {
     "end_time": "2024-05-23T23:49:52.692597Z",
     "start_time": "2024-05-23T23:49:52.678046Z"
    }
   },
   "outputs": [
    {
     "name": "stdout",
     "output_type": "stream",
     "text": [
      "type: Volume\n"
     ]
    },
    {
     "data": {
      "text/plain": [
       "36_m3"
      ]
     },
     "execution_count": 51,
     "metadata": {},
     "output_type": "execute_result"
    }
   ],
   "source": [
    "volume_1 = area_1 * length_1\n",
    "print('type:', type(volume_1))\n",
    "volume_1"
   ]
  },
  {
   "cell_type": "markdown",
   "id": "8e265fd6",
   "metadata": {},
   "source": [
    "This _volume_ divided by _time_ returns _rate_:"
   ]
  },
  {
   "cell_type": "code",
   "execution_count": 52,
   "id": "d3104d67",
   "metadata": {
    "ExecuteTime": {
     "end_time": "2024-05-23T23:49:56.049221Z",
     "start_time": "2024-05-23T23:49:52.693599Z"
    }
   },
   "outputs": [
    {
     "name": "stdout",
     "output_type": "stream",
     "text": [
      "type: Rate\n",
      "36.0_m3/day\n",
      "36.0_m3/day to field units: 226.433304_stb/day\n",
      "36.0_m3/day to litres per hour: 1500.0_l/hr\n",
      "or in thousand cubic feer accumulated over one year: 464.3525527208535_Mscf/year\n"
     ]
    }
   ],
   "source": [
    "rate_1 = volume_1 / units(1, 'day')\n",
    "print('type:', type(rate_1))\n",
    "print(rate_1)\n",
    "print(rate_1, 'to field units:', rate_1.to('stb/day'))\n",
    "print(rate_1, 'to litres per hour:', rate_1.to('l/hr'))\n",
    "print('or in thousand cubic feer accumulated over one year:', rate_1.to('Mscf/year'))"
   ]
  },
  {
   "cell_type": "markdown",
   "id": "c2208527",
   "metadata": {},
   "source": [
    "Multiple products and conversions:"
   ]
  },
  {
   "cell_type": "code",
   "execution_count": 53,
   "id": "f27c2dcc",
   "metadata": {
    "ExecuteTime": {
     "end_time": "2024-05-23T23:49:56.079089Z",
     "start_time": "2024-05-23T23:49:56.051199Z"
    }
   },
   "outputs": [
    {
     "data": {
      "text/plain": [
       "524.740632814599_ft3"
      ]
     },
     "execution_count": 53,
     "metadata": {},
     "output_type": "execute_result"
    }
   ],
   "source": [
    "volume_2 = length_4 * length_3 * length_2\n",
    "volume_2"
   ]
  },
  {
   "cell_type": "code",
   "execution_count": 54,
   "id": "11126ad7",
   "metadata": {
    "ExecuteTime": {
     "end_time": "2024-05-23T23:49:56.095088Z",
     "start_time": "2024-05-23T23:49:56.081096Z"
    }
   },
   "outputs": [
    {
     "data": {
      "text/plain": [
       "14.859000000000002_m3"
      ]
     },
     "execution_count": 54,
     "metadata": {},
     "output_type": "execute_result"
    }
   ],
   "source": [
    "volume_2.to('m3')"
   ]
  },
  {
   "cell_type": "code",
   "execution_count": 55,
   "id": "cc1de45c",
   "metadata": {
    "ExecuteTime": {
     "end_time": "2024-05-23T23:49:56.110426Z",
     "start_time": "2024-05-23T23:49:56.096593Z"
    }
   },
   "outputs": [
    {
     "data": {
      "text/plain": [
       "524.740632814599_scf"
      ]
     },
     "execution_count": 55,
     "metadata": {},
     "output_type": "execute_result"
    }
   ],
   "source": [
    "volume_2.to('scf')"
   ]
  },
  {
   "cell_type": "code",
   "execution_count": 56,
   "id": "8d315f07",
   "metadata": {
    "ExecuteTime": {
     "end_time": "2024-05-23T23:49:56.126005Z",
     "start_time": "2024-05-23T23:49:56.111421Z"
    }
   },
   "outputs": [
    {
     "data": {
      "text/plain": [
       "93.4602871405253_stb"
      ]
     },
     "execution_count": 56,
     "metadata": {},
     "output_type": "execute_result"
    }
   ],
   "source": [
    "volume_2.to('stb')"
   ]
  },
  {
   "cell_type": "code",
   "execution_count": 57,
   "id": "a793e510",
   "metadata": {
    "ExecuteTime": {
     "end_time": "2024-05-23T23:49:56.141247Z",
     "start_time": "2024-05-23T23:49:56.128035Z"
    }
   },
   "outputs": [
    {
     "data": {
      "text/plain": [
       "True"
      ]
     },
     "execution_count": 57,
     "metadata": {},
     "output_type": "execute_result"
    }
   ],
   "source": [
    "volume_2.to('stb') == volume_2"
   ]
  },
  {
   "cell_type": "code",
   "execution_count": 58,
   "id": "e51253ac",
   "metadata": {
    "ExecuteTime": {
     "end_time": "2024-05-23T23:50:30.661328Z",
     "start_time": "2024-05-23T23:49:56.142247Z"
    }
   },
   "outputs": [
    {
     "name": "stdout",
     "output_type": "stream",
     "text": [
      "524.740632814599_ft3 / 53.313648293963254_ft2 = 9.842519685039372_ft\n"
     ]
    }
   ],
   "source": [
    "print(volume_2, '/', area_2, '=', volume_2/area_2)"
   ]
  },
  {
   "cell_type": "code",
   "execution_count": 59,
   "id": "14775624",
   "metadata": {
    "ExecuteTime": {
     "end_time": "2024-05-23T23:50:33.971106Z",
     "start_time": "2024-05-23T23:50:30.663322Z"
    }
   },
   "outputs": [
    {
     "name": "stdout",
     "output_type": "stream",
     "text": [
      "36_m3 / 53.313648293963254_ft2 = 2.2153846153846155_m\n"
     ]
    }
   ],
   "source": [
    "print(volume_1, '/', area_2, '=', volume_1/area_2)"
   ]
  },
  {
   "cell_type": "code",
   "execution_count": 60,
   "id": "29635a83",
   "metadata": {
    "ExecuteTime": {
     "end_time": "2024-05-23T23:50:33.987042Z",
     "start_time": "2024-05-23T23:50:33.973108Z"
    }
   },
   "outputs": [
    {
     "name": "stdout",
     "output_type": "stream",
     "text": [
      "type: Time\n"
     ]
    },
    {
     "data": {
      "text/plain": [
       "1.5_hr"
      ]
     },
     "execution_count": 60,
     "metadata": {},
     "output_type": "execute_result"
    }
   ],
   "source": [
    "time_1 = units(1.5, 'hr')\n",
    "print('type:', type(time_1))\n",
    "time_1"
   ]
  },
  {
   "cell_type": "code",
   "execution_count": 61,
   "id": "1872a59d",
   "metadata": {
    "ExecuteTime": {
     "end_time": "2024-05-23T23:50:34.002191Z",
     "start_time": "2024-05-23T23:50:33.989217Z"
    }
   },
   "outputs": [
    {
     "data": {
      "text/plain": [
       "90.0_min"
      ]
     },
     "execution_count": 61,
     "metadata": {},
     "output_type": "execute_result"
    }
   ],
   "source": [
    "time_1.to('min')"
   ]
  },
  {
   "cell_type": "code",
   "execution_count": 62,
   "id": "cd0d1f6f",
   "metadata": {
    "ExecuteTime": {
     "end_time": "2024-05-23T23:50:34.018188Z",
     "start_time": "2024-05-23T23:50:34.004185Z"
    }
   },
   "outputs": [
    {
     "data": {
      "text/plain": [
       "5_sec"
      ]
     },
     "execution_count": 62,
     "metadata": {},
     "output_type": "execute_result"
    }
   ],
   "source": [
    "time_2 = units(5, 'sec')\n",
    "time_2"
   ]
  },
  {
   "cell_type": "code",
   "execution_count": 63,
   "id": "36f7eb88",
   "metadata": {
    "ExecuteTime": {
     "end_time": "2024-05-23T23:50:34.048968Z",
     "start_time": "2024-05-23T23:50:34.020143Z"
    }
   },
   "outputs": [
    {
     "name": "stdout",
     "output_type": "stream",
     "text": [
      "type: Velocity\n"
     ]
    },
    {
     "data": {
      "text/plain": [
       "1.3_ft/sec"
      ]
     },
     "execution_count": 63,
     "metadata": {},
     "output_type": "execute_result"
    }
   ],
   "source": [
    "speed_1 = length_4 / time_2\n",
    "print('type:', type(speed_1))\n",
    "speed_1"
   ]
  },
  {
   "cell_type": "code",
   "execution_count": 64,
   "id": "7cebaacf",
   "metadata": {
    "ExecuteTime": {
     "end_time": "2024-05-23T23:50:34.065063Z",
     "start_time": "2024-05-23T23:50:34.050963Z"
    }
   },
   "outputs": [
    {
     "data": {
      "text/plain": [
       "1.4264640000000002_km/hr"
      ]
     },
     "execution_count": 64,
     "metadata": {},
     "output_type": "execute_result"
    }
   ],
   "source": [
    "speed_1.to('km/hr')"
   ]
  },
  {
   "cell_type": "code",
   "execution_count": 65,
   "id": "4d95e86f",
   "metadata": {
    "ExecuteTime": {
     "end_time": "2024-05-23T23:50:34.079953Z",
     "start_time": "2024-05-23T23:50:34.067031Z"
    }
   },
   "outputs": [
    {
     "data": {
      "text/plain": [
       "100_km/hr"
      ]
     },
     "execution_count": 65,
     "metadata": {},
     "output_type": "execute_result"
    }
   ],
   "source": [
    "speed_2 = units(100, 'km/hr')\n",
    "speed_2"
   ]
  },
  {
   "cell_type": "code",
   "execution_count": 66,
   "id": "1d5bdece",
   "metadata": {
    "ExecuteTime": {
     "end_time": "2024-05-23T23:50:34.095451Z",
     "start_time": "2024-05-23T23:50:34.080950Z"
    }
   },
   "outputs": [
    {
     "data": {
      "text/plain": [
       "62.13711922373339_mi/hr"
      ]
     },
     "execution_count": 66,
     "metadata": {},
     "output_type": "execute_result"
    }
   ],
   "source": [
    "speed_2.to('mi/hr')"
   ]
  },
  {
   "cell_type": "code",
   "execution_count": 67,
   "id": "d69d3574",
   "metadata": {
    "ExecuteTime": {
     "end_time": "2024-05-23T23:50:34.296058Z",
     "start_time": "2024-05-23T23:50:34.096449Z"
    }
   },
   "outputs": [
    {
     "name": "stdout",
     "output_type": "stream",
     "text": [
      "type: ProductivityIndex\n"
     ]
    },
    {
     "data": {
      "text/plain": [
       "2.7_stb/day/psia"
      ]
     },
     "execution_count": 67,
     "metadata": {},
     "output_type": "execute_result"
    }
   ],
   "source": [
    "productivity_index_1 = units(2.7, 'stb/day/psia')\n",
    "print('type:', type(productivity_index_1))\n",
    "productivity_index_1"
   ]
  },
  {
   "cell_type": "code",
   "execution_count": 68,
   "id": "c5c7a2ff",
   "metadata": {
    "ExecuteTime": {
     "end_time": "2024-05-23T23:50:34.592220Z",
     "start_time": "2024-05-23T23:50:34.297056Z"
    }
   },
   "outputs": [
    {
     "data": {
      "text/plain": [
       "6.225969351032321_sm3/day/barsa"
      ]
     },
     "execution_count": 68,
     "metadata": {},
     "output_type": "execute_result"
    }
   ],
   "source": [
    "productivity_index_1.to('sm3/day/barsa')"
   ]
  },
  {
   "cell_type": "code",
   "execution_count": 69,
   "id": "789ca0cf",
   "metadata": {
    "ExecuteTime": {
     "end_time": "2024-05-23T23:50:34.638765Z",
     "start_time": "2024-05-23T23:50:34.593749Z"
    }
   },
   "outputs": [
    {
     "data": {
      "text/plain": [
       "43.2358982710578_cc/min/kPa"
      ]
     },
     "execution_count": 69,
     "metadata": {},
     "output_type": "execute_result"
    }
   ],
   "source": [
    "productivity_index_1.to('cc/min/kPa')"
   ]
  },
  {
   "cell_type": "markdown",
   "id": "a2601c05",
   "metadata": {},
   "source": [
    "# Working with NumPy arrays\n",
    "simply provide the array as the first argument of **`units()`** function:"
   ]
  },
  {
   "cell_type": "code",
   "execution_count": 70,
   "id": "e4119421",
   "metadata": {
    "ExecuteTime": {
     "end_time": "2024-05-23T23:50:34.654159Z",
     "start_time": "2024-05-23T23:50:34.640664Z"
    }
   },
   "outputs": [],
   "source": [
    "import numpy as np"
   ]
  },
  {
   "cell_type": "code",
   "execution_count": 71,
   "id": "c4f0c7af",
   "metadata": {
    "ExecuteTime": {
     "end_time": "2024-05-23T23:50:34.669156Z",
     "start_time": "2024-05-23T23:50:34.655055Z"
    }
   },
   "outputs": [
    {
     "data": {
      "text/plain": [
       "array([0.41271069, 0.43937706, 0.84110264, 0.07313548, 0.55587737,\n",
       "       0.89524445, 0.16138971, 0.62663159, 0.71473653, 0.76856905])"
      ]
     },
     "execution_count": 71,
     "metadata": {},
     "output_type": "execute_result"
    }
   ],
   "source": [
    "array_1 = np.random.rand(10)\n",
    "array_1"
   ]
  },
  {
   "cell_type": "code",
   "execution_count": 72,
   "id": "ccd6be22",
   "metadata": {
    "ExecuteTime": {
     "end_time": "2024-05-23T23:50:34.684351Z",
     "start_time": "2024-05-23T23:50:34.670156Z"
    }
   },
   "outputs": [],
   "source": [
    "mass_1 = units(array_1, 'kg')"
   ]
  },
  {
   "cell_type": "code",
   "execution_count": 73,
   "id": "3de66b00",
   "metadata": {
    "ExecuteTime": {
     "end_time": "2024-05-23T23:50:34.699886Z",
     "start_time": "2024-05-23T23:50:34.686319Z"
    }
   },
   "outputs": [
    {
     "data": {
      "text/plain": [
       "[0.41271069 0.43937706 0.84110264 0.07313548 0.55587737 0.89524445\n",
       " 0.16138971 0.62663159 0.71473653 0.76856905]_kg"
      ]
     },
     "execution_count": 73,
     "metadata": {},
     "output_type": "execute_result"
    }
   ],
   "source": [
    "mass_1"
   ]
  },
  {
   "cell_type": "code",
   "execution_count": 74,
   "id": "4c965bb1",
   "metadata": {
    "ExecuteTime": {
     "end_time": "2024-05-23T23:50:34.715813Z",
     "start_time": "2024-05-23T23:50:34.701850Z"
    }
   },
   "outputs": [
    {
     "data": {
      "text/plain": [
       "[412.71069076 439.37706112 841.10263695  73.13548176 555.87736611\n",
       " 895.2444482  161.38970556 626.63159099 714.73652692 768.56905064]_g"
      ]
     },
     "execution_count": 74,
     "metadata": {},
     "output_type": "execute_result"
    }
   ],
   "source": [
    "mass_1.to('g')"
   ]
  },
  {
   "cell_type": "code",
   "execution_count": 75,
   "id": "e02b45e8",
   "metadata": {
    "ExecuteTime": {
     "end_time": "2024-05-23T23:50:34.731801Z",
     "start_time": "2024-05-23T23:50:34.716810Z"
    }
   },
   "outputs": [
    {
     "data": {
      "text/plain": [
       "[0.43804784 0.45025175 0.34538027 0.08058662 0.6340971  0.16945486\n",
       " 0.14705864 0.55951737 0.45399152 0.99715927]_lb"
      ]
     },
     "execution_count": 75,
     "metadata": {},
     "output_type": "execute_result"
    }
   ],
   "source": [
    "mass_2 = units(np.random.rand(10), 'lb')\n",
    "mass_2"
   ]
  },
  {
   "cell_type": "code",
   "execution_count": 76,
   "id": "753725fe",
   "metadata": {
    "ExecuteTime": {
     "end_time": "2024-05-23T23:50:34.746648Z",
     "start_time": "2024-05-23T23:50:34.732767Z"
    }
   },
   "outputs": [
    {
     "data": {
      "text/plain": [
       "[1.34791917 1.41891236 2.19969417 0.24182276 1.85959692 2.14313102\n",
       " 0.50286204 1.94100355 2.02971583 2.69156399]_lb"
      ]
     },
     "execution_count": 76,
     "metadata": {},
     "output_type": "execute_result"
    }
   ],
   "source": [
    "mass_2 + mass_1"
   ]
  },
  {
   "cell_type": "markdown",
   "id": "21b99062",
   "metadata": {},
   "source": [
    "# The `convert` function\n",
    "The units converter function, **`convert()`** can be used directly, providing the following arguments:\n",
    "- `value`: _int_, _float_, _np.array_, etc, the value to be converted\n",
    "- `from_units`: _str_ the input units\n",
    "- `to_units`: _str_, the desired output units\n",
    "- `print_path`: [optional] _bool_, set to True to request printing the conversion path. Default behaviour is defined by the `print_path()` setting."
   ]
  },
  {
   "cell_type": "code",
   "execution_count": 77,
   "id": "2b937728",
   "metadata": {
    "ExecuteTime": {
     "end_time": "2024-05-23T23:50:34.762575Z",
     "start_time": "2024-05-23T23:50:34.747629Z"
    }
   },
   "outputs": [
    {
     "data": {
      "text/plain": [
       "14"
      ]
     },
     "execution_count": 77,
     "metadata": {},
     "output_type": "execute_result"
    }
   ],
   "source": [
    "convert(2, 'week', 'day')"
   ]
  },
  {
   "cell_type": "code",
   "execution_count": 78,
   "id": "4e5639bb",
   "metadata": {
    "ExecuteTime": {
     "end_time": "2024-05-23T23:50:34.777569Z",
     "start_time": "2024-05-23T23:50:34.764572Z"
    }
   },
   "outputs": [
    {
     "data": {
      "text/plain": [
       "1440"
      ]
     },
     "execution_count": 78,
     "metadata": {},
     "output_type": "execute_result"
    }
   ],
   "source": [
    "convert(1, 'day', 'minute')"
   ]
  },
  {
   "cell_type": "code",
   "execution_count": 79,
   "id": "0474f3e6",
   "metadata": {
    "ExecuteTime": {
     "end_time": "2024-05-23T23:50:34.794097Z",
     "start_time": "2024-05-23T23:50:34.778567Z"
    }
   },
   "outputs": [
    {
     "name": "stderr",
     "output_type": "stream",
     "text": [
      "INFO:converting from 'week' to 'second':\n",
      " week > day > hour > minute > second\n"
     ]
    },
    {
     "data": {
      "text/plain": [
       "604800"
      ]
     },
     "execution_count": 79,
     "metadata": {},
     "output_type": "execute_result"
    }
   ],
   "source": [
    "convert(1, 'week', 'second', True)"
   ]
  },
  {
   "cell_type": "code",
   "execution_count": 80,
   "id": "8c34ecfc",
   "metadata": {
    "ExecuteTime": {
     "end_time": "2024-05-23T23:50:34.871916Z",
     "start_time": "2024-05-23T23:50:34.795126Z"
    }
   },
   "outputs": [
    {
     "name": "stderr",
     "output_type": "stream",
     "text": [
      "INFO:converting from 'psia' to 'g/cm2':\n",
      " psia > absolute psi > lb/in2 > lb > pound > kilogram > kg > g / 1 in2 > square inch > square foot > square meter > m2 > cm2\n"
     ]
    },
    {
     "data": {
      "text/plain": [
       "70.30695796391595"
      ]
     },
     "execution_count": 80,
     "metadata": {},
     "output_type": "execute_result"
    }
   ],
   "source": [
    "convert(1, 'psia', 'g/cm2', True)"
   ]
  },
  {
   "cell_type": "markdown",
   "id": "8f558f37",
   "metadata": {},
   "source": [
    "- optional, fourth argument set to **True** will return the conversion path.   \n",
    "To avoid anoying print outs, the conversion path is printed only the first time it is used:"
   ]
  },
  {
   "cell_type": "code",
   "execution_count": 81,
   "id": "4fe90dc5",
   "metadata": {
    "ExecuteTime": {
     "end_time": "2024-05-23T23:50:34.887906Z",
     "start_time": "2024-05-23T23:50:34.872927Z"
    }
   },
   "outputs": [
    {
     "name": "stderr",
     "output_type": "stream",
     "text": [
      "INFO:converting from 'nautical mile' to 'km':\n",
      " nautical mile > meter > m > km\n"
     ]
    },
    {
     "data": {
      "text/plain": [
       "1.852"
      ]
     },
     "execution_count": 81,
     "metadata": {},
     "output_type": "execute_result"
    }
   ],
   "source": [
    "convert(1, 'nautical mile', 'km', True)"
   ]
  },
  {
   "cell_type": "code",
   "execution_count": 82,
   "id": "12189df7",
   "metadata": {
    "ExecuteTime": {
     "end_time": "2024-05-23T23:50:34.919365Z",
     "start_time": "2024-05-23T23:50:34.900387Z"
    }
   },
   "outputs": [
    {
     "name": "stderr",
     "output_type": "stream",
     "text": [
      "INFO:converting from 'm3/month' to 'l/day':\n",
      " m3 > cm3 > cubic centimeter > millilitre > ml > l / 1 month > day\n"
     ]
    },
    {
     "data": {
      "text/plain": [
       "985.6262833675565"
      ]
     },
     "execution_count": 82,
     "metadata": {},
     "output_type": "execute_result"
    }
   ],
   "source": [
    "convert(30, 'm3/month', 'l/day', True)"
   ]
  },
  {
   "cell_type": "code",
   "execution_count": 83,
   "id": "05ce65f0",
   "metadata": {
    "ExecuteTime": {
     "end_time": "2024-05-23T23:50:34.934320Z",
     "start_time": "2024-05-23T23:50:34.921331Z"
    }
   },
   "outputs": [
    {
     "name": "stderr",
     "output_type": "stream",
     "text": [
      "INFO:converting from 'psi/ft' to 'bar/m':\n",
      " psi > bar / 1 ft > foot > yard > meter > m\n"
     ]
    },
    {
     "data": {
      "text/plain": [
       "0.07917208177742135"
      ]
     },
     "execution_count": 83,
     "metadata": {},
     "output_type": "execute_result"
    }
   ],
   "source": [
    "convert(0.35, 'psi/ft', 'bar/m', True)"
   ]
  },
  {
   "cell_type": "code",
   "execution_count": 84,
   "id": "c61b97c1",
   "metadata": {
    "ExecuteTime": {
     "end_time": "2024-05-23T23:50:34.950278Z",
     "start_time": "2024-05-23T23:50:34.936291Z"
    }
   },
   "outputs": [
    {
     "name": "stderr",
     "output_type": "stream",
     "text": [
      "INFO:converting from 'psi/ft' to 'g/cc':\n",
      " psi/ft > psia/ft > lb/ft3 > g/cm3 > g/cc\n"
     ]
    },
    {
     "data": {
      "text/plain": [
       "0.8073305540475911"
      ]
     },
     "execution_count": 84,
     "metadata": {},
     "output_type": "execute_result"
    }
   ],
   "source": [
    "convert(0.35, 'psi/ft', 'g/cc', True)"
   ]
  },
  {
   "cell_type": "code",
   "execution_count": 85,
   "id": "5d9b6e3c",
   "metadata": {
    "ExecuteTime": {
     "end_time": "2024-05-23T23:50:34.966210Z",
     "start_time": "2024-05-23T23:50:34.952248Z"
    }
   },
   "outputs": [
    {
     "name": "stderr",
     "output_type": "stream",
     "text": [
      "INFO:converting from 'bar/m' to 'psi/ft':\n",
      " bar > psi / 1 m > meter > yard > foot > ft\n"
     ]
    },
    {
     "data": {
      "text/plain": [
       "0.3499999999999999"
      ]
     },
     "execution_count": 85,
     "metadata": {},
     "output_type": "execute_result"
    }
   ],
   "source": [
    "convert(0.07917208177742135, 'bar/m', 'psi/ft', True)"
   ]
  },
  {
   "cell_type": "code",
   "execution_count": 86,
   "id": "7d7ee781",
   "metadata": {
    "ExecuteTime": {
     "end_time": "2024-05-23T23:50:34.981222Z",
     "start_time": "2024-05-23T23:50:34.967208Z"
    }
   },
   "outputs": [
    {
     "name": "stderr",
     "output_type": "stream",
     "text": [
      "INFO:converting from 'barsa/m' to 'psia/ft':\n",
      " barsa > absolute bar > absolute psi > psia / 1 m > meter > yard > foot > ft\n"
     ]
    },
    {
     "data": {
      "text/plain": [
       "1.9141848565515385"
      ]
     },
     "execution_count": 86,
     "metadata": {},
     "output_type": "execute_result"
    }
   ],
   "source": [
    "convert(0.433, 'barsa/m', 'psia/ft', True)"
   ]
  },
  {
   "cell_type": "code",
   "execution_count": 87,
   "id": "6567efa8",
   "metadata": {
    "ExecuteTime": {
     "end_time": "2024-05-23T23:50:34.996718Z",
     "start_time": "2024-05-23T23:50:34.983193Z"
    }
   },
   "outputs": [
    {
     "name": "stderr",
     "output_type": "stream",
     "text": [
      "INFO:converting from 'psia' to 'lb/in2':\n",
      " psia > absolute psi > lb/in2\n"
     ]
    },
    {
     "data": {
      "text/plain": [
       "14.7"
      ]
     },
     "execution_count": 87,
     "metadata": {},
     "output_type": "execute_result"
    }
   ],
   "source": [
    "convert(14.7, 'psia', 'lb/in2', True)"
   ]
  },
  {
   "cell_type": "code",
   "execution_count": 88,
   "id": "ea74ca0a",
   "metadata": {
    "ExecuteTime": {
     "end_time": "2024-05-23T23:50:35.012675Z",
     "start_time": "2024-05-23T23:50:34.997718Z"
    }
   },
   "outputs": [
    {
     "name": "stderr",
     "output_type": "stream",
     "text": [
      "INFO:converting from 'kg/cm2' to 'lb/in2':\n",
      " kg > kilogram > pound > lb / 1 cm2 > m2 > square meter > square foot > square inch > in2\n"
     ]
    },
    {
     "data": {
      "text/plain": [
       "14.223343307119563"
      ]
     },
     "execution_count": 88,
     "metadata": {},
     "output_type": "execute_result"
    }
   ],
   "source": [
    "convert(1, 'kg/cm2', 'lb/in2', True)"
   ]
  },
  {
   "cell_type": "markdown",
   "id": "628594dc",
   "metadata": {
    "ExecuteTime": {
     "end_time": "2023-01-28T21:26:47.070369Z",
     "start_time": "2023-01-28T21:26:44.189997Z"
    }
   },
   "source": [
    "convert(1, 'kg/cm2', 'psia', True)"
   ]
  },
  {
   "cell_type": "code",
   "execution_count": 89,
   "id": "7526d5b7",
   "metadata": {
    "ExecuteTime": {
     "end_time": "2024-05-23T23:50:35.028631Z",
     "start_time": "2024-05-23T23:50:35.013686Z"
    }
   },
   "outputs": [
    {
     "name": "stderr",
     "output_type": "stream",
     "text": [
      "INFO:converting from 'g/cm2' to 'lb/in2':\n",
      " g > gram > kilogram > pound > lb / 1 cm2 > m2 > square meter > square foot > square inch > in2\n"
     ]
    },
    {
     "data": {
      "text/plain": [
       "0.014223343307119564"
      ]
     },
     "execution_count": 89,
     "metadata": {},
     "output_type": "execute_result"
    }
   ],
   "source": [
    "convert(1, 'g/cm2', 'lb/in2', True)"
   ]
  },
  {
   "cell_type": "code",
   "execution_count": 90,
   "id": "79dcf20b",
   "metadata": {
    "ExecuteTime": {
     "end_time": "2024-05-23T23:50:35.044589Z",
     "start_time": "2024-05-23T23:50:35.030604Z"
    }
   },
   "outputs": [
    {
     "name": "stderr",
     "output_type": "stream",
     "text": [
      "INFO:converting from 'API' to 'lb/ft3':\n",
      " API > g/cc > g/cm3 > lb/ft3\n"
     ]
    },
    {
     "data": {
      "text/plain": [
       "62.427960576144606"
      ]
     },
     "execution_count": 90,
     "metadata": {},
     "output_type": "execute_result"
    }
   ],
   "source": [
    "convert(10, 'API', 'lb/ft3', True)"
   ]
  },
  {
   "cell_type": "code",
   "execution_count": 91,
   "id": "c1547494",
   "metadata": {
    "ExecuteTime": {
     "end_time": "2024-05-23T23:50:39.194003Z",
     "start_time": "2024-05-23T23:50:35.046559Z"
    }
   },
   "outputs": [
    {
     "name": "stderr",
     "output_type": "stream",
     "text": [
      "INFO:converting from 'lb/scf' to 'API':\n",
      " lb > pound > kilogram > kg > g / 1 scf > standard cubic foot > standard cubic meter > m3 > cm3 > cubic centimeter > cc > g/cc > API\n"
     ]
    },
    {
     "data": {
      "text/plain": [
       "29.11011675499026"
      ]
     },
     "execution_count": 91,
     "metadata": {},
     "output_type": "execute_result"
    }
   ],
   "source": [
    "convert(55, 'lb/scf', 'API', True)"
   ]
  },
  {
   "cell_type": "code",
   "execution_count": 92,
   "id": "1af4c897",
   "metadata": {
    "ExecuteTime": {
     "end_time": "2024-05-23T23:50:39.209553Z",
     "start_time": "2024-05-23T23:50:39.195997Z"
    }
   },
   "outputs": [
    {
     "name": "stderr",
     "output_type": "stream",
     "text": [
      "INFO:converting from 'API' to 'g/cc':\n",
      " API > g/cc\n"
     ]
    },
    {
     "data": {
      "text/plain": [
       "1.0"
      ]
     },
     "execution_count": 92,
     "metadata": {},
     "output_type": "execute_result"
    }
   ],
   "source": [
    "convert(10, 'API', 'g/cc', True)"
   ]
  },
  {
   "cell_type": "code",
   "execution_count": 93,
   "id": "a16d1fde",
   "metadata": {
    "ExecuteTime": {
     "end_time": "2024-05-23T23:50:39.225468Z",
     "start_time": "2024-05-23T23:50:39.215496Z"
    }
   },
   "outputs": [
    {
     "name": "stderr",
     "output_type": "stream",
     "text": [
      "INFO:converting from 'g/cm3' to 'API':\n",
      " g/cm3 > g/cc > API\n"
     ]
    },
    {
     "data": {
      "text/plain": [
       "10.0"
      ]
     },
     "execution_count": 93,
     "metadata": {},
     "output_type": "execute_result"
    }
   ],
   "source": [
    "convert(1, 'g/cm3', 'API', True)"
   ]
  },
  {
   "cell_type": "markdown",
   "id": "954a772d",
   "metadata": {},
   "source": [
    "## if `value` argument is instance of `Unit`\n",
    "If `value` argument is an instance of the `Unit` class, the third argument (`to_unit`) might be left default (or the provided class `Empty`).  \n",
    "In this case `value` will be converted from its units to the units provided in the argument `from_unit`."
   ]
  },
  {
   "cell_type": "code",
   "execution_count": 94,
   "id": "fcfe265d",
   "metadata": {
    "ExecuteTime": {
     "end_time": "2024-05-23T23:50:39.241629Z",
     "start_time": "2024-05-23T23:50:39.226481Z"
    }
   },
   "outputs": [
    {
     "name": "stdout",
     "output_type": "stream",
     "text": [
      "`mass_1` is and instance of the `Unit` class:\n",
      "[0.41271069 0.43937706 0.84110264 0.07313548 0.55587737 0.89524445\n",
      " 0.16138971 0.62663159 0.71473653 0.76856905]_kg\n"
     ]
    },
    {
     "data": {
      "text/plain": [
       "array([0.90987133, 0.96866061, 1.8543139 , 0.16123614, 1.22549982,\n",
       "       1.97367616, 0.3558034 , 1.38148618, 1.57572432, 1.69440472])"
      ]
     },
     "execution_count": 94,
     "metadata": {},
     "output_type": "execute_result"
    }
   ],
   "source": [
    "print(\"`mass_1` is and instance of the `Unit` class:\", mass_1, sep='\\n')\n",
    "convert(mass_1, 'lb')"
   ]
  },
  {
   "cell_type": "markdown",
   "id": "12b23da1",
   "metadata": {},
   "source": [
    "### `Empty`, instead of `None`\n",
    "It is important to hightlight that the `None` value as argument in the `convert` function will indicate the conversion to a dimensionless value.  \n",
    "  \n",
    "To provide the default _Empty_ value for an argument, the provided value `Empty` should be used. Notice that is only accepted in the second argument (`to_unit`) and will be valid only if the `value` argument is an instance of `Unit`.  \n",
    "The `Empty` instance can be imported from `unyts`:"
   ]
  },
  {
   "cell_type": "code",
   "execution_count": 95,
   "id": "1cb4c656",
   "metadata": {
    "ExecuteTime": {
     "end_time": "2024-05-23T23:50:39.256792Z",
     "start_time": "2024-05-23T23:50:39.242499Z"
    }
   },
   "outputs": [],
   "source": [
    "from unyts import Empty"
   ]
  },
  {
   "cell_type": "code",
   "execution_count": 96,
   "id": "50ce2ed6",
   "metadata": {
    "ExecuteTime": {
     "end_time": "2024-05-23T23:50:39.272619Z",
     "start_time": "2024-05-23T23:50:39.257834Z"
    }
   },
   "outputs": [
    {
     "data": {
      "text/plain": [
       "array([0.90987133, 0.96866061, 1.8543139 , 0.16123614, 1.22549982,\n",
       "       1.97367616, 0.3558034 , 1.38148618, 1.57572432, 1.69440472])"
      ]
     },
     "execution_count": 96,
     "metadata": {},
     "output_type": "execute_result"
    }
   ],
   "source": [
    "convert(mass_1, 'lb', Empty)"
   ]
  },
  {
   "cell_type": "markdown",
   "id": "46ef907b",
   "metadata": {},
   "source": [
    "# Getting a `lambda` for later use\n",
    "\n",
    "Optionally, the first argument (_value_) of the function `convert` can be set `None`. In this case, a `lambda` with the conversion will be returned. This _lambda_ can be saved into a variable for later use."
   ]
  },
  {
   "cell_type": "code",
   "execution_count": 97,
   "id": "32c07627",
   "metadata": {
    "ExecuteTime": {
     "end_time": "2024-05-23T23:50:39.288213Z",
     "start_time": "2024-05-23T23:50:39.273492Z"
    }
   },
   "outputs": [
    {
     "name": "stderr",
     "output_type": "stream",
     "text": [
      "INFO:converting from 'F' to 'C':\n",
      " F > Fahrenheit > Celsius > C\n"
     ]
    }
   ],
   "source": [
    "temperature_conversion = convert(None, 'F', 'C', True)"
   ]
  },
  {
   "cell_type": "code",
   "execution_count": 98,
   "id": "e2319e76",
   "metadata": {
    "ExecuteTime": {
     "end_time": "2024-05-23T23:50:39.304098Z",
     "start_time": "2024-05-23T23:50:39.289111Z"
    }
   },
   "outputs": [
    {
     "data": {
      "text/plain": [
       "29.444444444444443"
      ]
     },
     "execution_count": 98,
     "metadata": {},
     "output_type": "execute_result"
    }
   ],
   "source": [
    "temperature_conversion(85)"
   ]
  },
  {
   "cell_type": "markdown",
   "id": "8ab6737f",
   "metadata": {},
   "source": [
    "# Preloaded unitary units\n",
    "\n",
    "In some ocassions it could be handy use the preloaded variables of basic units in order to make new instances of any units as production of numbers with the basic units, like (not exhaustive list):\n",
    "- `meter` or `metre`\n",
    "- `foot` or `feet`\n",
    "- `inch`\n",
    "- `second`, `minute`, `hour`, `day`, `week`, `month` and `year`\n",
    "- `gram` and `kilogram`\n",
    "- `ounce`, `pound` and `ton`\n",
    "- `pascal`, `kilopascal`, `torr`, `psi`, `bar` and `atmosphere`"
   ]
  },
  {
   "cell_type": "code",
   "execution_count": 99,
   "id": "2886f92a",
   "metadata": {
    "ExecuteTime": {
     "end_time": "2024-05-23T23:50:39.319805Z",
     "start_time": "2024-05-23T23:50:39.305109Z"
    }
   },
   "outputs": [],
   "source": [
    "from unyts.unitary import *"
   ]
  },
  {
   "cell_type": "code",
   "execution_count": 100,
   "id": "70804381",
   "metadata": {
    "ExecuteTime": {
     "end_time": "2024-05-23T23:50:39.334765Z",
     "start_time": "2024-05-23T23:50:39.320803Z"
    }
   },
   "outputs": [
    {
     "data": {
      "text/plain": [
       "5_yd"
      ]
     },
     "execution_count": 100,
     "metadata": {},
     "output_type": "execute_result"
    }
   ],
   "source": [
    "5 * yard"
   ]
  },
  {
   "cell_type": "code",
   "execution_count": 101,
   "id": "71adc0fc",
   "metadata": {
    "ExecuteTime": {
     "end_time": "2024-05-23T23:50:39.349757Z",
     "start_time": "2024-05-23T23:50:39.335789Z"
    }
   },
   "outputs": [
    {
     "data": {
      "text/plain": [
       "36_m2"
      ]
     },
     "execution_count": 101,
     "metadata": {},
     "output_type": "execute_result"
    }
   ],
   "source": [
    "36 * meter * meter"
   ]
  },
  {
   "cell_type": "code",
   "execution_count": 102,
   "id": "cf096bb3",
   "metadata": {
    "ExecuteTime": {
     "end_time": "2024-05-23T23:50:39.364700Z",
     "start_time": "2024-05-23T23:50:39.351750Z"
    }
   },
   "outputs": [
    {
     "data": {
      "text/plain": [
       "3.0_ft/sec"
      ]
     },
     "execution_count": 102,
     "metadata": {},
     "output_type": "execute_result"
    }
   ],
   "source": [
    "3 * foot / second"
   ]
  },
  {
   "cell_type": "code",
   "execution_count": 103,
   "id": "aa41cb7d",
   "metadata": {
    "ExecuteTime": {
     "end_time": "2024-05-23T23:50:43.612536Z",
     "start_time": "2024-05-23T23:50:39.365706Z"
    }
   },
   "outputs": [
    {
     "data": {
      "text/plain": [
       "3_oz"
      ]
     },
     "execution_count": 103,
     "metadata": {},
     "output_type": "execute_result"
    }
   ],
   "source": [
    "3 * ounce"
   ]
  },
  {
   "cell_type": "markdown",
   "id": "9e11b95c",
   "metadata": {},
   "source": [
    "# The special case of _ounce_\n",
    "\n",
    "Considering that the unit **ounce** can be associated to volume or to weiht, calling `units()` function with unit argumento _'ounce'_ or _'oz'_ will return a generic **Unit** instance (not the specific subclass of Unit):"
   ]
  },
  {
   "cell_type": "code",
   "execution_count": 104,
   "id": "93276edd",
   "metadata": {
    "ExecuteTime": {
     "end_time": "2024-05-23T23:50:47.940318Z",
     "start_time": "2024-05-23T23:50:43.614527Z"
    }
   },
   "outputs": [
    {
     "data": {
      "text/plain": [
       "2.5_ounce"
      ]
     },
     "execution_count": 104,
     "metadata": {},
     "output_type": "execute_result"
    }
   ],
   "source": [
    "oz = units(2.5, 'ounce')\n",
    "oz"
   ]
  },
  {
   "cell_type": "code",
   "execution_count": 105,
   "id": "99e87f95",
   "metadata": {
    "ExecuteTime": {
     "end_time": "2024-05-23T23:50:47.955722Z",
     "start_time": "2024-05-23T23:50:47.942297Z"
    }
   },
   "outputs": [
    {
     "data": {
      "text/plain": [
       "Unit"
      ]
     },
     "execution_count": 105,
     "metadata": {},
     "output_type": "execute_result"
    }
   ],
   "source": [
    "type(oz)"
   ]
  },
  {
   "cell_type": "markdown",
   "id": "694015b1",
   "metadata": {},
   "source": [
    "This generic instance is able to be converted to other weight or volume quantities and only then it will be instantiated as the appropiate subclass:"
   ]
  },
  {
   "cell_type": "code",
   "execution_count": 106,
   "id": "9fe02190",
   "metadata": {
    "ExecuteTime": {
     "end_time": "2024-05-23T23:50:48.017589Z",
     "start_time": "2024-05-23T23:50:47.957741Z"
    }
   },
   "outputs": [
    {
     "name": "stdout",
     "output_type": "stream",
     "text": [
      "73.9337859441888_ml\n"
     ]
    },
    {
     "data": {
      "text/plain": [
       "Volume"
      ]
     },
     "execution_count": 106,
     "metadata": {},
     "output_type": "execute_result"
    }
   ],
   "source": [
    "v = oz.to('ml')\n",
    "print(v)\n",
    "type(v)"
   ]
  },
  {
   "cell_type": "code",
   "execution_count": 107,
   "id": "885bed71",
   "metadata": {
    "ExecuteTime": {
     "end_time": "2024-05-23T23:50:48.033217Z",
     "start_time": "2024-05-23T23:50:48.018585Z"
    }
   },
   "outputs": [
    {
     "name": "stdout",
     "output_type": "stream",
     "text": [
      "70.87380781249999_g\n"
     ]
    },
    {
     "data": {
      "text/plain": [
       "Weight"
      ]
     },
     "execution_count": 107,
     "metadata": {},
     "output_type": "execute_result"
    }
   ],
   "source": [
    "w = oz.to('g')\n",
    "print(w)\n",
    "type(w)"
   ]
  },
  {
   "cell_type": "markdown",
   "id": "f51f3227",
   "metadata": {},
   "source": [
    "# know issues"
   ]
  },
  {
   "cell_type": "markdown",
   "id": "50420012",
   "metadata": {},
   "source": [
    "## convertion of `bar/m` to `g/cc`\n",
    "will raise <font color='darkred'>**NoConversionFoundError**</font>"
   ]
  },
  {
   "cell_type": "code",
   "execution_count": 108,
   "id": "bc350563",
   "metadata": {
    "ExecuteTime": {
     "end_time": "2024-05-23T23:50:52.286040Z",
     "start_time": "2024-05-23T23:50:48.034084Z"
    }
   },
   "outputs": [
    {
     "ename": "NoConversionFoundError",
     "evalue": "from 'bar/m' to 'g/cc'",
     "output_type": "error",
     "traceback": [
      "\u001b[1;31m---------------------------------------------------------------------------\u001b[0m",
      "\u001b[1;31mNoConversionFoundError\u001b[0m                    Traceback (most recent call last)",
      "\u001b[1;32m~\\AppData\\Local\\Temp\\ipykernel_29888\\2063555129.py\u001b[0m in \u001b[0;36m<cell line: 1>\u001b[1;34m()\u001b[0m\n\u001b[1;32m----> 1\u001b[1;33m \u001b[0mconvert\u001b[0m\u001b[1;33m(\u001b[0m\u001b[1;36m0.1\u001b[0m\u001b[1;33m,\u001b[0m \u001b[1;34m'bar/m'\u001b[0m\u001b[1;33m,\u001b[0m \u001b[1;34m'g/cc'\u001b[0m\u001b[1;33m,\u001b[0m \u001b[1;32mTrue\u001b[0m\u001b[1;33m)\u001b[0m\u001b[1;33m\u001b[0m\u001b[1;33m\u001b[0m\u001b[0m\n\u001b[0m",
      "\u001b[1;32mD:\\git\\unyts\\src\\unyts\\converter.py\u001b[0m in \u001b[0;36mconvert\u001b[1;34m(value, from_unit, to_unit, print_conversion_path)\u001b[0m\n\u001b[0;32m    775\u001b[0m     \u001b[1;32mif\u001b[0m \u001b[0mconv\u001b[0m \u001b[1;32mis\u001b[0m \u001b[1;32mNone\u001b[0m\u001b[1;33m:\u001b[0m\u001b[1;33m\u001b[0m\u001b[1;33m\u001b[0m\u001b[0m\n\u001b[0;32m    776\u001b[0m         \u001b[1;32mif\u001b[0m \u001b[0munyts_parameters_\u001b[0m\u001b[1;33m.\u001b[0m\u001b[0mraise_error_\u001b[0m\u001b[1;33m:\u001b[0m\u001b[1;33m\u001b[0m\u001b[1;33m\u001b[0m\u001b[0m\n\u001b[1;32m--> 777\u001b[1;33m             \u001b[1;32mraise\u001b[0m \u001b[0mNoConversionFoundError\u001b[0m\u001b[1;33m(\u001b[0m\u001b[1;34mf\"from '{from_unit}' to '{to_unit}'\"\u001b[0m\u001b[1;33m)\u001b[0m\u001b[1;33m\u001b[0m\u001b[1;33m\u001b[0m\u001b[0m\n\u001b[0m\u001b[0;32m    778\u001b[0m         \u001b[1;32melse\u001b[0m\u001b[1;33m:\u001b[0m\u001b[1;33m\u001b[0m\u001b[1;33m\u001b[0m\u001b[0m\n\u001b[0;32m    779\u001b[0m             \u001b[1;32mreturn\u001b[0m \u001b[1;32mNone\u001b[0m\u001b[1;33m\u001b[0m\u001b[1;33m\u001b[0m\u001b[0m\n",
      "\u001b[1;31mNoConversionFoundError\u001b[0m: from 'bar/m' to 'g/cc'"
     ]
    }
   ],
   "source": [
    "convert(0.1, 'bar/m', 'g/cc', True)"
   ]
  },
  {
   "cell_type": "markdown",
   "id": "86d961f2",
   "metadata": {},
   "source": [
    "### workaround\n",
    "Some possible workarround are proposed:"
   ]
  },
  {
   "cell_type": "markdown",
   "id": "9be57f31",
   "metadata": {},
   "source": [
    "**convert to _g/cm3_** instead of _g/cc_:"
   ]
  },
  {
   "cell_type": "code",
   "execution_count": 109,
   "id": "bfbc7eea",
   "metadata": {
    "ExecuteTime": {
     "end_time": "2024-05-23T23:50:57.346482Z",
     "start_time": "2024-05-23T23:50:57.198388Z"
    }
   },
   "outputs": [
    {
     "name": "stderr",
     "output_type": "stream",
     "text": [
      "INFO:converting from 'bar/m' to 'g/cm3':\n",
      " bar/m > bara/m > kg/m3 > kg > g / 1 m3 > cm3\n"
     ]
    },
    {
     "data": {
      "text/plain": [
       "1.0197162129779282"
      ]
     },
     "execution_count": 109,
     "metadata": {},
     "output_type": "execute_result"
    }
   ],
   "source": [
    "convert(0.1, 'bar/m', 'g/cm3', True)"
   ]
  },
  {
   "cell_type": "markdown",
   "id": "69968544",
   "metadata": {},
   "source": [
    "**convert the pressure gradient from _bar/m_ to _psi/ft_** and then convert to density _g/cc_:"
   ]
  },
  {
   "cell_type": "code",
   "execution_count": 110,
   "id": "78618e24",
   "metadata": {
    "ExecuteTime": {
     "end_time": "2024-05-23T23:50:58.835287Z",
     "start_time": "2024-05-23T23:50:58.829277Z"
    }
   },
   "outputs": [
    {
     "name": "stderr",
     "output_type": "stream",
     "text": [
      "INFO:converting from 'bar/m' to 'psi/ft':\n",
      " bar > psi / 1 m > meter > yard > foot > ft\n",
      "INFO:converting from 'psi/ft' to 'g/cc':\n",
      " psi/ft > psia/ft > lb/ft3 > g/cm3 > g/cc\n"
     ]
    },
    {
     "data": {
      "text/plain": [
       "1.019716212991925"
      ]
     },
     "execution_count": 110,
     "metadata": {},
     "output_type": "execute_result"
    }
   ],
   "source": [
    "convert(\n",
    "    convert(0.1, 'bar/m', 'psi/ft', True),\n",
    "    'psi/ft', \n",
    "    'g/cc', \n",
    "    True)"
   ]
  },
  {
   "cell_type": "markdown",
   "id": "5e3fb0e1",
   "metadata": {},
   "source": [
    "**convert the pressure gradient _bar/m_ to density in _kg/m3_** and then convert to _g/cc_"
   ]
  },
  {
   "cell_type": "code",
   "execution_count": 111,
   "id": "800b5bb0",
   "metadata": {
    "ExecuteTime": {
     "end_time": "2024-05-23T23:51:00.369332Z",
     "start_time": "2024-05-23T23:51:00.357046Z"
    }
   },
   "outputs": [
    {
     "name": "stderr",
     "output_type": "stream",
     "text": [
      "INFO:converting from 'bar/m' to 'kg/m3':\n",
      " bar/m > bara/m > kg/m3\n",
      "INFO:converting from 'kg/m3' to 'g/cc':\n",
      " kg > g / 1 m3 > cm3 > cubic centimeter > cc\n"
     ]
    },
    {
     "data": {
      "text/plain": [
       "1.0197162129779282"
      ]
     },
     "execution_count": 111,
     "metadata": {},
     "output_type": "execute_result"
    }
   ],
   "source": [
    "convert(\n",
    "    convert(0.1, 'bar/m', 'kg/m3', True),\n",
    "    'kg/m3',\n",
    "    'g/cc',\n",
    "    True)"
   ]
  }
 ],
 "metadata": {
  "hide_input": false,
  "kernelspec": {
   "display_name": "Python 3 (ipykernel)",
   "language": "python",
   "name": "python3"
  },
  "language_info": {
   "codemirror_mode": {
    "name": "ipython",
    "version": 3
   },
   "file_extension": ".py",
   "mimetype": "text/x-python",
   "name": "python",
   "nbconvert_exporter": "python",
   "pygments_lexer": "ipython3",
   "version": "3.10.8"
  },
  "latex_envs": {
   "LaTeX_envs_menu_present": true,
   "autoclose": false,
   "autocomplete": true,
   "bibliofile": "biblio.bib",
   "cite_by": "apalike",
   "current_citInitial": 1,
   "eqLabelWithNumbers": true,
   "eqNumInitial": 1,
   "hotkeys": {
    "equation": "Ctrl-E",
    "itemize": "Ctrl-I"
   },
   "labels_anchors": false,
   "latex_user_defs": false,
   "report_style_numbering": false,
   "user_envs_cfg": false
  },
  "toc": {
   "base_numbering": 1,
   "nav_menu": {},
   "number_sections": true,
   "sideBar": true,
   "skip_h1_title": false,
   "title_cell": "Table of Contents",
   "title_sidebar": "Contents",
   "toc_cell": false,
   "toc_position": {},
   "toc_section_display": true,
   "toc_window_display": true
  },
  "varInspector": {
   "cols": {
    "lenName": 16,
    "lenType": 16,
    "lenVar": 40
   },
   "kernels_config": {
    "python": {
     "delete_cmd_postfix": "",
     "delete_cmd_prefix": "del ",
     "library": "var_list.py",
     "varRefreshCmd": "print(var_dic_list())"
    },
    "r": {
     "delete_cmd_postfix": ") ",
     "delete_cmd_prefix": "rm(",
     "library": "var_list.r",
     "varRefreshCmd": "cat(var_dic_list()) "
    }
   },
   "types_to_exclude": [
    "module",
    "function",
    "builtin_function_or_method",
    "instance",
    "_Feature"
   ],
   "window_display": false
  }
 },
 "nbformat": 4,
 "nbformat_minor": 5
}
