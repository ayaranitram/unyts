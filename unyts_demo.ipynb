{
 "cells": [
  {
   "cell_type": "markdown",
   "id": "be25ff5a",
   "metadata": {},
   "source": [
    "# `unyts`\n",
    "A package that consider quantities (values with units) instead of purely numerical values:\n",
    "- **units**: instances capable of making arithmetic and logical operations of values with different units\n",
    "- **convert**: a units converter able to convert practically between any pair units"
   ]
  },
  {
   "cell_type": "markdown",
   "id": "fd9c4250",
   "metadata": {},
   "source": [
    "# Installing `unyts`\n",
    "\n",
    "This package is published in <a href=\"https://pypi.org/search/?q=unyts\">pypi.org</a> and can be installed using **pip**:  \n",
    "  \n",
    "`pip install unyts`\n",
    "  \n",
    "or upgrade to the latest version:\n",
    "\n",
    "`pip install --upgrade unyts`"
   ]
  },
  {
   "cell_type": "raw",
   "id": "20b1e6ac",
   "metadata": {},
   "source": [
    "pip install --upgrade unyts"
   ]
  },
  {
   "cell_type": "markdown",
   "id": "3ccb77ac",
   "metadata": {},
   "source": [
    "# Graphical User Interface\n",
    "\n",
    "To launch the GUI:\n",
    "\n",
    "- from python console:  \n",
    "    `from unyts import start_gui`  \n",
    "    `start_gui()`  \n",
    "  \n",
    "- from command prompt or terminal:  \n",
    "    `python -m unyts`  "
   ]
  },
  {
   "cell_type": "markdown",
   "id": "534f7d98",
   "metadata": {},
   "source": [
    "# `import unyts`\n",
    "Import the package to be able to change settings."
   ]
  },
  {
   "cell_type": "code",
   "execution_count": 1,
   "id": "9e266c7f",
   "metadata": {
    "ExecuteTime": {
     "end_time": "2024-08-09T00:24:53.439643Z",
     "start_time": "2024-08-09T00:23:58.942164Z"
    }
   },
   "outputs": [
    {
     "name": "stdout",
     "output_type": "stream",
     "text": [
      "loaded unyts version 0.9.5\n"
     ]
    }
   ],
   "source": [
    "import unyts"
   ]
  },
  {
   "cell_type": "code",
   "execution_count": 2,
   "id": "db2574f6",
   "metadata": {
    "ExecuteTime": {
     "end_time": "2024-08-09T00:24:54.375506Z",
     "start_time": "2024-08-09T00:24:53.440672Z"
    }
   },
   "outputs": [
    {
     "data": {
      "text/plain": [
       "'0.9.5'"
      ]
     },
     "execution_count": 2,
     "metadata": {},
     "output_type": "execute_result"
    }
   ],
   "source": [
    "unyts.__version__"
   ]
  },
  {
   "cell_type": "markdown",
   "id": "924b48cd",
   "metadata": {},
   "source": [
    "## Importing the utilities `convert` and `units`\n",
    "\n",
    "Importing just the utilities will be enought to be able to convert values and to instantiate the appropriate Unit subclass and operate with them."
   ]
  },
  {
   "cell_type": "code",
   "execution_count": 3,
   "id": "4d202c80",
   "metadata": {
    "ExecuteTime": {
     "end_time": "2024-08-09T00:24:54.390763Z",
     "start_time": "2024-08-09T00:24:54.376501Z"
    }
   },
   "outputs": [],
   "source": [
    "from unyts import convert, units"
   ]
  },
  {
   "cell_type": "markdown",
   "id": "5d02f940",
   "metadata": {},
   "source": [
    "## Importing the `Unit` class\n",
    "\n",
    "In case you need it, you can import the main **`Unit` class**, to check if something `isinstance()` of `Unit`.  \n",
    "\n",
    "It is recommended to instantiate using the function `units`  or the appropiate subclass, as using the class `Unit`to instantiate _values with units_ will return instances of the main class."
   ]
  },
  {
   "cell_type": "code",
   "execution_count": 4,
   "id": "cba8cbb8",
   "metadata": {
    "ExecuteTime": {
     "end_time": "2024-08-09T00:24:54.406407Z",
     "start_time": "2024-08-09T00:24:54.392757Z"
    }
   },
   "outputs": [],
   "source": [
    "from unyts import Unit"
   ]
  },
  {
   "cell_type": "code",
   "execution_count": 5,
   "id": "315abde5",
   "metadata": {
    "ExecuteTime": {
     "end_time": "2024-08-09T00:24:54.421863Z",
     "start_time": "2024-08-09T00:24:54.408307Z"
    }
   },
   "outputs": [
    {
     "name": "stdout",
     "output_type": "stream",
     "text": [
      "Unit 1_ounce\n"
     ]
    }
   ],
   "source": [
    "ounce = Unit(1, 'ounce')\n",
    "print(type(ounce), ounce)"
   ]
  },
  {
   "cell_type": "markdown",
   "id": "dd49bdb8",
   "metadata": {},
   "source": [
    "# The `units` function\n",
    "To make instances of **`Unit`** use the function **`units`** providing it with the _value_ and a _string representing the units_ as arguments of the function call:"
   ]
  },
  {
   "cell_type": "code",
   "execution_count": 6,
   "id": "ac0885e5",
   "metadata": {
    "ExecuteTime": {
     "end_time": "2024-08-09T00:24:54.452798Z",
     "start_time": "2024-08-09T00:24:54.430838Z"
    }
   },
   "outputs": [],
   "source": [
    "length_1 = units(3, 'm')\n",
    "length_2 = units(250, 'cm')\n",
    "length_3 = units(0.003, 'km')\n",
    "length_4 = units(6.5, 'ft')\n",
    "length_5 = units(18, 'in')"
   ]
  },
  {
   "cell_type": "markdown",
   "id": "5e996285",
   "metadata": {},
   "source": [
    "The **units** function returns the apropriate **unit _subclass_**: "
   ]
  },
  {
   "cell_type": "code",
   "execution_count": 7,
   "id": "531a2ee1",
   "metadata": {
    "ExecuteTime": {
     "end_time": "2024-08-09T00:24:54.467929Z",
     "start_time": "2024-08-09T00:24:54.453771Z"
    }
   },
   "outputs": [
    {
     "name": "stdout",
     "output_type": "stream",
     "text": [
      "Length\n"
     ]
    },
    {
     "data": {
      "text/plain": [
       "Volume"
      ]
     },
     "execution_count": 7,
     "metadata": {},
     "output_type": "execute_result"
    }
   ],
   "source": [
    "print(type(length_1))\n",
    "type(units(333, 'ml'))"
   ]
  },
  {
   "cell_type": "markdown",
   "id": "a034d3f5",
   "metadata": {},
   "source": [
    "Any subclass of __unyts__ will be an instance of it, thus, the appropriate way to check if a variable points to an instance of __untys__ is using `isinstance()` function instead of using `type` as type will return the subclass.  \n",
    "\n",
    "# Check instance of `Unit`\n",
    "\n",
    "Checking any Unit subcalls using `isinstance()` will always work:"
   ]
  },
  {
   "cell_type": "code",
   "execution_count": 8,
   "id": "a79a9dbf",
   "metadata": {
    "ExecuteTime": {
     "end_time": "2024-08-09T00:24:54.482784Z",
     "start_time": "2024-08-09T00:24:54.468798Z"
    }
   },
   "outputs": [
    {
     "data": {
      "text/plain": [
       "True"
      ]
     },
     "execution_count": 8,
     "metadata": {},
     "output_type": "execute_result"
    }
   ],
   "source": [
    "isinstance(length_1, Unit)"
   ]
  },
  {
   "cell_type": "markdown",
   "id": "776ff8f7",
   "metadata": {},
   "source": [
    "But comparing the type of the subcalls to Unit class will fail"
   ]
  },
  {
   "cell_type": "code",
   "execution_count": 9,
   "id": "bf1552aa",
   "metadata": {
    "ExecuteTime": {
     "end_time": "2024-08-09T00:24:54.498759Z",
     "start_time": "2024-08-09T00:24:54.483784Z"
    }
   },
   "outputs": [
    {
     "data": {
      "text/plain": [
       "False"
      ]
     },
     "execution_count": 9,
     "metadata": {},
     "output_type": "execute_result"
    }
   ],
   "source": [
    "type(length_1) is Unit"
   ]
  },
  {
   "cell_type": "markdown",
   "id": "ee2a5e67",
   "metadata": {},
   "source": [
    "In case you need to check the subclass, you can import it following the path indicated by `type`:"
   ]
  },
  {
   "cell_type": "code",
   "execution_count": 10,
   "id": "c0873dfa",
   "metadata": {
    "ExecuteTime": {
     "end_time": "2024-08-09T00:24:54.514256Z",
     "start_time": "2024-08-09T00:24:54.501293Z"
    }
   },
   "outputs": [
    {
     "data": {
      "text/plain": [
       "Length"
      ]
     },
     "execution_count": 10,
     "metadata": {},
     "output_type": "execute_result"
    }
   ],
   "source": [
    "type(length_1)"
   ]
  },
  {
   "cell_type": "code",
   "execution_count": 11,
   "id": "a652879f",
   "metadata": {
    "ExecuteTime": {
     "end_time": "2024-08-09T00:24:54.529216Z",
     "start_time": "2024-08-09T00:24:54.515254Z"
    }
   },
   "outputs": [],
   "source": [
    "from unyts.units.geometry import Length"
   ]
  },
  {
   "cell_type": "code",
   "execution_count": 12,
   "id": "6eae1ba5",
   "metadata": {
    "ExecuteTime": {
     "end_time": "2024-08-09T00:24:54.544176Z",
     "start_time": "2024-08-09T00:24:54.530214Z"
    }
   },
   "outputs": [
    {
     "data": {
      "text/plain": [
       "True"
      ]
     },
     "execution_count": 12,
     "metadata": {},
     "output_type": "execute_result"
    }
   ],
   "source": [
    "type(length_1) is Length"
   ]
  },
  {
   "cell_type": "markdown",
   "id": "84967104",
   "metadata": {},
   "source": [
    "# Quantities representation \n",
    "The representation of the units instances consists in the value followed by the units string"
   ]
  },
  {
   "cell_type": "code",
   "execution_count": 13,
   "id": "e391f927",
   "metadata": {
    "ExecuteTime": {
     "end_time": "2024-08-09T00:24:54.559158Z",
     "start_time": "2024-08-09T00:24:54.545174Z"
    }
   },
   "outputs": [
    {
     "name": "stdout",
     "output_type": "stream",
     "text": [
      "3_m\n",
      "250_cm\n",
      "0.003_km\n"
     ]
    },
    {
     "data": {
      "text/plain": [
       "6.5_ft"
      ]
     },
     "execution_count": 13,
     "metadata": {},
     "output_type": "execute_result"
    }
   ],
   "source": [
    "print(length_1)\n",
    "print(length_2)\n",
    "print(length_3)\n",
    "length_4"
   ]
  },
  {
   "cell_type": "markdown",
   "id": "c07d322f",
   "metadata": {},
   "source": [
    "# The conversion path\n",
    "\n",
    "By default, the path followed to convert from one unit to other will be printed out.\n",
    "This behaviour can be changed using the function `print_path`.  \n",
    "\n",
    "## Printhing the conversion path"
   ]
  },
  {
   "cell_type": "code",
   "execution_count": 14,
   "id": "09fbe47f",
   "metadata": {
    "ExecuteTime": {
     "end_time": "2024-08-09T00:24:54.575119Z",
     "start_time": "2024-08-09T00:24:54.560167Z"
    }
   },
   "outputs": [
    {
     "data": {
      "text/plain": [
       "5.5_m"
      ]
     },
     "execution_count": 14,
     "metadata": {},
     "output_type": "execute_result"
    }
   ],
   "source": [
    "length_1 + length_2"
   ]
  },
  {
   "cell_type": "code",
   "execution_count": 15,
   "id": "53b24ec0",
   "metadata": {
    "ExecuteTime": {
     "end_time": "2024-08-09T00:24:54.591082Z",
     "start_time": "2024-08-09T00:24:54.576091Z"
    }
   },
   "outputs": [
    {
     "data": {
      "text/plain": [
       "6289.813999999999"
      ]
     },
     "execution_count": 15,
     "metadata": {},
     "output_type": "execute_result"
    }
   ],
   "source": [
    "convert(1, 'Ksm3', 'stb')"
   ]
  },
  {
   "cell_type": "markdown",
   "id": "ad977f2e",
   "metadata": {},
   "source": [
    "## Not printing the conversion path\n",
    "\n",
    "Set the `print_path` to `False`:"
   ]
  },
  {
   "cell_type": "code",
   "execution_count": 16,
   "id": "b6b7acc8",
   "metadata": {
    "ExecuteTime": {
     "end_time": "2024-08-09T00:24:54.606579Z",
     "start_time": "2024-08-09T00:24:54.592088Z"
    }
   },
   "outputs": [],
   "source": [
    "unyts.print_path(False)"
   ]
  },
  {
   "cell_type": "markdown",
   "id": "3ce3c1ce",
   "metadata": {},
   "source": [
    "From now, the conversion path will not be printed:"
   ]
  },
  {
   "cell_type": "code",
   "execution_count": 17,
   "id": "8560fce1",
   "metadata": {
    "ExecuteTime": {
     "end_time": "2024-08-09T00:24:54.622560Z",
     "start_time": "2024-08-09T00:24:54.607617Z"
    }
   },
   "outputs": [
    {
     "data": {
      "text/plain": [
       "5.5_m"
      ]
     },
     "execution_count": 17,
     "metadata": {},
     "output_type": "execute_result"
    }
   ],
   "source": [
    "length_1 + length_2"
   ]
  },
  {
   "cell_type": "markdown",
   "id": "4951cfda",
   "metadata": {},
   "source": [
    "This behaviour is saved into the init file, then it il be rememberd the next time `unyts` is used.  \n",
    "\n",
    "To print the conversion path again, simply set the parameter to True:"
   ]
  },
  {
   "cell_type": "code",
   "execution_count": 18,
   "id": "06c1b0cc",
   "metadata": {
    "ExecuteTime": {
     "end_time": "2024-08-09T00:24:54.638518Z",
     "start_time": "2024-08-09T00:24:54.623559Z"
    }
   },
   "outputs": [],
   "source": [
    "unyts.print_path(True)"
   ]
  },
  {
   "cell_type": "code",
   "execution_count": 19,
   "id": "d9650574",
   "metadata": {
    "ExecuteTime": {
     "end_time": "2024-08-09T00:24:54.654474Z",
     "start_time": "2024-08-09T00:24:54.639491Z"
    }
   },
   "outputs": [
    {
     "data": {
      "text/plain": [
       "5.5_m"
      ]
     },
     "execution_count": 19,
     "metadata": {},
     "output_type": "execute_result"
    }
   ],
   "source": [
    "length_1 + length_2"
   ]
  },
  {
   "cell_type": "code",
   "execution_count": 20,
   "id": "d82a7042",
   "metadata": {
    "ExecuteTime": {
     "end_time": "2024-08-09T00:24:54.669447Z",
     "start_time": "2024-08-09T00:24:54.655479Z"
    }
   },
   "outputs": [
    {
     "data": {
      "text/plain": [
       "295.72_cm"
      ]
     },
     "execution_count": 20,
     "metadata": {},
     "output_type": "execute_result"
    }
   ],
   "source": [
    "length_2 + length_5"
   ]
  },
  {
   "cell_type": "markdown",
   "id": "c93933a1",
   "metadata": {},
   "source": [
    "Calling print_path without argument will change it from the current behaviour:"
   ]
  },
  {
   "cell_type": "code",
   "execution_count": 21,
   "id": "1c9d016e",
   "metadata": {
    "ExecuteTime": {
     "end_time": "2024-08-09T00:24:54.685405Z",
     "start_time": "2024-08-09T00:24:54.670437Z"
    }
   },
   "outputs": [],
   "source": [
    "unyts.print_path()"
   ]
  },
  {
   "cell_type": "code",
   "execution_count": 22,
   "id": "0eae16f0",
   "metadata": {
    "ExecuteTime": {
     "end_time": "2024-08-09T00:24:54.700903Z",
     "start_time": "2024-08-09T00:24:54.687403Z"
    }
   },
   "outputs": [],
   "source": [
    "unyts.print_path()"
   ]
  },
  {
   "cell_type": "markdown",
   "id": "ed462a96",
   "metadata": {},
   "source": [
    "# Attributes of the `Unit` instances\n",
    "\n",
    "Two attributes can be handy for the user in certain applications:\n",
    "- `.value` contains the numeric value\n",
    "- `.unit` contains a string representing the units\n",
    "- `.name` contains a string representing the type of the units"
   ]
  },
  {
   "cell_type": "code",
   "execution_count": 23,
   "id": "4d05f021",
   "metadata": {
    "ExecuteTime": {
     "end_time": "2024-08-09T00:24:54.716890Z",
     "start_time": "2024-08-09T00:24:54.701930Z"
    }
   },
   "outputs": [
    {
     "data": {
      "text/plain": [
       "3"
      ]
     },
     "execution_count": 23,
     "metadata": {},
     "output_type": "execute_result"
    }
   ],
   "source": [
    "length_1.value"
   ]
  },
  {
   "cell_type": "code",
   "execution_count": 24,
   "id": "ce87ba8d",
   "metadata": {
    "ExecuteTime": {
     "end_time": "2024-08-09T00:24:54.732845Z",
     "start_time": "2024-08-09T00:24:54.717859Z"
    }
   },
   "outputs": [
    {
     "data": {
      "text/plain": [
       "'m'"
      ]
     },
     "execution_count": 24,
     "metadata": {},
     "output_type": "execute_result"
    }
   ],
   "source": [
    "length_1.unit"
   ]
  },
  {
   "cell_type": "code",
   "execution_count": 25,
   "id": "02d56d5e",
   "metadata": {
    "ExecuteTime": {
     "end_time": "2024-08-09T00:24:54.747804Z",
     "start_time": "2024-08-09T00:24:54.733846Z"
    }
   },
   "outputs": [
    {
     "data": {
      "text/plain": [
       "'length'"
      ]
     },
     "execution_count": 25,
     "metadata": {},
     "output_type": "execute_result"
    }
   ],
   "source": [
    "length_1.name"
   ]
  },
  {
   "cell_type": "markdown",
   "id": "664588a6",
   "metadata": {},
   "source": [
    "To get the `.value` or `.unit` attributes while coding, it could be safer to use ther respective getters:\n",
    "- `.get_value()`\n",
    "- `.get_unit()`"
   ]
  },
  {
   "cell_type": "code",
   "execution_count": 26,
   "id": "abf24b8f",
   "metadata": {
    "ExecuteTime": {
     "end_time": "2024-08-09T00:24:54.763761Z",
     "start_time": "2024-08-09T00:24:54.748805Z"
    }
   },
   "outputs": [
    {
     "data": {
      "text/plain": [
       "3"
      ]
     },
     "execution_count": 26,
     "metadata": {},
     "output_type": "execute_result"
    }
   ],
   "source": [
    "length_1.get_value()"
   ]
  },
  {
   "cell_type": "code",
   "execution_count": 27,
   "id": "e5cc368b",
   "metadata": {
    "ExecuteTime": {
     "end_time": "2024-08-09T00:24:54.778697Z",
     "start_time": "2024-08-09T00:24:54.764734Z"
    }
   },
   "outputs": [
    {
     "data": {
      "text/plain": [
       "'m'"
      ]
     },
     "execution_count": 27,
     "metadata": {},
     "output_type": "execute_result"
    }
   ],
   "source": [
    "length_1.get_unit()"
   ]
  },
  {
   "cell_type": "markdown",
   "id": "7fc852ba",
   "metadata": {},
   "source": [
    "# Arithmetic operations\n",
    "Simply operate with the instances of `Unit` as with regular Python variables:\n",
    "\n",
    "## Addition and substraction"
   ]
  },
  {
   "cell_type": "code",
   "execution_count": 28,
   "id": "d468e91f",
   "metadata": {
    "ExecuteTime": {
     "end_time": "2024-08-09T00:24:54.793659Z",
     "start_time": "2024-08-09T00:24:54.783684Z"
    }
   },
   "outputs": [
    {
     "name": "stdout",
     "output_type": "stream",
     "text": [
      "3_m + 250_cm = 5.5_m\n"
     ]
    }
   ],
   "source": [
    "print(length_1, '+', length_2, '=', length_1 + length_2)"
   ]
  },
  {
   "cell_type": "markdown",
   "id": "65d1346a",
   "metadata": {
    "ExecuteTime": {
     "end_time": "2022-12-31T12:32:32.312560Z",
     "start_time": "2022-12-31T12:32:32.295638Z"
    }
   },
   "source": [
    "I will turn the `print_path` to have clean output in the following operations."
   ]
  },
  {
   "cell_type": "code",
   "execution_count": 29,
   "id": "55ae2586",
   "metadata": {
    "ExecuteTime": {
     "end_time": "2024-08-09T00:24:54.809129Z",
     "start_time": "2024-08-09T00:24:54.794656Z"
    }
   },
   "outputs": [],
   "source": [
    "unyts.print_path(False)"
   ]
  },
  {
   "cell_type": "markdown",
   "id": "238ec305",
   "metadata": {},
   "source": [
    "All the units are **converted to the _first_ units** when making operations:"
   ]
  },
  {
   "cell_type": "code",
   "execution_count": 30,
   "id": "aa0b6d30",
   "metadata": {
    "ExecuteTime": {
     "end_time": "2024-08-09T00:24:54.841043Z",
     "start_time": "2024-08-09T00:24:54.810126Z"
    }
   },
   "outputs": [
    {
     "name": "stdout",
     "output_type": "stream",
     "text": [
      "3_m ** 2 + 6.5_ft * 250_cm\n",
      "9_m2 + 53.313648293963254_ft2\n",
      "= 13.953_m2\n"
     ]
    }
   ],
   "source": [
    "print(length_1, '** 2', '+', length_4, '*', length_2)\n",
    "print(length_1 ** 2, '+', length_4 * length_2)\n",
    "print('=', length_1 ** 2 + length_4 * length_2)"
   ]
  },
  {
   "cell_type": "markdown",
   "id": "821ed3b8",
   "metadata": {},
   "source": [
    "defining area units"
   ]
  },
  {
   "cell_type": "code",
   "execution_count": 31,
   "id": "6dc69eac",
   "metadata": {
    "ExecuteTime": {
     "end_time": "2024-08-09T00:24:54.857001Z",
     "start_time": "2024-08-09T00:24:54.842041Z"
    }
   },
   "outputs": [
    {
     "data": {
      "text/plain": [
       "12_m2"
      ]
     },
     "execution_count": 31,
     "metadata": {},
     "output_type": "execute_result"
    }
   ],
   "source": [
    "area_1 = units(12, 'm2')\n",
    "area_1"
   ]
  },
  {
   "cell_type": "markdown",
   "id": "f17d1552",
   "metadata": {},
   "source": [
    "and have their own subclass"
   ]
  },
  {
   "cell_type": "code",
   "execution_count": 32,
   "id": "c4dc0c62",
   "metadata": {
    "ExecuteTime": {
     "end_time": "2024-08-09T00:24:54.871961Z",
     "start_time": "2024-08-09T00:24:54.857998Z"
    }
   },
   "outputs": [
    {
     "data": {
      "text/plain": [
       "Area"
      ]
     },
     "execution_count": 32,
     "metadata": {},
     "output_type": "execute_result"
    }
   ],
   "source": [
    "type(area_1)"
   ]
  },
  {
   "cell_type": "markdown",
   "id": "35839aea",
   "metadata": {},
   "source": [
    "<font color='red'>Keep in mind that the **addition of different subclasses of Unit is not possible** and will return a `tuple` of both units:</font>"
   ]
  },
  {
   "cell_type": "code",
   "execution_count": 33,
   "id": "43fc242a",
   "metadata": {
    "ExecuteTime": {
     "end_time": "2024-08-09T00:24:54.886923Z",
     "start_time": "2024-08-09T00:24:54.872958Z"
    }
   },
   "outputs": [
    {
     "data": {
      "text/plain": [
       "(12_m2, 3_m)"
      ]
     },
     "execution_count": 33,
     "metadata": {},
     "output_type": "execute_result"
    }
   ],
   "source": [
    "(area_1 + length_1)"
   ]
  },
  {
   "cell_type": "markdown",
   "id": "e8ecfd12",
   "metadata": {},
   "source": [
    "Then, addition of tuples of Unit will simply return the contenation of the tuples:"
   ]
  },
  {
   "cell_type": "code",
   "execution_count": 34,
   "id": "49a47184",
   "metadata": {
    "ExecuteTime": {
     "end_time": "2024-08-09T00:24:54.902393Z",
     "start_time": "2024-08-09T00:24:54.887921Z"
    }
   },
   "outputs": [
    {
     "data": {
      "text/plain": [
       "(12_m2, 3_m, 12_m2, 250_cm)"
      ]
     },
     "execution_count": 34,
     "metadata": {},
     "output_type": "execute_result"
    }
   ],
   "source": [
    "(area_1 + length_1) + (area_1 + length_2)"
   ]
  },
  {
   "cell_type": "markdown",
   "id": "a9f02f6d",
   "metadata": {},
   "source": [
    "Further operations with these tuples of units is not yet implemented and will rise error or might return not the desired operation."
   ]
  },
  {
   "cell_type": "markdown",
   "id": "cb507b34",
   "metadata": {},
   "source": [
    "## Product and division\n",
    "Product of units return new units:"
   ]
  },
  {
   "cell_type": "code",
   "execution_count": 35,
   "id": "0b7a2182",
   "metadata": {
    "ExecuteTime": {
     "end_time": "2024-08-09T00:24:54.918350Z",
     "start_time": "2024-08-09T00:24:54.903391Z"
    }
   },
   "outputs": [
    {
     "data": {
      "text/plain": [
       "53.313648293963254_ft2"
      ]
     },
     "execution_count": 35,
     "metadata": {},
     "output_type": "execute_result"
    }
   ],
   "source": [
    "area_2 = length_4 * length_2\n",
    "area_2"
   ]
  },
  {
   "cell_type": "code",
   "execution_count": 36,
   "id": "c4876560",
   "metadata": {
    "ExecuteTime": {
     "end_time": "2024-08-09T00:24:55.248148Z",
     "start_time": "2024-08-09T00:24:54.919348Z"
    }
   },
   "outputs": [
    {
     "data": {
      "text/plain": [
       "524.740632814599_ft3"
      ]
     },
     "execution_count": 36,
     "metadata": {},
     "output_type": "execute_result"
    }
   ],
   "source": [
    "area_2 * length_1"
   ]
  },
  {
   "cell_type": "markdown",
   "id": "82178d4f",
   "metadata": {},
   "source": [
    "Division of units return new units as well:"
   ]
  },
  {
   "cell_type": "code",
   "execution_count": 37,
   "id": "b787e5b1",
   "metadata": {
    "ExecuteTime": {
     "end_time": "2024-08-09T00:24:55.262960Z",
     "start_time": "2024-08-09T00:24:55.249122Z"
    }
   },
   "outputs": [
    {
     "data": {
      "text/plain": [
       "5.416666666666666_ft"
      ]
     },
     "execution_count": 37,
     "metadata": {},
     "output_type": "execute_result"
    }
   ],
   "source": [
    "area_2 / length_1"
   ]
  },
  {
   "cell_type": "markdown",
   "id": "99723d5a",
   "metadata": {},
   "source": [
    "## Operations with _not_-`Unit` instances\n",
    "\n",
    "It is possible to make algebraic operations of `Unit` with adimensional numbers (`int`, `float`).  \n",
    "The behaviour will depend on the operation:\n",
    "- addition: will _assume_ the adimensional number as the same units of the instance\n",
    "- product: will simple multiply the value of the unyt number\n",
    "  \n",
    "Recall that the variable `length_1` contains *3_m*:"
   ]
  },
  {
   "cell_type": "code",
   "execution_count": 38,
   "id": "cae1a535",
   "metadata": {
    "ExecuteTime": {
     "end_time": "2024-08-09T00:24:55.278917Z",
     "start_time": "2024-08-09T00:24:55.263957Z"
    }
   },
   "outputs": [
    {
     "data": {
      "text/plain": [
       "3_m"
      ]
     },
     "execution_count": 38,
     "metadata": {},
     "output_type": "execute_result"
    }
   ],
   "source": [
    "length_1"
   ]
  },
  {
   "cell_type": "markdown",
   "id": "95fb54a6",
   "metadata": {},
   "source": [
    "now let's try some operations:"
   ]
  },
  {
   "cell_type": "code",
   "execution_count": 39,
   "id": "371a5220",
   "metadata": {
    "ExecuteTime": {
     "end_time": "2024-08-09T00:24:55.293903Z",
     "start_time": "2024-08-09T00:24:55.279916Z"
    }
   },
   "outputs": [
    {
     "data": {
      "text/plain": [
       "9_m"
      ]
     },
     "execution_count": 39,
     "metadata": {},
     "output_type": "execute_result"
    }
   ],
   "source": [
    "length_1 * 3"
   ]
  },
  {
   "cell_type": "code",
   "execution_count": 40,
   "id": "5b05e160",
   "metadata": {
    "ExecuteTime": {
     "end_time": "2024-08-09T00:24:55.309446Z",
     "start_time": "2024-08-09T00:24:55.294901Z"
    }
   },
   "outputs": [
    {
     "data": {
      "text/plain": [
       "1.5_m"
      ]
     },
     "execution_count": 40,
     "metadata": {},
     "output_type": "execute_result"
    }
   ],
   "source": [
    "length_1 / 2"
   ]
  },
  {
   "cell_type": "code",
   "execution_count": 41,
   "id": "0e77a1c8",
   "metadata": {
    "ExecuteTime": {
     "end_time": "2024-08-09T00:24:55.325378Z",
     "start_time": "2024-08-09T00:24:55.310419Z"
    }
   },
   "outputs": [
    {
     "data": {
      "text/plain": [
       "5_m"
      ]
     },
     "execution_count": 41,
     "metadata": {},
     "output_type": "execute_result"
    }
   ],
   "source": [
    "length_1 + 2"
   ]
  },
  {
   "cell_type": "markdown",
   "id": "da2525a5",
   "metadata": {},
   "source": [
    "# Logical operations\n",
    "\n",
    "Logical operators transform second value to the units of first value before comparing"
   ]
  },
  {
   "cell_type": "code",
   "execution_count": 42,
   "id": "6804307f",
   "metadata": {
    "ExecuteTime": {
     "end_time": "2024-08-09T00:24:55.340366Z",
     "start_time": "2024-08-09T00:24:55.326377Z"
    }
   },
   "outputs": [
    {
     "name": "stdout",
     "output_type": "stream",
     "text": [
      "length_4: 6.5_ft equivalent to 198.12_cm\n",
      "length_2: 250_cm equivalent to 8.202099737532809_ft\n",
      "6.5_ft > 250_cm\n"
     ]
    },
    {
     "data": {
      "text/plain": [
       "False"
      ]
     },
     "execution_count": 42,
     "metadata": {},
     "output_type": "execute_result"
    }
   ],
   "source": [
    "print('length_4:', length_4 , 'equivalent to', length_4.to('cm'))\n",
    "print('length_2:', length_2 , 'equivalent to', length_2.to(length_4))\n",
    "\n",
    "print(length_4, '>', length_2)\n",
    "length_4 > length_2"
   ]
  },
  {
   "cell_type": "code",
   "execution_count": 43,
   "id": "3d8c92aa",
   "metadata": {
    "ExecuteTime": {
     "end_time": "2024-08-09T00:24:55.355326Z",
     "start_time": "2024-08-09T00:24:55.341338Z"
    }
   },
   "outputs": [
    {
     "name": "stdout",
     "output_type": "stream",
     "text": [
      "area_1: 12_m2\n",
      "area_2: 53.313648293963254_ft2\n",
      "12_m2 < 53.313648293963254_ft2\n"
     ]
    },
    {
     "data": {
      "text/plain": [
       "False"
      ]
     },
     "execution_count": 43,
     "metadata": {},
     "output_type": "execute_result"
    }
   ],
   "source": [
    "print('area_1:', area_1)\n",
    "print('area_2:', area_2)\n",
    "\n",
    "print(area_1, '<', area_2)\n",
    "area_1 < area_2"
   ]
  },
  {
   "cell_type": "code",
   "execution_count": 44,
   "id": "ea7104d4",
   "metadata": {
    "ExecuteTime": {
     "end_time": "2024-08-09T00:24:55.371283Z",
     "start_time": "2024-08-09T00:24:55.356297Z"
    }
   },
   "outputs": [
    {
     "data": {
      "text/plain": [
       "True"
      ]
     },
     "execution_count": 44,
     "metadata": {},
     "output_type": "execute_result"
    }
   ],
   "source": [
    "area_1 / 10 < area_2"
   ]
  },
  {
   "cell_type": "markdown",
   "id": "43f24485",
   "metadata": {},
   "source": [
    "# The `.to()` method\n",
    "Use the method **`.to`** to convert the instance value to other units of the same kind:"
   ]
  },
  {
   "cell_type": "code",
   "execution_count": 45,
   "id": "3127970f",
   "metadata": {
    "ExecuteTime": {
     "end_time": "2024-08-09T00:24:55.387247Z",
     "start_time": "2024-08-09T00:24:55.372281Z"
    }
   },
   "outputs": [
    {
     "data": {
      "text/plain": [
       "4.953_m2"
      ]
     },
     "execution_count": 45,
     "metadata": {},
     "output_type": "execute_result"
    }
   ],
   "source": [
    "area_2.to('m2')"
   ]
  },
  {
   "cell_type": "code",
   "execution_count": 46,
   "id": "b1a4b901",
   "metadata": {
    "ExecuteTime": {
     "end_time": "2024-08-09T00:24:55.402746Z",
     "start_time": "2024-08-09T00:24:55.388274Z"
    }
   },
   "outputs": [
    {
     "data": {
      "text/plain": [
       "2.9652645776059843_acre"
      ]
     },
     "execution_count": 46,
     "metadata": {},
     "output_type": "execute_result"
    }
   ],
   "source": [
    "1000*area_1.to('acre')"
   ]
  },
  {
   "cell_type": "code",
   "execution_count": 47,
   "id": "f8a2198c",
   "metadata": {
    "ExecuteTime": {
     "end_time": "2024-08-09T00:24:55.418734Z",
     "start_time": "2024-08-09T00:24:55.403778Z"
    }
   },
   "outputs": [
    {
     "data": {
      "text/plain": [
       "0.333_l"
      ]
     },
     "execution_count": 47,
     "metadata": {},
     "output_type": "execute_result"
    }
   ],
   "source": [
    "units(333, 'cc').to('l')"
   ]
  },
  {
   "cell_type": "code",
   "execution_count": 48,
   "id": "5be5afd2",
   "metadata": {
    "ExecuteTime": {
     "end_time": "2024-08-09T00:24:55.434663Z",
     "start_time": "2024-08-09T00:24:55.419703Z"
    }
   },
   "outputs": [],
   "source": [
    "# let's print the following conversion\n",
    "unyts.print_path(True)"
   ]
  },
  {
   "cell_type": "code",
   "execution_count": 49,
   "id": "cff4f6d6",
   "metadata": {
    "ExecuteTime": {
     "end_time": "2024-08-09T00:24:56.806743Z",
     "start_time": "2024-08-09T00:24:55.435661Z"
    }
   },
   "outputs": [
    {
     "data": {
      "text/plain": [
       "11.260069559713717_oz"
      ]
     },
     "execution_count": 49,
     "metadata": {},
     "output_type": "execute_result"
    }
   ],
   "source": [
    "units(333, 'ml').to('oz')"
   ]
  },
  {
   "cell_type": "code",
   "execution_count": 50,
   "id": "b2c3b5e3",
   "metadata": {
    "ExecuteTime": {
     "end_time": "2024-08-09T00:24:56.822733Z",
     "start_time": "2024-08-09T00:24:56.807770Z"
    }
   },
   "outputs": [],
   "source": [
    "unyts.print_path(False)"
   ]
  },
  {
   "cell_type": "markdown",
   "id": "407c6f39",
   "metadata": {},
   "source": [
    "# Examples of use\n",
    "\n",
    "_area_ times _length_ returns _volume_"
   ]
  },
  {
   "cell_type": "code",
   "execution_count": 51,
   "id": "46b16960",
   "metadata": {
    "ExecuteTime": {
     "end_time": "2024-08-09T00:24:57.135006Z",
     "start_time": "2024-08-09T00:24:56.823762Z"
    }
   },
   "outputs": [
    {
     "name": "stdout",
     "output_type": "stream",
     "text": [
      "type: Volume\n"
     ]
    },
    {
     "data": {
      "text/plain": [
       "36_m3"
      ]
     },
     "execution_count": 51,
     "metadata": {},
     "output_type": "execute_result"
    }
   ],
   "source": [
    "volume_1 = area_1 * length_1\n",
    "print('type:', type(volume_1))\n",
    "volume_1"
   ]
  },
  {
   "cell_type": "markdown",
   "id": "8e265fd6",
   "metadata": {},
   "source": [
    "This _volume_ divided by _time_ returns _rate_:"
   ]
  },
  {
   "cell_type": "code",
   "execution_count": 52,
   "id": "d3104d67",
   "metadata": {
    "ExecuteTime": {
     "end_time": "2024-08-09T00:24:57.819354Z",
     "start_time": "2024-08-09T00:24:57.135972Z"
    }
   },
   "outputs": [
    {
     "name": "stdout",
     "output_type": "stream",
     "text": [
      "type: Rate\n",
      "36.0_m3/day\n",
      "36.0_m3/day to field units: 226.433304_stb/day\n",
      "36.0_m3/day to litres per hour: 1500.0_l/hr\n",
      "or in thousand cubic feer accumulated over one year: 464.3525527208535_Mscf/year\n"
     ]
    }
   ],
   "source": [
    "rate_1 = volume_1 / units(1, 'day')\n",
    "print('type:', type(rate_1))\n",
    "print(rate_1)\n",
    "print(rate_1, 'to field units:', rate_1.to('stb/day'))\n",
    "print(rate_1, 'to litres per hour:', rate_1.to('l/hr'))\n",
    "print('or in thousand cubic feer accumulated over one year:', rate_1.to('Mscf/year'))"
   ]
  },
  {
   "cell_type": "markdown",
   "id": "c2208527",
   "metadata": {},
   "source": [
    "Multiple products and conversions:"
   ]
  },
  {
   "cell_type": "code",
   "execution_count": 53,
   "id": "f27c2dcc",
   "metadata": {
    "ExecuteTime": {
     "end_time": "2024-08-09T00:24:58.146300Z",
     "start_time": "2024-08-09T00:24:57.821321Z"
    }
   },
   "outputs": [
    {
     "data": {
      "text/plain": [
       "524.740632814599_ft3"
      ]
     },
     "execution_count": 53,
     "metadata": {},
     "output_type": "execute_result"
    }
   ],
   "source": [
    "volume_2 = length_4 * length_3 * length_2\n",
    "volume_2"
   ]
  },
  {
   "cell_type": "code",
   "execution_count": 54,
   "id": "11126ad7",
   "metadata": {
    "ExecuteTime": {
     "end_time": "2024-08-09T00:24:58.162258Z",
     "start_time": "2024-08-09T00:24:58.147298Z"
    }
   },
   "outputs": [
    {
     "data": {
      "text/plain": [
       "14.859000000000002_m3"
      ]
     },
     "execution_count": 54,
     "metadata": {},
     "output_type": "execute_result"
    }
   ],
   "source": [
    "volume_2.to('m3')"
   ]
  },
  {
   "cell_type": "code",
   "execution_count": 55,
   "id": "cc1de45c",
   "metadata": {
    "ExecuteTime": {
     "end_time": "2024-08-09T00:24:58.178115Z",
     "start_time": "2024-08-09T00:24:58.163255Z"
    }
   },
   "outputs": [
    {
     "data": {
      "text/plain": [
       "524.740632814599_scf"
      ]
     },
     "execution_count": 55,
     "metadata": {},
     "output_type": "execute_result"
    }
   ],
   "source": [
    "volume_2.to('scf')"
   ]
  },
  {
   "cell_type": "code",
   "execution_count": 56,
   "id": "8d315f07",
   "metadata": {
    "ExecuteTime": {
     "end_time": "2024-08-09T00:24:58.209034Z",
     "start_time": "2024-08-09T00:24:58.179112Z"
    }
   },
   "outputs": [
    {
     "data": {
      "text/plain": [
       "93.4602871405253_stb"
      ]
     },
     "execution_count": 56,
     "metadata": {},
     "output_type": "execute_result"
    }
   ],
   "source": [
    "volume_2.to('stb')"
   ]
  },
  {
   "cell_type": "code",
   "execution_count": 57,
   "id": "a793e510",
   "metadata": {
    "ExecuteTime": {
     "end_time": "2024-08-09T00:24:58.224505Z",
     "start_time": "2024-08-09T00:24:58.209034Z"
    }
   },
   "outputs": [
    {
     "data": {
      "text/plain": [
       "True"
      ]
     },
     "execution_count": 57,
     "metadata": {},
     "output_type": "execute_result"
    }
   ],
   "source": [
    "volume_2.to('stb') == volume_2"
   ]
  },
  {
   "cell_type": "code",
   "execution_count": 58,
   "id": "e51253ac",
   "metadata": {
    "ExecuteTime": {
     "end_time": "2024-08-09T00:24:58.570369Z",
     "start_time": "2024-08-09T00:24:58.225502Z"
    }
   },
   "outputs": [
    {
     "name": "stdout",
     "output_type": "stream",
     "text": [
      "524.740632814599_ft3 / 53.313648293963254_ft2 = 9.842519685039372_ft\n"
     ]
    }
   ],
   "source": [
    "print(volume_2, '/', area_2, '=', volume_2/area_2)"
   ]
  },
  {
   "cell_type": "code",
   "execution_count": 59,
   "id": "14775624",
   "metadata": {
    "ExecuteTime": {
     "end_time": "2024-08-09T00:24:58.896277Z",
     "start_time": "2024-08-09T00:24:58.571366Z"
    }
   },
   "outputs": [
    {
     "name": "stdout",
     "output_type": "stream",
     "text": [
      "36_m3 / 53.313648293963254_ft2 = 7.26832222895215_m\n"
     ]
    }
   ],
   "source": [
    "print(volume_1, '/', area_2, '=', volume_1/area_2)"
   ]
  },
  {
   "cell_type": "code",
   "execution_count": 60,
   "id": "29635a83",
   "metadata": {
    "ExecuteTime": {
     "end_time": "2024-08-09T00:24:58.911268Z",
     "start_time": "2024-08-09T00:24:58.897303Z"
    }
   },
   "outputs": [
    {
     "name": "stdout",
     "output_type": "stream",
     "text": [
      "type: Time\n"
     ]
    },
    {
     "data": {
      "text/plain": [
       "1.5_hr"
      ]
     },
     "execution_count": 60,
     "metadata": {},
     "output_type": "execute_result"
    }
   ],
   "source": [
    "time_1 = units(1.5, 'hr')\n",
    "print('type:', type(time_1))\n",
    "time_1"
   ]
  },
  {
   "cell_type": "code",
   "execution_count": 61,
   "id": "1872a59d",
   "metadata": {
    "ExecuteTime": {
     "end_time": "2024-08-09T00:24:58.927211Z",
     "start_time": "2024-08-09T00:24:58.912773Z"
    }
   },
   "outputs": [
    {
     "data": {
      "text/plain": [
       "90.0_min"
      ]
     },
     "execution_count": 61,
     "metadata": {},
     "output_type": "execute_result"
    }
   ],
   "source": [
    "time_1.to('min')"
   ]
  },
  {
   "cell_type": "code",
   "execution_count": 62,
   "id": "cd0d1f6f",
   "metadata": {
    "ExecuteTime": {
     "end_time": "2024-08-09T00:24:58.943050Z",
     "start_time": "2024-08-09T00:24:58.928209Z"
    }
   },
   "outputs": [
    {
     "data": {
      "text/plain": [
       "5_sec"
      ]
     },
     "execution_count": 62,
     "metadata": {},
     "output_type": "execute_result"
    }
   ],
   "source": [
    "time_2 = units(5, 'sec')\n",
    "time_2"
   ]
  },
  {
   "cell_type": "code",
   "execution_count": 63,
   "id": "36f7eb88",
   "metadata": {
    "ExecuteTime": {
     "end_time": "2024-08-09T00:24:59.253882Z",
     "start_time": "2024-08-09T00:24:58.944021Z"
    }
   },
   "outputs": [
    {
     "name": "stdout",
     "output_type": "stream",
     "text": [
      "type: Velocity\n"
     ]
    },
    {
     "data": {
      "text/plain": [
       "1.3_ft/sec"
      ]
     },
     "execution_count": 63,
     "metadata": {},
     "output_type": "execute_result"
    }
   ],
   "source": [
    "speed_1 = length_4 / time_2\n",
    "print('type:', type(speed_1))\n",
    "speed_1"
   ]
  },
  {
   "cell_type": "code",
   "execution_count": 64,
   "id": "7cebaacf",
   "metadata": {
    "ExecuteTime": {
     "end_time": "2024-08-09T00:24:59.268842Z",
     "start_time": "2024-08-09T00:24:59.254879Z"
    }
   },
   "outputs": [
    {
     "data": {
      "text/plain": [
       "1.4264640000000002_km/hr"
      ]
     },
     "execution_count": 64,
     "metadata": {},
     "output_type": "execute_result"
    }
   ],
   "source": [
    "speed_1.to('km/hr')"
   ]
  },
  {
   "cell_type": "code",
   "execution_count": 65,
   "id": "4d95e86f",
   "metadata": {
    "ExecuteTime": {
     "end_time": "2024-08-09T00:24:59.284797Z",
     "start_time": "2024-08-09T00:24:59.270835Z"
    }
   },
   "outputs": [
    {
     "data": {
      "text/plain": [
       "100_km/hr"
      ]
     },
     "execution_count": 65,
     "metadata": {},
     "output_type": "execute_result"
    }
   ],
   "source": [
    "speed_2 = units(100, 'km/hr')\n",
    "speed_2"
   ]
  },
  {
   "cell_type": "code",
   "execution_count": 66,
   "id": "1d5bdece",
   "metadata": {
    "ExecuteTime": {
     "end_time": "2024-08-09T00:24:59.315960Z",
     "start_time": "2024-08-09T00:24:59.286793Z"
    }
   },
   "outputs": [
    {
     "data": {
      "text/plain": [
       "62.13711922373339_mi/hr"
      ]
     },
     "execution_count": 66,
     "metadata": {},
     "output_type": "execute_result"
    }
   ],
   "source": [
    "speed_2.to('mi/hr')"
   ]
  },
  {
   "cell_type": "code",
   "execution_count": 67,
   "id": "d69d3574",
   "metadata": {
    "ExecuteTime": {
     "end_time": "2024-08-09T00:25:01.095180Z",
     "start_time": "2024-08-09T00:24:59.316958Z"
    }
   },
   "outputs": [
    {
     "name": "stdout",
     "output_type": "stream",
     "text": [
      "type: ProductivityIndex\n"
     ]
    },
    {
     "data": {
      "text/plain": [
       "2.7_stb/day/psia"
      ]
     },
     "execution_count": 67,
     "metadata": {},
     "output_type": "execute_result"
    }
   ],
   "source": [
    "productivity_index_1 = units(2.7, 'stb/day/psia')\n",
    "print('type:', type(productivity_index_1))\n",
    "productivity_index_1"
   ]
  },
  {
   "cell_type": "code",
   "execution_count": 68,
   "id": "c5c7a2ff",
   "metadata": {
    "ExecuteTime": {
     "end_time": "2024-08-09T00:25:01.203466Z",
     "start_time": "2024-08-09T00:25:01.096149Z"
    }
   },
   "outputs": [
    {
     "data": {
      "text/plain": [
       "6.225969351032321_sm3/day/barsa"
      ]
     },
     "execution_count": 68,
     "metadata": {},
     "output_type": "execute_result"
    }
   ],
   "source": [
    "productivity_index_1.to('sm3/day/barsa')"
   ]
  },
  {
   "cell_type": "code",
   "execution_count": 69,
   "id": "789ca0cf",
   "metadata": {
    "ExecuteTime": {
     "end_time": "2024-08-09T00:25:01.813803Z",
     "start_time": "2024-08-09T00:25:01.204464Z"
    }
   },
   "outputs": [
    {
     "data": {
      "text/plain": [
       "43.2358982710578_cc/min/kPa"
      ]
     },
     "execution_count": 69,
     "metadata": {},
     "output_type": "execute_result"
    }
   ],
   "source": [
    "productivity_index_1.to('cc/min/kPa')"
   ]
  },
  {
   "cell_type": "markdown",
   "id": "a2601c05",
   "metadata": {},
   "source": [
    "# Working with NumPy arrays\n",
    "simply provide the array as the first argument of **`units()`** function:"
   ]
  },
  {
   "cell_type": "code",
   "execution_count": 70,
   "id": "e4119421",
   "metadata": {
    "ExecuteTime": {
     "end_time": "2024-08-09T00:25:01.828948Z",
     "start_time": "2024-08-09T00:25:01.817788Z"
    }
   },
   "outputs": [],
   "source": [
    "import numpy as np"
   ]
  },
  {
   "cell_type": "code",
   "execution_count": 71,
   "id": "c4f0c7af",
   "metadata": {
    "ExecuteTime": {
     "end_time": "2024-08-09T00:25:01.844039Z",
     "start_time": "2024-08-09T00:25:01.829918Z"
    }
   },
   "outputs": [
    {
     "data": {
      "text/plain": [
       "array([0.6950285 , 0.42528309, 0.1406296 , 0.07501661, 0.51047243,\n",
       "       0.25326637, 0.59438042, 0.16732031, 0.44980557, 0.28139875])"
      ]
     },
     "execution_count": 71,
     "metadata": {},
     "output_type": "execute_result"
    }
   ],
   "source": [
    "array_1 = np.random.rand(10)\n",
    "array_1"
   ]
  },
  {
   "cell_type": "code",
   "execution_count": 72,
   "id": "ccd6be22",
   "metadata": {
    "ExecuteTime": {
     "end_time": "2024-08-09T00:25:01.859879Z",
     "start_time": "2024-08-09T00:25:01.845042Z"
    }
   },
   "outputs": [],
   "source": [
    "mass_1 = units(array_1, 'kg')"
   ]
  },
  {
   "cell_type": "code",
   "execution_count": 73,
   "id": "3de66b00",
   "metadata": {
    "ExecuteTime": {
     "end_time": "2024-08-09T00:25:01.874570Z",
     "start_time": "2024-08-09T00:25:01.860876Z"
    }
   },
   "outputs": [
    {
     "data": {
      "text/plain": [
       "[0.6950285  0.42528309 0.1406296  0.07501661 0.51047243 0.25326637\n",
       " 0.59438042 0.16732031 0.44980557 0.28139875]_kg"
      ]
     },
     "execution_count": 73,
     "metadata": {},
     "output_type": "execute_result"
    }
   ],
   "source": [
    "mass_1"
   ]
  },
  {
   "cell_type": "code",
   "execution_count": 74,
   "id": "4c965bb1",
   "metadata": {
    "ExecuteTime": {
     "end_time": "2024-08-09T00:25:01.889881Z",
     "start_time": "2024-08-09T00:25:01.876534Z"
    }
   },
   "outputs": [
    {
     "data": {
      "text/plain": [
       "[695.02849695 425.28309171 140.62960056  75.01661134 510.47243099\n",
       " 253.26636681 594.38041739 167.32031468 449.80557241 281.39875249]_g"
      ]
     },
     "execution_count": 74,
     "metadata": {},
     "output_type": "execute_result"
    }
   ],
   "source": [
    "mass_1.to('g')"
   ]
  },
  {
   "cell_type": "code",
   "execution_count": 75,
   "id": "e02b45e8",
   "metadata": {
    "ExecuteTime": {
     "end_time": "2024-08-09T00:25:01.905335Z",
     "start_time": "2024-08-09T00:25:01.891366Z"
    }
   },
   "outputs": [
    {
     "data": {
      "text/plain": [
       "[0.3571303  0.80007668 0.35216103 0.42182713 0.97421832 0.07330112\n",
       " 0.71078079 0.13629406 0.81432372 0.71792587]_lb"
      ]
     },
     "execution_count": 75,
     "metadata": {},
     "output_type": "execute_result"
    }
   ],
   "source": [
    "mass_2 = units(np.random.rand(10), 'lb')\n",
    "mass_2"
   ]
  },
  {
   "cell_type": "code",
   "execution_count": 76,
   "id": "753725fe",
   "metadata": {
    "ExecuteTime": {
     "end_time": "2024-08-09T00:25:01.920875Z",
     "start_time": "2024-08-09T00:25:01.906333Z"
    }
   },
   "outputs": [
    {
     "data": {
      "text/plain": [
       "[1.88940585 1.73766541 0.66219623 0.58721045 2.09961739 0.63165789\n",
       " 2.02116531 0.50517221 1.80597526 1.33830392]_lb"
      ]
     },
     "execution_count": 76,
     "metadata": {},
     "output_type": "execute_result"
    }
   ],
   "source": [
    "mass_2 + mass_1"
   ]
  },
  {
   "cell_type": "markdown",
   "id": "21b99062",
   "metadata": {},
   "source": [
    "# The `convert` function\n",
    "The units converter function, **`convert()`** can be used directly, providing the following arguments:\n",
    "- `value`: _int_, _float_, _np.array_, etc, the value to be converted\n",
    "- `from_units`: _str_ the input units\n",
    "- `to_units`: _str_, the desired output units\n",
    "- `print_path`: [optional] _bool_, set to True to request printing the conversion path. Default behaviour is defined by the `print_path()` setting."
   ]
  },
  {
   "cell_type": "code",
   "execution_count": 77,
   "id": "2b937728",
   "metadata": {
    "ExecuteTime": {
     "end_time": "2024-08-09T00:25:01.936808Z",
     "start_time": "2024-08-09T00:25:01.922847Z"
    }
   },
   "outputs": [
    {
     "data": {
      "text/plain": [
       "14"
      ]
     },
     "execution_count": 77,
     "metadata": {},
     "output_type": "execute_result"
    }
   ],
   "source": [
    "convert(2, 'week', 'day')"
   ]
  },
  {
   "cell_type": "code",
   "execution_count": 78,
   "id": "4e5639bb",
   "metadata": {
    "ExecuteTime": {
     "end_time": "2024-08-09T00:25:01.952796Z",
     "start_time": "2024-08-09T00:25:01.937806Z"
    }
   },
   "outputs": [
    {
     "data": {
      "text/plain": [
       "1440"
      ]
     },
     "execution_count": 78,
     "metadata": {},
     "output_type": "execute_result"
    }
   ],
   "source": [
    "convert(1, 'day', 'minute')"
   ]
  },
  {
   "cell_type": "code",
   "execution_count": 79,
   "id": "0474f3e6",
   "metadata": {
    "ExecuteTime": {
     "end_time": "2024-08-09T00:25:01.968747Z",
     "start_time": "2024-08-09T00:25:01.953764Z"
    }
   },
   "outputs": [
    {
     "data": {
      "text/plain": [
       "604800"
      ]
     },
     "execution_count": 79,
     "metadata": {},
     "output_type": "execute_result"
    }
   ],
   "source": [
    "convert(1, 'week', 'second', True)"
   ]
  },
  {
   "cell_type": "code",
   "execution_count": 80,
   "id": "8c34ecfc",
   "metadata": {
    "ExecuteTime": {
     "end_time": "2024-08-09T00:25:02.156461Z",
     "start_time": "2024-08-09T00:25:01.969721Z"
    }
   },
   "outputs": [
    {
     "data": {
      "text/plain": [
       "70.30695796391595"
      ]
     },
     "execution_count": 80,
     "metadata": {},
     "output_type": "execute_result"
    }
   ],
   "source": [
    "convert(1, 'psia', 'g/cm2', True)"
   ]
  },
  {
   "cell_type": "markdown",
   "id": "8f558f37",
   "metadata": {},
   "source": [
    "- optional, fourth argument set to **True** will return the conversion path.   \n",
    "To avoid anoying print outs, the conversion path is printed only the first time it is used:"
   ]
  },
  {
   "cell_type": "code",
   "execution_count": 81,
   "id": "4fe90dc5",
   "metadata": {
    "ExecuteTime": {
     "end_time": "2024-08-09T00:25:02.171417Z",
     "start_time": "2024-08-09T00:25:02.158430Z"
    }
   },
   "outputs": [
    {
     "data": {
      "text/plain": [
       "1.852"
      ]
     },
     "execution_count": 81,
     "metadata": {},
     "output_type": "execute_result"
    }
   ],
   "source": [
    "convert(1, 'nautical mile', 'km', True)"
   ]
  },
  {
   "cell_type": "code",
   "execution_count": 82,
   "id": "12189df7",
   "metadata": {
    "ExecuteTime": {
     "end_time": "2024-08-09T00:25:02.202334Z",
     "start_time": "2024-08-09T00:25:02.183385Z"
    }
   },
   "outputs": [
    {
     "data": {
      "text/plain": [
       "985.6262833675565"
      ]
     },
     "execution_count": 82,
     "metadata": {},
     "output_type": "execute_result"
    }
   ],
   "source": [
    "convert(30, 'm3/month', 'l/day', True)"
   ]
  },
  {
   "cell_type": "code",
   "execution_count": 83,
   "id": "05ce65f0",
   "metadata": {
    "ExecuteTime": {
     "end_time": "2024-08-09T00:25:02.233826Z",
     "start_time": "2024-08-09T00:25:02.203308Z"
    }
   },
   "outputs": [
    {
     "data": {
      "text/plain": [
       "0.07917208177742135"
      ]
     },
     "execution_count": 83,
     "metadata": {},
     "output_type": "execute_result"
    }
   ],
   "source": [
    "convert(0.35, 'psi/ft', 'bar/m', True)"
   ]
  },
  {
   "cell_type": "code",
   "execution_count": 84,
   "id": "c61b97c1",
   "metadata": {
    "ExecuteTime": {
     "end_time": "2024-08-09T00:25:02.249778Z",
     "start_time": "2024-08-09T00:25:02.234849Z"
    }
   },
   "outputs": [
    {
     "data": {
      "text/plain": [
       "0.8073305540475911"
      ]
     },
     "execution_count": 84,
     "metadata": {},
     "output_type": "execute_result"
    }
   ],
   "source": [
    "convert(0.35, 'psi/ft', 'g/cc', True)"
   ]
  },
  {
   "cell_type": "code",
   "execution_count": 85,
   "id": "5d9b6e3c",
   "metadata": {
    "ExecuteTime": {
     "end_time": "2024-08-09T00:25:02.279496Z",
     "start_time": "2024-08-09T00:25:02.250777Z"
    }
   },
   "outputs": [
    {
     "data": {
      "text/plain": [
       "0.3499999999999999"
      ]
     },
     "execution_count": 85,
     "metadata": {},
     "output_type": "execute_result"
    }
   ],
   "source": [
    "convert(0.07917208177742135, 'bar/m', 'psi/ft', True)"
   ]
  },
  {
   "cell_type": "code",
   "execution_count": 86,
   "id": "7d7ee781",
   "metadata": {
    "ExecuteTime": {
     "end_time": "2024-08-09T00:25:02.294456Z",
     "start_time": "2024-08-09T00:25:02.280493Z"
    }
   },
   "outputs": [
    {
     "data": {
      "text/plain": [
       "1.9141848565515385"
      ]
     },
     "execution_count": 86,
     "metadata": {},
     "output_type": "execute_result"
    }
   ],
   "source": [
    "convert(0.433, 'barsa/m', 'psia/ft', True)"
   ]
  },
  {
   "cell_type": "code",
   "execution_count": 87,
   "id": "6567efa8",
   "metadata": {
    "ExecuteTime": {
     "end_time": "2024-08-09T00:25:02.309767Z",
     "start_time": "2024-08-09T00:25:02.295453Z"
    }
   },
   "outputs": [
    {
     "data": {
      "text/plain": [
       "14.7"
      ]
     },
     "execution_count": 87,
     "metadata": {},
     "output_type": "execute_result"
    }
   ],
   "source": [
    "convert(14.7, 'psia', 'lb/in2', True)"
   ]
  },
  {
   "cell_type": "code",
   "execution_count": 88,
   "id": "ea74ca0a",
   "metadata": {
    "ExecuteTime": {
     "end_time": "2024-08-09T00:25:02.325236Z",
     "start_time": "2024-08-09T00:25:02.310764Z"
    }
   },
   "outputs": [
    {
     "data": {
      "text/plain": [
       "14.223343307119563"
      ]
     },
     "execution_count": 88,
     "metadata": {},
     "output_type": "execute_result"
    }
   ],
   "source": [
    "convert(1, 'kg/cm2', 'lb/in2', True)"
   ]
  },
  {
   "cell_type": "markdown",
   "id": "628594dc",
   "metadata": {
    "ExecuteTime": {
     "end_time": "2023-01-28T21:26:47.070369Z",
     "start_time": "2023-01-28T21:26:44.189997Z"
    }
   },
   "source": [
    "convert(1, 'kg/cm2', 'psia', True)"
   ]
  },
  {
   "cell_type": "code",
   "execution_count": 89,
   "id": "7526d5b7",
   "metadata": {
    "ExecuteTime": {
     "end_time": "2024-08-09T00:25:02.340195Z",
     "start_time": "2024-08-09T00:25:02.327230Z"
    }
   },
   "outputs": [
    {
     "data": {
      "text/plain": [
       "0.014223343307119564"
      ]
     },
     "execution_count": 89,
     "metadata": {},
     "output_type": "execute_result"
    }
   ],
   "source": [
    "convert(1, 'g/cm2', 'lb/in2', True)"
   ]
  },
  {
   "cell_type": "code",
   "execution_count": 90,
   "id": "79dcf20b",
   "metadata": {
    "ExecuteTime": {
     "end_time": "2024-08-09T00:25:02.355155Z",
     "start_time": "2024-08-09T00:25:02.341193Z"
    }
   },
   "outputs": [
    {
     "data": {
      "text/plain": [
       "62.427960576144606"
      ]
     },
     "execution_count": 90,
     "metadata": {},
     "output_type": "execute_result"
    }
   ],
   "source": [
    "convert(10, 'API', 'lb/ft3', True)"
   ]
  },
  {
   "cell_type": "code",
   "execution_count": 91,
   "id": "c1547494",
   "metadata": {
    "ExecuteTime": {
     "end_time": "2024-08-09T00:25:02.465144Z",
     "start_time": "2024-08-09T00:25:02.356153Z"
    }
   },
   "outputs": [
    {
     "data": {
      "text/plain": [
       "29.11011675499026"
      ]
     },
     "execution_count": 91,
     "metadata": {},
     "output_type": "execute_result"
    }
   ],
   "source": [
    "convert(55, 'lb/scf', 'API', True)"
   ]
  },
  {
   "cell_type": "code",
   "execution_count": 92,
   "id": "1af4c897",
   "metadata": {
    "ExecuteTime": {
     "end_time": "2024-08-09T00:25:02.480104Z",
     "start_time": "2024-08-09T00:25:02.466141Z"
    }
   },
   "outputs": [
    {
     "data": {
      "text/plain": [
       "1.0"
      ]
     },
     "execution_count": 92,
     "metadata": {},
     "output_type": "execute_result"
    }
   ],
   "source": [
    "convert(10, 'API', 'g/cc', True)"
   ]
  },
  {
   "cell_type": "code",
   "execution_count": 93,
   "id": "a16d1fde",
   "metadata": {
    "ExecuteTime": {
     "end_time": "2024-08-09T00:25:02.495064Z",
     "start_time": "2024-08-09T00:25:02.481102Z"
    }
   },
   "outputs": [
    {
     "data": {
      "text/plain": [
       "10.0"
      ]
     },
     "execution_count": 93,
     "metadata": {},
     "output_type": "execute_result"
    }
   ],
   "source": [
    "convert(1, 'g/cm3', 'API', True)"
   ]
  },
  {
   "cell_type": "markdown",
   "id": "954a772d",
   "metadata": {},
   "source": [
    "## if `value` argument is instance of `Unit`\n",
    "If `value` argument is an instance of the `Unit` class, the third argument (`to_unit`) might be left default (or the provided class `Empty`).  \n",
    "In this case `value` will be converted from its units to the units provided in the argument `from_unit`."
   ]
  },
  {
   "cell_type": "code",
   "execution_count": 94,
   "id": "fcfe265d",
   "metadata": {
    "ExecuteTime": {
     "end_time": "2024-08-09T00:25:02.511024Z",
     "start_time": "2024-08-09T00:25:02.496061Z"
    }
   },
   "outputs": [
    {
     "name": "stdout",
     "output_type": "stream",
     "text": [
      "`mass_1` is and instance of the `Unit` class:\n",
      "[0.6950285  0.42528309 0.1406296  0.07501661 0.51047243 0.25326637\n",
      " 0.59438042 0.16732031 0.44980557 0.28139875]_kg\n"
     ]
    },
    {
     "data": {
      "text/plain": [
       "array([1.53227555, 0.93758872, 0.3100352 , 0.16538332, 1.12539907,\n",
       "       0.55835676, 1.31038451, 0.36887815, 0.99165154, 0.62037806])"
      ]
     },
     "execution_count": 94,
     "metadata": {},
     "output_type": "execute_result"
    }
   ],
   "source": [
    "print(\"`mass_1` is and instance of the `Unit` class:\", mass_1, sep='\\n')\n",
    "convert(mass_1, 'lb')"
   ]
  },
  {
   "cell_type": "markdown",
   "id": "12b23da1",
   "metadata": {},
   "source": [
    "### `Empty`, instead of `None`\n",
    "It is important to hightlight that the `None` value as argument in the `convert` function will indicate the conversion to a dimensionless value.  \n",
    "  \n",
    "To provide the default _Empty_ value for an argument, the provided value `Empty` should be used. Notice that is only accepted in the second argument (`to_unit`) and will be valid only if the `value` argument is an instance of `Unit`.  \n",
    "The `Empty` instance can be imported from `unyts`:"
   ]
  },
  {
   "cell_type": "code",
   "execution_count": 95,
   "id": "1cb4c656",
   "metadata": {
    "ExecuteTime": {
     "end_time": "2024-08-09T00:25:02.526493Z",
     "start_time": "2024-08-09T00:25:02.512022Z"
    }
   },
   "outputs": [],
   "source": [
    "from unyts import Empty"
   ]
  },
  {
   "cell_type": "code",
   "execution_count": 96,
   "id": "50ce2ed6",
   "metadata": {
    "ExecuteTime": {
     "end_time": "2024-08-09T00:25:02.542450Z",
     "start_time": "2024-08-09T00:25:02.527490Z"
    }
   },
   "outputs": [
    {
     "data": {
      "text/plain": [
       "array([1.53227555, 0.93758872, 0.3100352 , 0.16538332, 1.12539907,\n",
       "       0.55835676, 1.31038451, 0.36887815, 0.99165154, 0.62037806])"
      ]
     },
     "execution_count": 96,
     "metadata": {},
     "output_type": "execute_result"
    }
   ],
   "source": [
    "convert(mass_1, 'lb', Empty)"
   ]
  },
  {
   "cell_type": "markdown",
   "id": "46ef907b",
   "metadata": {},
   "source": [
    "# Getting a `lambda` for later use\n",
    "\n",
    "Optionally, the first argument (_value_) of the function `convert` can be set `None`. In this case, a `lambda` with the conversion will be returned. This _lambda_ can be saved into a variable for later use."
   ]
  },
  {
   "cell_type": "code",
   "execution_count": 97,
   "id": "32c07627",
   "metadata": {
    "ExecuteTime": {
     "end_time": "2024-08-09T00:25:02.557655Z",
     "start_time": "2024-08-09T00:25:02.543448Z"
    }
   },
   "outputs": [],
   "source": [
    "temperature_conversion = convert(None, 'F', 'C', True)"
   ]
  },
  {
   "cell_type": "code",
   "execution_count": 98,
   "id": "e2319e76",
   "metadata": {
    "ExecuteTime": {
     "end_time": "2024-08-09T00:25:02.573584Z",
     "start_time": "2024-08-09T00:25:02.559621Z"
    }
   },
   "outputs": [
    {
     "data": {
      "text/plain": [
       "29.444444444444443"
      ]
     },
     "execution_count": 98,
     "metadata": {},
     "output_type": "execute_result"
    }
   ],
   "source": [
    "temperature_conversion(85)"
   ]
  },
  {
   "cell_type": "markdown",
   "id": "8ab6737f",
   "metadata": {},
   "source": [
    "# Preloaded unitary units\n",
    "\n",
    "In some ocassions it could be handy use the preloaded variables of basic units in order to make new instances of any units as production of numbers with the basic units, like (not exhaustive list):\n",
    "- `meter` or `metre`\n",
    "- `foot` or `feet`\n",
    "- `inch`\n",
    "- `second`, `minute`, `hour`, `day`, `week`, `month` and `year`\n",
    "- `gram` and `kilogram`\n",
    "- `ounce`, `pound` and `ton`\n",
    "- `pascal`, `kilopascal`, `torr`, `psi`, `bar` and `atmosphere`"
   ]
  },
  {
   "cell_type": "code",
   "execution_count": 99,
   "id": "2886f92a",
   "metadata": {
    "ExecuteTime": {
     "end_time": "2024-08-09T00:25:02.589541Z",
     "start_time": "2024-08-09T00:25:02.574581Z"
    }
   },
   "outputs": [],
   "source": [
    "from unyts.unitary import *"
   ]
  },
  {
   "cell_type": "code",
   "execution_count": 100,
   "id": "70804381",
   "metadata": {
    "ExecuteTime": {
     "end_time": "2024-08-09T00:25:02.604502Z",
     "start_time": "2024-08-09T00:25:02.591535Z"
    }
   },
   "outputs": [
    {
     "data": {
      "text/plain": [
       "5_yd"
      ]
     },
     "execution_count": 100,
     "metadata": {},
     "output_type": "execute_result"
    }
   ],
   "source": [
    "5 * yard"
   ]
  },
  {
   "cell_type": "code",
   "execution_count": 101,
   "id": "71adc0fc",
   "metadata": {
    "ExecuteTime": {
     "end_time": "2024-08-09T00:25:02.619972Z",
     "start_time": "2024-08-09T00:25:02.605501Z"
    }
   },
   "outputs": [
    {
     "data": {
      "text/plain": [
       "36_m2"
      ]
     },
     "execution_count": 101,
     "metadata": {},
     "output_type": "execute_result"
    }
   ],
   "source": [
    "36 * meter * meter"
   ]
  },
  {
   "cell_type": "code",
   "execution_count": 102,
   "id": "cf096bb3",
   "metadata": {
    "ExecuteTime": {
     "end_time": "2024-08-09T00:25:02.635932Z",
     "start_time": "2024-08-09T00:25:02.620972Z"
    }
   },
   "outputs": [
    {
     "data": {
      "text/plain": [
       "3.0_ft/sec"
      ]
     },
     "execution_count": 102,
     "metadata": {},
     "output_type": "execute_result"
    }
   ],
   "source": [
    "3 * foot / second"
   ]
  },
  {
   "cell_type": "code",
   "execution_count": 103,
   "id": "aa41cb7d",
   "metadata": {
    "ExecuteTime": {
     "end_time": "2024-08-09T00:25:02.650922Z",
     "start_time": "2024-08-09T00:25:02.636928Z"
    }
   },
   "outputs": [
    {
     "data": {
      "text/plain": [
       "3_oz"
      ]
     },
     "execution_count": 103,
     "metadata": {},
     "output_type": "execute_result"
    }
   ],
   "source": [
    "3 * ounce"
   ]
  },
  {
   "cell_type": "markdown",
   "id": "9e11b95c",
   "metadata": {},
   "source": [
    "# The special case of _ounce_\n",
    "\n",
    "Considering that the unit **ounce** can be associated to volume or to weiht, calling `units()` function with unit argumento _'ounce'_ or _'oz'_ will return a generic **Unit** instance (not the specific subclass of Unit):"
   ]
  },
  {
   "cell_type": "code",
   "execution_count": 104,
   "id": "93276edd",
   "metadata": {
    "ExecuteTime": {
     "end_time": "2024-08-09T00:25:02.666876Z",
     "start_time": "2024-08-09T00:25:02.651888Z"
    }
   },
   "outputs": [
    {
     "data": {
      "text/plain": [
       "2.5_ounce"
      ]
     },
     "execution_count": 104,
     "metadata": {},
     "output_type": "execute_result"
    }
   ],
   "source": [
    "oz = units(2.5, 'ounce')\n",
    "oz"
   ]
  },
  {
   "cell_type": "code",
   "execution_count": 105,
   "id": "99e87f95",
   "metadata": {
    "ExecuteTime": {
     "end_time": "2024-08-09T00:25:02.682806Z",
     "start_time": "2024-08-09T00:25:02.667846Z"
    }
   },
   "outputs": [
    {
     "data": {
      "text/plain": [
       "Unit"
      ]
     },
     "execution_count": 105,
     "metadata": {},
     "output_type": "execute_result"
    }
   ],
   "source": [
    "type(oz)"
   ]
  },
  {
   "cell_type": "markdown",
   "id": "694015b1",
   "metadata": {},
   "source": [
    "This generic instance is able to be converted to other weight or volume quantities and only then it will be instantiated as the appropiate subclass:"
   ]
  },
  {
   "cell_type": "code",
   "execution_count": 106,
   "id": "9fe02190",
   "metadata": {
    "ExecuteTime": {
     "end_time": "2024-08-09T00:25:02.791090Z",
     "start_time": "2024-08-09T00:25:02.684801Z"
    }
   },
   "outputs": [
    {
     "name": "stdout",
     "output_type": "stream",
     "text": [
      "73.9337859441888_ml\n"
     ]
    },
    {
     "data": {
      "text/plain": [
       "Volume"
      ]
     },
     "execution_count": 106,
     "metadata": {},
     "output_type": "execute_result"
    }
   ],
   "source": [
    "v = oz.to('ml')\n",
    "print(v)\n",
    "type(v)"
   ]
  },
  {
   "cell_type": "code",
   "execution_count": 107,
   "id": "885bed71",
   "metadata": {
    "ExecuteTime": {
     "end_time": "2024-08-09T00:25:02.807083Z",
     "start_time": "2024-08-09T00:25:02.792088Z"
    }
   },
   "outputs": [
    {
     "name": "stdout",
     "output_type": "stream",
     "text": [
      "70.87380781249999_g\n"
     ]
    },
    {
     "data": {
      "text/plain": [
       "Weight"
      ]
     },
     "execution_count": 107,
     "metadata": {},
     "output_type": "execute_result"
    }
   ],
   "source": [
    "w = oz.to('g')\n",
    "print(w)\n",
    "type(w)"
   ]
  },
  {
   "cell_type": "markdown",
   "id": "be1906ba",
   "metadata": {},
   "source": [
    "# The search algorithm _[optional]_\n",
    "On version 0.9.0 alternative algorithms to search through the units network were defined. Previously only BFS algorithm could be used.  \n",
    "The available algorithms now are:\n",
    "- **BFS** _Breadth-First Search_: searches through the entire graph network, deepening one level at a time. BFS will always return the shortest path connecting two units, but migth be slow to find a path between two distant nodes (units).\n",
    "- **DFS** _Depth-First Search_: searches through the entire graph network, one branch at time. DFS will return the first path found and might be faster than BFS when looking for a path between two distant nodes.\n",
    "- **lean BFS** _preprocessed lean network for Breadth-First Search_: cleans up the network, by filtering out the nodes (units) that are not part of any possible path between the two units being converted. The resulting slimmed graph network is then feeded to the BFS algorithm to find the shortest possible path. This implementation will return the shortest path in less time that the traditional BFS algorithm, particularly for conversions that BFS takes very long time to solve.\n",
    "\n",
    "Default algorithm is **lean_BFS**."
   ]
  },
  {
   "cell_type": "markdown",
   "id": "602f78d4",
   "metadata": {},
   "source": [
    "## View or change the search algorithm\n",
    "The active search algorithm can be viewed by calling the function `get_algorithm()` or changed by calling the function `set_algorithm()` providing a string with the desired name of the algorithm. The only valid strings are: `'BFS'`, `'DFS'` or `'lean_BFS'`."
   ]
  },
  {
   "cell_type": "code",
   "execution_count": 108,
   "id": "edad8b6a",
   "metadata": {
    "ExecuteTime": {
     "end_time": "2024-08-09T00:25:02.822641Z",
     "start_time": "2024-08-09T00:25:02.808080Z"
    }
   },
   "outputs": [
    {
     "data": {
      "text/plain": [
       "'lean_BFS'"
      ]
     },
     "execution_count": 108,
     "metadata": {},
     "output_type": "execute_result"
    }
   ],
   "source": [
    "unyts.get_algorithm()"
   ]
  },
  {
   "cell_type": "code",
   "execution_count": 109,
   "id": "6dfddc0b",
   "metadata": {
    "ExecuteTime": {
     "end_time": "2024-08-09T00:25:02.838596Z",
     "start_time": "2024-08-09T00:25:02.824608Z"
    }
   },
   "outputs": [],
   "source": [
    "unyts.set_algorithm('BFS')"
   ]
  },
  {
   "cell_type": "code",
   "execution_count": 110,
   "id": "66b45652",
   "metadata": {
    "ExecuteTime": {
     "end_time": "2024-08-09T00:25:02.853800Z",
     "start_time": "2024-08-09T00:25:02.840565Z"
    }
   },
   "outputs": [],
   "source": [
    "unyts.set_algorithm('DFS')"
   ]
  },
  {
   "cell_type": "code",
   "execution_count": 111,
   "id": "c4784ca9",
   "metadata": {
    "ExecuteTime": {
     "end_time": "2024-08-09T00:25:02.868973Z",
     "start_time": "2024-08-09T00:25:02.854846Z"
    },
    "scrolled": true
   },
   "outputs": [],
   "source": [
    "unyts.set_algorithm('lean_BFS')"
   ]
  },
  {
   "cell_type": "markdown",
   "id": "fd7feff3",
   "metadata": {},
   "source": [
    "## Speed of each algorithm\n",
    "In some cases **BFS** or **DFS** may be very slow (taking minutes to find a conversion path), those are the cases where **lean BFS** results to be much faster without loosing the precission of the BFS:"
   ]
  },
  {
   "cell_type": "code",
   "execution_count": 112,
   "id": "1b2b80b8",
   "metadata": {
    "ExecuteTime": {
     "end_time": "2024-08-09T00:25:02.884241Z",
     "start_time": "2024-08-09T00:25:02.869838Z"
    }
   },
   "outputs": [],
   "source": [
    "import time\n",
    "comparison = {}"
   ]
  },
  {
   "cell_type": "code",
   "execution_count": 113,
   "id": "31455211",
   "metadata": {
    "ExecuteTime": {
     "end_time": "2024-08-09T00:25:03.553505Z",
     "start_time": "2024-08-09T00:25:02.885106Z"
    }
   },
   "outputs": [],
   "source": [
    "unyts.set_algorithm('BFS')\n",
    "unyts.clean_memory()\n",
    "start = time.process_time_ns()\n",
    "convert(0.1, 'bar/m', 'g/cc', True)\n",
    "end = time.process_time_ns()\n",
    "comparison['BFS'] = (end - start) / 1e9"
   ]
  },
  {
   "cell_type": "code",
   "execution_count": 114,
   "id": "a6382c62",
   "metadata": {
    "ExecuteTime": {
     "end_time": "2024-08-09T00:25:10.950598Z",
     "start_time": "2024-08-09T00:25:03.554563Z"
    }
   },
   "outputs": [],
   "source": [
    "unyts.set_algorithm('DFS')\n",
    "unyts.clean_memory()\n",
    "start = time.process_time_ns()\n",
    "convert(0.1, 'bar/m', 'g/cc', True)\n",
    "end = time.process_time_ns()\n",
    "comparison['DFS'] = (end - start) / 1e9"
   ]
  },
  {
   "cell_type": "code",
   "execution_count": 115,
   "id": "a3327042",
   "metadata": {
    "ExecuteTime": {
     "end_time": "2024-08-09T00:25:15.866373Z",
     "start_time": "2024-08-09T00:25:10.951597Z"
    }
   },
   "outputs": [],
   "source": [
    "unyts.set_algorithm('lean_BFS')\n",
    "unyts.clean_memory()\n",
    "start = time.process_time_ns()\n",
    "convert(0.1, 'bar/m', 'g/cc', True)\n",
    "end = time.process_time_ns()\n",
    "comparison['lean_BFS'] = (end - start) / 1e9"
   ]
  },
  {
   "cell_type": "markdown",
   "id": "af69eda6",
   "metadata": {},
   "source": [
    "none of the algorithms performes really slow in this case, eventhoug, it is noticeable that **BFS** was much faster than the other two and that the overhead of the preselection of the **lean BFS** might be significative:"
   ]
  },
  {
   "cell_type": "code",
   "execution_count": 116,
   "id": "7bac8a5c",
   "metadata": {
    "ExecuteTime": {
     "end_time": "2024-08-09T00:25:15.882292Z",
     "start_time": "2024-08-09T00:25:15.867375Z"
    }
   },
   "outputs": [
    {
     "data": {
      "text/plain": [
       "{'BFS': 0.59375, 'DFS': 7.109375, 'lean_BFS': 4.78125}"
      ]
     },
     "execution_count": 116,
     "metadata": {},
     "output_type": "execute_result"
    }
   ],
   "source": [
    "comparison"
   ]
  },
  {
   "cell_type": "markdown",
   "id": "61cb2b0a",
   "metadata": {},
   "source": [
    "But, in other cases:"
   ]
  },
  {
   "cell_type": "code",
   "execution_count": 117,
   "id": "a9a5289d",
   "metadata": {
    "ExecuteTime": {
     "end_time": "2024-08-09T00:25:28.819475Z",
     "start_time": "2024-08-09T00:25:15.883289Z"
    }
   },
   "outputs": [],
   "source": [
    "unyts.set_algorithm('DFS')\n",
    "unyts.clean_memory()\n",
    "start = time.process_time_ns()\n",
    "convert(1000, 'kg/m3', 'psi/ft', True)\n",
    "end = time.process_time_ns()\n",
    "comparison['DFS'] = (end - start) / 1e9"
   ]
  },
  {
   "cell_type": "code",
   "execution_count": 118,
   "id": "8d271950",
   "metadata": {
    "ExecuteTime": {
     "end_time": "2024-08-09T04:38:02.767446Z",
     "start_time": "2024-08-09T00:25:28.820366Z"
    }
   },
   "outputs": [],
   "source": [
    "unyts.set_algorithm('BFS')\n",
    "unyts.clean_memory()\n",
    "start = time.process_time_ns()\n",
    "convert(1000, 'kg/m3', 'psi/ft', True)\n",
    "end = time.process_time_ns()\n",
    "comparison['BFS'] = (end - start) / 1e9"
   ]
  },
  {
   "cell_type": "code",
   "execution_count": 119,
   "id": "bf3106dc",
   "metadata": {
    "ExecuteTime": {
     "end_time": "2024-08-09T04:38:03.595742Z",
     "start_time": "2024-08-09T04:38:02.768468Z"
    }
   },
   "outputs": [],
   "source": [
    "unyts.set_algorithm('lean_BFS')\n",
    "unyts.clean_memory()\n",
    "start = time.process_time_ns()\n",
    "convert(1000, 'kg/m3', 'psi/ft', True)\n",
    "end = time.process_time_ns()\n",
    "comparison['lean_BFS'] = (end - start) / 1e9"
   ]
  },
  {
   "cell_type": "markdown",
   "id": "8c77057f",
   "metadata": {},
   "source": [
    "the difference becomes sigificative, and the overhead of **lean BFS** has been well paid:"
   ]
  },
  {
   "cell_type": "code",
   "execution_count": 120,
   "id": "599d88a8",
   "metadata": {
    "ExecuteTime": {
     "end_time": "2024-08-09T04:38:03.611777Z",
     "start_time": "2024-08-09T04:38:03.596788Z"
    }
   },
   "outputs": [
    {
     "data": {
      "text/plain": [
       "{'BFS': 15006.71875, 'DFS': 12.546875, 'lean_BFS': 0.765625}"
      ]
     },
     "execution_count": 120,
     "metadata": {},
     "output_type": "execute_result"
    }
   ],
   "source": [
    "comparison"
   ]
  },
  {
   "cell_type": "markdown",
   "id": "d6b78fbc",
   "metadata": {},
   "source": [
    "## Particularities of the algorithms BFS and DFS  \n",
    "**DFS** might return wrong results, in cases where one of the converted units has an ambiguos name, like _absolute_ and _gauge_ pressures when not especified (`'psi'` and `'bar'`) that might be interpreted as absolute or gauge depending on the context...  \n",
    "\n",
    "Here below a few examples:"
   ]
  },
  {
   "cell_type": "code",
   "execution_count": 121,
   "id": "6729a4a0",
   "metadata": {
    "ExecuteTime": {
     "end_time": "2024-08-09T04:38:04.774970Z",
     "start_time": "2024-08-09T04:38:03.612814Z"
    }
   },
   "outputs": [
    {
     "data": {
      "text/plain": [
       "-14.694498398337844"
      ]
     },
     "execution_count": 121,
     "metadata": {},
     "output_type": "execute_result"
    }
   ],
   "source": [
    "unyts.set_algorithm('DFS')\n",
    "unyts.clean_memory()\n",
    "convert(10, 'Pa', 'psi', True)"
   ]
  },
  {
   "cell_type": "code",
   "execution_count": 122,
   "id": "7a4d6c61",
   "metadata": {
    "ExecuteTime": {
     "end_time": "2024-08-09T04:38:05.683894Z",
     "start_time": "2024-08-09T04:38:04.776826Z"
    }
   },
   "outputs": [
    {
     "data": {
      "text/plain": [
       "-0.19217500249516478"
      ]
     },
     "execution_count": 122,
     "metadata": {},
     "output_type": "execute_result"
    }
   ],
   "source": [
    "unyts.set_algorithm('DFS')\n",
    "unyts.clean_memory()\n",
    "convert(1, 'bara', 'psi', True)"
   ]
  },
  {
   "cell_type": "markdown",
   "id": "efa88ebc",
   "metadata": {},
   "source": [
    "while **BFS** will not have this issue as it will always find the shortest path:"
   ]
  },
  {
   "cell_type": "code",
   "execution_count": 123,
   "id": "c4fd0afd",
   "metadata": {
    "ExecuteTime": {
     "end_time": "2024-08-09T04:38:05.698887Z",
     "start_time": "2024-08-09T04:38:05.685425Z"
    }
   },
   "outputs": [
    {
     "data": {
      "text/plain": [
       "0.0014503773773220001"
      ]
     },
     "execution_count": 123,
     "metadata": {},
     "output_type": "execute_result"
    }
   ],
   "source": [
    "unyts.set_algorithm('BFS')\n",
    "unyts.clean_memory()\n",
    "convert(10, 'Pa', 'psi', True)"
   ]
  },
  {
   "cell_type": "code",
   "execution_count": 124,
   "id": "428108b6",
   "metadata": {
    "ExecuteTime": {
     "end_time": "2024-08-09T04:38:05.714071Z",
     "start_time": "2024-08-09T04:38:05.699916Z"
    }
   },
   "outputs": [
    {
     "data": {
      "text/plain": [
       "14.50377377322"
      ]
     },
     "execution_count": 124,
     "metadata": {},
     "output_type": "execute_result"
    }
   ],
   "source": [
    "unyts.set_algorithm('BFS')\n",
    "unyts.clean_memory()\n",
    "convert(1, 'bara', 'psi', True)"
   ]
  },
  {
   "cell_type": "markdown",
   "id": "2c07155c",
   "metadata": {
    "ExecuteTime": {
     "end_time": "2024-06-12T21:45:14.414250Z",
     "start_time": "2024-06-12T21:45:14.404826Z"
    }
   },
   "source": [
    "To avoid this behaviour, the specific unit name can be used:"
   ]
  },
  {
   "cell_type": "code",
   "execution_count": 125,
   "id": "0b9185ab",
   "metadata": {
    "ExecuteTime": {
     "end_time": "2024-08-09T04:38:07.128358Z",
     "start_time": "2024-08-09T04:38:05.715552Z"
    }
   },
   "outputs": [
    {
     "data": {
      "text/plain": [
       "14.503724997504834"
      ]
     },
     "execution_count": 125,
     "metadata": {},
     "output_type": "execute_result"
    }
   ],
   "source": [
    "unyts.set_algorithm('DFS')\n",
    "unyts.clean_memory()\n",
    "convert(1, 'bara', 'psia', True)"
   ]
  },
  {
   "cell_type": "code",
   "execution_count": 126,
   "id": "61720910",
   "metadata": {
    "ExecuteTime": {
     "end_time": "2024-08-09T04:38:08.428899Z",
     "start_time": "2024-08-09T04:38:07.129359Z"
    }
   },
   "outputs": [
    {
     "data": {
      "text/plain": [
       "-0.19217500249516478"
      ]
     },
     "execution_count": 126,
     "metadata": {},
     "output_type": "execute_result"
    }
   ],
   "source": [
    "unyts.set_algorithm('DFS')\n",
    "unyts.clean_memory()\n",
    "convert(1, 'bara', 'psig', True)"
   ]
  },
  {
   "cell_type": "markdown",
   "id": "1e1cc198",
   "metadata": {},
   "source": [
    "In these ambiguous cases, **BFS** will return the shortest path which will be relative to the units being converted:"
   ]
  },
  {
   "cell_type": "code",
   "execution_count": 127,
   "id": "4ded2535",
   "metadata": {
    "ExecuteTime": {
     "end_time": "2024-08-09T04:38:08.444681Z",
     "start_time": "2024-08-09T04:38:08.429510Z"
    }
   },
   "outputs": [
    {
     "data": {
      "text/plain": [
       "14.50377377322"
      ]
     },
     "execution_count": 127,
     "metadata": {},
     "output_type": "execute_result"
    }
   ],
   "source": [
    "unyts.set_algorithm('BFS')\n",
    "unyts.clean_memory()\n",
    "convert(1, 'bar', 'psia', True)"
   ]
  },
  {
   "cell_type": "code",
   "execution_count": 128,
   "id": "e7c4438f",
   "metadata": {
    "ExecuteTime": {
     "end_time": "2024-08-09T04:38:08.459964Z",
     "start_time": "2024-08-09T04:38:08.445678Z"
    }
   },
   "outputs": [
    {
     "data": {
      "text/plain": [
       "14.50377377322"
      ]
     },
     "execution_count": 128,
     "metadata": {},
     "output_type": "execute_result"
    }
   ],
   "source": [
    "unyts.set_algorithm('BFS')\n",
    "unyts.clean_memory()\n",
    "convert(1, 'bar', 'psig', True)"
   ]
  },
  {
   "cell_type": "markdown",
   "id": "f51f3227",
   "metadata": {},
   "source": [
    "# know issues"
   ]
  },
  {
   "cell_type": "markdown",
   "id": "50420012",
   "metadata": {},
   "source": [
    "## convertion of `bar/m` to `g/cc` _corrected!_\n",
    "**The converter has been improved** and will not raise <font color='darkred'>**NoConversionFoundError**</font>"
   ]
  },
  {
   "cell_type": "code",
   "execution_count": 129,
   "id": "3128c076",
   "metadata": {
    "ExecuteTime": {
     "end_time": "2024-08-09T04:38:08.475080Z",
     "start_time": "2024-08-09T04:38:08.460974Z"
    }
   },
   "outputs": [],
   "source": [
    "unyts.set_algorithm('lean_BFS')"
   ]
  },
  {
   "cell_type": "code",
   "execution_count": 130,
   "id": "bc350563",
   "metadata": {
    "ExecuteTime": {
     "end_time": "2024-08-09T04:38:13.136369Z",
     "start_time": "2024-08-09T04:38:08.476943Z"
    }
   },
   "outputs": [
    {
     "data": {
      "text/plain": [
       "1.0197162129779282"
      ]
     },
     "execution_count": 130,
     "metadata": {},
     "output_type": "execute_result"
    }
   ],
   "source": [
    "convert(0.1, 'bar/m', 'g/cc', True)"
   ]
  },
  {
   "cell_type": "code",
   "execution_count": 131,
   "id": "5f236f3d",
   "metadata": {
    "ExecuteTime": {
     "end_time": "2024-08-09T04:38:13.951969Z",
     "start_time": "2024-08-09T04:38:13.137370Z"
    }
   },
   "outputs": [
    {
     "data": {
      "text/plain": [
       "0.43352750400100415"
      ]
     },
     "execution_count": 131,
     "metadata": {},
     "output_type": "execute_result"
    }
   ],
   "source": [
    "convert(1000, 'kg/m3', 'psi/ft', True)"
   ]
  },
  {
   "cell_type": "code",
   "execution_count": 132,
   "id": "df6e755b",
   "metadata": {
    "ExecuteTime": {
     "end_time": "2024-08-09T04:38:14.691800Z",
     "start_time": "2024-08-09T04:38:13.952994Z"
    }
   },
   "outputs": [
    {
     "data": {
      "text/plain": [
       "1539.2419773288723"
      ]
     },
     "execution_count": 132,
     "metadata": {},
     "output_type": "execute_result"
    }
   ],
   "source": [
    "convert(1, 'g/cm3', 'Pa/cm', True)"
   ]
  },
  {
   "cell_type": "markdown",
   "id": "e3a1b155",
   "metadata": {},
   "source": [
    "## SI prefixes for _m³_\n",
    "The prefixes from the International System for the volume unit _m³_ (cubic meter) follows a cubic relationshit:\n",
    "- **Q** _quetta_:  1E+90 \n",
    "- **R** _ronna_ :  1E+81\n",
    "- **Y** _yotta_ :  1E+72\n",
    "- **Z** _zetta_ :  1E+63\n",
    "- **E** _exa_   :  1E+54\n",
    "- **P** _peta_  :  1E+45\n",
    "- **T** _tera_  :  1E+36\n",
    "- **G** _giga_  :  1E+27\n",
    "- **M** _mega_  :  1E+18\n",
    "- **k** _kilo_  :  1E+09\n",
    "- **h** _hecto_ :  1E+06\n",
    "- **d** _deci_  :  1E-03\n",
    "- **c** _centi_ :  1E-06\n",
    "- **m** _mili_  :  1E-09\n",
    "- **µ** _micro_ :  1E-18\n",
    "- **n** _nano_  :  1E-27\n",
    "- **p** _pico_  :  1E-36\n",
    "- **f** _femto_ :  1E-45\n",
    "- **a** _atto_  :  1E-54\n",
    "- **z** _zepto_ :  1E-63\n",
    "- **y** _yocto_ :  1E-72\n",
    "- **r** _ronto_ :  1E-81\n",
    "- **q** _quecto_:  1E-90\n",
    "\n",
    "but in some industrial uses it is commonly understood that **M** or **k** accompaining **m³** (*Mm³*, *km³*) stands for _millon_ (1E+06) of cubic meters and _thousands_ (1E+03) of cubic meters respectively, not _cubic megameter_ or _cubic kilometer_.  \n",
    "\n",
    "This might produce unwanted results when converting if the user understand the prefix as a quantity prefix, not a unit prefix. In other words, if *1_Mm³* should be read as *1000000_m³* converting *1_Mm³* to *m³* will not return the expected value:"
   ]
  },
  {
   "cell_type": "code",
   "execution_count": 133,
   "id": "4c62742c",
   "metadata": {
    "ExecuteTime": {
     "end_time": "2024-08-09T04:38:14.707715Z",
     "start_time": "2024-08-09T04:38:14.692661Z"
    }
   },
   "outputs": [
    {
     "data": {
      "text/plain": [
       "1e+18"
      ]
     },
     "execution_count": 133,
     "metadata": {},
     "output_type": "execute_result"
    }
   ],
   "source": [
    "convert(1, 'Mm³', 'm³')"
   ]
  },
  {
   "cell_type": "markdown",
   "id": "45cab7fc",
   "metadata": {},
   "source": [
    "then it is convenient to use the alias unit **'sm3'** that has the SI prexises defined as linear multipliers:"
   ]
  },
  {
   "cell_type": "code",
   "execution_count": 134,
   "id": "a0145836",
   "metadata": {
    "ExecuteTime": {
     "end_time": "2024-08-09T04:38:14.722963Z",
     "start_time": "2024-08-09T04:38:14.708386Z"
    }
   },
   "outputs": [
    {
     "data": {
      "text/plain": [
       "1000000.0"
      ]
     },
     "execution_count": 134,
     "metadata": {},
     "output_type": "execute_result"
    }
   ],
   "source": [
    "convert(1, 'Msm³', 'sm³')"
   ]
  },
  {
   "cell_type": "code",
   "execution_count": 135,
   "id": "ebc1225c",
   "metadata": {
    "ExecuteTime": {
     "end_time": "2024-08-09T04:38:14.738714Z",
     "start_time": "2024-08-09T04:38:14.723853Z"
    }
   },
   "outputs": [
    {
     "data": {
      "text/plain": [
       "1000.0"
      ]
     },
     "execution_count": 135,
     "metadata": {},
     "output_type": "execute_result"
    }
   ],
   "source": [
    "convert(1, 'ksm³', 'm³')"
   ]
  }
 ],
 "metadata": {
  "hide_input": false,
  "kernelspec": {
   "display_name": "Python 3 (ipykernel)",
   "language": "python",
   "name": "python3"
  },
  "language_info": {
   "codemirror_mode": {
    "name": "ipython",
    "version": 3
   },
   "file_extension": ".py",
   "mimetype": "text/x-python",
   "name": "python",
   "nbconvert_exporter": "python",
   "pygments_lexer": "ipython3",
   "version": "3.10.8"
  },
  "latex_envs": {
   "LaTeX_envs_menu_present": true,
   "autoclose": false,
   "autocomplete": true,
   "bibliofile": "biblio.bib",
   "cite_by": "apalike",
   "current_citInitial": 1,
   "eqLabelWithNumbers": true,
   "eqNumInitial": 1,
   "hotkeys": {
    "equation": "Ctrl-E",
    "itemize": "Ctrl-I"
   },
   "labels_anchors": false,
   "latex_user_defs": false,
   "report_style_numbering": false,
   "user_envs_cfg": false
  },
  "toc": {
   "base_numbering": 1,
   "nav_menu": {},
   "number_sections": true,
   "sideBar": true,
   "skip_h1_title": false,
   "title_cell": "Table of Contents",
   "title_sidebar": "Contents",
   "toc_cell": false,
   "toc_position": {},
   "toc_section_display": true,
   "toc_window_display": true
  },
  "varInspector": {
   "cols": {
    "lenName": 16,
    "lenType": 16,
    "lenVar": 40
   },
   "kernels_config": {
    "python": {
     "delete_cmd_postfix": "",
     "delete_cmd_prefix": "del ",
     "library": "var_list.py",
     "varRefreshCmd": "print(var_dic_list())"
    },
    "r": {
     "delete_cmd_postfix": ") ",
     "delete_cmd_prefix": "rm(",
     "library": "var_list.r",
     "varRefreshCmd": "cat(var_dic_list()) "
    }
   },
   "types_to_exclude": [
    "module",
    "function",
    "builtin_function_or_method",
    "instance",
    "_Feature"
   ],
   "window_display": false
  }
 },
 "nbformat": 4,
 "nbformat_minor": 5
}
